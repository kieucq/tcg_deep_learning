{
 "cells": [
  {
   "cell_type": "code",
   "execution_count": 1,
   "id": "80518cb4",
   "metadata": {},
   "outputs": [],
   "source": [
    "#\n",
    "# NOTE: This machine learning program is for predicting TC formation, using\n",
    "#       input dataset in the NETCDF format. The program treats different\n",
    "#       2D input fields as different channels of an image. This specific\n",
    "#       program requires a set of 12 2D-variables (12-channel image) and\n",
    "#       consists of three stages\n",
    "#       - Stage 1: reading NETCDF input and generating (X,y) data with a\n",
    "#                  given image sizes, which are then saved by pickle;\n",
    "#       - Stage 2: import the saved pickle (X,y) pair and build a CNN model\n",
    "#                  with a given training/validation ratio, and then save\n",
    "#                  the train model under tcg_CNN.model.\n",
    "#       - Stage 3: import the trained model from Stage 2, and make a list\n",
    "#                  of prediction from normalized test data.\n",
    "#\n",
    "# INPUT: This Stage 3 script reads in the CNN-trained model \"tcg_CNN.model\"\n",
    "#        that is generated from Step 2.\n",
    "#\n",
    "#        Remarks: Note that the input data for this script must be on the\n",
    "#        same as in Step 1 with standard 19 vertical\n",
    "#        levels 1000, 975, 950, 925, 900, 850, 800, 750, 700, 650, 600,\n",
    "#        550, 500, 450, 400, 350, 300, 250, 200. Also, all field vars must\n",
    "#        be resized to cover an area of 30x30 around the TC center for the\n",
    "#        positive data cases.\n",
    "#        Similar to Step 2, Step 3 needs to also have a large mem\n",
    "#        allocation so that it can be run properly.\n",
    "#\n",
    "# OUTPUT: A list of probability forecasts with the same dimension as the\n",
    "#        number of input 12-channel images.\n",
    "#\n",
    "# HIST: - 01, Nov 22: Created by CK\n",
    "#       - 02, Nov 22: Modified to optimize it\n",
    "#       - 05, Jun 23: Rechecked and added F1 score function for a list of model\n",
    "#       - 12, Jun 23: Customized for ResNet from the CNN functional model\n",
    "#       - 18, Nov 23: re-designed for better check\n",
    "#\n",
    "# AUTH: Chanh Kieu (Indiana University, Bloomington. Email: ckieu@iu.edu)\n",
    "#\n",
    "#==========================================================================\n",
    "import cv2\n",
    "import tensorflow as tf\n",
    "import os\n",
    "from tqdm import tqdm\n",
    "import netCDF4\n",
    "import numpy as np\n",
    "import libtcg_netcdfloader as tcg_loader\n",
    "import libtcg_utils as tcg_utils\n",
    "import pickle\n",
    "import sys"
   ]
  },
  {
   "cell_type": "code",
   "execution_count": 2,
   "id": "70d857fe",
   "metadata": {},
   "outputs": [],
   "source": [
    "#\n",
    "# Function to return input data as a numpy array\n",
    "#\n",
    "def prepare(filepath):\n",
    "    IMG_SIZE = 30\n",
    "    number_channels = 12\n",
    "    f = netCDF4.Dataset(filepath)\n",
    "    abv = f.variables['absvprs']\n",
    "    nx = np.size(abv[0,0,:])\n",
    "    ny = np.size(abv[0,:,0])\n",
    "    nz = np.size(abv[:,0,0])\n",
    "    #print('Dimension of input NETCDF is: ',nx,ny,nz)\n",
    "    a2 = np.zeros((nx,ny,number_channels))\n",
    "    for i in range(a2.shape[0]):\n",
    "        for j in range(a2.shape[1]):\n",
    "            a2[i,j,0] = abv[1,j,i]    # abs vort at 950 mb\n",
    "    rel = f.variables['rhprs']\n",
    "    for i in range(a2.shape[0]):\n",
    "        for j in range(a2.shape[1]):\n",
    "            a2[i,j,1] = rel[7,j,i]    # RH at 750 mb\n",
    "    sfc = f.variables['pressfc']\n",
    "    for i in range(a2.shape[0]):\n",
    "        for j in range(a2.shape[1]):\n",
    "            a2[i,j,2] = sfc[j,i]      # surface pressure\n",
    "    tmp = f.variables['tmpprs']\n",
    "    for i in range(a2.shape[0]):\n",
    "        for j in range(a2.shape[1]):\n",
    "            a2[i,j,3] = tmp[15,j,i]   # temperature at 400 mb\n",
    "    tsf = f.variables['tmpsfc']\n",
    "    for i in range(a2.shape[0]):\n",
    "        for j in range(a2.shape[1]):\n",
    "            a2[i,j,4] = tsf[j,i]      # surface temperature\n",
    "    ugr = f.variables['ugrdprs']\n",
    "    for i in range(a2.shape[0]):\n",
    "        for j in range(a2.shape[1]):\n",
    "            a2[i,j,5] = ugr[3,j,i]    # u-wind at 900 mb\n",
    "            a2[i,j,6] = ugr[17,j,i]   # u-wind at 300 mb\n",
    "    vgr = f.variables['vgrdprs']\n",
    "    for i in range(a2.shape[0]):\n",
    "        for j in range(a2.shape[1]):\n",
    "            a2[i,j,7] = vgr[3,j,i]    # v-wind at 900 mb\n",
    "            a2[i,j,8] = vgr[17,j,i]   # v-wind at 300 mb\n",
    "    hgt = f.variables['hgtprs']\n",
    "    for i in range(a2.shape[0]):\n",
    "        for j in range(a2.shape[1]):\n",
    "            a2[i,j,9] = hgt[3,j,i]    # geopotential at 850 mb\n",
    "    wgr = f.variables['vvelprs']\n",
    "    for i in range(a2.shape[0]):\n",
    "        for j in range(a2.shape[1]):\n",
    "            a2[i,j,10] = wgr[3,j,i]   # w-wind at 900 mb\n",
    "            a2[i,j,11] = wgr[17,j,i]  # w-wind at 300 mb\n",
    "    new_array = cv2.resize(a2, (IMG_SIZE, IMG_SIZE))\n",
    "    #\n",
    "    # normalize the data\n",
    "    #\n",
    "    #print('Number of channels to normalize is: ',number_channels)\n",
    "    for var in range(number_channels):\n",
    "        maxvalue = new_array[:,:,var].flat[np.abs(new_array[:,:,var]).argmax()]\n",
    "        #print('Normalization factor for channel',var,', is: ',abs(maxvalue))\n",
    "        new_array[:,:,var] = new_array[:,:,var]/abs(maxvalue)\n",
    "    out_array = np.reshape(new_array, (-1, IMG_SIZE, IMG_SIZE, number_channels))\n",
    "    #print('reshape new_array returns: ',out_array.shape)\n",
    "    #input('Enter to continue...')\n",
    "    return out_array"
   ]
  },
  {
   "cell_type": "code",
   "execution_count": 11,
   "id": "a0180846-82b2-432d-9f07-6009e96d81b6",
   "metadata": {},
   "outputs": [],
   "source": [
    "#\n",
    "# Visualize the output of the training model (work for jupyter notebook only)\n",
    "#\n",
    "def view_history(histories):\n",
    "    import matplotlib.pyplot as plt\n",
    "    val_accuracy1 = histories[0]['val_binary_accuracy']\n",
    "    accuracy1 = histories[0]['binary_accuracy']\n",
    "    val_accuracy2 = histories[1]['val_binary_accuracy']\n",
    "    accuracy2 = histories[1]['binary_accuracy']\n",
    "    val_accuracy3 = histories[2]['val_binary_accuracy']\n",
    "    accuracy3 = histories[2]['binary_accuracy']\n",
    "    epochs = np.arange(len(val_accuracy1))\n",
    "    plt.plot(epochs,val_accuracy1,'r',label=\"val binary_accuracy resnet20\")\n",
    "    plt.plot(epochs,accuracy1,'r--',label=\"train binary_accuracy resnet20\")\n",
    "    plt.plot(epochs,val_accuracy2,'b',label=\"val binary_accuracy resnet22\")\n",
    "    plt.plot(epochs,accuracy2,'b--',label=\"train binary_accuracy resnet22\")\n",
    "    plt.plot(epochs,val_accuracy3,'g',label=\"val binary_accuracy resnet40\")\n",
    "    plt.plot(epochs,accuracy3,'g--',label=\"train binary_accuracy resnet40\")\n",
    "    plt.legend()\n",
    "\n",
    "    plt.figure()\n",
    "    val_loss1 = histories[0]['val_loss']\n",
    "    loss1 = histories[0]['loss']\n",
    "    val_loss2 = histories[1]['val_loss']\n",
    "    loss2 = histories[1]['loss']\n",
    "    val_loss3 = histories[2]['val_loss']\n",
    "    loss3 = histories[2]['loss']\n",
    "    plt.plot(epochs,val_loss1,'r',label=\"val loss resnet20\")\n",
    "    plt.plot(epochs,loss1,'r--',label=\"train loss resnet20\")\n",
    "    plt.plot(epochs,val_loss2,'b',label=\"val loss resnet22\")\n",
    "    plt.plot(epochs,loss2,'b--',label=\"train loss resnet22\")\n",
    "    plt.plot(epochs,val_loss3,'g',label=\"val loss resnet40\")\n",
    "    plt.plot(epochs,loss3,'g--',label=\"train loss resnet40\")\n",
    "    plt.legend()\n",
    "    plt.show()\n",
    "#\n",
    "# loop thru all best-saved CNN-trained models and make a prediction. Note that prediction is applied one by one instead \n",
    "# of a batch input. \n",
    "#\n",
    "def main(DATADIR=\"\",bestmodels=[],test_sample=10):\n",
    "    #\n",
    "    # Test data with an input structure of pos/neg dirs\n",
    "    #\n",
    "    CATEGORIES = [\"neg\", \"pos\"]\n",
    "    F1_performance = []\n",
    "    for bestmodel in bestmodels:\n",
    "        model = tf.keras.models.load_model(bestmodel)\n",
    "        prediction_total = 0\n",
    "        prediction_yes = 0\n",
    "        prediction_history = []\n",
    "        truth_history = []\n",
    "        for category in CATEGORIES:\n",
    "            path = os.path.join(DATADIR,category)\n",
    "            for img in tqdm(os.listdir(path)):    \n",
    "                try:\n",
    "                    img_dir = DATADIR + '/' + category + '/' + img\n",
    "                    print('Processing image:', img_dir)\n",
    "                    #print('Input image dimension is: ',prepare(img_dir).shape)\n",
    "                    indata, _ = tcg_loader.prepare12channels(img_dir,IMG_SIZE=32)\n",
    "                    prediction = model.predict([indata])\n",
    "                    print(\"TC formation prediction is\",prediction,round(prediction[0][0]),CATEGORIES[round(prediction[0][0])])\n",
    "                    prediction_history.append(prediction[0][0])\n",
    "                    if round(prediction[0][0]) == 1:\n",
    "                        prediction_yes += 1\n",
    "                    if category == \"pos\":\n",
    "                        truth_history.append(1)\n",
    "                    else:\n",
    "                        truth_history.append(0)\n",
    "                    prediction_total += 1                        \n",
    "                    if prediction_total > test_sample:\n",
    "                        prediction_total = 0\n",
    "                        break\n",
    "                except Exception as e:\n",
    "                    pass   \n",
    "        #\n",
    "        # Compute F1 score for each best model and save it\n",
    "        #\n",
    "        #print(prediction_history)\n",
    "        F1_performance.append([bestmodel,tcg_utils.F1_score(truth_history,prediction_history,1,0.5)]) \n",
    "    return F1_performance"
   ]
  },
  {
   "cell_type": "code",
   "execution_count": 13,
   "id": "3c2815a5",
   "metadata": {},
   "outputs": [
    {
     "name": "stdout",
     "output_type": "stream",
     "text": [
      "Total arguments input are: 3\n",
      "Name of Python script: /N/u/ckieu/Carbonate/.local/lib/python3.10/site-packages/ipykernel_launcher.py\n",
      "Forecast lead time to run is:  00\n",
      "Datapath is:  /N/project/hurricane-deep-learning/data/ncep_extracted_binary_18x18/EP/00/\n"
     ]
    },
    {
     "name": "stderr",
     "output_type": "stream",
     "text": [
      "  0%|                                                                                                          | 0/447 [00:00<?, ?it/s]"
     ]
    },
    {
     "name": "stdout",
     "output_type": "stream",
     "text": [
      "Processing image: /N/project/hurricane-deep-learning/data/ncep_extracted_binary_18x18/EP/00//neg/20150707_12_00_13.4_258.1.nc\n",
      "1/1 [==============================] - 0s 413ms/step\n"
     ]
    },
    {
     "name": "stderr",
     "output_type": "stream",
     "text": [
      "  0%|▏                                                                                                 | 1/447 [00:01<08:44,  1.18s/it]"
     ]
    },
    {
     "name": "stdout",
     "output_type": "stream",
     "text": [
      "TC formation prediction is [[0.24709918]] 0 neg\n",
      "Processing image: /N/project/hurricane-deep-learning/data/ncep_extracted_binary_18x18/EP/00//neg/20180929_12_00_12.0_293.7.nc\n",
      "1/1 [==============================] - 0s 27ms/step\n"
     ]
    },
    {
     "name": "stderr",
     "output_type": "stream",
     "text": [
      "  0%|▍                                                                                                 | 2/447 [00:01<07:09,  1.04it/s]"
     ]
    },
    {
     "name": "stdout",
     "output_type": "stream",
     "text": [
      "TC formation prediction is [[0.7981783]] 1 pos\n",
      "Processing image: /N/project/hurricane-deep-learning/data/ncep_extracted_binary_18x18/EP/00//neg/20140822_00_00_12.3_296.2.nc\n",
      "1/1 [==============================] - 0s 25ms/step\n"
     ]
    },
    {
     "name": "stderr",
     "output_type": "stream",
     "text": [
      "  1%|▋                                                                                                 | 3/447 [00:02<06:31,  1.13it/s]"
     ]
    },
    {
     "name": "stdout",
     "output_type": "stream",
     "text": [
      "TC formation prediction is [[0.37162212]] 0 neg\n",
      "Processing image: /N/project/hurricane-deep-learning/data/ncep_extracted_binary_18x18/EP/00//neg/20120707_06_00_34.3_286.2.nc\n",
      "1/1 [==============================] - 0s 24ms/step\n"
     ]
    },
    {
     "name": "stderr",
     "output_type": "stream",
     "text": [
      "  1%|▉                                                                                                 | 4/447 [00:03<06:16,  1.18it/s]"
     ]
    },
    {
     "name": "stdout",
     "output_type": "stream",
     "text": [
      "TC formation prediction is [[0.19795434]] 0 neg\n",
      "Processing image: /N/project/hurricane-deep-learning/data/ncep_extracted_binary_18x18/EP/00//neg/20191016_00_00_13.8_301.7.nc\n",
      "1/1 [==============================] - 0s 24ms/step\n"
     ]
    },
    {
     "name": "stderr",
     "output_type": "stream",
     "text": [
      "  1%|█                                                                                                 | 5/447 [00:04<06:03,  1.22it/s]"
     ]
    },
    {
     "name": "stdout",
     "output_type": "stream",
     "text": [
      "TC formation prediction is [[0.21329306]] 0 neg\n",
      "Processing image: /N/project/hurricane-deep-learning/data/ncep_extracted_binary_18x18/EP/00//neg/20080806_12_00_12.2_285.1.nc\n",
      "1/1 [==============================] - 0s 23ms/step\n"
     ]
    },
    {
     "name": "stderr",
     "output_type": "stream",
     "text": [
      "  1%|█▎                                                                                                | 6/447 [00:05<05:55,  1.24it/s]"
     ]
    },
    {
     "name": "stdout",
     "output_type": "stream",
     "text": [
      "TC formation prediction is [[0.21605699]] 0 neg\n",
      "Processing image: /N/project/hurricane-deep-learning/data/ncep_extracted_binary_18x18/EP/00//neg/20060828_00_00_12.3_300.4.nc\n",
      "1/1 [==============================] - 0s 23ms/step\n"
     ]
    },
    {
     "name": "stderr",
     "output_type": "stream",
     "text": [
      "  2%|█▌                                                                                                | 7/447 [00:05<05:47,  1.27it/s]"
     ]
    },
    {
     "name": "stdout",
     "output_type": "stream",
     "text": [
      "TC formation prediction is [[0.13714163]] 0 neg\n",
      "Processing image: /N/project/hurricane-deep-learning/data/ncep_extracted_binary_18x18/EP/00//neg/20020717_06_00_9.1_216.7.nc\n",
      "1/1 [==============================] - 0s 23ms/step\n"
     ]
    },
    {
     "name": "stderr",
     "output_type": "stream",
     "text": [
      "  2%|█▊                                                                                                | 8/447 [00:06<05:44,  1.27it/s]"
     ]
    },
    {
     "name": "stdout",
     "output_type": "stream",
     "text": [
      "TC formation prediction is [[0.03180673]] 0 neg\n",
      "Processing image: /N/project/hurricane-deep-learning/data/ncep_extracted_binary_18x18/EP/00//neg/20020627_12_00_11.8_273.1.nc\n",
      "1/1 [==============================] - 0s 24ms/step\n"
     ]
    },
    {
     "name": "stderr",
     "output_type": "stream",
     "text": [
      "  2%|█▉                                                                                                | 9/447 [00:07<05:43,  1.27it/s]"
     ]
    },
    {
     "name": "stdout",
     "output_type": "stream",
     "text": [
      "TC formation prediction is [[0.9585772]] 1 pos\n",
      "Processing image: /N/project/hurricane-deep-learning/data/ncep_extracted_binary_18x18/EP/00//neg/20001002_12_00_15.3_291.9.nc\n",
      "1/1 [==============================] - 0s 24ms/step\n"
     ]
    },
    {
     "name": "stderr",
     "output_type": "stream",
     "text": [
      "  2%|██▏                                                                                              | 10/447 [00:08<05:41,  1.28it/s]"
     ]
    },
    {
     "name": "stdout",
     "output_type": "stream",
     "text": [
      "TC formation prediction is [[0.0721071]] 0 neg\n",
      "Processing image: /N/project/hurricane-deep-learning/data/ncep_extracted_binary_18x18/EP/00//neg/20130730_00_00_11.2_283.4.nc\n",
      "1/1 [==============================] - 0s 23ms/step\n"
     ]
    },
    {
     "name": "stderr",
     "output_type": "stream",
     "text": [
      "  2%|██▍                                                                                              | 11/447 [00:08<05:40,  1.28it/s]"
     ]
    },
    {
     "name": "stdout",
     "output_type": "stream",
     "text": [
      "TC formation prediction is [[0.32578704]] 0 neg\n",
      "Processing image: /N/project/hurricane-deep-learning/data/ncep_extracted_binary_18x18/EP/00//neg/20090703_18_00_13.0_294.6.nc\n",
      "1/1 [==============================] - 0s 23ms/step\n"
     ]
    },
    {
     "name": "stderr",
     "output_type": "stream",
     "text": [
      "  3%|██▌                                                                                              | 12/447 [00:09<05:45,  1.26it/s]"
     ]
    },
    {
     "name": "stdout",
     "output_type": "stream",
     "text": [
      "TC formation prediction is [[0.00213548]] 0 neg\n",
      "Processing image: /N/project/hurricane-deep-learning/data/ncep_extracted_binary_18x18/EP/00//neg/20000804_00_00_12.0_295.0.nc\n",
      "1/1 [==============================] - 0s 24ms/step\n"
     ]
    },
    {
     "name": "stderr",
     "output_type": "stream",
     "text": [
      "  3%|██▊                                                                                              | 13/447 [00:10<05:50,  1.24it/s]"
     ]
    },
    {
     "name": "stdout",
     "output_type": "stream",
     "text": [
      "TC formation prediction is [[0.27840474]] 0 neg\n",
      "Processing image: /N/project/hurricane-deep-learning/data/ncep_extracted_binary_18x18/EP/00//neg/20200816_00_00_18.0_276.8.nc\n",
      "1/1 [==============================] - 0s 23ms/step\n"
     ]
    },
    {
     "name": "stderr",
     "output_type": "stream",
     "text": [
      "  3%|███                                                                                              | 14/447 [00:11<05:50,  1.24it/s]"
     ]
    },
    {
     "name": "stdout",
     "output_type": "stream",
     "text": [
      "TC formation prediction is [[0.16568904]] 0 neg\n",
      "Processing image: /N/project/hurricane-deep-learning/data/ncep_extracted_binary_18x18/EP/00//neg/20080823_12_00_42.9_227.8.nc\n",
      "1/1 [==============================] - 0s 23ms/step\n"
     ]
    },
    {
     "name": "stderr",
     "output_type": "stream",
     "text": [
      "  3%|███▎                                                                                             | 15/447 [00:12<05:43,  1.26it/s]"
     ]
    },
    {
     "name": "stdout",
     "output_type": "stream",
     "text": [
      "TC formation prediction is [[0.9680093]] 1 pos\n",
      "Processing image: /N/project/hurricane-deep-learning/data/ncep_extracted_binary_18x18/EP/00//neg/20100804_12_00_14.9_300.1.nc\n",
      "1/1 [==============================] - 0s 23ms/step\n"
     ]
    },
    {
     "name": "stderr",
     "output_type": "stream",
     "text": [
      "  4%|███▍                                                                                             | 16/447 [00:13<05:39,  1.27it/s]"
     ]
    },
    {
     "name": "stdout",
     "output_type": "stream",
     "text": [
      "TC formation prediction is [[0.81457514]] 1 pos\n",
      "Processing image: /N/project/hurricane-deep-learning/data/ncep_extracted_binary_18x18/EP/00//neg/20200720_00_00_39.4_216.5.nc\n",
      "1/1 [==============================] - 0s 24ms/step\n"
     ]
    },
    {
     "name": "stderr",
     "output_type": "stream",
     "text": [
      "  4%|███▋                                                                                             | 17/447 [00:13<05:37,  1.28it/s]"
     ]
    },
    {
     "name": "stdout",
     "output_type": "stream",
     "text": [
      "TC formation prediction is [[0.24844635]] 0 neg\n",
      "Processing image: /N/project/hurricane-deep-learning/data/ncep_extracted_binary_18x18/EP/00//neg/20170817_12_00_13.2_283.6.nc\n",
      "1/1 [==============================] - 0s 25ms/step\n"
     ]
    },
    {
     "name": "stderr",
     "output_type": "stream",
     "text": [
      "  4%|███▉                                                                                             | 18/447 [00:14<05:43,  1.25it/s]"
     ]
    },
    {
     "name": "stdout",
     "output_type": "stream",
     "text": [
      "TC formation prediction is [[0.04257715]] 0 neg\n",
      "Processing image: /N/project/hurricane-deep-learning/data/ncep_extracted_binary_18x18/EP/00//neg/20021023_18_00_8.7_241.2.nc\n",
      "1/1 [==============================] - 0s 23ms/step\n"
     ]
    },
    {
     "name": "stderr",
     "output_type": "stream",
     "text": [
      "  4%|████                                                                                             | 19/447 [00:15<05:36,  1.27it/s]"
     ]
    },
    {
     "name": "stdout",
     "output_type": "stream",
     "text": [
      "TC formation prediction is [[0.10267606]] 0 neg\n",
      "Processing image: /N/project/hurricane-deep-learning/data/ncep_extracted_binary_18x18/EP/00//neg/20190712_06_00_14.1_290.2.nc\n",
      "1/1 [==============================] - 0s 24ms/step\n"
     ]
    },
    {
     "name": "stderr",
     "output_type": "stream",
     "text": [
      "  4%|████▎                                                                                            | 20/447 [00:16<05:38,  1.26it/s]"
     ]
    },
    {
     "name": "stdout",
     "output_type": "stream",
     "text": [
      "TC formation prediction is [[0.5060585]] 1 pos\n",
      "Processing image: /N/project/hurricane-deep-learning/data/ncep_extracted_binary_18x18/EP/00//neg/20000612_00_00_12.0_291.3.nc\n",
      "1/1 [==============================] - 0s 23ms/step\n"
     ]
    },
    {
     "name": "stderr",
     "output_type": "stream",
     "text": [
      "  5%|████▌                                                                                            | 21/447 [00:16<05:38,  1.26it/s]"
     ]
    },
    {
     "name": "stdout",
     "output_type": "stream",
     "text": [
      "TC formation prediction is [[0.28121302]] 0 neg\n",
      "Processing image: /N/project/hurricane-deep-learning/data/ncep_extracted_binary_18x18/EP/00//neg/20190706_12_00_15.5_280.1.nc\n",
      "1/1 [==============================] - 0s 23ms/step\n"
     ]
    },
    {
     "name": "stderr",
     "output_type": "stream",
     "text": [
      "  5%|████▊                                                                                            | 22/447 [00:17<05:31,  1.28it/s]"
     ]
    },
    {
     "name": "stdout",
     "output_type": "stream",
     "text": [
      "TC formation prediction is [[0.32695904]] 0 neg\n",
      "Processing image: /N/project/hurricane-deep-learning/data/ncep_extracted_binary_18x18/EP/00//neg/20150528_06_00_35.5_225.4.nc\n",
      "1/1 [==============================] - 0s 23ms/step\n"
     ]
    },
    {
     "name": "stderr",
     "output_type": "stream",
     "text": [
      "  5%|████▉                                                                                            | 23/447 [00:18<05:27,  1.29it/s]"
     ]
    },
    {
     "name": "stdout",
     "output_type": "stream",
     "text": [
      "TC formation prediction is [[0.11017788]] 0 neg\n",
      "Processing image: /N/project/hurricane-deep-learning/data/ncep_extracted_binary_18x18/EP/00//neg/20030809_06_00_13.5_283.9.nc\n",
      "1/1 [==============================] - 0s 23ms/step\n"
     ]
    },
    {
     "name": "stderr",
     "output_type": "stream",
     "text": [
      "  5%|█████▏                                                                                           | 24/447 [00:19<05:28,  1.29it/s]"
     ]
    },
    {
     "name": "stdout",
     "output_type": "stream",
     "text": [
      "TC formation prediction is [[0.02129318]] 0 neg\n",
      "Processing image: /N/project/hurricane-deep-learning/data/ncep_extracted_binary_18x18/EP/00//neg/20190802_18_00_12.9_276.6.nc\n",
      "1/1 [==============================] - 0s 23ms/step\n"
     ]
    },
    {
     "name": "stderr",
     "output_type": "stream",
     "text": [
      "  6%|█████▍                                                                                           | 25/447 [00:20<05:25,  1.30it/s]"
     ]
    },
    {
     "name": "stdout",
     "output_type": "stream",
     "text": [
      "TC formation prediction is [[0.5358565]] 1 pos\n",
      "Processing image: /N/project/hurricane-deep-learning/data/ncep_extracted_binary_18x18/EP/00//neg/20060716_18_00_12.3_287.0.nc\n",
      "1/1 [==============================] - 0s 23ms/step\n"
     ]
    },
    {
     "name": "stderr",
     "output_type": "stream",
     "text": [
      "  6%|█████▋                                                                                           | 26/447 [00:20<05:27,  1.29it/s]"
     ]
    },
    {
     "name": "stdout",
     "output_type": "stream",
     "text": [
      "TC formation prediction is [[0.33750996]] 0 neg\n",
      "Processing image: /N/project/hurricane-deep-learning/data/ncep_extracted_binary_18x18/EP/00//neg/20170624_00_00_12.8_298.5.nc\n",
      "1/1 [==============================] - 0s 23ms/step\n"
     ]
    },
    {
     "name": "stderr",
     "output_type": "stream",
     "text": [
      "  6%|█████▊                                                                                           | 27/447 [00:21<05:23,  1.30it/s]"
     ]
    },
    {
     "name": "stdout",
     "output_type": "stream",
     "text": [
      "TC formation prediction is [[0.02354052]] 0 neg\n",
      "Processing image: /N/project/hurricane-deep-learning/data/ncep_extracted_binary_18x18/EP/00//neg/20010525_18_00_13.6_293.9.nc\n",
      "1/1 [==============================] - 0s 23ms/step\n"
     ]
    },
    {
     "name": "stderr",
     "output_type": "stream",
     "text": [
      "  6%|██████                                                                                           | 28/447 [00:22<05:22,  1.30it/s]"
     ]
    },
    {
     "name": "stdout",
     "output_type": "stream",
     "text": [
      "TC formation prediction is [[0.04085197]] 0 neg\n",
      "Processing image: /N/project/hurricane-deep-learning/data/ncep_extracted_binary_18x18/EP/00//neg/20090616_00_00_13.8_291.8.nc\n",
      "1/1 [==============================] - 0s 23ms/step\n"
     ]
    },
    {
     "name": "stderr",
     "output_type": "stream",
     "text": [
      "  6%|██████▎                                                                                          | 29/447 [00:23<05:20,  1.31it/s]"
     ]
    },
    {
     "name": "stdout",
     "output_type": "stream",
     "text": [
      "TC formation prediction is [[0.2002999]] 0 neg\n",
      "Processing image: /N/project/hurricane-deep-learning/data/ncep_extracted_binary_18x18/EP/00//neg/20091014_12_00_7.2_302.2.nc\n",
      "1/1 [==============================] - 0s 24ms/step\n"
     ]
    },
    {
     "name": "stderr",
     "output_type": "stream",
     "text": [
      "  7%|██████▌                                                                                          | 30/447 [00:23<05:18,  1.31it/s]"
     ]
    },
    {
     "name": "stdout",
     "output_type": "stream",
     "text": [
      "TC formation prediction is [[0.81443113]] 1 pos\n",
      "Processing image: /N/project/hurricane-deep-learning/data/ncep_extracted_binary_18x18/EP/00//neg/20130725_00_00_39.6_213.5.nc\n",
      "1/1 [==============================] - 0s 23ms/step\n"
     ]
    },
    {
     "name": "stderr",
     "output_type": "stream",
     "text": [
      "  7%|██████▋                                                                                          | 31/447 [00:24<05:17,  1.31it/s]"
     ]
    },
    {
     "name": "stdout",
     "output_type": "stream",
     "text": [
      "TC formation prediction is [[0.65631205]] 1 pos\n",
      "Processing image: /N/project/hurricane-deep-learning/data/ncep_extracted_binary_18x18/EP/00//neg/20170804_00_00_15.9_289.0.nc\n",
      "1/1 [==============================] - 0s 23ms/step\n"
     ]
    },
    {
     "name": "stderr",
     "output_type": "stream",
     "text": [
      "  7%|██████▉                                                                                          | 32/447 [00:25<05:19,  1.30it/s]"
     ]
    },
    {
     "name": "stdout",
     "output_type": "stream",
     "text": [
      "TC formation prediction is [[0.17441033]] 0 neg\n",
      "Processing image: /N/project/hurricane-deep-learning/data/ncep_extracted_binary_18x18/EP/00//neg/20170531_12_00_13.8_297.1.nc\n",
      "1/1 [==============================] - 0s 23ms/step\n"
     ]
    },
    {
     "name": "stderr",
     "output_type": "stream",
     "text": [
      "  7%|███████▏                                                                                         | 33/447 [00:26<05:15,  1.31it/s]"
     ]
    },
    {
     "name": "stdout",
     "output_type": "stream",
     "text": [
      "TC formation prediction is [[0.38049605]] 0 neg\n",
      "Processing image: /N/project/hurricane-deep-learning/data/ncep_extracted_binary_18x18/EP/00//neg/20071009_00_00_18.8_215.6.nc\n",
      "1/1 [==============================] - 0s 32ms/step\n"
     ]
    },
    {
     "name": "stderr",
     "output_type": "stream",
     "text": [
      "  8%|███████▍                                                                                         | 34/447 [00:26<05:15,  1.31it/s]"
     ]
    },
    {
     "name": "stdout",
     "output_type": "stream",
     "text": [
      "TC formation prediction is [[0.19532041]] 0 neg\n",
      "Processing image: /N/project/hurricane-deep-learning/data/ncep_extracted_binary_18x18/EP/00//neg/20110814_12_00_12.3_268.5.nc\n",
      "1/1 [==============================] - 0s 22ms/step\n"
     ]
    },
    {
     "name": "stderr",
     "output_type": "stream",
     "text": [
      "  8%|███████▌                                                                                         | 35/447 [00:27<05:15,  1.31it/s]"
     ]
    },
    {
     "name": "stdout",
     "output_type": "stream",
     "text": [
      "TC formation prediction is [[0.10879867]] 0 neg\n",
      "Processing image: /N/project/hurricane-deep-learning/data/ncep_extracted_binary_18x18/EP/00//neg/20130820_06_00_13.6_286.8.nc\n",
      "1/1 [==============================] - 0s 22ms/step\n"
     ]
    },
    {
     "name": "stderr",
     "output_type": "stream",
     "text": [
      "  8%|███████▊                                                                                         | 36/447 [00:28<05:12,  1.32it/s]"
     ]
    },
    {
     "name": "stdout",
     "output_type": "stream",
     "text": [
      "TC formation prediction is [[0.03154895]] 0 neg\n",
      "Processing image: /N/project/hurricane-deep-learning/data/ncep_extracted_binary_18x18/EP/00//neg/20090826_18_00_34.4_228.2.nc\n",
      "1/1 [==============================] - 0s 23ms/step\n"
     ]
    },
    {
     "name": "stderr",
     "output_type": "stream",
     "text": [
      "  8%|████████                                                                                         | 37/447 [00:29<05:10,  1.32it/s]"
     ]
    },
    {
     "name": "stdout",
     "output_type": "stream",
     "text": [
      "TC formation prediction is [[0.61028403]] 1 pos\n",
      "Processing image: /N/project/hurricane-deep-learning/data/ncep_extracted_binary_18x18/EP/00//neg/20020826_00_00_14.7_284.6.nc\n",
      "1/1 [==============================] - 0s 23ms/step\n"
     ]
    },
    {
     "name": "stderr",
     "output_type": "stream",
     "text": [
      "  9%|████████▏                                                                                        | 38/447 [00:29<05:09,  1.32it/s]"
     ]
    },
    {
     "name": "stdout",
     "output_type": "stream",
     "text": [
      "TC formation prediction is [[0.0119296]] 0 neg\n",
      "Processing image: /N/project/hurricane-deep-learning/data/ncep_extracted_binary_18x18/EP/00//neg/20170711_18_00_12.2_286.6.nc\n",
      "1/1 [==============================] - 0s 23ms/step\n"
     ]
    },
    {
     "name": "stderr",
     "output_type": "stream",
     "text": [
      "  9%|████████▍                                                                                        | 39/447 [00:30<05:09,  1.32it/s]"
     ]
    },
    {
     "name": "stdout",
     "output_type": "stream",
     "text": [
      "TC formation prediction is [[0.02386785]] 0 neg\n",
      "Processing image: /N/project/hurricane-deep-learning/data/ncep_extracted_binary_18x18/EP/00//neg/20111006_18_00_9.7_303.3.nc\n",
      "1/1 [==============================] - 0s 23ms/step\n"
     ]
    },
    {
     "name": "stderr",
     "output_type": "stream",
     "text": [
      "  9%|████████▋                                                                                        | 40/447 [00:31<05:08,  1.32it/s]"
     ]
    },
    {
     "name": "stdout",
     "output_type": "stream",
     "text": [
      "TC formation prediction is [[0.07563401]] 0 neg\n",
      "Processing image: /N/project/hurricane-deep-learning/data/ncep_extracted_binary_18x18/EP/00//neg/20061021_06_00_15.7_289.4.nc\n",
      "1/1 [==============================] - 0s 23ms/step\n"
     ]
    },
    {
     "name": "stderr",
     "output_type": "stream",
     "text": [
      "  9%|████████▉                                                                                        | 41/447 [00:32<05:05,  1.33it/s]"
     ]
    },
    {
     "name": "stdout",
     "output_type": "stream",
     "text": [
      "TC formation prediction is [[0.3387692]] 0 neg\n",
      "Processing image: /N/project/hurricane-deep-learning/data/ncep_extracted_binary_18x18/EP/00//neg/20020723_06_00_11.6_298.3.nc\n",
      "1/1 [==============================] - 0s 25ms/step\n"
     ]
    },
    {
     "name": "stderr",
     "output_type": "stream",
     "text": [
      "  9%|█████████                                                                                        | 42/447 [00:33<05:11,  1.30it/s]"
     ]
    },
    {
     "name": "stdout",
     "output_type": "stream",
     "text": [
      "TC formation prediction is [[0.44970316]] 0 neg\n",
      "Processing image: /N/project/hurricane-deep-learning/data/ncep_extracted_binary_18x18/EP/00//neg/20090920_18_00_12.9_287.4.nc\n",
      "1/1 [==============================] - 0s 22ms/step\n"
     ]
    },
    {
     "name": "stderr",
     "output_type": "stream",
     "text": [
      " 10%|█████████▎                                                                                       | 43/447 [00:33<05:06,  1.32it/s]"
     ]
    },
    {
     "name": "stdout",
     "output_type": "stream",
     "text": [
      "TC formation prediction is [[0.05737599]] 0 neg\n",
      "Processing image: /N/project/hurricane-deep-learning/data/ncep_extracted_binary_18x18/EP/00//neg/20200825_18_00_15.0_277.5.nc\n",
      "1/1 [==============================] - 0s 22ms/step\n"
     ]
    },
    {
     "name": "stderr",
     "output_type": "stream",
     "text": [
      " 10%|█████████▌                                                                                       | 44/447 [00:34<05:10,  1.30it/s]"
     ]
    },
    {
     "name": "stdout",
     "output_type": "stream",
     "text": [
      "TC formation prediction is [[0.11595703]] 0 neg\n",
      "Processing image: /N/project/hurricane-deep-learning/data/ncep_extracted_binary_18x18/EP/00//neg/20191113_06_00_11.2_283.2.nc\n",
      "1/1 [==============================] - 0s 22ms/step\n"
     ]
    },
    {
     "name": "stderr",
     "output_type": "stream",
     "text": [
      " 10%|█████████▊                                                                                       | 45/447 [00:35<05:06,  1.31it/s]"
     ]
    },
    {
     "name": "stdout",
     "output_type": "stream",
     "text": [
      "TC formation prediction is [[0.15098691]] 0 neg\n",
      "Processing image: /N/project/hurricane-deep-learning/data/ncep_extracted_binary_18x18/EP/00//neg/20110921_06_00_13.4_298.9.nc\n",
      "1/1 [==============================] - 0s 22ms/step\n"
     ]
    },
    {
     "name": "stderr",
     "output_type": "stream",
     "text": [
      " 10%|█████████▉                                                                                       | 46/447 [00:36<05:03,  1.32it/s]"
     ]
    },
    {
     "name": "stdout",
     "output_type": "stream",
     "text": [
      "TC formation prediction is [[0.0331303]] 0 neg\n",
      "Processing image: /N/project/hurricane-deep-learning/data/ncep_extracted_binary_18x18/EP/00//neg/20180609_18_00_12.1_294.5.nc\n",
      "1/1 [==============================] - 0s 22ms/step\n"
     ]
    },
    {
     "name": "stderr",
     "output_type": "stream",
     "text": [
      " 11%|██████████▏                                                                                      | 47/447 [00:36<05:04,  1.32it/s]"
     ]
    },
    {
     "name": "stdout",
     "output_type": "stream",
     "text": [
      "TC formation prediction is [[0.3099943]] 0 neg\n",
      "Processing image: /N/project/hurricane-deep-learning/data/ncep_extracted_binary_18x18/EP/00//neg/20210824_06_00_12.2_300.0.nc\n",
      "1/1 [==============================] - 0s 22ms/step\n"
     ]
    },
    {
     "name": "stderr",
     "output_type": "stream",
     "text": [
      " 11%|██████████▍                                                                                      | 48/447 [00:37<05:08,  1.29it/s]"
     ]
    },
    {
     "name": "stdout",
     "output_type": "stream",
     "text": [
      "TC formation prediction is [[0.28141236]] 0 neg\n",
      "Processing image: /N/project/hurricane-deep-learning/data/ncep_extracted_binary_18x18/EP/00//neg/20190903_06_00_14.6_260.3.nc\n",
      "1/1 [==============================] - 0s 23ms/step\n"
     ]
    },
    {
     "name": "stderr",
     "output_type": "stream",
     "text": [
      " 11%|██████████▋                                                                                      | 49/447 [00:38<05:09,  1.29it/s]"
     ]
    },
    {
     "name": "stdout",
     "output_type": "stream",
     "text": [
      "TC formation prediction is [[0.11397662]] 0 neg\n",
      "Processing image: /N/project/hurricane-deep-learning/data/ncep_extracted_binary_18x18/EP/00//neg/20060815_18_00_12.9_281.5.nc\n",
      "1/1 [==============================] - 0s 24ms/step\n"
     ]
    },
    {
     "name": "stderr",
     "output_type": "stream",
     "text": [
      " 11%|██████████▊                                                                                      | 50/447 [00:39<05:05,  1.30it/s]"
     ]
    },
    {
     "name": "stdout",
     "output_type": "stream",
     "text": [
      "TC formation prediction is [[0.38112235]] 0 neg\n",
      "Processing image: /N/project/hurricane-deep-learning/data/ncep_extracted_binary_18x18/EP/00//neg/20090708_12_00_33.5_229.1.nc\n",
      "1/1 [==============================] - 0s 23ms/step\n"
     ]
    },
    {
     "name": "stderr",
     "output_type": "stream",
     "text": [
      " 11%|███████████                                                                                      | 51/447 [00:39<05:04,  1.30it/s]"
     ]
    },
    {
     "name": "stdout",
     "output_type": "stream",
     "text": [
      "TC formation prediction is [[0.25583193]] 0 neg\n",
      "Processing image: /N/project/hurricane-deep-learning/data/ncep_extracted_binary_18x18/EP/00//neg/20141010_12_00_9.7_266.3.nc\n",
      "1/1 [==============================] - 0s 24ms/step\n"
     ]
    },
    {
     "name": "stderr",
     "output_type": "stream",
     "text": [
      " 12%|███████████▎                                                                                     | 52/447 [00:40<05:04,  1.30it/s]"
     ]
    },
    {
     "name": "stdout",
     "output_type": "stream",
     "text": [
      "TC formation prediction is [[0.90661025]] 1 pos\n",
      "Processing image: /N/project/hurricane-deep-learning/data/ncep_extracted_binary_18x18/EP/00//neg/20140924_00_00_14.5_292.4.nc\n",
      "1/1 [==============================] - 0s 22ms/step\n"
     ]
    },
    {
     "name": "stderr",
     "output_type": "stream",
     "text": [
      " 12%|███████████▌                                                                                     | 53/447 [00:41<05:03,  1.30it/s]"
     ]
    },
    {
     "name": "stdout",
     "output_type": "stream",
     "text": [
      "TC formation prediction is [[0.3916065]] 0 neg\n",
      "Processing image: /N/project/hurricane-deep-learning/data/ncep_extracted_binary_18x18/EP/00//neg/20140722_18_00_10.4_273.6.nc\n",
      "1/1 [==============================] - 0s 23ms/step\n"
     ]
    },
    {
     "name": "stderr",
     "output_type": "stream",
     "text": [
      " 12%|███████████▋                                                                                     | 54/447 [00:42<04:58,  1.32it/s]"
     ]
    },
    {
     "name": "stdout",
     "output_type": "stream",
     "text": [
      "TC formation prediction is [[0.23567472]] 0 neg\n",
      "Processing image: /N/project/hurricane-deep-learning/data/ncep_extracted_binary_18x18/EP/00//neg/20110718_00_00_10.2_306.0.nc\n",
      "1/1 [==============================] - 0s 22ms/step\n"
     ]
    },
    {
     "name": "stderr",
     "output_type": "stream",
     "text": [
      " 12%|███████████▉                                                                                     | 55/447 [00:42<05:02,  1.30it/s]"
     ]
    },
    {
     "name": "stdout",
     "output_type": "stream",
     "text": [
      "TC formation prediction is [[0.94044197]] 1 pos\n",
      "Processing image: /N/project/hurricane-deep-learning/data/ncep_extracted_binary_18x18/EP/00//neg/20070529_18_00_14.2_297.5.nc\n",
      "1/1 [==============================] - 0s 23ms/step\n"
     ]
    },
    {
     "name": "stderr",
     "output_type": "stream",
     "text": [
      " 13%|████████████▏                                                                                    | 56/447 [00:43<05:00,  1.30it/s]"
     ]
    },
    {
     "name": "stdout",
     "output_type": "stream",
     "text": [
      "TC formation prediction is [[0.4615788]] 0 neg\n",
      "Processing image: /N/project/hurricane-deep-learning/data/ncep_extracted_binary_18x18/EP/00//neg/20090728_18_00_10.8_266.2.nc\n",
      "1/1 [==============================] - 0s 24ms/step\n"
     ]
    },
    {
     "name": "stderr",
     "output_type": "stream",
     "text": [
      " 13%|████████████▎                                                                                    | 57/447 [00:44<04:59,  1.30it/s]"
     ]
    },
    {
     "name": "stdout",
     "output_type": "stream",
     "text": [
      "TC formation prediction is [[0.00444056]] 0 neg\n",
      "Processing image: /N/project/hurricane-deep-learning/data/ncep_extracted_binary_18x18/EP/00//neg/20081001_06_00_16.3_279.6.nc\n",
      "1/1 [==============================] - 0s 23ms/step\n"
     ]
    },
    {
     "name": "stderr",
     "output_type": "stream",
     "text": [
      " 13%|████████████▌                                                                                    | 58/447 [00:45<04:57,  1.31it/s]"
     ]
    },
    {
     "name": "stdout",
     "output_type": "stream",
     "text": [
      "TC formation prediction is [[0.27733365]] 0 neg\n",
      "Processing image: /N/project/hurricane-deep-learning/data/ncep_extracted_binary_18x18/EP/00//neg/20080711_18_00_11.1_301.1.nc\n",
      "1/1 [==============================] - 0s 24ms/step\n"
     ]
    },
    {
     "name": "stderr",
     "output_type": "stream",
     "text": [
      " 13%|████████████▊                                                                                    | 59/447 [00:45<04:53,  1.32it/s]"
     ]
    },
    {
     "name": "stdout",
     "output_type": "stream",
     "text": [
      "TC formation prediction is [[0.06447977]] 0 neg\n",
      "Processing image: /N/project/hurricane-deep-learning/data/ncep_extracted_binary_18x18/EP/00//neg/20010620_00_00_11.9_268.5.nc\n",
      "1/1 [==============================] - 0s 22ms/step\n"
     ]
    },
    {
     "name": "stderr",
     "output_type": "stream",
     "text": [
      " 13%|█████████████                                                                                    | 60/447 [00:46<04:50,  1.33it/s]"
     ]
    },
    {
     "name": "stdout",
     "output_type": "stream",
     "text": [
      "TC formation prediction is [[0.12998195]] 0 neg\n",
      "Processing image: /N/project/hurricane-deep-learning/data/ncep_extracted_binary_18x18/EP/00//neg/20210730_12_00_11.9_283.2.nc\n",
      "1/1 [==============================] - 0s 22ms/step\n"
     ]
    },
    {
     "name": "stderr",
     "output_type": "stream",
     "text": [
      " 14%|█████████████▏                                                                                   | 61/447 [00:47<04:52,  1.32it/s]"
     ]
    },
    {
     "name": "stdout",
     "output_type": "stream",
     "text": [
      "TC formation prediction is [[0.41967142]] 0 neg\n",
      "Processing image: /N/project/hurricane-deep-learning/data/ncep_extracted_binary_18x18/EP/00//neg/20191019_12_00_16.9_292.1.nc\n",
      "1/1 [==============================] - 0s 24ms/step\n"
     ]
    },
    {
     "name": "stderr",
     "output_type": "stream",
     "text": [
      " 14%|█████████████▍                                                                                   | 62/447 [00:48<04:51,  1.32it/s]"
     ]
    },
    {
     "name": "stdout",
     "output_type": "stream",
     "text": [
      "TC formation prediction is [[0.03968001]] 0 neg\n",
      "Processing image: /N/project/hurricane-deep-learning/data/ncep_extracted_binary_18x18/EP/00//neg/20000722_12_00_34.7_284.7.nc\n",
      "1/1 [==============================] - 0s 23ms/step\n"
     ]
    },
    {
     "name": "stderr",
     "output_type": "stream",
     "text": [
      " 14%|█████████████▋                                                                                   | 63/447 [00:49<04:51,  1.32it/s]"
     ]
    },
    {
     "name": "stdout",
     "output_type": "stream",
     "text": [
      "TC formation prediction is [[0.01786703]] 0 neg\n",
      "Processing image: /N/project/hurricane-deep-learning/data/ncep_extracted_binary_18x18/EP/00//neg/20091015_12_00_47.3_229.7.nc\n",
      "1/1 [==============================] - 0s 23ms/step\n"
     ]
    },
    {
     "name": "stderr",
     "output_type": "stream",
     "text": [
      " 14%|█████████████▉                                                                                   | 64/447 [00:49<04:52,  1.31it/s]"
     ]
    },
    {
     "name": "stdout",
     "output_type": "stream",
     "text": [
      "TC formation prediction is [[0.5142906]] 1 pos\n",
      "Processing image: /N/project/hurricane-deep-learning/data/ncep_extracted_binary_18x18/EP/00//neg/20081004_00_00_13.5_295.9.nc\n",
      "1/1 [==============================] - 0s 24ms/step\n"
     ]
    },
    {
     "name": "stderr",
     "output_type": "stream",
     "text": [
      " 15%|██████████████                                                                                   | 65/447 [00:50<04:54,  1.30it/s]"
     ]
    },
    {
     "name": "stdout",
     "output_type": "stream",
     "text": [
      "TC formation prediction is [[0.13300705]] 0 neg\n",
      "Processing image: /N/project/hurricane-deep-learning/data/ncep_extracted_binary_18x18/EP/00//neg/20030811_00_00_12.5_258.5.nc\n",
      "1/1 [==============================] - 0s 24ms/step\n"
     ]
    },
    {
     "name": "stderr",
     "output_type": "stream",
     "text": [
      " 15%|██████████████▎                                                                                  | 66/447 [00:51<04:58,  1.28it/s]"
     ]
    },
    {
     "name": "stdout",
     "output_type": "stream",
     "text": [
      "TC formation prediction is [[0.00443206]] 0 neg\n",
      "Processing image: /N/project/hurricane-deep-learning/data/ncep_extracted_binary_18x18/EP/00//neg/20170611_12_00_14.0_300.3.nc\n",
      "1/1 [==============================] - 0s 23ms/step\n"
     ]
    },
    {
     "name": "stderr",
     "output_type": "stream",
     "text": [
      " 15%|██████████████▌                                                                                  | 67/447 [00:52<04:59,  1.27it/s]"
     ]
    },
    {
     "name": "stdout",
     "output_type": "stream",
     "text": [
      "TC formation prediction is [[0.01055398]] 0 neg\n",
      "Processing image: /N/project/hurricane-deep-learning/data/ncep_extracted_binary_18x18/EP/00//neg/19990815_12_00_34.7_227.3.nc\n",
      "1/1 [==============================] - 0s 23ms/step\n"
     ]
    },
    {
     "name": "stderr",
     "output_type": "stream",
     "text": [
      " 15%|██████████████▊                                                                                  | 68/447 [00:52<04:56,  1.28it/s]"
     ]
    },
    {
     "name": "stdout",
     "output_type": "stream",
     "text": [
      "TC formation prediction is [[0.13179487]] 0 neg\n",
      "Processing image: /N/project/hurricane-deep-learning/data/ncep_extracted_binary_18x18/EP/00//neg/20070919_06_00_40.8_208.5.nc\n",
      "1/1 [==============================] - 0s 22ms/step\n"
     ]
    },
    {
     "name": "stderr",
     "output_type": "stream",
     "text": [
      " 15%|██████████████▉                                                                                  | 69/447 [00:53<04:53,  1.29it/s]"
     ]
    },
    {
     "name": "stdout",
     "output_type": "stream",
     "text": [
      "TC formation prediction is [[0.27544808]] 0 neg\n",
      "Processing image: /N/project/hurricane-deep-learning/data/ncep_extracted_binary_18x18/EP/00//neg/20080902_06_00_18.6_285.0.nc\n",
      "1/1 [==============================] - 0s 22ms/step\n"
     ]
    },
    {
     "name": "stderr",
     "output_type": "stream",
     "text": [
      " 16%|███████████████▏                                                                                 | 70/447 [00:54<04:54,  1.28it/s]"
     ]
    },
    {
     "name": "stdout",
     "output_type": "stream",
     "text": [
      "TC formation prediction is [[0.9367078]] 1 pos\n",
      "Processing image: /N/project/hurricane-deep-learning/data/ncep_extracted_binary_18x18/EP/00//neg/20040712_12_00_14.6_289.5.nc\n",
      "1/1 [==============================] - 0s 22ms/step\n"
     ]
    },
    {
     "name": "stderr",
     "output_type": "stream",
     "text": [
      " 16%|███████████████▍                                                                                 | 71/447 [00:55<04:50,  1.30it/s]"
     ]
    },
    {
     "name": "stdout",
     "output_type": "stream",
     "text": [
      "TC formation prediction is [[0.01463784]] 0 neg\n",
      "Processing image: /N/project/hurricane-deep-learning/data/ncep_extracted_binary_18x18/EP/00//neg/20060801_00_00_12.8_291.2.nc\n",
      "1/1 [==============================] - 0s 23ms/step\n"
     ]
    },
    {
     "name": "stderr",
     "output_type": "stream",
     "text": [
      " 16%|███████████████▌                                                                                 | 72/447 [00:56<04:47,  1.31it/s]"
     ]
    },
    {
     "name": "stdout",
     "output_type": "stream",
     "text": [
      "TC formation prediction is [[0.41106534]] 0 neg\n",
      "Processing image: /N/project/hurricane-deep-learning/data/ncep_extracted_binary_18x18/EP/00//neg/20180813_12_00_10.9_280.3.nc\n",
      "1/1 [==============================] - 0s 24ms/step\n"
     ]
    },
    {
     "name": "stderr",
     "output_type": "stream",
     "text": [
      " 16%|███████████████▊                                                                                 | 73/447 [00:56<04:45,  1.31it/s]"
     ]
    },
    {
     "name": "stdout",
     "output_type": "stream",
     "text": [
      "TC formation prediction is [[0.10660183]] 0 neg\n",
      "Processing image: /N/project/hurricane-deep-learning/data/ncep_extracted_binary_18x18/EP/00//neg/20200920_18_00_15.7_287.0.nc\n",
      "1/1 [==============================] - 0s 22ms/step\n"
     ]
    },
    {
     "name": "stderr",
     "output_type": "stream",
     "text": [
      " 17%|████████████████                                                                                 | 74/447 [00:57<04:44,  1.31it/s]"
     ]
    },
    {
     "name": "stdout",
     "output_type": "stream",
     "text": [
      "TC formation prediction is [[0.11604884]] 0 neg\n",
      "Processing image: /N/project/hurricane-deep-learning/data/ncep_extracted_binary_18x18/EP/00//neg/20000719_00_00_11.0_259.0.nc\n",
      "1/1 [==============================] - 0s 22ms/step\n"
     ]
    },
    {
     "name": "stderr",
     "output_type": "stream",
     "text": [
      " 17%|████████████████▎                                                                                | 75/447 [00:58<04:51,  1.28it/s]"
     ]
    },
    {
     "name": "stdout",
     "output_type": "stream",
     "text": [
      "TC formation prediction is [[0.16785261]] 0 neg\n",
      "Processing image: /N/project/hurricane-deep-learning/data/ncep_extracted_binary_18x18/EP/00//neg/20060527_06_00_14.6_293.5.nc\n",
      "1/1 [==============================] - 0s 22ms/step\n"
     ]
    },
    {
     "name": "stderr",
     "output_type": "stream",
     "text": [
      " 17%|████████████████▍                                                                                | 76/447 [00:59<04:50,  1.28it/s]"
     ]
    },
    {
     "name": "stdout",
     "output_type": "stream",
     "text": [
      "TC formation prediction is [[0.05125915]] 0 neg\n",
      "Processing image: /N/project/hurricane-deep-learning/data/ncep_extracted_binary_18x18/EP/00//neg/20050704_00_00_14.9_295.8.nc\n",
      "1/1 [==============================] - 0s 22ms/step\n"
     ]
    },
    {
     "name": "stderr",
     "output_type": "stream",
     "text": [
      " 17%|████████████████▋                                                                                | 77/447 [00:59<04:46,  1.29it/s]"
     ]
    },
    {
     "name": "stdout",
     "output_type": "stream",
     "text": [
      "TC formation prediction is [[0.32754204]] 0 neg\n",
      "Processing image: /N/project/hurricane-deep-learning/data/ncep_extracted_binary_18x18/EP/00//neg/20140812_12_00_15.1_290.0.nc\n",
      "1/1 [==============================] - 0s 24ms/step\n"
     ]
    },
    {
     "name": "stderr",
     "output_type": "stream",
     "text": [
      " 17%|████████████████▉                                                                                | 78/447 [01:00<04:46,  1.29it/s]"
     ]
    },
    {
     "name": "stdout",
     "output_type": "stream",
     "text": [
      "TC formation prediction is [[0.0422364]] 0 neg\n",
      "Processing image: /N/project/hurricane-deep-learning/data/ncep_extracted_binary_18x18/EP/00//neg/20220610_00_00_11.8_301.0.nc\n",
      "1/1 [==============================] - 0s 23ms/step\n"
     ]
    },
    {
     "name": "stderr",
     "output_type": "stream",
     "text": [
      " 18%|█████████████████▏                                                                               | 79/447 [01:01<04:48,  1.27it/s]"
     ]
    },
    {
     "name": "stdout",
     "output_type": "stream",
     "text": [
      "TC formation prediction is [[0.22535256]] 0 neg\n",
      "Processing image: /N/project/hurricane-deep-learning/data/ncep_extracted_binary_18x18/EP/00//neg/20040726_12_00_12.2_282.2.nc\n",
      "1/1 [==============================] - 0s 22ms/step\n"
     ]
    },
    {
     "name": "stderr",
     "output_type": "stream",
     "text": [
      " 18%|█████████████████▎                                                                               | 80/447 [01:02<04:44,  1.29it/s]"
     ]
    },
    {
     "name": "stdout",
     "output_type": "stream",
     "text": [
      "TC formation prediction is [[0.06007535]] 0 neg\n",
      "Processing image: /N/project/hurricane-deep-learning/data/ncep_extracted_binary_18x18/EP/00//neg/20090822_18_00_14.3_286.9.nc\n",
      "1/1 [==============================] - 0s 22ms/step\n"
     ]
    },
    {
     "name": "stderr",
     "output_type": "stream",
     "text": [
      " 18%|█████████████████▌                                                                               | 81/447 [01:03<04:42,  1.30it/s]"
     ]
    },
    {
     "name": "stdout",
     "output_type": "stream",
     "text": [
      "TC formation prediction is [[0.68629557]] 1 pos\n",
      "Processing image: /N/project/hurricane-deep-learning/data/ncep_extracted_binary_18x18/EP/00//neg/20050809_12_00_14.0_281.2.nc\n",
      "1/1 [==============================] - 0s 24ms/step\n"
     ]
    },
    {
     "name": "stderr",
     "output_type": "stream",
     "text": [
      " 18%|█████████████████▊                                                                               | 82/447 [01:03<04:44,  1.28it/s]"
     ]
    },
    {
     "name": "stdout",
     "output_type": "stream",
     "text": [
      "TC formation prediction is [[0.21179013]] 0 neg\n",
      "Processing image: /N/project/hurricane-deep-learning/data/ncep_extracted_binary_18x18/EP/00//neg/20080804_12_00_10.4_258.8.nc\n",
      "1/1 [==============================] - 0s 24ms/step\n"
     ]
    },
    {
     "name": "stderr",
     "output_type": "stream",
     "text": [
      " 19%|██████████████████                                                                               | 83/447 [01:04<04:38,  1.30it/s]"
     ]
    },
    {
     "name": "stdout",
     "output_type": "stream",
     "text": [
      "TC formation prediction is [[0.13109292]] 0 neg\n",
      "Processing image: /N/project/hurricane-deep-learning/data/ncep_extracted_binary_18x18/EP/00//neg/20030617_00_00_15.9_291.8.nc\n",
      "1/1 [==============================] - 0s 24ms/step\n"
     ]
    },
    {
     "name": "stderr",
     "output_type": "stream",
     "text": [
      " 19%|██████████████████▏                                                                              | 84/447 [01:05<04:38,  1.31it/s]"
     ]
    },
    {
     "name": "stdout",
     "output_type": "stream",
     "text": [
      "TC formation prediction is [[0.11408287]] 0 neg\n",
      "Processing image: /N/project/hurricane-deep-learning/data/ncep_extracted_binary_18x18/EP/00//neg/20000828_06_00_14.9_257.6.nc\n",
      "1/1 [==============================] - 0s 23ms/step\n"
     ]
    },
    {
     "name": "stderr",
     "output_type": "stream",
     "text": [
      " 19%|██████████████████▍                                                                              | 85/447 [01:06<04:36,  1.31it/s]"
     ]
    },
    {
     "name": "stdout",
     "output_type": "stream",
     "text": [
      "TC formation prediction is [[0.08487013]] 0 neg\n",
      "Processing image: /N/project/hurricane-deep-learning/data/ncep_extracted_binary_18x18/EP/00//neg/20151118_06_00_12.9_287.9.nc\n",
      "1/1 [==============================] - 0s 23ms/step\n"
     ]
    },
    {
     "name": "stderr",
     "output_type": "stream",
     "text": [
      " 19%|██████████████████▋                                                                              | 86/447 [01:06<04:35,  1.31it/s]"
     ]
    },
    {
     "name": "stdout",
     "output_type": "stream",
     "text": [
      "TC formation prediction is [[0.2648156]] 0 neg\n",
      "Processing image: /N/project/hurricane-deep-learning/data/ncep_extracted_binary_18x18/EP/00//neg/20060830_00_00_16.0_281.0.nc\n",
      "1/1 [==============================] - 0s 24ms/step\n"
     ]
    },
    {
     "name": "stderr",
     "output_type": "stream",
     "text": [
      " 19%|██████████████████▉                                                                              | 87/447 [01:07<04:42,  1.28it/s]"
     ]
    },
    {
     "name": "stdout",
     "output_type": "stream",
     "text": [
      "TC formation prediction is [[0.11035348]] 0 neg\n",
      "Processing image: /N/project/hurricane-deep-learning/data/ncep_extracted_binary_18x18/EP/00//neg/20010713_06_00_15.0_286.6.nc\n",
      "1/1 [==============================] - 0s 22ms/step\n"
     ]
    },
    {
     "name": "stderr",
     "output_type": "stream",
     "text": [
      " 20%|███████████████████                                                                              | 88/447 [01:08<04:40,  1.28it/s]"
     ]
    },
    {
     "name": "stdout",
     "output_type": "stream",
     "text": [
      "TC formation prediction is [[0.06008819]] 0 neg\n",
      "Processing image: /N/project/hurricane-deep-learning/data/ncep_extracted_binary_18x18/EP/00//neg/20170509_18_00_9.3_303.8.nc\n",
      "1/1 [==============================] - 0s 23ms/step\n"
     ]
    },
    {
     "name": "stderr",
     "output_type": "stream",
     "text": [
      " 20%|███████████████████▎                                                                             | 89/447 [01:09<04:37,  1.29it/s]"
     ]
    },
    {
     "name": "stdout",
     "output_type": "stream",
     "text": [
      "TC formation prediction is [[0.02451048]] 0 neg\n",
      "Processing image: /N/project/hurricane-deep-learning/data/ncep_extracted_binary_18x18/EP/00//neg/20030717_18_00_14.0_289.7.nc\n",
      "1/1 [==============================] - 0s 23ms/step\n"
     ]
    },
    {
     "name": "stderr",
     "output_type": "stream",
     "text": [
      " 20%|███████████████████▌                                                                             | 90/447 [01:10<04:40,  1.27it/s]"
     ]
    },
    {
     "name": "stdout",
     "output_type": "stream",
     "text": [
      "TC formation prediction is [[0.01571059]] 0 neg\n",
      "Processing image: /N/project/hurricane-deep-learning/data/ncep_extracted_binary_18x18/EP/00//neg/20070527_00_00_12.8_284.4.nc\n",
      "1/1 [==============================] - 0s 23ms/step\n"
     ]
    },
    {
     "name": "stderr",
     "output_type": "stream",
     "text": [
      " 20%|███████████████████▋                                                                             | 91/447 [01:10<04:37,  1.28it/s]"
     ]
    },
    {
     "name": "stdout",
     "output_type": "stream",
     "text": [
      "TC formation prediction is [[0.9633545]] 1 pos\n",
      "Processing image: /N/project/hurricane-deep-learning/data/ncep_extracted_binary_18x18/EP/00//neg/20181019_00_00_13.0_303.5.nc\n",
      "1/1 [==============================] - 0s 23ms/step\n"
     ]
    },
    {
     "name": "stderr",
     "output_type": "stream",
     "text": [
      " 21%|███████████████████▉                                                                             | 92/447 [01:11<04:37,  1.28it/s]"
     ]
    },
    {
     "name": "stdout",
     "output_type": "stream",
     "text": [
      "TC formation prediction is [[0.04202444]] 0 neg\n",
      "Processing image: /N/project/hurricane-deep-learning/data/ncep_extracted_binary_18x18/EP/00//neg/20061111_00_00_13.1_282.7.nc\n",
      "1/1 [==============================] - 0s 23ms/step\n"
     ]
    },
    {
     "name": "stderr",
     "output_type": "stream",
     "text": [
      " 21%|████████████████████▏                                                                            | 93/447 [01:12<04:31,  1.30it/s]"
     ]
    },
    {
     "name": "stdout",
     "output_type": "stream",
     "text": [
      "TC formation prediction is [[0.32065803]] 0 neg\n",
      "Processing image: /N/project/hurricane-deep-learning/data/ncep_extracted_binary_18x18/EP/00//neg/20070722_00_00_12.5_290.4.nc\n",
      "1/1 [==============================] - 0s 23ms/step\n"
     ]
    },
    {
     "name": "stderr",
     "output_type": "stream",
     "text": [
      " 21%|████████████████████▍                                                                            | 94/447 [01:13<04:29,  1.31it/s]"
     ]
    },
    {
     "name": "stdout",
     "output_type": "stream",
     "text": [
      "TC formation prediction is [[0.08481284]] 0 neg\n",
      "Processing image: /N/project/hurricane-deep-learning/data/ncep_extracted_binary_18x18/EP/00//neg/20050802_18_00_14.3_259.1.nc\n",
      "1/1 [==============================] - 0s 22ms/step\n"
     ]
    },
    {
     "name": "stderr",
     "output_type": "stream",
     "text": [
      " 21%|████████████████████▌                                                                            | 95/447 [01:13<04:26,  1.32it/s]"
     ]
    },
    {
     "name": "stdout",
     "output_type": "stream",
     "text": [
      "TC formation prediction is [[0.09303143]] 0 neg\n",
      "Processing image: /N/project/hurricane-deep-learning/data/ncep_extracted_binary_18x18/EP/00//neg/20150722_12_00_15.9_281.6.nc\n",
      "1/1 [==============================] - 0s 22ms/step\n"
     ]
    },
    {
     "name": "stderr",
     "output_type": "stream",
     "text": [
      " 21%|████████████████████▊                                                                            | 96/447 [01:14<04:24,  1.33it/s]"
     ]
    },
    {
     "name": "stdout",
     "output_type": "stream",
     "text": [
      "TC formation prediction is [[0.00392728]] 0 neg\n",
      "Processing image: /N/project/hurricane-deep-learning/data/ncep_extracted_binary_18x18/EP/00//neg/20180925_06_00_14.4_288.1.nc\n",
      "1/1 [==============================] - 0s 23ms/step\n"
     ]
    },
    {
     "name": "stderr",
     "output_type": "stream",
     "text": [
      " 22%|█████████████████████                                                                            | 97/447 [01:15<04:22,  1.33it/s]"
     ]
    },
    {
     "name": "stdout",
     "output_type": "stream",
     "text": [
      "TC formation prediction is [[0.00095689]] 0 neg\n",
      "Processing image: /N/project/hurricane-deep-learning/data/ncep_extracted_binary_18x18/EP/00//neg/20210906_18_00_17.1_289.2.nc\n",
      "1/1 [==============================] - 0s 23ms/step\n"
     ]
    },
    {
     "name": "stderr",
     "output_type": "stream",
     "text": [
      " 22%|█████████████████████▎                                                                           | 98/447 [01:16<04:22,  1.33it/s]"
     ]
    },
    {
     "name": "stdout",
     "output_type": "stream",
     "text": [
      "TC formation prediction is [[0.39737475]] 0 neg\n",
      "Processing image: /N/project/hurricane-deep-learning/data/ncep_extracted_binary_18x18/EP/00//neg/20061113_18_00_12.3_291.4.nc\n",
      "1/1 [==============================] - 0s 24ms/step\n"
     ]
    },
    {
     "name": "stderr",
     "output_type": "stream",
     "text": [
      " 22%|█████████████████████▍                                                                           | 99/447 [01:16<04:20,  1.34it/s]"
     ]
    },
    {
     "name": "stdout",
     "output_type": "stream",
     "text": [
      "TC formation prediction is [[0.11676559]] 0 neg\n",
      "Processing image: /N/project/hurricane-deep-learning/data/ncep_extracted_binary_18x18/EP/00//neg/20060925_00_00_10.0_222.1.nc\n",
      "1/1 [==============================] - 0s 23ms/step\n"
     ]
    },
    {
     "name": "stderr",
     "output_type": "stream",
     "text": [
      " 22%|█████████████████████▍                                                                          | 100/447 [01:17<04:25,  1.31it/s]"
     ]
    },
    {
     "name": "stdout",
     "output_type": "stream",
     "text": [
      "TC formation prediction is [[0.66887796]] 1 pos\n",
      "Processing image: /N/project/hurricane-deep-learning/data/ncep_extracted_binary_18x18/EP/00//neg/20210806_12_00_15.0_293.1.nc\n",
      "1/1 [==============================] - 0s 23ms/step\n"
     ]
    },
    {
     "name": "stderr",
     "output_type": "stream",
     "text": [
      " 22%|█████████████████████▍                                                                          | 100/447 [01:18<04:31,  1.28it/s]\n"
     ]
    },
    {
     "name": "stdout",
     "output_type": "stream",
     "text": [
      "TC formation prediction is [[0.05267689]] 0 neg\n"
     ]
    },
    {
     "name": "stderr",
     "output_type": "stream",
     "text": [
      "  0%|                                                                                                         | 0/2205 [00:00<?, ?it/s]"
     ]
    },
    {
     "name": "stdout",
     "output_type": "stream",
     "text": [
      "Processing image: /N/project/hurricane-deep-learning/data/ncep_extracted_binary_18x18/EP/00//pos/20000723_00_00_11.1_266.0_2000206N11266.nc\n",
      "1/1 [==============================] - 0s 23ms/step\n"
     ]
    },
    {
     "name": "stderr",
     "output_type": "stream",
     "text": [
      "  0%|                                                                                                 | 1/2205 [00:00<28:35,  1.29it/s]"
     ]
    },
    {
     "name": "stdout",
     "output_type": "stream",
     "text": [
      "TC formation prediction is [[0.14895022]] 0 neg\n",
      "Processing image: /N/project/hurricane-deep-learning/data/ncep_extracted_binary_18x18/EP/00//pos/20030717_18_00_14.0_254.7_2003199N14255.nc\n",
      "1/1 [==============================] - 0s 22ms/step\n"
     ]
    },
    {
     "name": "stderr",
     "output_type": "stream",
     "text": [
      "  0%|                                                                                                 | 2/2205 [00:01<28:51,  1.27it/s]"
     ]
    },
    {
     "name": "stdout",
     "output_type": "stream",
     "text": [
      "TC formation prediction is [[0.23276204]] 0 neg\n",
      "Processing image: /N/project/hurricane-deep-learning/data/ncep_extracted_binary_18x18/EP/00//pos/20180813_12_00_10.9_245.3_2018226N11245.nc\n",
      "1/1 [==============================] - 0s 23ms/step\n"
     ]
    },
    {
     "name": "stderr",
     "output_type": "stream",
     "text": [
      "  0%|▏                                                                                                | 3/2205 [00:02<28:30,  1.29it/s]"
     ]
    },
    {
     "name": "stdout",
     "output_type": "stream",
     "text": [
      "TC formation prediction is [[0.45886904]] 0 neg\n",
      "Processing image: /N/project/hurricane-deep-learning/data/ncep_extracted_binary_18x18/EP/00//pos/20001031_18_00_10.3_270.2_2000309N10270.nc\n",
      "1/1 [==============================] - 0s 22ms/step\n"
     ]
    },
    {
     "name": "stderr",
     "output_type": "stream",
     "text": [
      "  0%|▏                                                                                                | 4/2205 [00:03<28:05,  1.31it/s]"
     ]
    },
    {
     "name": "stdout",
     "output_type": "stream",
     "text": [
      "TC formation prediction is [[0.0442963]] 0 neg\n",
      "Processing image: /N/project/hurricane-deep-learning/data/ncep_extracted_binary_18x18/EP/00//pos/20050823_18_00_16.9_255.3_2005238N17255.nc\n",
      "1/1 [==============================] - 0s 22ms/step\n"
     ]
    },
    {
     "name": "stderr",
     "output_type": "stream",
     "text": [
      "  0%|▏                                                                                                | 5/2205 [00:03<27:51,  1.32it/s]"
     ]
    },
    {
     "name": "stdout",
     "output_type": "stream",
     "text": [
      "TC formation prediction is [[0.5094458]] 1 pos\n",
      "Processing image: /N/project/hurricane-deep-learning/data/ncep_extracted_binary_18x18/EP/00//pos/20170707_12_00_11.2_250.0_2017189N11250.nc\n",
      "1/1 [==============================] - 0s 24ms/step\n"
     ]
    },
    {
     "name": "stderr",
     "output_type": "stream",
     "text": [
      "  0%|▎                                                                                                | 6/2205 [00:04<28:32,  1.28it/s]"
     ]
    },
    {
     "name": "stdout",
     "output_type": "stream",
     "text": [
      "TC formation prediction is [[0.4733002]] 0 neg\n",
      "Processing image: /N/project/hurricane-deep-learning/data/ncep_extracted_binary_18x18/EP/00//pos/20010930_12_00_13.7_239.7_2001276N14240.nc\n",
      "1/1 [==============================] - 0s 23ms/step\n"
     ]
    },
    {
     "name": "stderr",
     "output_type": "stream",
     "text": [
      "  0%|▎                                                                                                | 7/2205 [00:05<28:30,  1.28it/s]"
     ]
    },
    {
     "name": "stdout",
     "output_type": "stream",
     "text": [
      "TC formation prediction is [[0.13724111]] 0 neg\n",
      "Processing image: /N/project/hurricane-deep-learning/data/ncep_extracted_binary_18x18/EP/00//pos/20030806_06_00_16.0_244.3_2003219N16244.nc\n",
      "1/1 [==============================] - 0s 23ms/step\n"
     ]
    },
    {
     "name": "stderr",
     "output_type": "stream",
     "text": [
      "  0%|▎                                                                                                | 8/2205 [00:06<28:21,  1.29it/s]"
     ]
    },
    {
     "name": "stdout",
     "output_type": "stream",
     "text": [
      "TC formation prediction is [[0.02043326]] 0 neg\n",
      "Processing image: /N/project/hurricane-deep-learning/data/ncep_extracted_binary_18x18/EP/00//pos/20060531_12_00_15.7_257.0_2006155N16257.nc\n",
      "1/1 [==============================] - 0s 23ms/step\n"
     ]
    },
    {
     "name": "stderr",
     "output_type": "stream",
     "text": [
      "  0%|▍                                                                                                | 9/2205 [00:06<28:42,  1.27it/s]"
     ]
    },
    {
     "name": "stdout",
     "output_type": "stream",
     "text": [
      "TC formation prediction is [[0.18336724]] 0 neg\n",
      "Processing image: /N/project/hurricane-deep-learning/data/ncep_extracted_binary_18x18/EP/00//pos/20040702_12_00_6.0_203.0_2004186N06203.nc\n",
      "1/1 [==============================] - 0s 23ms/step\n"
     ]
    },
    {
     "name": "stderr",
     "output_type": "stream",
     "text": [
      "  0%|▍                                                                                               | 10/2205 [00:07<29:17,  1.25it/s]"
     ]
    },
    {
     "name": "stdout",
     "output_type": "stream",
     "text": [
      "TC formation prediction is [[0.27164382]] 0 neg\n",
      "Processing image: /N/project/hurricane-deep-learning/data/ncep_extracted_binary_18x18/EP/00//pos/20061111_00_00_12.3_256.4_2006318N12256.nc\n",
      "1/1 [==============================] - 0s 24ms/step\n"
     ]
    },
    {
     "name": "stderr",
     "output_type": "stream",
     "text": [
      "  0%|▍                                                                                               | 11/2205 [00:08<28:57,  1.26it/s]"
     ]
    },
    {
     "name": "stdout",
     "output_type": "stream",
     "text": [
      "TC formation prediction is [[0.8442877]] 1 pos\n",
      "Processing image: /N/project/hurricane-deep-learning/data/ncep_extracted_binary_18x18/EP/00//pos/20000519_12_00_12.0_262.2_2000142N12262.nc\n",
      "1/1 [==============================] - 0s 23ms/step\n"
     ]
    },
    {
     "name": "stderr",
     "output_type": "stream",
     "text": [
      "  1%|▌                                                                                               | 12/2205 [00:09<28:55,  1.26it/s]"
     ]
    },
    {
     "name": "stdout",
     "output_type": "stream",
     "text": [
      "TC formation prediction is [[0.6096113]] 1 pos\n",
      "Processing image: /N/project/hurricane-deep-learning/data/ncep_extracted_binary_18x18/EP/00//pos/20030928_18_00_15.7_251.9_2003275N16252.nc\n",
      "1/1 [==============================] - 0s 22ms/step\n"
     ]
    },
    {
     "name": "stderr",
     "output_type": "stream",
     "text": [
      "  1%|▌                                                                                               | 13/2205 [00:10<28:32,  1.28it/s]"
     ]
    },
    {
     "name": "stdout",
     "output_type": "stream",
     "text": [
      "TC formation prediction is [[0.05679305]] 0 neg\n",
      "Processing image: /N/project/hurricane-deep-learning/data/ncep_extracted_binary_18x18/EP/00//pos/20061105_06_00_12.7_256.3_2006312N13256.nc\n",
      "1/1 [==============================] - 0s 23ms/step\n"
     ]
    },
    {
     "name": "stderr",
     "output_type": "stream",
     "text": [
      "  1%|▌                                                                                               | 14/2205 [00:10<28:02,  1.30it/s]"
     ]
    },
    {
     "name": "stdout",
     "output_type": "stream",
     "text": [
      "TC formation prediction is [[0.10032459]] 0 neg\n",
      "Processing image: /N/project/hurricane-deep-learning/data/ncep_extracted_binary_18x18/EP/00//pos/20050917_12_00_12.5_245.1_2005261N13245.nc\n",
      "1/1 [==============================] - 0s 23ms/step\n"
     ]
    },
    {
     "name": "stderr",
     "output_type": "stream",
     "text": [
      "  1%|▋                                                                                               | 15/2205 [00:11<28:36,  1.28it/s]"
     ]
    },
    {
     "name": "stdout",
     "output_type": "stream",
     "text": [
      "TC formation prediction is [[0.2837889]] 0 neg\n",
      "Processing image: /N/project/hurricane-deep-learning/data/ncep_extracted_binary_18x18/EP/00//pos/20020820_00_00_12.8_253.1_2002234N13253.nc\n",
      "1/1 [==============================] - 0s 23ms/step\n"
     ]
    },
    {
     "name": "stderr",
     "output_type": "stream",
     "text": [
      "  1%|▋                                                                                               | 16/2205 [00:12<28:35,  1.28it/s]"
     ]
    },
    {
     "name": "stdout",
     "output_type": "stream",
     "text": [
      "TC formation prediction is [[0.3838001]] 0 neg\n",
      "Processing image: /N/project/hurricane-deep-learning/data/ncep_extracted_binary_18x18/EP/00//pos/19990815_00_00_10.0_252.0_1999228N10252.nc\n",
      "1/1 [==============================] - 0s 23ms/step\n"
     ]
    },
    {
     "name": "stderr",
     "output_type": "stream",
     "text": [
      "  1%|▋                                                                                               | 17/2205 [00:13<29:11,  1.25it/s]"
     ]
    },
    {
     "name": "stdout",
     "output_type": "stream",
     "text": [
      "TC formation prediction is [[0.39801466]] 0 neg\n",
      "Processing image: /N/project/hurricane-deep-learning/data/ncep_extracted_binary_18x18/EP/00//pos/20010820_06_00_17.1_224.6_2001235N17225.nc\n",
      "1/1 [==============================] - 0s 24ms/step\n"
     ]
    },
    {
     "name": "stderr",
     "output_type": "stream",
     "text": [
      "  1%|▊                                                                                               | 18/2205 [00:14<28:48,  1.27it/s]"
     ]
    },
    {
     "name": "stdout",
     "output_type": "stream",
     "text": [
      "TC formation prediction is [[0.0128182]] 0 neg\n",
      "Processing image: /N/project/hurricane-deep-learning/data/ncep_extracted_binary_18x18/EP/00//pos/20180614_18_00_14.9_260.0_2018166N15260.nc\n",
      "1/1 [==============================] - 0s 22ms/step\n"
     ]
    },
    {
     "name": "stderr",
     "output_type": "stream",
     "text": [
      "  1%|▊                                                                                               | 19/2205 [00:14<28:47,  1.27it/s]"
     ]
    },
    {
     "name": "stdout",
     "output_type": "stream",
     "text": [
      "TC formation prediction is [[0.44777027]] 0 neg\n",
      "Processing image: /N/project/hurricane-deep-learning/data/ncep_extracted_binary_18x18/EP/00//pos/20050819_18_00_13.3_263.4_2005232N13263.nc\n",
      "1/1 [==============================] - 0s 24ms/step\n"
     ]
    },
    {
     "name": "stderr",
     "output_type": "stream",
     "text": [
      "  1%|▊                                                                                               | 20/2205 [00:15<28:13,  1.29it/s]"
     ]
    },
    {
     "name": "stdout",
     "output_type": "stream",
     "text": [
      "TC formation prediction is [[0.27040938]] 0 neg\n",
      "Processing image: /N/project/hurricane-deep-learning/data/ncep_extracted_binary_18x18/EP/00//pos/20070917_06_00_12.7_253.7_2007261N13254.nc\n",
      "1/1 [==============================] - 0s 23ms/step\n"
     ]
    },
    {
     "name": "stderr",
     "output_type": "stream",
     "text": [
      "  1%|▉                                                                                               | 21/2205 [00:16<27:58,  1.30it/s]"
     ]
    },
    {
     "name": "stdout",
     "output_type": "stream",
     "text": [
      "TC formation prediction is [[0.19612789]] 0 neg\n",
      "Processing image: /N/project/hurricane-deep-learning/data/ncep_extracted_binary_18x18/EP/00//pos/20140822_00_00_12.3_261.2_2014234N12261.nc\n",
      "1/1 [==============================] - 0s 23ms/step\n"
     ]
    },
    {
     "name": "stderr",
     "output_type": "stream",
     "text": [
      "  1%|▉                                                                                               | 22/2205 [00:17<27:47,  1.31it/s]"
     ]
    },
    {
     "name": "stdout",
     "output_type": "stream",
     "text": [
      "TC formation prediction is [[0.42665157]] 0 neg\n",
      "Processing image: /N/project/hurricane-deep-learning/data/ncep_extracted_binary_18x18/EP/00//pos/20060925_00_00_10.0_187.1_2006268N10187.nc\n",
      "1/1 [==============================] - 0s 23ms/step\n"
     ]
    },
    {
     "name": "stderr",
     "output_type": "stream",
     "text": [
      "  1%|█                                                                                               | 23/2205 [00:17<28:18,  1.28it/s]"
     ]
    },
    {
     "name": "stdout",
     "output_type": "stream",
     "text": [
      "TC formation prediction is [[0.8657918]] 1 pos\n",
      "Processing image: /N/project/hurricane-deep-learning/data/ncep_extracted_binary_18x18/EP/00//pos/20150825_12_00_9.7_255.1_2015238N10255.nc\n",
      "1/1 [==============================] - 0s 23ms/step\n"
     ]
    },
    {
     "name": "stderr",
     "output_type": "stream",
     "text": [
      "  1%|█                                                                                               | 24/2205 [00:18<28:13,  1.29it/s]"
     ]
    },
    {
     "name": "stdout",
     "output_type": "stream",
     "text": [
      "TC formation prediction is [[0.8020622]] 1 pos\n",
      "Processing image: /N/project/hurricane-deep-learning/data/ncep_extracted_binary_18x18/EP/00//pos/20050717_18_00_14.8_256.3_2005199N15256.nc\n",
      "1/1 [==============================] - 0s 22ms/step\n"
     ]
    },
    {
     "name": "stderr",
     "output_type": "stream",
     "text": [
      "  1%|█                                                                                               | 25/2205 [00:19<28:25,  1.28it/s]"
     ]
    },
    {
     "name": "stdout",
     "output_type": "stream",
     "text": [
      "TC formation prediction is [[0.36939687]] 0 neg\n",
      "Processing image: /N/project/hurricane-deep-learning/data/ncep_extracted_binary_18x18/EP/00//pos/20210617_18_00_14.0_260.3_2021169N14260.nc\n",
      "1/1 [==============================] - 0s 23ms/step\n"
     ]
    },
    {
     "name": "stderr",
     "output_type": "stream",
     "text": [
      "  1%|█▏                                                                                              | 26/2205 [00:20<28:39,  1.27it/s]"
     ]
    },
    {
     "name": "stdout",
     "output_type": "stream",
     "text": [
      "TC formation prediction is [[0.9626328]] 1 pos\n",
      "Processing image: /N/project/hurricane-deep-learning/data/ncep_extracted_binary_18x18/EP/00//pos/20070729_06_00_12.9_237.5_2007213N13238.nc\n",
      "1/1 [==============================] - 0s 23ms/step\n"
     ]
    },
    {
     "name": "stderr",
     "output_type": "stream",
     "text": [
      "  1%|█▏                                                                                              | 27/2205 [00:21<28:29,  1.27it/s]"
     ]
    },
    {
     "name": "stdout",
     "output_type": "stream",
     "text": [
      "TC formation prediction is [[0.25557762]] 0 neg\n",
      "Processing image: /N/project/hurricane-deep-learning/data/ncep_extracted_binary_18x18/EP/00//pos/20010922_12_00_9.7_216.5_2001266N10217.nc\n",
      "1/1 [==============================] - 0s 23ms/step\n"
     ]
    },
    {
     "name": "stderr",
     "output_type": "stream",
     "text": [
      "  1%|█▏                                                                                              | 28/2205 [00:21<28:05,  1.29it/s]"
     ]
    },
    {
     "name": "stdout",
     "output_type": "stream",
     "text": [
      "TC formation prediction is [[0.1858586]] 0 neg\n",
      "Processing image: /N/project/hurricane-deep-learning/data/ncep_extracted_binary_18x18/EP/00//pos/20050624_00_00_12.7_262.8_2005177N13263.nc\n",
      "1/1 [==============================] - 0s 24ms/step\n"
     ]
    },
    {
     "name": "stderr",
     "output_type": "stream",
     "text": [
      "  1%|█▎                                                                                              | 29/2205 [00:22<27:44,  1.31it/s]"
     ]
    },
    {
     "name": "stdout",
     "output_type": "stream",
     "text": [
      "TC formation prediction is [[0.37584186]] 0 neg\n",
      "Processing image: /N/project/hurricane-deep-learning/data/ncep_extracted_binary_18x18/EP/00//pos/20111005_12_00_9.7_257.2_2011279N10257.nc\n",
      "1/1 [==============================] - 0s 22ms/step\n"
     ]
    },
    {
     "name": "stderr",
     "output_type": "stream",
     "text": [
      "  1%|█▎                                                                                              | 30/2205 [00:23<27:45,  1.31it/s]"
     ]
    },
    {
     "name": "stdout",
     "output_type": "stream",
     "text": [
      "TC formation prediction is [[0.18746017]] 0 neg\n",
      "Processing image: /N/project/hurricane-deep-learning/data/ncep_extracted_binary_18x18/EP/00//pos/20120915_12_00_13.2_237.2_2012260N13237.nc\n",
      "1/1 [==============================] - 0s 23ms/step\n"
     ]
    },
    {
     "name": "stderr",
     "output_type": "stream",
     "text": [
      "  1%|█▎                                                                                              | 31/2205 [00:24<27:32,  1.32it/s]"
     ]
    },
    {
     "name": "stdout",
     "output_type": "stream",
     "text": [
      "TC formation prediction is [[0.8537087]] 1 pos\n",
      "Processing image: /N/project/hurricane-deep-learning/data/ncep_extracted_binary_18x18/EP/00//pos/20000919_12_00_16.8_256.6_2000264N17257.nc\n",
      "1/1 [==============================] - 0s 22ms/step\n"
     ]
    },
    {
     "name": "stderr",
     "output_type": "stream",
     "text": [
      "  1%|█▍                                                                                              | 32/2205 [00:24<27:13,  1.33it/s]"
     ]
    },
    {
     "name": "stdout",
     "output_type": "stream",
     "text": [
      "TC formation prediction is [[0.79082274]] 1 pos\n",
      "Processing image: /N/project/hurricane-deep-learning/data/ncep_extracted_binary_18x18/EP/00//pos/20010903_12_00_15.4_237.4_2001247N15237.nc\n",
      "1/1 [==============================] - 0s 22ms/step\n"
     ]
    },
    {
     "name": "stderr",
     "output_type": "stream",
     "text": [
      "  1%|█▍                                                                                              | 33/2205 [00:25<27:12,  1.33it/s]"
     ]
    },
    {
     "name": "stdout",
     "output_type": "stream",
     "text": [
      "TC formation prediction is [[0.62084275]] 1 pos\n",
      "Processing image: /N/project/hurricane-deep-learning/data/ncep_extracted_binary_18x18/EP/00//pos/20070728_12_00_12.9_237.5_2007213N13238.nc\n",
      "1/1 [==============================] - 0s 23ms/step\n"
     ]
    },
    {
     "name": "stderr",
     "output_type": "stream",
     "text": [
      "  2%|█▍                                                                                              | 34/2205 [00:26<27:11,  1.33it/s]"
     ]
    },
    {
     "name": "stdout",
     "output_type": "stream",
     "text": [
      "TC formation prediction is [[0.6079433]] 1 pos\n",
      "Processing image: /N/project/hurricane-deep-learning/data/ncep_extracted_binary_18x18/EP/00//pos/20040702_12_00_16.2_240.8_2004185N16241.nc\n",
      "1/1 [==============================] - 0s 23ms/step\n"
     ]
    },
    {
     "name": "stderr",
     "output_type": "stream",
     "text": [
      "  2%|█▌                                                                                              | 35/2205 [00:27<27:00,  1.34it/s]"
     ]
    },
    {
     "name": "stdout",
     "output_type": "stream",
     "text": [
      "TC formation prediction is [[0.09669869]] 0 neg\n",
      "Processing image: /N/project/hurricane-deep-learning/data/ncep_extracted_binary_18x18/EP/00//pos/20070919_06_00_16.1_233.2_2007262N16233.nc\n",
      "1/1 [==============================] - 0s 24ms/step\n"
     ]
    },
    {
     "name": "stderr",
     "output_type": "stream",
     "text": [
      "  2%|█▌                                                                                              | 36/2205 [00:27<26:58,  1.34it/s]"
     ]
    },
    {
     "name": "stdout",
     "output_type": "stream",
     "text": [
      "TC formation prediction is [[0.61144346]] 1 pos\n",
      "Processing image: /N/project/hurricane-deep-learning/data/ncep_extracted_binary_18x18/EP/00//pos/20151015_00_00_10.2_243.0_2015288N10243.nc\n",
      "1/1 [==============================] - 0s 23ms/step\n"
     ]
    },
    {
     "name": "stderr",
     "output_type": "stream",
     "text": [
      "  2%|█▌                                                                                              | 37/2205 [00:28<27:14,  1.33it/s]"
     ]
    },
    {
     "name": "stdout",
     "output_type": "stream",
     "text": [
      "TC formation prediction is [[0.38445225]] 0 neg\n",
      "Processing image: /N/project/hurricane-deep-learning/data/ncep_extracted_binary_18x18/EP/00//pos/20021113_06_00_15.1_250.1_2002318N15250.nc\n",
      "1/1 [==============================] - 0s 23ms/step\n"
     ]
    },
    {
     "name": "stderr",
     "output_type": "stream",
     "text": [
      "  2%|█▋                                                                                              | 38/2205 [00:29<27:41,  1.30it/s]"
     ]
    },
    {
     "name": "stdout",
     "output_type": "stream",
     "text": [
      "TC formation prediction is [[0.1880103]] 0 neg\n",
      "Processing image: /N/project/hurricane-deep-learning/data/ncep_extracted_binary_18x18/EP/00//pos/20010903_06_00_16.9_251.2_2001248N17251.nc\n",
      "1/1 [==============================] - 0s 24ms/step\n"
     ]
    },
    {
     "name": "stderr",
     "output_type": "stream",
     "text": [
      "  2%|█▋                                                                                              | 39/2205 [00:30<27:28,  1.31it/s]"
     ]
    },
    {
     "name": "stdout",
     "output_type": "stream",
     "text": [
      "TC formation prediction is [[0.00417405]] 0 neg\n",
      "Processing image: /N/project/hurricane-deep-learning/data/ncep_extracted_binary_18x18/EP/00//pos/20031003_06_00_11.7_261.6_2003276N12262.nc\n",
      "1/1 [==============================] - 0s 24ms/step\n"
     ]
    },
    {
     "name": "stderr",
     "output_type": "stream",
     "text": [
      "  2%|█▋                                                                                              | 40/2205 [00:30<27:09,  1.33it/s]"
     ]
    },
    {
     "name": "stdout",
     "output_type": "stream",
     "text": [
      "TC formation prediction is [[0.01791128]] 0 neg\n",
      "Processing image: /N/project/hurricane-deep-learning/data/ncep_extracted_binary_18x18/EP/00//pos/20000829_12_00_13.0_228.6_2000244N13229.nc\n",
      "1/1 [==============================] - 0s 23ms/step\n"
     ]
    },
    {
     "name": "stderr",
     "output_type": "stream",
     "text": [
      "  2%|█▊                                                                                              | 41/2205 [00:31<27:43,  1.30it/s]"
     ]
    },
    {
     "name": "stdout",
     "output_type": "stream",
     "text": [
      "TC formation prediction is [[0.55239075]] 1 pos\n",
      "Processing image: /N/project/hurricane-deep-learning/data/ncep_extracted_binary_18x18/EP/00//pos/20070720_18_00_12.5_255.4_2007203N13255.nc\n",
      "1/1 [==============================] - 0s 22ms/step\n"
     ]
    },
    {
     "name": "stderr",
     "output_type": "stream",
     "text": [
      "  2%|█▊                                                                                              | 42/2205 [00:32<27:32,  1.31it/s]"
     ]
    },
    {
     "name": "stdout",
     "output_type": "stream",
     "text": [
      "TC formation prediction is [[0.22056004]] 0 neg\n",
      "Processing image: /N/project/hurricane-deep-learning/data/ncep_extracted_binary_18x18/EP/00//pos/20060711_12_00_13.5_257.8_2006193N13258.nc\n",
      "1/1 [==============================] - 0s 23ms/step\n"
     ]
    },
    {
     "name": "stderr",
     "output_type": "stream",
     "text": [
      "  2%|█▊                                                                                              | 43/2205 [00:33<27:34,  1.31it/s]"
     ]
    },
    {
     "name": "stdout",
     "output_type": "stream",
     "text": [
      "TC formation prediction is [[0.63500136]] 1 pos\n",
      "Processing image: /N/project/hurricane-deep-learning/data/ncep_extracted_binary_18x18/EP/00//pos/20061025_06_00_16.7_256.1_2006300N17256.nc\n",
      "1/1 [==============================] - 0s 23ms/step\n"
     ]
    },
    {
     "name": "stderr",
     "output_type": "stream",
     "text": [
      "  2%|█▉                                                                                              | 44/2205 [00:33<27:40,  1.30it/s]"
     ]
    },
    {
     "name": "stdout",
     "output_type": "stream",
     "text": [
      "TC formation prediction is [[0.74639374]] 1 pos\n",
      "Processing image: /N/project/hurricane-deep-learning/data/ncep_extracted_binary_18x18/EP/00//pos/20030902_00_00_19.0_248.5_2003247N19249.nc\n",
      "1/1 [==============================] - 0s 23ms/step\n"
     ]
    },
    {
     "name": "stderr",
     "output_type": "stream",
     "text": [
      "  2%|█▉                                                                                              | 45/2205 [00:34<27:43,  1.30it/s]"
     ]
    },
    {
     "name": "stdout",
     "output_type": "stream",
     "text": [
      "TC formation prediction is [[0.12295292]] 0 neg\n",
      "Processing image: /N/project/hurricane-deep-learning/data/ncep_extracted_binary_18x18/EP/00//pos/20070712_18_00_11.2_234.2_2007196N11234.nc\n",
      "1/1 [==============================] - 0s 23ms/step\n"
     ]
    },
    {
     "name": "stderr",
     "output_type": "stream",
     "text": [
      "  2%|██                                                                                              | 46/2205 [00:35<27:21,  1.32it/s]"
     ]
    },
    {
     "name": "stdout",
     "output_type": "stream",
     "text": [
      "TC formation prediction is [[0.9044218]] 1 pos\n",
      "Processing image: /N/project/hurricane-deep-learning/data/ncep_extracted_binary_18x18/EP/00//pos/20041004_18_00_13.8_248.7_2004279N14249.nc\n",
      "1/1 [==============================] - 0s 23ms/step\n"
     ]
    },
    {
     "name": "stderr",
     "output_type": "stream",
     "text": [
      "  2%|██                                                                                              | 47/2205 [00:36<27:24,  1.31it/s]"
     ]
    },
    {
     "name": "stdout",
     "output_type": "stream",
     "text": [
      "TC formation prediction is [[0.6529575]] 1 pos\n",
      "Processing image: /N/project/hurricane-deep-learning/data/ncep_extracted_binary_18x18/EP/00//pos/20190712_06_00_14.1_255.2_2019193N14255.nc\n",
      "1/1 [==============================] - 0s 23ms/step\n"
     ]
    },
    {
     "name": "stderr",
     "output_type": "stream",
     "text": [
      "  2%|██                                                                                              | 48/2205 [00:37<27:20,  1.31it/s]"
     ]
    },
    {
     "name": "stdout",
     "output_type": "stream",
     "text": [
      "TC formation prediction is [[0.69875276]] 1 pos\n",
      "Processing image: /N/project/hurricane-deep-learning/data/ncep_extracted_binary_18x18/EP/00//pos/20100618_06_00_13.0_265.6_2010169N13266.nc\n",
      "1/1 [==============================] - 0s 23ms/step\n"
     ]
    },
    {
     "name": "stderr",
     "output_type": "stream",
     "text": [
      "  2%|██▏                                                                                             | 49/2205 [00:38<31:00,  1.16it/s]"
     ]
    },
    {
     "name": "stdout",
     "output_type": "stream",
     "text": [
      "TC formation prediction is [[0.9745206]] 1 pos\n",
      "Processing image: /N/project/hurricane-deep-learning/data/ncep_extracted_binary_18x18/EP/00//pos/19990813_18_00_10.0_252.0_1999228N10252.nc\n",
      "1/1 [==============================] - 0s 23ms/step\n"
     ]
    },
    {
     "name": "stderr",
     "output_type": "stream",
     "text": [
      "  2%|██▏                                                                                             | 50/2205 [00:38<30:45,  1.17it/s]"
     ]
    },
    {
     "name": "stdout",
     "output_type": "stream",
     "text": [
      "TC formation prediction is [[0.2274076]] 0 neg\n",
      "Processing image: /N/project/hurricane-deep-learning/data/ncep_extracted_binary_18x18/EP/00//pos/20020822_00_00_9.8_202.4_2002237N10202.nc\n",
      "1/1 [==============================] - 0s 22ms/step\n"
     ]
    },
    {
     "name": "stderr",
     "output_type": "stream",
     "text": [
      "  2%|██▏                                                                                             | 51/2205 [00:39<29:26,  1.22it/s]"
     ]
    },
    {
     "name": "stdout",
     "output_type": "stream",
     "text": [
      "TC formation prediction is [[0.04294738]] 0 neg\n",
      "Processing image: /N/project/hurricane-deep-learning/data/ncep_extracted_binary_18x18/EP/00//pos/20060709_18_00_13.2_249.7_2006192N13250.nc\n",
      "1/1 [==============================] - 0s 23ms/step\n"
     ]
    },
    {
     "name": "stderr",
     "output_type": "stream",
     "text": [
      "  2%|██▎                                                                                             | 52/2205 [00:40<28:45,  1.25it/s]"
     ]
    },
    {
     "name": "stdout",
     "output_type": "stream",
     "text": [
      "TC formation prediction is [[0.0038371]] 0 neg\n",
      "Processing image: /N/project/hurricane-deep-learning/data/ncep_extracted_binary_18x18/EP/00//pos/20000904_06_00_15.4_257.8_2000249N15258.nc\n",
      "1/1 [==============================] - 0s 23ms/step\n"
     ]
    },
    {
     "name": "stderr",
     "output_type": "stream",
     "text": [
      "  2%|██▎                                                                                             | 53/2205 [00:41<28:02,  1.28it/s]"
     ]
    },
    {
     "name": "stdout",
     "output_type": "stream",
     "text": [
      "TC formation prediction is [[0.4465714]] 0 neg\n",
      "Processing image: /N/project/hurricane-deep-learning/data/ncep_extracted_binary_18x18/EP/00//pos/20000721_06_00_17.0_249.3_2000203N17249.nc\n",
      "1/1 [==============================] - 0s 22ms/step\n"
     ]
    },
    {
     "name": "stderr",
     "output_type": "stream",
     "text": [
      "  2%|██▎                                                                                             | 54/2205 [00:41<28:10,  1.27it/s]"
     ]
    },
    {
     "name": "stdout",
     "output_type": "stream",
     "text": [
      "TC formation prediction is [[0.00924497]] 0 neg\n",
      "Processing image: /N/project/hurricane-deep-learning/data/ncep_extracted_binary_18x18/EP/00//pos/20050701_18_00_14.9_260.8_2005185N15261.nc\n",
      "1/1 [==============================] - 0s 22ms/step\n"
     ]
    },
    {
     "name": "stderr",
     "output_type": "stream",
     "text": [
      "  2%|██▍                                                                                             | 55/2205 [00:42<27:32,  1.30it/s]"
     ]
    },
    {
     "name": "stdout",
     "output_type": "stream",
     "text": [
      "TC formation prediction is [[0.05060346]] 0 neg\n",
      "Processing image: /N/project/hurricane-deep-learning/data/ncep_extracted_binary_18x18/EP/00//pos/20050817_06_00_13.3_263.4_2005232N13263.nc\n",
      "1/1 [==============================] - 0s 24ms/step\n"
     ]
    },
    {
     "name": "stderr",
     "output_type": "stream",
     "text": [
      "  3%|██▍                                                                                             | 56/2205 [00:43<27:26,  1.31it/s]"
     ]
    },
    {
     "name": "stdout",
     "output_type": "stream",
     "text": [
      "TC formation prediction is [[0.46657324]] 0 neg\n",
      "Processing image: /N/project/hurricane-deep-learning/data/ncep_extracted_binary_18x18/EP/00//pos/20200624_06_00_10.0_228.1_2020176N10228.nc\n",
      "1/1 [==============================] - 0s 23ms/step\n"
     ]
    },
    {
     "name": "stderr",
     "output_type": "stream",
     "text": [
      "  3%|██▍                                                                                             | 57/2205 [00:44<27:35,  1.30it/s]"
     ]
    },
    {
     "name": "stdout",
     "output_type": "stream",
     "text": [
      "TC formation prediction is [[0.45430434]] 0 neg\n",
      "Processing image: /N/project/hurricane-deep-learning/data/ncep_extracted_binary_18x18/EP/00//pos/20060819_12_00_12.0_258.2_2006234N12258.nc\n",
      "1/1 [==============================] - 0s 23ms/step\n"
     ]
    },
    {
     "name": "stderr",
     "output_type": "stream",
     "text": [
      "  3%|██▌                                                                                             | 58/2205 [00:45<27:55,  1.28it/s]"
     ]
    },
    {
     "name": "stdout",
     "output_type": "stream",
     "text": [
      "TC formation prediction is [[0.3016824]] 0 neg\n",
      "Processing image: /N/project/hurricane-deep-learning/data/ncep_extracted_binary_18x18/EP/00//pos/20010904_00_00_16.9_251.2_2001248N17251.nc\n",
      "1/1 [==============================] - 0s 23ms/step\n"
     ]
    },
    {
     "name": "stderr",
     "output_type": "stream",
     "text": [
      "  3%|██▌                                                                                             | 59/2205 [00:45<28:00,  1.28it/s]"
     ]
    },
    {
     "name": "stdout",
     "output_type": "stream",
     "text": [
      "TC formation prediction is [[0.02651628]] 0 neg\n",
      "Processing image: /N/project/hurricane-deep-learning/data/ncep_extracted_binary_18x18/EP/00//pos/19990805_00_00_10.8_264.5_1999217N11265.nc\n",
      "1/1 [==============================] - 0s 22ms/step\n"
     ]
    },
    {
     "name": "stderr",
     "output_type": "stream",
     "text": [
      "  3%|██▌                                                                                             | 60/2205 [00:46<27:33,  1.30it/s]"
     ]
    },
    {
     "name": "stdout",
     "output_type": "stream",
     "text": [
      "TC formation prediction is [[0.11244749]] 0 neg\n",
      "Processing image: /N/project/hurricane-deep-learning/data/ncep_extracted_binary_18x18/EP/00//pos/20020521_18_00_11.2_258.8_2002145N11259.nc\n",
      "1/1 [==============================] - 0s 22ms/step\n"
     ]
    },
    {
     "name": "stderr",
     "output_type": "stream",
     "text": [
      "  3%|██▋                                                                                             | 61/2205 [00:47<27:10,  1.32it/s]"
     ]
    },
    {
     "name": "stdout",
     "output_type": "stream",
     "text": [
      "TC formation prediction is [[0.13110855]] 0 neg\n",
      "Processing image: /N/project/hurricane-deep-learning/data/ncep_extracted_binary_18x18/EP/00//pos/20150917_06_00_11.9_186.6_2015260N12187.nc\n",
      "1/1 [==============================] - 0s 23ms/step\n"
     ]
    },
    {
     "name": "stderr",
     "output_type": "stream",
     "text": [
      "  3%|██▋                                                                                             | 62/2205 [00:48<27:12,  1.31it/s]"
     ]
    },
    {
     "name": "stdout",
     "output_type": "stream",
     "text": [
      "TC formation prediction is [[0.26625732]] 0 neg\n",
      "Processing image: /N/project/hurricane-deep-learning/data/ncep_extracted_binary_18x18/EP/00//pos/20130812_06_00_12.0_220.4_2013224N12220.nc\n",
      "1/1 [==============================] - 0s 22ms/step\n"
     ]
    },
    {
     "name": "stderr",
     "output_type": "stream",
     "text": [
      "  3%|██▋                                                                                             | 63/2205 [00:48<27:41,  1.29it/s]"
     ]
    },
    {
     "name": "stdout",
     "output_type": "stream",
     "text": [
      "TC formation prediction is [[0.04381025]] 0 neg\n",
      "Processing image: /N/project/hurricane-deep-learning/data/ncep_extracted_binary_18x18/EP/00//pos/20050912_18_00_12.3_242.0_2005258N12242.nc\n",
      "1/1 [==============================] - 0s 23ms/step\n"
     ]
    },
    {
     "name": "stderr",
     "output_type": "stream",
     "text": [
      "  3%|██▊                                                                                             | 64/2205 [00:49<27:54,  1.28it/s]"
     ]
    },
    {
     "name": "stdout",
     "output_type": "stream",
     "text": [
      "TC formation prediction is [[0.3339316]] 0 neg\n",
      "Processing image: /N/project/hurricane-deep-learning/data/ncep_extracted_binary_18x18/EP/00//pos/20050824_00_00_16.9_255.3_2005238N17255.nc\n",
      "1/1 [==============================] - 0s 23ms/step\n"
     ]
    },
    {
     "name": "stderr",
     "output_type": "stream",
     "text": [
      "  3%|██▊                                                                                             | 65/2205 [00:50<27:24,  1.30it/s]"
     ]
    },
    {
     "name": "stdout",
     "output_type": "stream",
     "text": [
      "TC formation prediction is [[0.5197796]] 1 pos\n",
      "Processing image: /N/project/hurricane-deep-learning/data/ncep_extracted_binary_18x18/EP/00//pos/20151123_12_00_10.9_259.5_2015328N11260.nc\n",
      "1/1 [==============================] - 0s 24ms/step\n"
     ]
    },
    {
     "name": "stderr",
     "output_type": "stream",
     "text": [
      "  3%|██▊                                                                                             | 66/2205 [00:51<27:25,  1.30it/s]"
     ]
    },
    {
     "name": "stdout",
     "output_type": "stream",
     "text": [
      "TC formation prediction is [[0.16560104]] 0 neg\n",
      "Processing image: /N/project/hurricane-deep-learning/data/ncep_extracted_binary_18x18/EP/00//pos/20061018_12_00_15.7_254.4_2006294N16254.nc\n",
      "1/1 [==============================] - 0s 23ms/step\n"
     ]
    },
    {
     "name": "stderr",
     "output_type": "stream",
     "text": [
      "  3%|██▉                                                                                             | 67/2205 [00:51<27:29,  1.30it/s]"
     ]
    },
    {
     "name": "stdout",
     "output_type": "stream",
     "text": [
      "TC formation prediction is [[0.0543658]] 0 neg\n",
      "Processing image: /N/project/hurricane-deep-learning/data/ncep_extracted_binary_18x18/EP/00//pos/20060815_00_00_10.4_217.5_2006228N10218.nc\n",
      "1/1 [==============================] - 0s 23ms/step\n"
     ]
    },
    {
     "name": "stderr",
     "output_type": "stream",
     "text": [
      "  3%|██▉                                                                                             | 68/2205 [00:52<27:01,  1.32it/s]"
     ]
    },
    {
     "name": "stdout",
     "output_type": "stream",
     "text": [
      "TC formation prediction is [[0.36015934]] 0 neg\n",
      "Processing image: /N/project/hurricane-deep-learning/data/ncep_extracted_binary_18x18/EP/00//pos/20070720_00_00_12.5_255.4_2007203N13255.nc\n",
      "1/1 [==============================] - 0s 22ms/step\n"
     ]
    },
    {
     "name": "stderr",
     "output_type": "stream",
     "text": [
      "  3%|███                                                                                             | 69/2205 [00:53<27:05,  1.31it/s]"
     ]
    },
    {
     "name": "stdout",
     "output_type": "stream",
     "text": [
      "TC formation prediction is [[0.30593935]] 0 neg\n",
      "Processing image: /N/project/hurricane-deep-learning/data/ncep_extracted_binary_18x18/EP/00//pos/20030518_06_00_9.6_257.8_2003140N10258.nc\n",
      "1/1 [==============================] - 0s 23ms/step\n"
     ]
    },
    {
     "name": "stderr",
     "output_type": "stream",
     "text": [
      "  3%|███                                                                                             | 70/2205 [00:54<27:11,  1.31it/s]"
     ]
    },
    {
     "name": "stdout",
     "output_type": "stream",
     "text": [
      "TC formation prediction is [[0.71623796]] 1 pos\n",
      "Processing image: /N/project/hurricane-deep-learning/data/ncep_extracted_binary_18x18/EP/00//pos/20020624_18_00_11.8_238.1_2002179N12238.nc\n",
      "1/1 [==============================] - 0s 23ms/step\n"
     ]
    },
    {
     "name": "stderr",
     "output_type": "stream",
     "text": [
      "  3%|███                                                                                             | 71/2205 [00:54<27:02,  1.31it/s]"
     ]
    },
    {
     "name": "stdout",
     "output_type": "stream",
     "text": [
      "TC formation prediction is [[0.00700829]] 0 neg\n",
      "Processing image: /N/project/hurricane-deep-learning/data/ncep_extracted_binary_18x18/EP/00//pos/20040703_00_00_6.0_203.0_2004186N06203.nc\n",
      "1/1 [==============================] - 0s 25ms/step\n"
     ]
    },
    {
     "name": "stderr",
     "output_type": "stream",
     "text": [
      "  3%|███▏                                                                                            | 72/2205 [00:55<27:49,  1.28it/s]"
     ]
    },
    {
     "name": "stdout",
     "output_type": "stream",
     "text": [
      "TC formation prediction is [[0.8244059]] 1 pos\n",
      "Processing image: /N/project/hurricane-deep-learning/data/ncep_extracted_binary_18x18/EP/00//pos/20050825_12_00_16.9_255.3_2005238N17255.nc\n",
      "1/1 [==============================] - 0s 23ms/step\n"
     ]
    },
    {
     "name": "stderr",
     "output_type": "stream",
     "text": [
      "  3%|███▏                                                                                            | 73/2205 [00:56<27:17,  1.30it/s]"
     ]
    },
    {
     "name": "stdout",
     "output_type": "stream",
     "text": [
      "TC formation prediction is [[0.94917786]] 1 pos\n",
      "Processing image: /N/project/hurricane-deep-learning/data/ncep_extracted_binary_18x18/EP/00//pos/20040823_06_00_16.7_249.8_2004236N17250.nc\n",
      "1/1 [==============================] - 0s 25ms/step\n"
     ]
    },
    {
     "name": "stderr",
     "output_type": "stream",
     "text": [
      "  3%|███▏                                                                                            | 74/2205 [00:57<27:50,  1.28it/s]"
     ]
    },
    {
     "name": "stdout",
     "output_type": "stream",
     "text": [
      "TC formation prediction is [[0.5897359]] 1 pos\n",
      "Processing image: /N/project/hurricane-deep-learning/data/ncep_extracted_binary_18x18/EP/00//pos/20030716_12_00_14.0_254.7_2003199N14255.nc\n",
      "1/1 [==============================] - 0s 22ms/step\n"
     ]
    },
    {
     "name": "stderr",
     "output_type": "stream",
     "text": [
      "  3%|███▎                                                                                            | 75/2205 [00:58<27:59,  1.27it/s]"
     ]
    },
    {
     "name": "stdout",
     "output_type": "stream",
     "text": [
      "TC formation prediction is [[0.5034086]] 1 pos\n",
      "Processing image: /N/project/hurricane-deep-learning/data/ncep_extracted_binary_18x18/EP/00//pos/20000721_12_00_10.0_260.0_2000205N10260.nc\n",
      "1/1 [==============================] - 0s 22ms/step\n"
     ]
    },
    {
     "name": "stderr",
     "output_type": "stream",
     "text": [
      "  3%|███▎                                                                                            | 76/2205 [00:59<28:23,  1.25it/s]"
     ]
    },
    {
     "name": "stdout",
     "output_type": "stream",
     "text": [
      "TC formation prediction is [[0.02464837]] 0 neg\n",
      "Processing image: /N/project/hurricane-deep-learning/data/ncep_extracted_binary_18x18/EP/00//pos/20060922_18_00_10.0_187.1_2006268N10187.nc\n",
      "1/1 [==============================] - 0s 23ms/step\n"
     ]
    },
    {
     "name": "stderr",
     "output_type": "stream",
     "text": [
      "  3%|███▎                                                                                            | 77/2205 [00:59<28:19,  1.25it/s]"
     ]
    },
    {
     "name": "stdout",
     "output_type": "stream",
     "text": [
      "TC formation prediction is [[0.9472671]] 1 pos\n",
      "Processing image: /N/project/hurricane-deep-learning/data/ncep_extracted_binary_18x18/EP/00//pos/19990820_06_00_16.2_251.4_1999234N16251.nc\n",
      "1/1 [==============================] - 0s 23ms/step\n"
     ]
    },
    {
     "name": "stderr",
     "output_type": "stream",
     "text": [
      "  4%|███▍                                                                                            | 78/2205 [01:00<27:52,  1.27it/s]"
     ]
    },
    {
     "name": "stdout",
     "output_type": "stream",
     "text": [
      "TC formation prediction is [[0.12102591]] 0 neg\n",
      "Processing image: /N/project/hurricane-deep-learning/data/ncep_extracted_binary_18x18/EP/00//pos/20061112_00_00_12.3_256.4_2006318N12256.nc\n",
      "1/1 [==============================] - 0s 24ms/step\n"
     ]
    },
    {
     "name": "stderr",
     "output_type": "stream",
     "text": [
      "  4%|███▍                                                                                            | 79/2205 [01:01<27:37,  1.28it/s]"
     ]
    },
    {
     "name": "stdout",
     "output_type": "stream",
     "text": [
      "TC formation prediction is [[0.79192513]] 1 pos\n",
      "Processing image: /N/project/hurricane-deep-learning/data/ncep_extracted_binary_18x18/EP/00//pos/20130802_00_00_12.7_243.2_2013214N13243.nc\n",
      "1/1 [==============================] - 0s 22ms/step\n"
     ]
    },
    {
     "name": "stderr",
     "output_type": "stream",
     "text": [
      "  4%|███▍                                                                                            | 80/2205 [01:02<27:29,  1.29it/s]"
     ]
    },
    {
     "name": "stdout",
     "output_type": "stream",
     "text": [
      "TC formation prediction is [[0.14778534]] 0 neg\n",
      "Processing image: /N/project/hurricane-deep-learning/data/ncep_extracted_binary_18x18/EP/00//pos/20060813_12_00_10.4_217.5_2006228N10218.nc\n",
      "1/1 [==============================] - 0s 24ms/step\n"
     ]
    },
    {
     "name": "stderr",
     "output_type": "stream",
     "text": [
      "  4%|███▌                                                                                            | 81/2205 [01:02<27:24,  1.29it/s]"
     ]
    },
    {
     "name": "stdout",
     "output_type": "stream",
     "text": [
      "TC formation prediction is [[0.5048974]] 1 pos\n",
      "Processing image: /N/project/hurricane-deep-learning/data/ncep_extracted_binary_18x18/EP/00//pos/20020819_12_00_12.8_253.1_2002234N13253.nc\n",
      "1/1 [==============================] - 0s 23ms/step\n"
     ]
    },
    {
     "name": "stderr",
     "output_type": "stream",
     "text": [
      "  4%|███▌                                                                                            | 82/2205 [01:03<27:17,  1.30it/s]"
     ]
    },
    {
     "name": "stdout",
     "output_type": "stream",
     "text": [
      "TC formation prediction is [[0.01223406]] 0 neg\n",
      "Processing image: /N/project/hurricane-deep-learning/data/ncep_extracted_binary_18x18/EP/00//pos/20020903_12_00_18.9_252.8_2002249N19253.nc\n",
      "1/1 [==============================] - 0s 23ms/step\n"
     ]
    },
    {
     "name": "stderr",
     "output_type": "stream",
     "text": [
      "  4%|███▌                                                                                            | 83/2205 [01:04<27:08,  1.30it/s]"
     ]
    },
    {
     "name": "stdout",
     "output_type": "stream",
     "text": [
      "TC formation prediction is [[0.61931795]] 1 pos\n",
      "Processing image: /N/project/hurricane-deep-learning/data/ncep_extracted_binary_18x18/EP/00//pos/20071012_00_00_15.0_251.3_2007288N15251.nc\n",
      "1/1 [==============================] - 0s 23ms/step\n"
     ]
    },
    {
     "name": "stderr",
     "output_type": "stream",
     "text": [
      "  4%|███▋                                                                                            | 84/2205 [01:05<27:24,  1.29it/s]"
     ]
    },
    {
     "name": "stdout",
     "output_type": "stream",
     "text": [
      "TC formation prediction is [[0.11299384]] 0 neg\n",
      "Processing image: /N/project/hurricane-deep-learning/data/ncep_extracted_binary_18x18/EP/00//pos/20011029_06_00_12.1_237.2_2001304N12237.nc\n",
      "1/1 [==============================] - 0s 23ms/step\n"
     ]
    },
    {
     "name": "stderr",
     "output_type": "stream",
     "text": [
      "  4%|███▋                                                                                            | 85/2205 [01:05<27:01,  1.31it/s]"
     ]
    },
    {
     "name": "stdout",
     "output_type": "stream",
     "text": [
      "TC formation prediction is [[0.03738678]] 0 neg\n",
      "Processing image: /N/project/hurricane-deep-learning/data/ncep_extracted_binary_18x18/EP/00//pos/20160910_12_00_12.3_246.9_2016255N12247.nc\n",
      "1/1 [==============================] - 0s 23ms/step\n"
     ]
    },
    {
     "name": "stderr",
     "output_type": "stream",
     "text": [
      "  4%|███▋                                                                                            | 86/2205 [01:06<26:59,  1.31it/s]"
     ]
    },
    {
     "name": "stdout",
     "output_type": "stream",
     "text": [
      "TC formation prediction is [[0.28999192]] 0 neg\n",
      "Processing image: /N/project/hurricane-deep-learning/data/ncep_extracted_binary_18x18/EP/00//pos/20040701_18_00_16.2_240.8_2004185N16241.nc\n",
      "1/1 [==============================] - 0s 23ms/step\n"
     ]
    },
    {
     "name": "stderr",
     "output_type": "stream",
     "text": [
      "  4%|███▊                                                                                            | 87/2205 [01:07<26:54,  1.31it/s]"
     ]
    },
    {
     "name": "stdout",
     "output_type": "stream",
     "text": [
      "TC formation prediction is [[0.5030371]] 1 pos\n",
      "Processing image: /N/project/hurricane-deep-learning/data/ncep_extracted_binary_18x18/EP/00//pos/20011028_00_00_12.1_237.2_2001304N12237.nc\n",
      "1/1 [==============================] - 0s 23ms/step\n"
     ]
    },
    {
     "name": "stderr",
     "output_type": "stream",
     "text": [
      "  4%|███▊                                                                                            | 88/2205 [01:08<26:51,  1.31it/s]"
     ]
    },
    {
     "name": "stdout",
     "output_type": "stream",
     "text": [
      "TC formation prediction is [[0.1634403]] 0 neg\n",
      "Processing image: /N/project/hurricane-deep-learning/data/ncep_extracted_binary_18x18/EP/00//pos/20011001_00_00_11.9_258.0_2001275N12258.nc\n",
      "1/1 [==============================] - 0s 23ms/step\n"
     ]
    },
    {
     "name": "stderr",
     "output_type": "stream",
     "text": [
      "  4%|███▊                                                                                            | 89/2205 [01:09<27:15,  1.29it/s]"
     ]
    },
    {
     "name": "stdout",
     "output_type": "stream",
     "text": [
      "TC formation prediction is [[0.46084133]] 0 neg\n",
      "Processing image: /N/project/hurricane-deep-learning/data/ncep_extracted_binary_18x18/EP/00//pos/20020722_12_00_11.6_263.3_2002204N12263.nc\n",
      "1/1 [==============================] - 0s 23ms/step\n"
     ]
    },
    {
     "name": "stderr",
     "output_type": "stream",
     "text": [
      "  4%|███▉                                                                                            | 90/2205 [01:09<26:46,  1.32it/s]"
     ]
    },
    {
     "name": "stdout",
     "output_type": "stream",
     "text": [
      "TC formation prediction is [[0.73125035]] 1 pos\n",
      "Processing image: /N/project/hurricane-deep-learning/data/ncep_extracted_binary_18x18/EP/00//pos/20010919_12_00_12.6_268.9_2001264N13269.nc\n",
      "1/1 [==============================] - 0s 23ms/step\n"
     ]
    },
    {
     "name": "stderr",
     "output_type": "stream",
     "text": [
      "  4%|███▉                                                                                            | 91/2205 [01:10<26:45,  1.32it/s]"
     ]
    },
    {
     "name": "stdout",
     "output_type": "stream",
     "text": [
      "TC formation prediction is [[0.14493425]] 0 neg\n",
      "Processing image: /N/project/hurricane-deep-learning/data/ncep_extracted_binary_18x18/EP/00//pos/20061113_00_00_12.3_256.4_2006318N12256.nc\n",
      "1/1 [==============================] - 0s 23ms/step\n"
     ]
    },
    {
     "name": "stderr",
     "output_type": "stream",
     "text": [
      "  4%|████                                                                                            | 92/2205 [01:11<26:49,  1.31it/s]"
     ]
    },
    {
     "name": "stdout",
     "output_type": "stream",
     "text": [
      "TC formation prediction is [[0.4645127]] 0 neg\n",
      "Processing image: /N/project/hurricane-deep-learning/data/ncep_extracted_binary_18x18/EP/00//pos/20050806_12_00_14.0_246.2_2005222N14246.nc\n",
      "1/1 [==============================] - 0s 22ms/step\n"
     ]
    },
    {
     "name": "stderr",
     "output_type": "stream",
     "text": [
      "  4%|████                                                                                            | 93/2205 [01:13<45:14,  1.29s/it]"
     ]
    },
    {
     "name": "stdout",
     "output_type": "stream",
     "text": [
      "TC formation prediction is [[0.12784594]] 0 neg\n",
      "Processing image: /N/project/hurricane-deep-learning/data/ncep_extracted_binary_18x18/EP/00//pos/20010930_18_00_11.9_258.0_2001275N12258.nc\n",
      "1/1 [==============================] - 0s 22ms/step\n"
     ]
    },
    {
     "name": "stderr",
     "output_type": "stream",
     "text": [
      "  4%|████                                                                                            | 94/2205 [01:14<39:59,  1.14s/it]"
     ]
    },
    {
     "name": "stdout",
     "output_type": "stream",
     "text": [
      "TC formation prediction is [[0.7489829]] 1 pos\n",
      "Processing image: /N/project/hurricane-deep-learning/data/ncep_extracted_binary_18x18/EP/00//pos/20090920_18_00_12.9_252.4_2009264N13252.nc\n",
      "1/1 [==============================] - 0s 22ms/step\n"
     ]
    },
    {
     "name": "stderr",
     "output_type": "stream",
     "text": [
      "  4%|████▏                                                                                           | 95/2205 [01:15<36:00,  1.02s/it]"
     ]
    },
    {
     "name": "stdout",
     "output_type": "stream",
     "text": [
      "TC formation prediction is [[0.05006707]] 0 neg\n",
      "Processing image: /N/project/hurricane-deep-learning/data/ncep_extracted_binary_18x18/EP/00//pos/20050730_18_00_14.3_224.1_2005215N14224.nc\n",
      "1/1 [==============================] - 0s 22ms/step\n"
     ]
    },
    {
     "name": "stderr",
     "output_type": "stream",
     "text": [
      "  4%|████▏                                                                                           | 96/2205 [01:16<33:10,  1.06it/s]"
     ]
    },
    {
     "name": "stdout",
     "output_type": "stream",
     "text": [
      "TC formation prediction is [[0.60673106]] 1 pos\n",
      "Processing image: /N/project/hurricane-deep-learning/data/ncep_extracted_binary_18x18/EP/00//pos/20050801_18_00_14.3_224.1_2005215N14224.nc\n",
      "1/1 [==============================] - 0s 24ms/step\n"
     ]
    },
    {
     "name": "stderr",
     "output_type": "stream",
     "text": [
      "  4%|████▏                                                                                           | 97/2205 [01:16<31:18,  1.12it/s]"
     ]
    },
    {
     "name": "stdout",
     "output_type": "stream",
     "text": [
      "TC formation prediction is [[0.01536999]] 0 neg\n",
      "Processing image: /N/project/hurricane-deep-learning/data/ncep_extracted_binary_18x18/EP/00//pos/20011008_12_00_14.1_260.8_2001284N14261.nc\n",
      "1/1 [==============================] - 0s 22ms/step\n"
     ]
    },
    {
     "name": "stderr",
     "output_type": "stream",
     "text": [
      "  4%|████▎                                                                                           | 98/2205 [01:17<29:59,  1.17it/s]"
     ]
    },
    {
     "name": "stdout",
     "output_type": "stream",
     "text": [
      "TC formation prediction is [[0.02920892]] 0 neg\n",
      "Processing image: /N/project/hurricane-deep-learning/data/ncep_extracted_binary_18x18/EP/00//pos/20031001_06_00_15.7_251.9_2003275N16252.nc\n",
      "1/1 [==============================] - 0s 22ms/step\n"
     ]
    },
    {
     "name": "stderr",
     "output_type": "stream",
     "text": [
      "  4%|████▎                                                                                           | 99/2205 [01:18<28:53,  1.21it/s]"
     ]
    },
    {
     "name": "stdout",
     "output_type": "stream",
     "text": [
      "TC formation prediction is [[0.65013456]] 1 pos\n",
      "Processing image: /N/project/hurricane-deep-learning/data/ncep_extracted_binary_18x18/EP/00//pos/20070714_12_00_11.2_234.2_2007196N11234.nc\n",
      "1/1 [==============================] - 0s 23ms/step\n"
     ]
    },
    {
     "name": "stderr",
     "output_type": "stream",
     "text": [
      "  5%|████▎                                                                                          | 100/2205 [01:19<28:13,  1.24it/s]"
     ]
    },
    {
     "name": "stdout",
     "output_type": "stream",
     "text": [
      "TC formation prediction is [[0.08116751]] 0 neg\n",
      "Processing image: /N/project/hurricane-deep-learning/data/ncep_extracted_binary_18x18/EP/00//pos/20061006_12_00_14.2_242.8_2006282N14243.nc\n",
      "1/1 [==============================] - 0s 23ms/step\n"
     ]
    },
    {
     "name": "stderr",
     "output_type": "stream",
     "text": [
      "  5%|████▎                                                                                          | 100/2205 [01:19<28:01,  1.25it/s]"
     ]
    },
    {
     "name": "stdout",
     "output_type": "stream",
     "text": [
      "TC formation prediction is [[0.12176501]] 0 neg\n",
      "[0.24709918, 0.7981783, 0.37162212, 0.19795434, 0.21329306, 0.21605699, 0.13714163, 0.03180673, 0.9585772, 0.0721071, 0.32578704, 0.0021354791, 0.27840474, 0.16568904, 0.9680093, 0.81457514, 0.24844635, 0.04257715, 0.102676064, 0.5060585, 0.28121302, 0.32695904, 0.11017788, 0.021293184, 0.5358565, 0.33750996, 0.023540517, 0.040851966, 0.2002999, 0.81443113, 0.65631205, 0.17441033, 0.38049605, 0.19532041, 0.10879867, 0.03154895, 0.61028403, 0.011929599, 0.023867851, 0.07563401, 0.3387692, 0.44970316, 0.057375994, 0.11595703, 0.15098691, 0.0331303, 0.3099943, 0.28141236, 0.11397662, 0.38112235, 0.25583193, 0.90661025, 0.3916065, 0.23567472, 0.94044197, 0.4615788, 0.0044405647, 0.27733365, 0.06447977, 0.12998195, 0.41967142, 0.039680008, 0.017867029, 0.5142906, 0.13300705, 0.004432056, 0.010553979, 0.13179487, 0.27544808, 0.9367078, 0.014637841, 0.41106534, 0.10660183, 0.11604884, 0.16785261, 0.051259153, 0.32754204, 0.0422364, 0.22535256, 0.060075346, 0.68629557, 0.21179013, 0.13109292, 0.114082865, 0.08487013, 0.2648156, 0.11035348, 0.060088195, 0.024510477, 0.015710587, 0.9633545, 0.042024445, 0.32065803, 0.08481284, 0.09303143, 0.0039272807, 0.00095688726, 0.39737475, 0.11676559, 0.66887796, 0.052676886, 0.14895022, 0.23276204, 0.45886904, 0.0442963, 0.5094458, 0.4733002, 0.13724111, 0.020433264, 0.18336724, 0.27164382, 0.8442877, 0.6096113, 0.056793045, 0.100324586, 0.2837889, 0.3838001, 0.39801466, 0.012818197, 0.44777027, 0.27040938, 0.19612789, 0.42665157, 0.8657918, 0.8020622, 0.36939687, 0.9626328, 0.25557762, 0.1858586, 0.37584186, 0.18746017, 0.8537087, 0.79082274, 0.62084275, 0.6079433, 0.09669869, 0.61144346, 0.38445225, 0.1880103, 0.004174054, 0.01791128, 0.55239075, 0.22056004, 0.63500136, 0.74639374, 0.12295292, 0.9044218, 0.6529575, 0.69875276, 0.9745206, 0.2274076, 0.042947378, 0.0038370977, 0.4465714, 0.009244972, 0.05060346, 0.46657324, 0.45430434, 0.3016824, 0.02651628, 0.11244749, 0.13110855, 0.26625732, 0.04381025, 0.3339316, 0.5197796, 0.16560104, 0.0543658, 0.36015934, 0.30593935, 0.71623796, 0.007008287, 0.8244059, 0.94917786, 0.5897359, 0.5034086, 0.024648372, 0.9472671, 0.12102591, 0.79192513, 0.14778534, 0.5048974, 0.012234059, 0.61931795, 0.11299384, 0.037386782, 0.28999192, 0.5030371, 0.1634403, 0.46084133, 0.73125035, 0.14493425, 0.4645127, 0.12784594, 0.7489829, 0.050067075, 0.60673106, 0.015369988, 0.029208915, 0.65013456, 0.08116751, 0.12176501]\n"
     ]
    },
    {
     "name": "stderr",
     "output_type": "stream",
     "text": [
      "\n",
      "  0%|                                                                                                          | 0/447 [00:00<?, ?it/s]"
     ]
    },
    {
     "name": "stdout",
     "output_type": "stream",
     "text": [
      "Processing image: /N/project/hurricane-deep-learning/data/ncep_extracted_binary_18x18/EP/00//neg/20150707_12_00_13.4_258.1.nc\n",
      "1/1 [==============================] - 0s 397ms/step\n"
     ]
    },
    {
     "name": "stderr",
     "output_type": "stream",
     "text": [
      "  0%|▏                                                                                                 | 1/447 [00:01<08:16,  1.11s/it]"
     ]
    },
    {
     "name": "stdout",
     "output_type": "stream",
     "text": [
      "TC formation prediction is [[0.03041]] 0 neg\n",
      "Processing image: /N/project/hurricane-deep-learning/data/ncep_extracted_binary_18x18/EP/00//neg/20180929_12_00_12.0_293.7.nc\n",
      "1/1 [==============================] - 0s 23ms/step\n"
     ]
    },
    {
     "name": "stderr",
     "output_type": "stream",
     "text": [
      "  0%|▍                                                                                                 | 2/447 [00:01<06:49,  1.09it/s]"
     ]
    },
    {
     "name": "stdout",
     "output_type": "stream",
     "text": [
      "TC formation prediction is [[0.02470783]] 0 neg\n",
      "Processing image: /N/project/hurricane-deep-learning/data/ncep_extracted_binary_18x18/EP/00//neg/20140822_00_00_12.3_296.2.nc\n",
      "1/1 [==============================] - 0s 24ms/step\n"
     ]
    },
    {
     "name": "stderr",
     "output_type": "stream",
     "text": [
      "  1%|▋                                                                                                 | 3/447 [00:02<06:13,  1.19it/s]"
     ]
    },
    {
     "name": "stdout",
     "output_type": "stream",
     "text": [
      "TC formation prediction is [[0.00072307]] 0 neg\n",
      "Processing image: /N/project/hurricane-deep-learning/data/ncep_extracted_binary_18x18/EP/00//neg/20120707_06_00_34.3_286.2.nc\n",
      "1/1 [==============================] - 0s 23ms/step\n"
     ]
    },
    {
     "name": "stderr",
     "output_type": "stream",
     "text": [
      "  1%|▉                                                                                                 | 4/447 [00:03<05:51,  1.26it/s]"
     ]
    },
    {
     "name": "stdout",
     "output_type": "stream",
     "text": [
      "TC formation prediction is [[0.01104181]] 0 neg\n",
      "Processing image: /N/project/hurricane-deep-learning/data/ncep_extracted_binary_18x18/EP/00//neg/20191016_00_00_13.8_301.7.nc\n",
      "1/1 [==============================] - 0s 24ms/step\n"
     ]
    },
    {
     "name": "stderr",
     "output_type": "stream",
     "text": [
      "  1%|█                                                                                                 | 5/447 [00:04<05:42,  1.29it/s]"
     ]
    },
    {
     "name": "stdout",
     "output_type": "stream",
     "text": [
      "TC formation prediction is [[0.00296522]] 0 neg\n",
      "Processing image: /N/project/hurricane-deep-learning/data/ncep_extracted_binary_18x18/EP/00//neg/20080806_12_00_12.2_285.1.nc\n",
      "1/1 [==============================] - 0s 24ms/step\n"
     ]
    },
    {
     "name": "stderr",
     "output_type": "stream",
     "text": [
      "  1%|█▎                                                                                                | 6/447 [00:04<05:36,  1.31it/s]"
     ]
    },
    {
     "name": "stdout",
     "output_type": "stream",
     "text": [
      "TC formation prediction is [[0.17038126]] 0 neg\n",
      "Processing image: /N/project/hurricane-deep-learning/data/ncep_extracted_binary_18x18/EP/00//neg/20060828_00_00_12.3_300.4.nc\n",
      "1/1 [==============================] - 0s 24ms/step\n"
     ]
    },
    {
     "name": "stderr",
     "output_type": "stream",
     "text": [
      "  2%|█▌                                                                                                | 7/447 [00:05<05:30,  1.33it/s]"
     ]
    },
    {
     "name": "stdout",
     "output_type": "stream",
     "text": [
      "TC formation prediction is [[0.29974633]] 0 neg\n",
      "Processing image: /N/project/hurricane-deep-learning/data/ncep_extracted_binary_18x18/EP/00//neg/20020717_06_00_9.1_216.7.nc\n",
      "1/1 [==============================] - 0s 23ms/step\n"
     ]
    },
    {
     "name": "stderr",
     "output_type": "stream",
     "text": [
      "  2%|█▊                                                                                                | 8/447 [00:06<05:26,  1.34it/s]"
     ]
    },
    {
     "name": "stdout",
     "output_type": "stream",
     "text": [
      "TC formation prediction is [[0.00637032]] 0 neg\n",
      "Processing image: /N/project/hurricane-deep-learning/data/ncep_extracted_binary_18x18/EP/00//neg/20020627_12_00_11.8_273.1.nc\n",
      "1/1 [==============================] - 0s 24ms/step\n"
     ]
    },
    {
     "name": "stderr",
     "output_type": "stream",
     "text": [
      "  2%|█▉                                                                                                | 9/447 [00:07<05:24,  1.35it/s]"
     ]
    },
    {
     "name": "stdout",
     "output_type": "stream",
     "text": [
      "TC formation prediction is [[0.6630183]] 1 pos\n",
      "Processing image: /N/project/hurricane-deep-learning/data/ncep_extracted_binary_18x18/EP/00//neg/20001002_12_00_15.3_291.9.nc\n",
      "1/1 [==============================] - 0s 23ms/step\n"
     ]
    },
    {
     "name": "stderr",
     "output_type": "stream",
     "text": [
      "  2%|██▏                                                                                              | 10/447 [00:07<05:21,  1.36it/s]"
     ]
    },
    {
     "name": "stdout",
     "output_type": "stream",
     "text": [
      "TC formation prediction is [[0.13677393]] 0 neg\n",
      "Processing image: /N/project/hurricane-deep-learning/data/ncep_extracted_binary_18x18/EP/00//neg/20130730_00_00_11.2_283.4.nc\n",
      "1/1 [==============================] - 0s 23ms/step\n"
     ]
    },
    {
     "name": "stderr",
     "output_type": "stream",
     "text": [
      "  2%|██▍                                                                                              | 11/447 [00:08<05:19,  1.36it/s]"
     ]
    },
    {
     "name": "stdout",
     "output_type": "stream",
     "text": [
      "TC formation prediction is [[0.37543067]] 0 neg\n",
      "Processing image: /N/project/hurricane-deep-learning/data/ncep_extracted_binary_18x18/EP/00//neg/20090703_18_00_13.0_294.6.nc\n",
      "1/1 [==============================] - 0s 23ms/step\n"
     ]
    },
    {
     "name": "stderr",
     "output_type": "stream",
     "text": [
      "  3%|██▌                                                                                              | 12/447 [00:09<05:23,  1.34it/s]"
     ]
    },
    {
     "name": "stdout",
     "output_type": "stream",
     "text": [
      "TC formation prediction is [[0.04319159]] 0 neg\n",
      "Processing image: /N/project/hurricane-deep-learning/data/ncep_extracted_binary_18x18/EP/00//neg/20000804_00_00_12.0_295.0.nc\n",
      "1/1 [==============================] - 0s 23ms/step\n"
     ]
    },
    {
     "name": "stderr",
     "output_type": "stream",
     "text": [
      "  3%|██▊                                                                                              | 13/447 [00:10<05:31,  1.31it/s]"
     ]
    },
    {
     "name": "stdout",
     "output_type": "stream",
     "text": [
      "TC formation prediction is [[0.03660328]] 0 neg\n",
      "Processing image: /N/project/hurricane-deep-learning/data/ncep_extracted_binary_18x18/EP/00//neg/20200816_00_00_18.0_276.8.nc\n",
      "1/1 [==============================] - 0s 23ms/step\n"
     ]
    },
    {
     "name": "stderr",
     "output_type": "stream",
     "text": [
      "  3%|███                                                                                              | 14/447 [00:10<05:31,  1.30it/s]"
     ]
    },
    {
     "name": "stdout",
     "output_type": "stream",
     "text": [
      "TC formation prediction is [[0.02801064]] 0 neg\n",
      "Processing image: /N/project/hurricane-deep-learning/data/ncep_extracted_binary_18x18/EP/00//neg/20080823_12_00_42.9_227.8.nc\n",
      "1/1 [==============================] - 0s 24ms/step\n"
     ]
    },
    {
     "name": "stderr",
     "output_type": "stream",
     "text": [
      "  3%|███▎                                                                                             | 15/447 [00:11<05:27,  1.32it/s]"
     ]
    },
    {
     "name": "stdout",
     "output_type": "stream",
     "text": [
      "TC formation prediction is [[0.05046385]] 0 neg\n",
      "Processing image: /N/project/hurricane-deep-learning/data/ncep_extracted_binary_18x18/EP/00//neg/20100804_12_00_14.9_300.1.nc\n",
      "1/1 [==============================] - 0s 22ms/step\n"
     ]
    },
    {
     "name": "stderr",
     "output_type": "stream",
     "text": [
      "  4%|███▍                                                                                             | 16/447 [00:12<05:24,  1.33it/s]"
     ]
    },
    {
     "name": "stdout",
     "output_type": "stream",
     "text": [
      "TC formation prediction is [[0.05298841]] 0 neg\n",
      "Processing image: /N/project/hurricane-deep-learning/data/ncep_extracted_binary_18x18/EP/00//neg/20200720_00_00_39.4_216.5.nc\n",
      "1/1 [==============================] - 0s 25ms/step\n"
     ]
    },
    {
     "name": "stderr",
     "output_type": "stream",
     "text": [
      "  4%|███▋                                                                                             | 17/447 [00:13<05:22,  1.33it/s]"
     ]
    },
    {
     "name": "stdout",
     "output_type": "stream",
     "text": [
      "TC formation prediction is [[0.05621559]] 0 neg\n",
      "Processing image: /N/project/hurricane-deep-learning/data/ncep_extracted_binary_18x18/EP/00//neg/20170817_12_00_13.2_283.6.nc\n",
      "1/1 [==============================] - 0s 24ms/step\n"
     ]
    },
    {
     "name": "stderr",
     "output_type": "stream",
     "text": [
      "  4%|███▉                                                                                             | 18/447 [00:13<05:19,  1.34it/s]"
     ]
    },
    {
     "name": "stdout",
     "output_type": "stream",
     "text": [
      "TC formation prediction is [[0.0191899]] 0 neg\n",
      "Processing image: /N/project/hurricane-deep-learning/data/ncep_extracted_binary_18x18/EP/00//neg/20021023_18_00_8.7_241.2.nc\n",
      "1/1 [==============================] - 0s 24ms/step\n"
     ]
    },
    {
     "name": "stderr",
     "output_type": "stream",
     "text": [
      "  4%|████                                                                                             | 19/447 [00:14<05:16,  1.35it/s]"
     ]
    },
    {
     "name": "stdout",
     "output_type": "stream",
     "text": [
      "TC formation prediction is [[0.00167358]] 0 neg\n",
      "Processing image: /N/project/hurricane-deep-learning/data/ncep_extracted_binary_18x18/EP/00//neg/20190712_06_00_14.1_290.2.nc\n",
      "1/1 [==============================] - 0s 24ms/step\n"
     ]
    },
    {
     "name": "stderr",
     "output_type": "stream",
     "text": [
      "  4%|████▎                                                                                            | 20/447 [00:15<05:16,  1.35it/s]"
     ]
    },
    {
     "name": "stdout",
     "output_type": "stream",
     "text": [
      "TC formation prediction is [[0.01936879]] 0 neg\n",
      "Processing image: /N/project/hurricane-deep-learning/data/ncep_extracted_binary_18x18/EP/00//neg/20000612_00_00_12.0_291.3.nc\n",
      "1/1 [==============================] - 0s 23ms/step\n"
     ]
    },
    {
     "name": "stderr",
     "output_type": "stream",
     "text": [
      "  5%|████▌                                                                                            | 21/447 [00:16<05:18,  1.34it/s]"
     ]
    },
    {
     "name": "stdout",
     "output_type": "stream",
     "text": [
      "TC formation prediction is [[0.06457155]] 0 neg\n",
      "Processing image: /N/project/hurricane-deep-learning/data/ncep_extracted_binary_18x18/EP/00//neg/20190706_12_00_15.5_280.1.nc\n",
      "1/1 [==============================] - 0s 23ms/step\n"
     ]
    },
    {
     "name": "stderr",
     "output_type": "stream",
     "text": [
      "  5%|████▊                                                                                            | 22/447 [00:16<05:14,  1.35it/s]"
     ]
    },
    {
     "name": "stdout",
     "output_type": "stream",
     "text": [
      "TC formation prediction is [[0.0458536]] 0 neg\n",
      "Processing image: /N/project/hurricane-deep-learning/data/ncep_extracted_binary_18x18/EP/00//neg/20150528_06_00_35.5_225.4.nc\n",
      "1/1 [==============================] - 0s 23ms/step\n"
     ]
    },
    {
     "name": "stderr",
     "output_type": "stream",
     "text": [
      "  5%|████▉                                                                                            | 23/447 [00:17<05:13,  1.35it/s]"
     ]
    },
    {
     "name": "stdout",
     "output_type": "stream",
     "text": [
      "TC formation prediction is [[0.07245268]] 0 neg\n",
      "Processing image: /N/project/hurricane-deep-learning/data/ncep_extracted_binary_18x18/EP/00//neg/20030809_06_00_13.5_283.9.nc\n",
      "1/1 [==============================] - 0s 23ms/step\n"
     ]
    },
    {
     "name": "stderr",
     "output_type": "stream",
     "text": [
      "  5%|█████▏                                                                                           | 24/447 [00:18<05:11,  1.36it/s]"
     ]
    },
    {
     "name": "stdout",
     "output_type": "stream",
     "text": [
      "TC formation prediction is [[0.00846036]] 0 neg\n",
      "Processing image: /N/project/hurricane-deep-learning/data/ncep_extracted_binary_18x18/EP/00//neg/20190802_18_00_12.9_276.6.nc\n",
      "1/1 [==============================] - 0s 27ms/step\n"
     ]
    },
    {
     "name": "stderr",
     "output_type": "stream",
     "text": [
      "  6%|█████▍                                                                                           | 25/447 [00:18<05:12,  1.35it/s]"
     ]
    },
    {
     "name": "stdout",
     "output_type": "stream",
     "text": [
      "TC formation prediction is [[0.0347395]] 0 neg\n",
      "Processing image: /N/project/hurricane-deep-learning/data/ncep_extracted_binary_18x18/EP/00//neg/20060716_18_00_12.3_287.0.nc\n",
      "1/1 [==============================] - 0s 23ms/step\n"
     ]
    },
    {
     "name": "stderr",
     "output_type": "stream",
     "text": [
      "  6%|█████▋                                                                                           | 26/447 [00:19<05:15,  1.33it/s]"
     ]
    },
    {
     "name": "stdout",
     "output_type": "stream",
     "text": [
      "TC formation prediction is [[0.06183629]] 0 neg\n",
      "Processing image: /N/project/hurricane-deep-learning/data/ncep_extracted_binary_18x18/EP/00//neg/20170624_00_00_12.8_298.5.nc\n",
      "1/1 [==============================] - 0s 23ms/step\n"
     ]
    },
    {
     "name": "stderr",
     "output_type": "stream",
     "text": [
      "  6%|█████▊                                                                                           | 27/447 [00:20<05:12,  1.34it/s]"
     ]
    },
    {
     "name": "stdout",
     "output_type": "stream",
     "text": [
      "TC formation prediction is [[0.10390563]] 0 neg\n",
      "Processing image: /N/project/hurricane-deep-learning/data/ncep_extracted_binary_18x18/EP/00//neg/20010525_18_00_13.6_293.9.nc\n",
      "1/1 [==============================] - 0s 24ms/step\n"
     ]
    },
    {
     "name": "stderr",
     "output_type": "stream",
     "text": [
      "  6%|██████                                                                                           | 28/447 [00:21<05:10,  1.35it/s]"
     ]
    },
    {
     "name": "stdout",
     "output_type": "stream",
     "text": [
      "TC formation prediction is [[0.00936581]] 0 neg\n",
      "Processing image: /N/project/hurricane-deep-learning/data/ncep_extracted_binary_18x18/EP/00//neg/20090616_00_00_13.8_291.8.nc\n",
      "1/1 [==============================] - 0s 24ms/step\n"
     ]
    },
    {
     "name": "stderr",
     "output_type": "stream",
     "text": [
      "  6%|██████▎                                                                                          | 29/447 [00:21<05:07,  1.36it/s]"
     ]
    },
    {
     "name": "stdout",
     "output_type": "stream",
     "text": [
      "TC formation prediction is [[0.00504296]] 0 neg\n",
      "Processing image: /N/project/hurricane-deep-learning/data/ncep_extracted_binary_18x18/EP/00//neg/20091014_12_00_7.2_302.2.nc\n",
      "1/1 [==============================] - 0s 22ms/step\n"
     ]
    },
    {
     "name": "stderr",
     "output_type": "stream",
     "text": [
      "  7%|██████▌                                                                                          | 30/447 [00:22<05:05,  1.36it/s]"
     ]
    },
    {
     "name": "stdout",
     "output_type": "stream",
     "text": [
      "TC formation prediction is [[0.15677918]] 0 neg\n",
      "Processing image: /N/project/hurricane-deep-learning/data/ncep_extracted_binary_18x18/EP/00//neg/20130725_00_00_39.6_213.5.nc\n",
      "1/1 [==============================] - 0s 23ms/step\n"
     ]
    },
    {
     "name": "stderr",
     "output_type": "stream",
     "text": [
      "  7%|██████▋                                                                                          | 31/447 [00:23<05:04,  1.37it/s]"
     ]
    },
    {
     "name": "stdout",
     "output_type": "stream",
     "text": [
      "TC formation prediction is [[0.02877804]] 0 neg\n",
      "Processing image: /N/project/hurricane-deep-learning/data/ncep_extracted_binary_18x18/EP/00//neg/20170804_00_00_15.9_289.0.nc\n",
      "1/1 [==============================] - 0s 23ms/step\n"
     ]
    },
    {
     "name": "stderr",
     "output_type": "stream",
     "text": [
      "  7%|██████▉                                                                                          | 32/447 [00:24<05:09,  1.34it/s]"
     ]
    },
    {
     "name": "stdout",
     "output_type": "stream",
     "text": [
      "TC formation prediction is [[0.06404707]] 0 neg\n",
      "Processing image: /N/project/hurricane-deep-learning/data/ncep_extracted_binary_18x18/EP/00//neg/20170531_12_00_13.8_297.1.nc\n",
      "1/1 [==============================] - 0s 23ms/step\n"
     ]
    },
    {
     "name": "stderr",
     "output_type": "stream",
     "text": [
      "  7%|███████▏                                                                                         | 33/447 [00:24<05:07,  1.34it/s]"
     ]
    },
    {
     "name": "stdout",
     "output_type": "stream",
     "text": [
      "TC formation prediction is [[0.01631326]] 0 neg\n",
      "Processing image: /N/project/hurricane-deep-learning/data/ncep_extracted_binary_18x18/EP/00//neg/20071009_00_00_18.8_215.6.nc\n",
      "1/1 [==============================] - 0s 23ms/step\n"
     ]
    },
    {
     "name": "stderr",
     "output_type": "stream",
     "text": [
      "  8%|███████▍                                                                                         | 34/447 [00:25<05:04,  1.36it/s]"
     ]
    },
    {
     "name": "stdout",
     "output_type": "stream",
     "text": [
      "TC formation prediction is [[0.02608414]] 0 neg\n",
      "Processing image: /N/project/hurricane-deep-learning/data/ncep_extracted_binary_18x18/EP/00//neg/20110814_12_00_12.3_268.5.nc\n",
      "1/1 [==============================] - 0s 22ms/step\n"
     ]
    },
    {
     "name": "stderr",
     "output_type": "stream",
     "text": [
      "  8%|███████▌                                                                                         | 35/447 [00:26<05:02,  1.36it/s]"
     ]
    },
    {
     "name": "stdout",
     "output_type": "stream",
     "text": [
      "TC formation prediction is [[0.13764584]] 0 neg\n",
      "Processing image: /N/project/hurricane-deep-learning/data/ncep_extracted_binary_18x18/EP/00//neg/20130820_06_00_13.6_286.8.nc\n",
      "1/1 [==============================] - 0s 23ms/step\n"
     ]
    },
    {
     "name": "stderr",
     "output_type": "stream",
     "text": [
      "  8%|███████▊                                                                                         | 36/447 [00:27<05:00,  1.37it/s]"
     ]
    },
    {
     "name": "stdout",
     "output_type": "stream",
     "text": [
      "TC formation prediction is [[0.00914465]] 0 neg\n",
      "Processing image: /N/project/hurricane-deep-learning/data/ncep_extracted_binary_18x18/EP/00//neg/20090826_18_00_34.4_228.2.nc\n",
      "1/1 [==============================] - 0s 22ms/step\n"
     ]
    },
    {
     "name": "stderr",
     "output_type": "stream",
     "text": [
      "  8%|████████                                                                                         | 37/447 [00:27<05:00,  1.36it/s]"
     ]
    },
    {
     "name": "stdout",
     "output_type": "stream",
     "text": [
      "TC formation prediction is [[0.08668024]] 0 neg\n",
      "Processing image: /N/project/hurricane-deep-learning/data/ncep_extracted_binary_18x18/EP/00//neg/20020826_00_00_14.7_284.6.nc\n",
      "1/1 [==============================] - 0s 23ms/step\n"
     ]
    },
    {
     "name": "stderr",
     "output_type": "stream",
     "text": [
      "  9%|████████▏                                                                                        | 38/447 [00:28<04:59,  1.37it/s]"
     ]
    },
    {
     "name": "stdout",
     "output_type": "stream",
     "text": [
      "TC formation prediction is [[0.03936753]] 0 neg\n",
      "Processing image: /N/project/hurricane-deep-learning/data/ncep_extracted_binary_18x18/EP/00//neg/20170711_18_00_12.2_286.6.nc\n",
      "1/1 [==============================] - 0s 23ms/step\n"
     ]
    },
    {
     "name": "stderr",
     "output_type": "stream",
     "text": [
      "  9%|████████▍                                                                                        | 39/447 [00:29<04:58,  1.36it/s]"
     ]
    },
    {
     "name": "stdout",
     "output_type": "stream",
     "text": [
      "TC formation prediction is [[0.02532806]] 0 neg\n",
      "Processing image: /N/project/hurricane-deep-learning/data/ncep_extracted_binary_18x18/EP/00//neg/20111006_18_00_9.7_303.3.nc\n",
      "1/1 [==============================] - 0s 22ms/step\n"
     ]
    },
    {
     "name": "stderr",
     "output_type": "stream",
     "text": [
      "  9%|████████▋                                                                                        | 40/447 [00:30<04:57,  1.37it/s]"
     ]
    },
    {
     "name": "stdout",
     "output_type": "stream",
     "text": [
      "TC formation prediction is [[0.00393043]] 0 neg\n",
      "Processing image: /N/project/hurricane-deep-learning/data/ncep_extracted_binary_18x18/EP/00//neg/20061021_06_00_15.7_289.4.nc\n",
      "1/1 [==============================] - 0s 23ms/step\n"
     ]
    },
    {
     "name": "stderr",
     "output_type": "stream",
     "text": [
      "  9%|████████▉                                                                                        | 41/447 [00:30<04:57,  1.37it/s]"
     ]
    },
    {
     "name": "stdout",
     "output_type": "stream",
     "text": [
      "TC formation prediction is [[0.42683935]] 0 neg\n",
      "Processing image: /N/project/hurricane-deep-learning/data/ncep_extracted_binary_18x18/EP/00//neg/20020723_06_00_11.6_298.3.nc\n",
      "1/1 [==============================] - 0s 22ms/step\n"
     ]
    },
    {
     "name": "stderr",
     "output_type": "stream",
     "text": [
      "  9%|█████████                                                                                        | 42/447 [00:31<04:55,  1.37it/s]"
     ]
    },
    {
     "name": "stdout",
     "output_type": "stream",
     "text": [
      "TC formation prediction is [[0.04090252]] 0 neg\n",
      "Processing image: /N/project/hurricane-deep-learning/data/ncep_extracted_binary_18x18/EP/00//neg/20090920_18_00_12.9_287.4.nc\n",
      "1/1 [==============================] - 0s 23ms/step\n"
     ]
    },
    {
     "name": "stderr",
     "output_type": "stream",
     "text": [
      " 10%|█████████▎                                                                                       | 43/447 [00:32<04:54,  1.37it/s]"
     ]
    },
    {
     "name": "stdout",
     "output_type": "stream",
     "text": [
      "TC formation prediction is [[0.03635945]] 0 neg\n",
      "Processing image: /N/project/hurricane-deep-learning/data/ncep_extracted_binary_18x18/EP/00//neg/20200825_18_00_15.0_277.5.nc\n",
      "1/1 [==============================] - 0s 23ms/step\n"
     ]
    },
    {
     "name": "stderr",
     "output_type": "stream",
     "text": [
      " 10%|█████████▌                                                                                       | 44/447 [00:32<04:57,  1.36it/s]"
     ]
    },
    {
     "name": "stdout",
     "output_type": "stream",
     "text": [
      "TC formation prediction is [[0.0784803]] 0 neg\n",
      "Processing image: /N/project/hurricane-deep-learning/data/ncep_extracted_binary_18x18/EP/00//neg/20191113_06_00_11.2_283.2.nc\n",
      "1/1 [==============================] - 0s 22ms/step\n"
     ]
    },
    {
     "name": "stderr",
     "output_type": "stream",
     "text": [
      " 10%|█████████▊                                                                                       | 45/447 [00:33<04:55,  1.36it/s]"
     ]
    },
    {
     "name": "stdout",
     "output_type": "stream",
     "text": [
      "TC formation prediction is [[0.12604645]] 0 neg\n",
      "Processing image: /N/project/hurricane-deep-learning/data/ncep_extracted_binary_18x18/EP/00//neg/20110921_06_00_13.4_298.9.nc\n",
      "1/1 [==============================] - 0s 22ms/step\n"
     ]
    },
    {
     "name": "stderr",
     "output_type": "stream",
     "text": [
      " 10%|█████████▉                                                                                       | 46/447 [00:34<04:53,  1.37it/s]"
     ]
    },
    {
     "name": "stdout",
     "output_type": "stream",
     "text": [
      "TC formation prediction is [[0.00129761]] 0 neg\n",
      "Processing image: /N/project/hurricane-deep-learning/data/ncep_extracted_binary_18x18/EP/00//neg/20180609_18_00_12.1_294.5.nc\n",
      "1/1 [==============================] - 0s 23ms/step\n"
     ]
    },
    {
     "name": "stderr",
     "output_type": "stream",
     "text": [
      " 11%|██████████▏                                                                                      | 47/447 [00:35<04:52,  1.37it/s]"
     ]
    },
    {
     "name": "stdout",
     "output_type": "stream",
     "text": [
      "TC formation prediction is [[0.17506732]] 0 neg\n",
      "Processing image: /N/project/hurricane-deep-learning/data/ncep_extracted_binary_18x18/EP/00//neg/20210824_06_00_12.2_300.0.nc\n",
      "1/1 [==============================] - 0s 22ms/step\n"
     ]
    },
    {
     "name": "stderr",
     "output_type": "stream",
     "text": [
      " 11%|██████████▍                                                                                      | 48/447 [00:35<04:56,  1.35it/s]"
     ]
    },
    {
     "name": "stdout",
     "output_type": "stream",
     "text": [
      "TC formation prediction is [[0.00730171]] 0 neg\n",
      "Processing image: /N/project/hurricane-deep-learning/data/ncep_extracted_binary_18x18/EP/00//neg/20190903_06_00_14.6_260.3.nc\n",
      "1/1 [==============================] - 0s 23ms/step\n"
     ]
    },
    {
     "name": "stderr",
     "output_type": "stream",
     "text": [
      " 11%|██████████▋                                                                                      | 49/447 [00:36<04:54,  1.35it/s]"
     ]
    },
    {
     "name": "stdout",
     "output_type": "stream",
     "text": [
      "TC formation prediction is [[0.0231725]] 0 neg\n",
      "Processing image: /N/project/hurricane-deep-learning/data/ncep_extracted_binary_18x18/EP/00//neg/20060815_18_00_12.9_281.5.nc\n",
      "1/1 [==============================] - 0s 23ms/step\n"
     ]
    },
    {
     "name": "stderr",
     "output_type": "stream",
     "text": [
      " 11%|██████████▊                                                                                      | 50/447 [00:37<04:51,  1.36it/s]"
     ]
    },
    {
     "name": "stdout",
     "output_type": "stream",
     "text": [
      "TC formation prediction is [[0.06068128]] 0 neg\n",
      "Processing image: /N/project/hurricane-deep-learning/data/ncep_extracted_binary_18x18/EP/00//neg/20090708_12_00_33.5_229.1.nc\n",
      "1/1 [==============================] - 0s 22ms/step\n"
     ]
    },
    {
     "name": "stderr",
     "output_type": "stream",
     "text": [
      " 11%|███████████                                                                                      | 51/447 [00:38<04:50,  1.36it/s]"
     ]
    },
    {
     "name": "stdout",
     "output_type": "stream",
     "text": [
      "TC formation prediction is [[0.06190916]] 0 neg\n",
      "Processing image: /N/project/hurricane-deep-learning/data/ncep_extracted_binary_18x18/EP/00//neg/20141010_12_00_9.7_266.3.nc\n",
      "1/1 [==============================] - 0s 23ms/step\n"
     ]
    },
    {
     "name": "stderr",
     "output_type": "stream",
     "text": [
      " 12%|███████████▎                                                                                     | 52/447 [00:38<04:48,  1.37it/s]"
     ]
    },
    {
     "name": "stdout",
     "output_type": "stream",
     "text": [
      "TC formation prediction is [[0.01991081]] 0 neg\n",
      "Processing image: /N/project/hurricane-deep-learning/data/ncep_extracted_binary_18x18/EP/00//neg/20140924_00_00_14.5_292.4.nc\n",
      "1/1 [==============================] - 0s 23ms/step\n"
     ]
    },
    {
     "name": "stderr",
     "output_type": "stream",
     "text": [
      " 12%|███████████▌                                                                                     | 53/447 [00:39<04:47,  1.37it/s]"
     ]
    },
    {
     "name": "stdout",
     "output_type": "stream",
     "text": [
      "TC formation prediction is [[0.04907062]] 0 neg\n",
      "Processing image: /N/project/hurricane-deep-learning/data/ncep_extracted_binary_18x18/EP/00//neg/20140722_18_00_10.4_273.6.nc\n",
      "1/1 [==============================] - 0s 23ms/step\n"
     ]
    },
    {
     "name": "stderr",
     "output_type": "stream",
     "text": [
      " 12%|███████████▋                                                                                     | 54/447 [00:40<04:46,  1.37it/s]"
     ]
    },
    {
     "name": "stdout",
     "output_type": "stream",
     "text": [
      "TC formation prediction is [[0.2175003]] 0 neg\n",
      "Processing image: /N/project/hurricane-deep-learning/data/ncep_extracted_binary_18x18/EP/00//neg/20110718_00_00_10.2_306.0.nc\n",
      "1/1 [==============================] - 0s 22ms/step\n"
     ]
    },
    {
     "name": "stderr",
     "output_type": "stream",
     "text": [
      " 12%|███████████▉                                                                                     | 55/447 [00:41<04:49,  1.35it/s]"
     ]
    },
    {
     "name": "stdout",
     "output_type": "stream",
     "text": [
      "TC formation prediction is [[0.00877441]] 0 neg\n",
      "Processing image: /N/project/hurricane-deep-learning/data/ncep_extracted_binary_18x18/EP/00//neg/20070529_18_00_14.2_297.5.nc\n",
      "1/1 [==============================] - 0s 22ms/step\n"
     ]
    },
    {
     "name": "stderr",
     "output_type": "stream",
     "text": [
      " 13%|████████████▏                                                                                    | 56/447 [00:41<04:47,  1.36it/s]"
     ]
    },
    {
     "name": "stdout",
     "output_type": "stream",
     "text": [
      "TC formation prediction is [[0.02036593]] 0 neg\n",
      "Processing image: /N/project/hurricane-deep-learning/data/ncep_extracted_binary_18x18/EP/00//neg/20090728_18_00_10.8_266.2.nc\n",
      "1/1 [==============================] - 0s 24ms/step\n"
     ]
    },
    {
     "name": "stderr",
     "output_type": "stream",
     "text": [
      " 13%|████████████▎                                                                                    | 57/447 [00:42<04:48,  1.35it/s]"
     ]
    },
    {
     "name": "stdout",
     "output_type": "stream",
     "text": [
      "TC formation prediction is [[0.01455149]] 0 neg\n",
      "Processing image: /N/project/hurricane-deep-learning/data/ncep_extracted_binary_18x18/EP/00//neg/20081001_06_00_16.3_279.6.nc\n",
      "1/1 [==============================] - 0s 23ms/step\n"
     ]
    },
    {
     "name": "stderr",
     "output_type": "stream",
     "text": [
      " 13%|████████████▌                                                                                    | 58/447 [00:43<04:47,  1.35it/s]"
     ]
    },
    {
     "name": "stdout",
     "output_type": "stream",
     "text": [
      "TC formation prediction is [[0.01670531]] 0 neg\n",
      "Processing image: /N/project/hurricane-deep-learning/data/ncep_extracted_binary_18x18/EP/00//neg/20080711_18_00_11.1_301.1.nc\n",
      "1/1 [==============================] - 0s 24ms/step\n"
     ]
    },
    {
     "name": "stderr",
     "output_type": "stream",
     "text": [
      " 13%|████████████▊                                                                                    | 59/447 [00:43<04:45,  1.36it/s]"
     ]
    },
    {
     "name": "stdout",
     "output_type": "stream",
     "text": [
      "TC formation prediction is [[0.06248836]] 0 neg\n",
      "Processing image: /N/project/hurricane-deep-learning/data/ncep_extracted_binary_18x18/EP/00//neg/20010620_00_00_11.9_268.5.nc\n",
      "1/1 [==============================] - 0s 24ms/step\n"
     ]
    },
    {
     "name": "stderr",
     "output_type": "stream",
     "text": [
      " 13%|█████████████                                                                                    | 60/447 [00:44<04:45,  1.35it/s]"
     ]
    },
    {
     "name": "stdout",
     "output_type": "stream",
     "text": [
      "TC formation prediction is [[0.03303419]] 0 neg\n",
      "Processing image: /N/project/hurricane-deep-learning/data/ncep_extracted_binary_18x18/EP/00//neg/20210730_12_00_11.9_283.2.nc\n",
      "1/1 [==============================] - 0s 22ms/step\n"
     ]
    },
    {
     "name": "stderr",
     "output_type": "stream",
     "text": [
      " 14%|█████████████▏                                                                                   | 61/447 [00:45<04:45,  1.35it/s]"
     ]
    },
    {
     "name": "stdout",
     "output_type": "stream",
     "text": [
      "TC formation prediction is [[0.09514337]] 0 neg\n",
      "Processing image: /N/project/hurricane-deep-learning/data/ncep_extracted_binary_18x18/EP/00//neg/20191019_12_00_16.9_292.1.nc\n",
      "1/1 [==============================] - 0s 23ms/step\n"
     ]
    },
    {
     "name": "stderr",
     "output_type": "stream",
     "text": [
      " 14%|█████████████▍                                                                                   | 62/447 [00:46<04:44,  1.35it/s]"
     ]
    },
    {
     "name": "stdout",
     "output_type": "stream",
     "text": [
      "TC formation prediction is [[0.02850598]] 0 neg\n",
      "Processing image: /N/project/hurricane-deep-learning/data/ncep_extracted_binary_18x18/EP/00//neg/20000722_12_00_34.7_284.7.nc\n",
      "1/1 [==============================] - 0s 23ms/step\n"
     ]
    },
    {
     "name": "stderr",
     "output_type": "stream",
     "text": [
      " 14%|█████████████▋                                                                                   | 63/447 [00:46<04:43,  1.36it/s]"
     ]
    },
    {
     "name": "stdout",
     "output_type": "stream",
     "text": [
      "TC formation prediction is [[0.00694242]] 0 neg\n",
      "Processing image: /N/project/hurricane-deep-learning/data/ncep_extracted_binary_18x18/EP/00//neg/20091015_12_00_47.3_229.7.nc\n",
      "1/1 [==============================] - 0s 24ms/step\n"
     ]
    },
    {
     "name": "stderr",
     "output_type": "stream",
     "text": [
      " 14%|█████████████▉                                                                                   | 64/447 [00:47<04:42,  1.36it/s]"
     ]
    },
    {
     "name": "stdout",
     "output_type": "stream",
     "text": [
      "TC formation prediction is [[0.02028544]] 0 neg\n",
      "Processing image: /N/project/hurricane-deep-learning/data/ncep_extracted_binary_18x18/EP/00//neg/20081004_00_00_13.5_295.9.nc\n",
      "1/1 [==============================] - 0s 24ms/step\n"
     ]
    },
    {
     "name": "stderr",
     "output_type": "stream",
     "text": [
      " 15%|██████████████                                                                                   | 65/447 [00:48<04:42,  1.35it/s]"
     ]
    },
    {
     "name": "stdout",
     "output_type": "stream",
     "text": [
      "TC formation prediction is [[0.06661558]] 0 neg\n",
      "Processing image: /N/project/hurricane-deep-learning/data/ncep_extracted_binary_18x18/EP/00//neg/20030811_00_00_12.5_258.5.nc\n",
      "1/1 [==============================] - 0s 24ms/step\n"
     ]
    },
    {
     "name": "stderr",
     "output_type": "stream",
     "text": [
      " 15%|██████████████▎                                                                                  | 66/447 [00:49<04:41,  1.35it/s]"
     ]
    },
    {
     "name": "stdout",
     "output_type": "stream",
     "text": [
      "TC formation prediction is [[0.00541799]] 0 neg\n",
      "Processing image: /N/project/hurricane-deep-learning/data/ncep_extracted_binary_18x18/EP/00//neg/20170611_12_00_14.0_300.3.nc\n",
      "1/1 [==============================] - 0s 25ms/step\n"
     ]
    },
    {
     "name": "stderr",
     "output_type": "stream",
     "text": [
      " 15%|██████████████▌                                                                                  | 67/447 [00:49<04:45,  1.33it/s]"
     ]
    },
    {
     "name": "stdout",
     "output_type": "stream",
     "text": [
      "TC formation prediction is [[0.00583482]] 0 neg\n",
      "Processing image: /N/project/hurricane-deep-learning/data/ncep_extracted_binary_18x18/EP/00//neg/19990815_12_00_34.7_227.3.nc\n",
      "1/1 [==============================] - 0s 24ms/step\n"
     ]
    },
    {
     "name": "stderr",
     "output_type": "stream",
     "text": [
      " 15%|██████████████▊                                                                                  | 68/447 [00:50<04:44,  1.33it/s]"
     ]
    },
    {
     "name": "stdout",
     "output_type": "stream",
     "text": [
      "TC formation prediction is [[0.00051527]] 0 neg\n",
      "Processing image: /N/project/hurricane-deep-learning/data/ncep_extracted_binary_18x18/EP/00//neg/20070919_06_00_40.8_208.5.nc\n",
      "1/1 [==============================] - 0s 23ms/step\n"
     ]
    },
    {
     "name": "stderr",
     "output_type": "stream",
     "text": [
      " 15%|██████████████▉                                                                                  | 69/447 [00:51<04:43,  1.33it/s]"
     ]
    },
    {
     "name": "stdout",
     "output_type": "stream",
     "text": [
      "TC formation prediction is [[0.09742968]] 0 neg\n",
      "Processing image: /N/project/hurricane-deep-learning/data/ncep_extracted_binary_18x18/EP/00//neg/20080902_06_00_18.6_285.0.nc\n",
      "1/1 [==============================] - 0s 23ms/step\n"
     ]
    },
    {
     "name": "stderr",
     "output_type": "stream",
     "text": [
      " 16%|███████████████▏                                                                                 | 70/447 [00:52<04:45,  1.32it/s]"
     ]
    },
    {
     "name": "stdout",
     "output_type": "stream",
     "text": [
      "TC formation prediction is [[0.21999474]] 0 neg\n",
      "Processing image: /N/project/hurricane-deep-learning/data/ncep_extracted_binary_18x18/EP/00//neg/20040712_12_00_14.6_289.5.nc\n",
      "1/1 [==============================] - 0s 23ms/step\n"
     ]
    },
    {
     "name": "stderr",
     "output_type": "stream",
     "text": [
      " 16%|███████████████▍                                                                                 | 71/447 [00:52<04:43,  1.33it/s]"
     ]
    },
    {
     "name": "stdout",
     "output_type": "stream",
     "text": [
      "TC formation prediction is [[0.01721408]] 0 neg\n",
      "Processing image: /N/project/hurricane-deep-learning/data/ncep_extracted_binary_18x18/EP/00//neg/20060801_00_00_12.8_291.2.nc\n",
      "1/1 [==============================] - 0s 23ms/step\n"
     ]
    },
    {
     "name": "stderr",
     "output_type": "stream",
     "text": [
      " 16%|███████████████▌                                                                                 | 72/447 [00:53<04:40,  1.34it/s]"
     ]
    },
    {
     "name": "stdout",
     "output_type": "stream",
     "text": [
      "TC formation prediction is [[0.03926149]] 0 neg\n",
      "Processing image: /N/project/hurricane-deep-learning/data/ncep_extracted_binary_18x18/EP/00//neg/20180813_12_00_10.9_280.3.nc\n",
      "1/1 [==============================] - 0s 24ms/step\n"
     ]
    },
    {
     "name": "stderr",
     "output_type": "stream",
     "text": [
      " 16%|███████████████▊                                                                                 | 73/447 [00:54<04:40,  1.33it/s]"
     ]
    },
    {
     "name": "stdout",
     "output_type": "stream",
     "text": [
      "TC formation prediction is [[0.11484854]] 0 neg\n",
      "Processing image: /N/project/hurricane-deep-learning/data/ncep_extracted_binary_18x18/EP/00//neg/20200920_18_00_15.7_287.0.nc\n",
      "1/1 [==============================] - 0s 24ms/step\n"
     ]
    },
    {
     "name": "stderr",
     "output_type": "stream",
     "text": [
      " 17%|████████████████                                                                                 | 74/447 [00:55<04:42,  1.32it/s]"
     ]
    },
    {
     "name": "stdout",
     "output_type": "stream",
     "text": [
      "TC formation prediction is [[0.02333967]] 0 neg\n",
      "Processing image: /N/project/hurricane-deep-learning/data/ncep_extracted_binary_18x18/EP/00//neg/20000719_00_00_11.0_259.0.nc\n",
      "1/1 [==============================] - 0s 22ms/step\n"
     ]
    },
    {
     "name": "stderr",
     "output_type": "stream",
     "text": [
      " 17%|████████████████▎                                                                                | 75/447 [00:56<04:49,  1.28it/s]"
     ]
    },
    {
     "name": "stdout",
     "output_type": "stream",
     "text": [
      "TC formation prediction is [[0.3926098]] 0 neg\n",
      "Processing image: /N/project/hurricane-deep-learning/data/ncep_extracted_binary_18x18/EP/00//neg/20060527_06_00_14.6_293.5.nc\n",
      "1/1 [==============================] - 0s 23ms/step\n"
     ]
    },
    {
     "name": "stderr",
     "output_type": "stream",
     "text": [
      " 17%|████████████████▍                                                                                | 76/447 [00:56<04:44,  1.30it/s]"
     ]
    },
    {
     "name": "stdout",
     "output_type": "stream",
     "text": [
      "TC formation prediction is [[0.00113938]] 0 neg\n",
      "Processing image: /N/project/hurricane-deep-learning/data/ncep_extracted_binary_18x18/EP/00//neg/20050704_00_00_14.9_295.8.nc\n",
      "1/1 [==============================] - 0s 25ms/step\n"
     ]
    },
    {
     "name": "stderr",
     "output_type": "stream",
     "text": [
      " 17%|████████████████▋                                                                                | 77/447 [00:57<04:41,  1.31it/s]"
     ]
    },
    {
     "name": "stdout",
     "output_type": "stream",
     "text": [
      "TC formation prediction is [[0.10442003]] 0 neg\n",
      "Processing image: /N/project/hurricane-deep-learning/data/ncep_extracted_binary_18x18/EP/00//neg/20140812_12_00_15.1_290.0.nc\n",
      "1/1 [==============================] - 0s 23ms/step\n"
     ]
    },
    {
     "name": "stderr",
     "output_type": "stream",
     "text": [
      " 17%|████████████████▉                                                                                | 78/447 [00:58<04:42,  1.31it/s]"
     ]
    },
    {
     "name": "stdout",
     "output_type": "stream",
     "text": [
      "TC formation prediction is [[0.37335482]] 0 neg\n",
      "Processing image: /N/project/hurricane-deep-learning/data/ncep_extracted_binary_18x18/EP/00//neg/20220610_00_00_11.8_301.0.nc\n",
      "1/1 [==============================] - 0s 23ms/step\n"
     ]
    },
    {
     "name": "stderr",
     "output_type": "stream",
     "text": [
      " 18%|█████████████████▏                                                                               | 79/447 [00:59<04:44,  1.30it/s]"
     ]
    },
    {
     "name": "stdout",
     "output_type": "stream",
     "text": [
      "TC formation prediction is [[0.50470763]] 1 pos\n",
      "Processing image: /N/project/hurricane-deep-learning/data/ncep_extracted_binary_18x18/EP/00//neg/20040726_12_00_12.2_282.2.nc\n",
      "1/1 [==============================] - 0s 23ms/step\n"
     ]
    },
    {
     "name": "stderr",
     "output_type": "stream",
     "text": [
      " 18%|█████████████████▎                                                                               | 80/447 [00:59<04:39,  1.31it/s]"
     ]
    },
    {
     "name": "stdout",
     "output_type": "stream",
     "text": [
      "TC formation prediction is [[0.02264745]] 0 neg\n",
      "Processing image: /N/project/hurricane-deep-learning/data/ncep_extracted_binary_18x18/EP/00//neg/20090822_18_00_14.3_286.9.nc\n",
      "1/1 [==============================] - 0s 23ms/step\n"
     ]
    },
    {
     "name": "stderr",
     "output_type": "stream",
     "text": [
      " 18%|█████████████████▌                                                                               | 81/447 [01:00<04:37,  1.32it/s]"
     ]
    },
    {
     "name": "stdout",
     "output_type": "stream",
     "text": [
      "TC formation prediction is [[0.0881602]] 0 neg\n",
      "Processing image: /N/project/hurricane-deep-learning/data/ncep_extracted_binary_18x18/EP/00//neg/20050809_12_00_14.0_281.2.nc\n",
      "1/1 [==============================] - 0s 24ms/step\n"
     ]
    },
    {
     "name": "stderr",
     "output_type": "stream",
     "text": [
      " 18%|█████████████████▊                                                                               | 82/447 [01:01<04:39,  1.31it/s]"
     ]
    },
    {
     "name": "stdout",
     "output_type": "stream",
     "text": [
      "TC formation prediction is [[0.04399525]] 0 neg\n",
      "Processing image: /N/project/hurricane-deep-learning/data/ncep_extracted_binary_18x18/EP/00//neg/20080804_12_00_10.4_258.8.nc\n",
      "1/1 [==============================] - 0s 25ms/step\n"
     ]
    },
    {
     "name": "stderr",
     "output_type": "stream",
     "text": [
      " 19%|██████████████████                                                                               | 83/447 [01:02<04:36,  1.31it/s]"
     ]
    },
    {
     "name": "stdout",
     "output_type": "stream",
     "text": [
      "TC formation prediction is [[0.00729766]] 0 neg\n",
      "Processing image: /N/project/hurricane-deep-learning/data/ncep_extracted_binary_18x18/EP/00//neg/20030617_00_00_15.9_291.8.nc\n",
      "1/1 [==============================] - 0s 24ms/step\n"
     ]
    },
    {
     "name": "stderr",
     "output_type": "stream",
     "text": [
      " 19%|██████████████████▏                                                                              | 84/447 [01:02<04:33,  1.33it/s]"
     ]
    },
    {
     "name": "stdout",
     "output_type": "stream",
     "text": [
      "TC formation prediction is [[0.32149616]] 0 neg\n",
      "Processing image: /N/project/hurricane-deep-learning/data/ncep_extracted_binary_18x18/EP/00//neg/20000828_06_00_14.9_257.6.nc\n",
      "1/1 [==============================] - 0s 23ms/step\n"
     ]
    },
    {
     "name": "stderr",
     "output_type": "stream",
     "text": [
      " 19%|██████████████████▍                                                                              | 85/447 [01:03<04:32,  1.33it/s]"
     ]
    },
    {
     "name": "stdout",
     "output_type": "stream",
     "text": [
      "TC formation prediction is [[0.01597152]] 0 neg\n",
      "Processing image: /N/project/hurricane-deep-learning/data/ncep_extracted_binary_18x18/EP/00//neg/20151118_06_00_12.9_287.9.nc\n",
      "1/1 [==============================] - 0s 23ms/step\n"
     ]
    },
    {
     "name": "stderr",
     "output_type": "stream",
     "text": [
      " 19%|██████████████████▋                                                                              | 86/447 [01:04<04:32,  1.33it/s]"
     ]
    },
    {
     "name": "stdout",
     "output_type": "stream",
     "text": [
      "TC formation prediction is [[0.07080128]] 0 neg\n",
      "Processing image: /N/project/hurricane-deep-learning/data/ncep_extracted_binary_18x18/EP/00//neg/20060830_00_00_16.0_281.0.nc\n",
      "1/1 [==============================] - 0s 23ms/step\n"
     ]
    },
    {
     "name": "stderr",
     "output_type": "stream",
     "text": [
      " 19%|██████████████████▉                                                                              | 87/447 [01:05<04:38,  1.29it/s]"
     ]
    },
    {
     "name": "stdout",
     "output_type": "stream",
     "text": [
      "TC formation prediction is [[0.02444875]] 0 neg\n",
      "Processing image: /N/project/hurricane-deep-learning/data/ncep_extracted_binary_18x18/EP/00//neg/20010713_06_00_15.0_286.6.nc\n",
      "1/1 [==============================] - 0s 23ms/step\n"
     ]
    },
    {
     "name": "stderr",
     "output_type": "stream",
     "text": [
      " 20%|███████████████████                                                                              | 88/447 [01:05<04:39,  1.29it/s]"
     ]
    },
    {
     "name": "stdout",
     "output_type": "stream",
     "text": [
      "TC formation prediction is [[0.03492082]] 0 neg\n",
      "Processing image: /N/project/hurricane-deep-learning/data/ncep_extracted_binary_18x18/EP/00//neg/20170509_18_00_9.3_303.8.nc\n",
      "1/1 [==============================] - 0s 23ms/step\n"
     ]
    },
    {
     "name": "stderr",
     "output_type": "stream",
     "text": [
      " 20%|███████████████████▎                                                                             | 89/447 [01:06<04:35,  1.30it/s]"
     ]
    },
    {
     "name": "stdout",
     "output_type": "stream",
     "text": [
      "TC formation prediction is [[0.05891287]] 0 neg\n",
      "Processing image: /N/project/hurricane-deep-learning/data/ncep_extracted_binary_18x18/EP/00//neg/20030717_18_00_14.0_289.7.nc\n",
      "1/1 [==============================] - 0s 26ms/step\n"
     ]
    },
    {
     "name": "stderr",
     "output_type": "stream",
     "text": [
      " 20%|███████████████████▌                                                                             | 90/447 [01:07<04:37,  1.28it/s]"
     ]
    },
    {
     "name": "stdout",
     "output_type": "stream",
     "text": [
      "TC formation prediction is [[0.00383497]] 0 neg\n",
      "Processing image: /N/project/hurricane-deep-learning/data/ncep_extracted_binary_18x18/EP/00//neg/20070527_00_00_12.8_284.4.nc\n",
      "1/1 [==============================] - 0s 24ms/step\n"
     ]
    },
    {
     "name": "stderr",
     "output_type": "stream",
     "text": [
      " 20%|███████████████████▋                                                                             | 91/447 [01:08<04:34,  1.30it/s]"
     ]
    },
    {
     "name": "stdout",
     "output_type": "stream",
     "text": [
      "TC formation prediction is [[0.03764342]] 0 neg\n",
      "Processing image: /N/project/hurricane-deep-learning/data/ncep_extracted_binary_18x18/EP/00//neg/20181019_00_00_13.0_303.5.nc\n",
      "1/1 [==============================] - 0s 24ms/step\n"
     ]
    },
    {
     "name": "stderr",
     "output_type": "stream",
     "text": [
      " 21%|███████████████████▉                                                                             | 92/447 [01:09<04:34,  1.29it/s]"
     ]
    },
    {
     "name": "stdout",
     "output_type": "stream",
     "text": [
      "TC formation prediction is [[0.09738749]] 0 neg\n",
      "Processing image: /N/project/hurricane-deep-learning/data/ncep_extracted_binary_18x18/EP/00//neg/20061111_00_00_13.1_282.7.nc\n",
      "1/1 [==============================] - 0s 23ms/step\n"
     ]
    },
    {
     "name": "stderr",
     "output_type": "stream",
     "text": [
      " 21%|████████████████████▏                                                                            | 93/447 [01:09<04:30,  1.31it/s]"
     ]
    },
    {
     "name": "stdout",
     "output_type": "stream",
     "text": [
      "TC formation prediction is [[0.09929604]] 0 neg\n",
      "Processing image: /N/project/hurricane-deep-learning/data/ncep_extracted_binary_18x18/EP/00//neg/20070722_00_00_12.5_290.4.nc\n",
      "1/1 [==============================] - 0s 24ms/step\n"
     ]
    },
    {
     "name": "stderr",
     "output_type": "stream",
     "text": [
      " 21%|████████████████████▍                                                                            | 94/447 [01:10<04:27,  1.32it/s]"
     ]
    },
    {
     "name": "stdout",
     "output_type": "stream",
     "text": [
      "TC formation prediction is [[0.03546486]] 0 neg\n",
      "Processing image: /N/project/hurricane-deep-learning/data/ncep_extracted_binary_18x18/EP/00//neg/20050802_18_00_14.3_259.1.nc\n",
      "1/1 [==============================] - 0s 24ms/step\n"
     ]
    },
    {
     "name": "stderr",
     "output_type": "stream",
     "text": [
      " 21%|████████████████████▌                                                                            | 95/447 [01:11<04:24,  1.33it/s]"
     ]
    },
    {
     "name": "stdout",
     "output_type": "stream",
     "text": [
      "TC formation prediction is [[0.0040567]] 0 neg\n",
      "Processing image: /N/project/hurricane-deep-learning/data/ncep_extracted_binary_18x18/EP/00//neg/20150722_12_00_15.9_281.6.nc\n",
      "1/1 [==============================] - 0s 23ms/step\n"
     ]
    },
    {
     "name": "stderr",
     "output_type": "stream",
     "text": [
      " 21%|████████████████████▊                                                                            | 96/447 [01:11<04:21,  1.34it/s]"
     ]
    },
    {
     "name": "stdout",
     "output_type": "stream",
     "text": [
      "TC formation prediction is [[0.00222551]] 0 neg\n",
      "Processing image: /N/project/hurricane-deep-learning/data/ncep_extracted_binary_18x18/EP/00//neg/20180925_06_00_14.4_288.1.nc\n",
      "1/1 [==============================] - 0s 24ms/step\n"
     ]
    },
    {
     "name": "stderr",
     "output_type": "stream",
     "text": [
      " 22%|█████████████████████                                                                            | 97/447 [01:12<04:21,  1.34it/s]"
     ]
    },
    {
     "name": "stdout",
     "output_type": "stream",
     "text": [
      "TC formation prediction is [[0.01975957]] 0 neg\n",
      "Processing image: /N/project/hurricane-deep-learning/data/ncep_extracted_binary_18x18/EP/00//neg/20210906_18_00_17.1_289.2.nc\n",
      "1/1 [==============================] - 0s 24ms/step\n"
     ]
    },
    {
     "name": "stderr",
     "output_type": "stream",
     "text": [
      " 22%|█████████████████████▎                                                                           | 98/447 [01:13<04:21,  1.33it/s]"
     ]
    },
    {
     "name": "stdout",
     "output_type": "stream",
     "text": [
      "TC formation prediction is [[0.04457094]] 0 neg\n",
      "Processing image: /N/project/hurricane-deep-learning/data/ncep_extracted_binary_18x18/EP/00//neg/20061113_18_00_12.3_291.4.nc\n",
      "1/1 [==============================] - 0s 24ms/step\n"
     ]
    },
    {
     "name": "stderr",
     "output_type": "stream",
     "text": [
      " 22%|█████████████████████▍                                                                           | 99/447 [01:14<04:20,  1.34it/s]"
     ]
    },
    {
     "name": "stdout",
     "output_type": "stream",
     "text": [
      "TC formation prediction is [[0.01821345]] 0 neg\n",
      "Processing image: /N/project/hurricane-deep-learning/data/ncep_extracted_binary_18x18/EP/00//neg/20060925_00_00_10.0_222.1.nc\n",
      "1/1 [==============================] - 0s 24ms/step\n"
     ]
    },
    {
     "name": "stderr",
     "output_type": "stream",
     "text": [
      " 22%|█████████████████████▍                                                                          | 100/447 [01:15<04:22,  1.32it/s]"
     ]
    },
    {
     "name": "stdout",
     "output_type": "stream",
     "text": [
      "TC formation prediction is [[0.01304641]] 0 neg\n",
      "Processing image: /N/project/hurricane-deep-learning/data/ncep_extracted_binary_18x18/EP/00//neg/20210806_12_00_15.0_293.1.nc\n",
      "1/1 [==============================] - 0s 24ms/step\n"
     ]
    },
    {
     "name": "stderr",
     "output_type": "stream",
     "text": [
      " 22%|█████████████████████▍                                                                          | 100/447 [01:15<04:23,  1.32it/s]\n"
     ]
    },
    {
     "name": "stdout",
     "output_type": "stream",
     "text": [
      "TC formation prediction is [[0.19344878]] 0 neg\n"
     ]
    },
    {
     "name": "stderr",
     "output_type": "stream",
     "text": [
      "  0%|                                                                                                         | 0/2205 [00:00<?, ?it/s]"
     ]
    },
    {
     "name": "stdout",
     "output_type": "stream",
     "text": [
      "Processing image: /N/project/hurricane-deep-learning/data/ncep_extracted_binary_18x18/EP/00//pos/20000723_00_00_11.1_266.0_2000206N11266.nc\n",
      "1/1 [==============================] - 0s 24ms/step\n"
     ]
    },
    {
     "name": "stderr",
     "output_type": "stream",
     "text": [
      "  0%|                                                                                                 | 1/2205 [00:00<28:12,  1.30it/s]"
     ]
    },
    {
     "name": "stdout",
     "output_type": "stream",
     "text": [
      "TC formation prediction is [[0.1811588]] 0 neg\n",
      "Processing image: /N/project/hurricane-deep-learning/data/ncep_extracted_binary_18x18/EP/00//pos/20030717_18_00_14.0_254.7_2003199N14255.nc\n",
      "1/1 [==============================] - 0s 23ms/step\n"
     ]
    },
    {
     "name": "stderr",
     "output_type": "stream",
     "text": [
      "  0%|                                                                                                 | 2/2205 [00:01<28:14,  1.30it/s]"
     ]
    },
    {
     "name": "stdout",
     "output_type": "stream",
     "text": [
      "TC formation prediction is [[0.02168104]] 0 neg\n",
      "Processing image: /N/project/hurricane-deep-learning/data/ncep_extracted_binary_18x18/EP/00//pos/20180813_12_00_10.9_245.3_2018226N11245.nc\n",
      "1/1 [==============================] - 0s 23ms/step\n"
     ]
    },
    {
     "name": "stderr",
     "output_type": "stream",
     "text": [
      "  0%|▏                                                                                                | 3/2205 [00:02<27:33,  1.33it/s]"
     ]
    },
    {
     "name": "stdout",
     "output_type": "stream",
     "text": [
      "TC formation prediction is [[0.00460183]] 0 neg\n",
      "Processing image: /N/project/hurricane-deep-learning/data/ncep_extracted_binary_18x18/EP/00//pos/20001031_18_00_10.3_270.2_2000309N10270.nc\n",
      "1/1 [==============================] - 0s 23ms/step\n"
     ]
    },
    {
     "name": "stderr",
     "output_type": "stream",
     "text": [
      "  0%|▏                                                                                                | 4/2205 [00:02<27:10,  1.35it/s]"
     ]
    },
    {
     "name": "stdout",
     "output_type": "stream",
     "text": [
      "TC formation prediction is [[0.00344617]] 0 neg\n",
      "Processing image: /N/project/hurricane-deep-learning/data/ncep_extracted_binary_18x18/EP/00//pos/20050823_18_00_16.9_255.3_2005238N17255.nc\n",
      "1/1 [==============================] - 0s 23ms/step\n"
     ]
    },
    {
     "name": "stderr",
     "output_type": "stream",
     "text": [
      "  0%|▏                                                                                                | 5/2205 [00:03<27:02,  1.36it/s]"
     ]
    },
    {
     "name": "stdout",
     "output_type": "stream",
     "text": [
      "TC formation prediction is [[0.07378683]] 0 neg\n",
      "Processing image: /N/project/hurricane-deep-learning/data/ncep_extracted_binary_18x18/EP/00//pos/20170707_12_00_11.2_250.0_2017189N11250.nc\n",
      "1/1 [==============================] - 0s 25ms/step\n"
     ]
    },
    {
     "name": "stderr",
     "output_type": "stream",
     "text": [
      "  0%|▎                                                                                                | 6/2205 [00:04<27:38,  1.33it/s]"
     ]
    },
    {
     "name": "stdout",
     "output_type": "stream",
     "text": [
      "TC formation prediction is [[0.01188788]] 0 neg\n",
      "Processing image: /N/project/hurricane-deep-learning/data/ncep_extracted_binary_18x18/EP/00//pos/20010930_12_00_13.7_239.7_2001276N14240.nc\n",
      "1/1 [==============================] - 0s 23ms/step\n"
     ]
    },
    {
     "name": "stderr",
     "output_type": "stream",
     "text": [
      "  0%|▎                                                                                                | 7/2205 [00:05<27:22,  1.34it/s]"
     ]
    },
    {
     "name": "stdout",
     "output_type": "stream",
     "text": [
      "TC formation prediction is [[0.00514042]] 0 neg\n",
      "Processing image: /N/project/hurricane-deep-learning/data/ncep_extracted_binary_18x18/EP/00//pos/20030806_06_00_16.0_244.3_2003219N16244.nc\n",
      "1/1 [==============================] - 0s 23ms/step\n"
     ]
    },
    {
     "name": "stderr",
     "output_type": "stream",
     "text": [
      "  0%|▎                                                                                                | 8/2205 [00:06<27:35,  1.33it/s]"
     ]
    },
    {
     "name": "stdout",
     "output_type": "stream",
     "text": [
      "TC formation prediction is [[0.04106339]] 0 neg\n",
      "Processing image: /N/project/hurricane-deep-learning/data/ncep_extracted_binary_18x18/EP/00//pos/20060531_12_00_15.7_257.0_2006155N16257.nc\n",
      "1/1 [==============================] - 0s 23ms/step\n"
     ]
    },
    {
     "name": "stderr",
     "output_type": "stream",
     "text": [
      "  0%|▍                                                                                                | 9/2205 [00:06<27:49,  1.32it/s]"
     ]
    },
    {
     "name": "stdout",
     "output_type": "stream",
     "text": [
      "TC formation prediction is [[0.01048267]] 0 neg\n",
      "Processing image: /N/project/hurricane-deep-learning/data/ncep_extracted_binary_18x18/EP/00//pos/20040702_12_00_6.0_203.0_2004186N06203.nc\n",
      "1/1 [==============================] - 0s 24ms/step\n"
     ]
    },
    {
     "name": "stderr",
     "output_type": "stream",
     "text": [
      "  0%|▍                                                                                               | 10/2205 [00:07<28:19,  1.29it/s]"
     ]
    },
    {
     "name": "stdout",
     "output_type": "stream",
     "text": [
      "TC formation prediction is [[0.00617302]] 0 neg\n",
      "Processing image: /N/project/hurricane-deep-learning/data/ncep_extracted_binary_18x18/EP/00//pos/20061111_00_00_12.3_256.4_2006318N12256.nc\n",
      "1/1 [==============================] - 0s 23ms/step\n"
     ]
    },
    {
     "name": "stderr",
     "output_type": "stream",
     "text": [
      "  0%|▍                                                                                               | 11/2205 [00:08<28:23,  1.29it/s]"
     ]
    },
    {
     "name": "stdout",
     "output_type": "stream",
     "text": [
      "TC formation prediction is [[0.0745706]] 0 neg\n",
      "Processing image: /N/project/hurricane-deep-learning/data/ncep_extracted_binary_18x18/EP/00//pos/20000519_12_00_12.0_262.2_2000142N12262.nc\n",
      "1/1 [==============================] - 0s 24ms/step\n"
     ]
    },
    {
     "name": "stderr",
     "output_type": "stream",
     "text": [
      "  1%|▌                                                                                               | 12/2205 [00:09<28:17,  1.29it/s]"
     ]
    },
    {
     "name": "stdout",
     "output_type": "stream",
     "text": [
      "TC formation prediction is [[0.03479744]] 0 neg\n",
      "Processing image: /N/project/hurricane-deep-learning/data/ncep_extracted_binary_18x18/EP/00//pos/20030928_18_00_15.7_251.9_2003275N16252.nc\n",
      "1/1 [==============================] - 0s 23ms/step\n"
     ]
    },
    {
     "name": "stderr",
     "output_type": "stream",
     "text": [
      "  1%|▌                                                                                               | 13/2205 [00:09<27:49,  1.31it/s]"
     ]
    },
    {
     "name": "stdout",
     "output_type": "stream",
     "text": [
      "TC formation prediction is [[0.03223475]] 0 neg\n",
      "Processing image: /N/project/hurricane-deep-learning/data/ncep_extracted_binary_18x18/EP/00//pos/20061105_06_00_12.7_256.3_2006312N13256.nc\n",
      "1/1 [==============================] - 0s 23ms/step\n"
     ]
    },
    {
     "name": "stderr",
     "output_type": "stream",
     "text": [
      "  1%|▌                                                                                               | 14/2205 [00:10<27:44,  1.32it/s]"
     ]
    },
    {
     "name": "stdout",
     "output_type": "stream",
     "text": [
      "TC formation prediction is [[0.09188842]] 0 neg\n",
      "Processing image: /N/project/hurricane-deep-learning/data/ncep_extracted_binary_18x18/EP/00//pos/20050917_12_00_12.5_245.1_2005261N13245.nc\n",
      "1/1 [==============================] - 0s 24ms/step\n"
     ]
    },
    {
     "name": "stderr",
     "output_type": "stream",
     "text": [
      "  1%|▋                                                                                               | 15/2205 [00:11<27:23,  1.33it/s]"
     ]
    },
    {
     "name": "stdout",
     "output_type": "stream",
     "text": [
      "TC formation prediction is [[0.0704276]] 0 neg\n",
      "Processing image: /N/project/hurricane-deep-learning/data/ncep_extracted_binary_18x18/EP/00//pos/20020820_00_00_12.8_253.1_2002234N13253.nc\n",
      "1/1 [==============================] - 0s 24ms/step\n"
     ]
    },
    {
     "name": "stderr",
     "output_type": "stream",
     "text": [
      "  1%|▋                                                                                               | 16/2205 [00:12<27:07,  1.35it/s]"
     ]
    },
    {
     "name": "stdout",
     "output_type": "stream",
     "text": [
      "TC formation prediction is [[0.00753048]] 0 neg\n",
      "Processing image: /N/project/hurricane-deep-learning/data/ncep_extracted_binary_18x18/EP/00//pos/19990815_00_00_10.0_252.0_1999228N10252.nc\n",
      "1/1 [==============================] - 0s 24ms/step\n"
     ]
    },
    {
     "name": "stderr",
     "output_type": "stream",
     "text": [
      "  1%|▋                                                                                               | 17/2205 [00:12<27:48,  1.31it/s]"
     ]
    },
    {
     "name": "stdout",
     "output_type": "stream",
     "text": [
      "TC formation prediction is [[0.04752864]] 0 neg\n",
      "Processing image: /N/project/hurricane-deep-learning/data/ncep_extracted_binary_18x18/EP/00//pos/20010820_06_00_17.1_224.6_2001235N17225.nc\n",
      "1/1 [==============================] - 0s 24ms/step\n"
     ]
    },
    {
     "name": "stderr",
     "output_type": "stream",
     "text": [
      "  1%|▊                                                                                               | 18/2205 [00:13<27:31,  1.32it/s]"
     ]
    },
    {
     "name": "stdout",
     "output_type": "stream",
     "text": [
      "TC formation prediction is [[0.03478621]] 0 neg\n",
      "Processing image: /N/project/hurricane-deep-learning/data/ncep_extracted_binary_18x18/EP/00//pos/20180614_18_00_14.9_260.0_2018166N15260.nc\n",
      "1/1 [==============================] - 0s 23ms/step\n"
     ]
    },
    {
     "name": "stderr",
     "output_type": "stream",
     "text": [
      "  1%|▊                                                                                               | 19/2205 [00:14<27:34,  1.32it/s]"
     ]
    },
    {
     "name": "stdout",
     "output_type": "stream",
     "text": [
      "TC formation prediction is [[0.05598364]] 0 neg\n",
      "Processing image: /N/project/hurricane-deep-learning/data/ncep_extracted_binary_18x18/EP/00//pos/20050819_18_00_13.3_263.4_2005232N13263.nc\n",
      "1/1 [==============================] - 0s 23ms/step\n"
     ]
    },
    {
     "name": "stderr",
     "output_type": "stream",
     "text": [
      "  1%|▊                                                                                               | 20/2205 [00:15<27:15,  1.34it/s]"
     ]
    },
    {
     "name": "stdout",
     "output_type": "stream",
     "text": [
      "TC formation prediction is [[0.20053361]] 0 neg\n",
      "Processing image: /N/project/hurricane-deep-learning/data/ncep_extracted_binary_18x18/EP/00//pos/20070917_06_00_12.7_253.7_2007261N13254.nc\n",
      "1/1 [==============================] - 0s 23ms/step\n"
     ]
    },
    {
     "name": "stderr",
     "output_type": "stream",
     "text": [
      "  1%|▉                                                                                               | 21/2205 [00:15<27:06,  1.34it/s]"
     ]
    },
    {
     "name": "stdout",
     "output_type": "stream",
     "text": [
      "TC formation prediction is [[0.66987574]] 1 pos\n",
      "Processing image: /N/project/hurricane-deep-learning/data/ncep_extracted_binary_18x18/EP/00//pos/20140822_00_00_12.3_261.2_2014234N12261.nc\n",
      "1/1 [==============================] - 0s 25ms/step\n"
     ]
    },
    {
     "name": "stderr",
     "output_type": "stream",
     "text": [
      "  1%|▉                                                                                               | 22/2205 [00:16<27:07,  1.34it/s]"
     ]
    },
    {
     "name": "stdout",
     "output_type": "stream",
     "text": [
      "TC formation prediction is [[0.04507724]] 0 neg\n",
      "Processing image: /N/project/hurricane-deep-learning/data/ncep_extracted_binary_18x18/EP/00//pos/20060925_00_00_10.0_187.1_2006268N10187.nc\n",
      "1/1 [==============================] - 0s 23ms/step\n"
     ]
    },
    {
     "name": "stderr",
     "output_type": "stream",
     "text": [
      "  1%|█                                                                                               | 23/2205 [00:17<27:22,  1.33it/s]"
     ]
    },
    {
     "name": "stdout",
     "output_type": "stream",
     "text": [
      "TC formation prediction is [[0.05000282]] 0 neg\n",
      "Processing image: /N/project/hurricane-deep-learning/data/ncep_extracted_binary_18x18/EP/00//pos/20150825_12_00_9.7_255.1_2015238N10255.nc\n",
      "1/1 [==============================] - 0s 23ms/step\n"
     ]
    },
    {
     "name": "stderr",
     "output_type": "stream",
     "text": [
      "  1%|█                                                                                               | 24/2205 [00:18<27:14,  1.33it/s]"
     ]
    },
    {
     "name": "stdout",
     "output_type": "stream",
     "text": [
      "TC formation prediction is [[0.02956102]] 0 neg\n",
      "Processing image: /N/project/hurricane-deep-learning/data/ncep_extracted_binary_18x18/EP/00//pos/20050717_18_00_14.8_256.3_2005199N15256.nc\n",
      "1/1 [==============================] - 0s 22ms/step\n"
     ]
    },
    {
     "name": "stderr",
     "output_type": "stream",
     "text": [
      "  1%|█                                                                                               | 25/2205 [00:18<27:00,  1.35it/s]"
     ]
    },
    {
     "name": "stdout",
     "output_type": "stream",
     "text": [
      "TC formation prediction is [[0.0302948]] 0 neg\n",
      "Processing image: /N/project/hurricane-deep-learning/data/ncep_extracted_binary_18x18/EP/00//pos/20210617_18_00_14.0_260.3_2021169N14260.nc\n",
      "1/1 [==============================] - 0s 24ms/step\n"
     ]
    },
    {
     "name": "stderr",
     "output_type": "stream",
     "text": [
      "  1%|█▏                                                                                              | 26/2205 [00:19<27:13,  1.33it/s]"
     ]
    },
    {
     "name": "stdout",
     "output_type": "stream",
     "text": [
      "TC formation prediction is [[0.20198686]] 0 neg\n",
      "Processing image: /N/project/hurricane-deep-learning/data/ncep_extracted_binary_18x18/EP/00//pos/20070729_06_00_12.9_237.5_2007213N13238.nc\n",
      "1/1 [==============================] - 0s 23ms/step\n"
     ]
    },
    {
     "name": "stderr",
     "output_type": "stream",
     "text": [
      "  1%|█▏                                                                                              | 27/2205 [00:20<27:02,  1.34it/s]"
     ]
    },
    {
     "name": "stdout",
     "output_type": "stream",
     "text": [
      "TC formation prediction is [[0.2817868]] 0 neg\n",
      "Processing image: /N/project/hurricane-deep-learning/data/ncep_extracted_binary_18x18/EP/00//pos/20010922_12_00_9.7_216.5_2001266N10217.nc\n",
      "1/1 [==============================] - 0s 24ms/step\n"
     ]
    },
    {
     "name": "stderr",
     "output_type": "stream",
     "text": [
      "  1%|█▏                                                                                              | 28/2205 [00:21<26:53,  1.35it/s]"
     ]
    },
    {
     "name": "stdout",
     "output_type": "stream",
     "text": [
      "TC formation prediction is [[0.00595864]] 0 neg\n",
      "Processing image: /N/project/hurricane-deep-learning/data/ncep_extracted_binary_18x18/EP/00//pos/20050624_00_00_12.7_262.8_2005177N13263.nc\n",
      "1/1 [==============================] - 0s 23ms/step\n"
     ]
    },
    {
     "name": "stderr",
     "output_type": "stream",
     "text": [
      "  1%|█▎                                                                                              | 29/2205 [00:21<26:45,  1.36it/s]"
     ]
    },
    {
     "name": "stdout",
     "output_type": "stream",
     "text": [
      "TC formation prediction is [[0.16412811]] 0 neg\n",
      "Processing image: /N/project/hurricane-deep-learning/data/ncep_extracted_binary_18x18/EP/00//pos/20111005_12_00_9.7_257.2_2011279N10257.nc\n",
      "1/1 [==============================] - 0s 23ms/step\n"
     ]
    },
    {
     "name": "stderr",
     "output_type": "stream",
     "text": [
      "  1%|█▎                                                                                              | 30/2205 [00:22<26:44,  1.36it/s]"
     ]
    },
    {
     "name": "stdout",
     "output_type": "stream",
     "text": [
      "TC formation prediction is [[0.01843702]] 0 neg\n",
      "Processing image: /N/project/hurricane-deep-learning/data/ncep_extracted_binary_18x18/EP/00//pos/20120915_12_00_13.2_237.2_2012260N13237.nc\n",
      "1/1 [==============================] - 0s 23ms/step\n"
     ]
    },
    {
     "name": "stderr",
     "output_type": "stream",
     "text": [
      "  1%|█▎                                                                                              | 31/2205 [00:23<26:41,  1.36it/s]"
     ]
    },
    {
     "name": "stdout",
     "output_type": "stream",
     "text": [
      "TC formation prediction is [[0.08977227]] 0 neg\n",
      "Processing image: /N/project/hurricane-deep-learning/data/ncep_extracted_binary_18x18/EP/00//pos/20000919_12_00_16.8_256.6_2000264N17257.nc\n",
      "1/1 [==============================] - 0s 23ms/step\n"
     ]
    },
    {
     "name": "stderr",
     "output_type": "stream",
     "text": [
      "  1%|█▍                                                                                              | 32/2205 [00:24<26:39,  1.36it/s]"
     ]
    },
    {
     "name": "stdout",
     "output_type": "stream",
     "text": [
      "TC formation prediction is [[0.00579673]] 0 neg\n",
      "Processing image: /N/project/hurricane-deep-learning/data/ncep_extracted_binary_18x18/EP/00//pos/20010903_12_00_15.4_237.4_2001247N15237.nc\n",
      "1/1 [==============================] - 0s 23ms/step\n"
     ]
    },
    {
     "name": "stderr",
     "output_type": "stream",
     "text": [
      "  1%|█▍                                                                                              | 33/2205 [00:24<26:32,  1.36it/s]"
     ]
    },
    {
     "name": "stdout",
     "output_type": "stream",
     "text": [
      "TC formation prediction is [[0.0166999]] 0 neg\n",
      "Processing image: /N/project/hurricane-deep-learning/data/ncep_extracted_binary_18x18/EP/00//pos/20070728_12_00_12.9_237.5_2007213N13238.nc\n",
      "1/1 [==============================] - 0s 22ms/step\n"
     ]
    },
    {
     "name": "stderr",
     "output_type": "stream",
     "text": [
      "  2%|█▍                                                                                              | 34/2205 [00:25<26:27,  1.37it/s]"
     ]
    },
    {
     "name": "stdout",
     "output_type": "stream",
     "text": [
      "TC formation prediction is [[0.40398076]] 0 neg\n",
      "Processing image: /N/project/hurricane-deep-learning/data/ncep_extracted_binary_18x18/EP/00//pos/20040702_12_00_16.2_240.8_2004185N16241.nc\n",
      "1/1 [==============================] - 0s 22ms/step\n"
     ]
    },
    {
     "name": "stderr",
     "output_type": "stream",
     "text": [
      "  2%|█▌                                                                                              | 35/2205 [00:26<26:29,  1.37it/s]"
     ]
    },
    {
     "name": "stdout",
     "output_type": "stream",
     "text": [
      "TC formation prediction is [[0.03711202]] 0 neg\n",
      "Processing image: /N/project/hurricane-deep-learning/data/ncep_extracted_binary_18x18/EP/00//pos/20070919_06_00_16.1_233.2_2007262N16233.nc\n",
      "1/1 [==============================] - 0s 23ms/step\n"
     ]
    },
    {
     "name": "stderr",
     "output_type": "stream",
     "text": [
      "  2%|█▌                                                                                              | 36/2205 [00:26<26:42,  1.35it/s]"
     ]
    },
    {
     "name": "stdout",
     "output_type": "stream",
     "text": [
      "TC formation prediction is [[0.02057086]] 0 neg\n",
      "Processing image: /N/project/hurricane-deep-learning/data/ncep_extracted_binary_18x18/EP/00//pos/20151015_00_00_10.2_243.0_2015288N10243.nc\n",
      "1/1 [==============================] - 0s 22ms/step\n"
     ]
    },
    {
     "name": "stderr",
     "output_type": "stream",
     "text": [
      "  2%|█▌                                                                                              | 37/2205 [00:27<26:59,  1.34it/s]"
     ]
    },
    {
     "name": "stdout",
     "output_type": "stream",
     "text": [
      "TC formation prediction is [[0.00468903]] 0 neg\n",
      "Processing image: /N/project/hurricane-deep-learning/data/ncep_extracted_binary_18x18/EP/00//pos/20021113_06_00_15.1_250.1_2002318N15250.nc\n",
      "1/1 [==============================] - 0s 23ms/step\n"
     ]
    },
    {
     "name": "stderr",
     "output_type": "stream",
     "text": [
      "  2%|█▋                                                                                              | 38/2205 [00:28<26:46,  1.35it/s]"
     ]
    },
    {
     "name": "stdout",
     "output_type": "stream",
     "text": [
      "TC formation prediction is [[0.26830208]] 0 neg\n",
      "Processing image: /N/project/hurricane-deep-learning/data/ncep_extracted_binary_18x18/EP/00//pos/20010903_06_00_16.9_251.2_2001248N17251.nc\n",
      "1/1 [==============================] - 0s 23ms/step\n"
     ]
    },
    {
     "name": "stderr",
     "output_type": "stream",
     "text": [
      "  2%|█▋                                                                                              | 39/2205 [00:29<26:48,  1.35it/s]"
     ]
    },
    {
     "name": "stdout",
     "output_type": "stream",
     "text": [
      "TC formation prediction is [[0.02642078]] 0 neg\n",
      "Processing image: /N/project/hurricane-deep-learning/data/ncep_extracted_binary_18x18/EP/00//pos/20031003_06_00_11.7_261.6_2003276N12262.nc\n",
      "1/1 [==============================] - 0s 23ms/step\n"
     ]
    },
    {
     "name": "stderr",
     "output_type": "stream",
     "text": [
      "  2%|█▋                                                                                              | 40/2205 [00:29<26:34,  1.36it/s]"
     ]
    },
    {
     "name": "stdout",
     "output_type": "stream",
     "text": [
      "TC formation prediction is [[0.00214318]] 0 neg\n",
      "Processing image: /N/project/hurricane-deep-learning/data/ncep_extracted_binary_18x18/EP/00//pos/20000829_12_00_13.0_228.6_2000244N13229.nc\n",
      "1/1 [==============================] - 0s 23ms/step\n"
     ]
    },
    {
     "name": "stderr",
     "output_type": "stream",
     "text": [
      "  2%|█▊                                                                                              | 41/2205 [00:30<26:49,  1.34it/s]"
     ]
    },
    {
     "name": "stdout",
     "output_type": "stream",
     "text": [
      "TC formation prediction is [[0.12424976]] 0 neg\n",
      "Processing image: /N/project/hurricane-deep-learning/data/ncep_extracted_binary_18x18/EP/00//pos/20070720_18_00_12.5_255.4_2007203N13255.nc\n",
      "1/1 [==============================] - 0s 23ms/step\n"
     ]
    },
    {
     "name": "stderr",
     "output_type": "stream",
     "text": [
      "  2%|█▊                                                                                              | 42/2205 [00:31<26:33,  1.36it/s]"
     ]
    },
    {
     "name": "stdout",
     "output_type": "stream",
     "text": [
      "TC formation prediction is [[0.23663387]] 0 neg\n",
      "Processing image: /N/project/hurricane-deep-learning/data/ncep_extracted_binary_18x18/EP/00//pos/20060711_12_00_13.5_257.8_2006193N13258.nc\n",
      "1/1 [==============================] - 0s 23ms/step\n"
     ]
    },
    {
     "name": "stderr",
     "output_type": "stream",
     "text": [
      "  2%|█▊                                                                                              | 43/2205 [00:32<26:25,  1.36it/s]"
     ]
    },
    {
     "name": "stdout",
     "output_type": "stream",
     "text": [
      "TC formation prediction is [[0.07381012]] 0 neg\n",
      "Processing image: /N/project/hurricane-deep-learning/data/ncep_extracted_binary_18x18/EP/00//pos/20061025_06_00_16.7_256.1_2006300N17256.nc\n",
      "1/1 [==============================] - 0s 23ms/step\n"
     ]
    },
    {
     "name": "stderr",
     "output_type": "stream",
     "text": [
      "  2%|█▉                                                                                              | 44/2205 [00:32<26:20,  1.37it/s]"
     ]
    },
    {
     "name": "stdout",
     "output_type": "stream",
     "text": [
      "TC formation prediction is [[0.14202295]] 0 neg\n",
      "Processing image: /N/project/hurricane-deep-learning/data/ncep_extracted_binary_18x18/EP/00//pos/20030902_00_00_19.0_248.5_2003247N19249.nc\n",
      "1/1 [==============================] - 0s 23ms/step\n"
     ]
    },
    {
     "name": "stderr",
     "output_type": "stream",
     "text": [
      "  2%|█▉                                                                                              | 45/2205 [00:33<26:40,  1.35it/s]"
     ]
    },
    {
     "name": "stdout",
     "output_type": "stream",
     "text": [
      "TC formation prediction is [[0.01071001]] 0 neg\n",
      "Processing image: /N/project/hurricane-deep-learning/data/ncep_extracted_binary_18x18/EP/00//pos/20070712_18_00_11.2_234.2_2007196N11234.nc\n",
      "1/1 [==============================] - 0s 22ms/step\n"
     ]
    },
    {
     "name": "stderr",
     "output_type": "stream",
     "text": [
      "  2%|██                                                                                              | 46/2205 [00:34<26:37,  1.35it/s]"
     ]
    },
    {
     "name": "stdout",
     "output_type": "stream",
     "text": [
      "TC formation prediction is [[0.34594744]] 0 neg\n",
      "Processing image: /N/project/hurricane-deep-learning/data/ncep_extracted_binary_18x18/EP/00//pos/20041004_18_00_13.8_248.7_2004279N14249.nc\n",
      "1/1 [==============================] - 0s 24ms/step\n"
     ]
    },
    {
     "name": "stderr",
     "output_type": "stream",
     "text": [
      "  2%|██                                                                                              | 47/2205 [00:35<26:36,  1.35it/s]"
     ]
    },
    {
     "name": "stdout",
     "output_type": "stream",
     "text": [
      "TC formation prediction is [[0.04133135]] 0 neg\n",
      "Processing image: /N/project/hurricane-deep-learning/data/ncep_extracted_binary_18x18/EP/00//pos/20190712_06_00_14.1_255.2_2019193N14255.nc\n",
      "1/1 [==============================] - 0s 23ms/step\n"
     ]
    },
    {
     "name": "stderr",
     "output_type": "stream",
     "text": [
      "  2%|██                                                                                              | 48/2205 [00:35<26:39,  1.35it/s]"
     ]
    },
    {
     "name": "stdout",
     "output_type": "stream",
     "text": [
      "TC formation prediction is [[0.11664131]] 0 neg\n",
      "Processing image: /N/project/hurricane-deep-learning/data/ncep_extracted_binary_18x18/EP/00//pos/20100618_06_00_13.0_265.6_2010169N13266.nc\n",
      "1/1 [==============================] - 0s 23ms/step\n"
     ]
    },
    {
     "name": "stderr",
     "output_type": "stream",
     "text": [
      "  2%|██▏                                                                                             | 49/2205 [00:36<26:57,  1.33it/s]"
     ]
    },
    {
     "name": "stdout",
     "output_type": "stream",
     "text": [
      "TC formation prediction is [[0.43981457]] 0 neg\n",
      "Processing image: /N/project/hurricane-deep-learning/data/ncep_extracted_binary_18x18/EP/00//pos/19990813_18_00_10.0_252.0_1999228N10252.nc\n",
      "1/1 [==============================] - 0s 22ms/step\n"
     ]
    },
    {
     "name": "stderr",
     "output_type": "stream",
     "text": [
      "  2%|██▏                                                                                             | 50/2205 [00:37<27:31,  1.31it/s]"
     ]
    },
    {
     "name": "stdout",
     "output_type": "stream",
     "text": [
      "TC formation prediction is [[0.546871]] 1 pos\n",
      "Processing image: /N/project/hurricane-deep-learning/data/ncep_extracted_binary_18x18/EP/00//pos/20020822_00_00_9.8_202.4_2002237N10202.nc\n",
      "1/1 [==============================] - 0s 22ms/step\n"
     ]
    },
    {
     "name": "stderr",
     "output_type": "stream",
     "text": [
      "  2%|██▏                                                                                             | 51/2205 [00:38<27:12,  1.32it/s]"
     ]
    },
    {
     "name": "stdout",
     "output_type": "stream",
     "text": [
      "TC formation prediction is [[0.02323899]] 0 neg\n",
      "Processing image: /N/project/hurricane-deep-learning/data/ncep_extracted_binary_18x18/EP/00//pos/20060709_18_00_13.2_249.7_2006192N13250.nc\n",
      "1/1 [==============================] - 0s 22ms/step\n"
     ]
    },
    {
     "name": "stderr",
     "output_type": "stream",
     "text": [
      "  2%|██▎                                                                                             | 52/2205 [00:38<26:46,  1.34it/s]"
     ]
    },
    {
     "name": "stdout",
     "output_type": "stream",
     "text": [
      "TC formation prediction is [[0.01403024]] 0 neg\n",
      "Processing image: /N/project/hurricane-deep-learning/data/ncep_extracted_binary_18x18/EP/00//pos/20000904_06_00_15.4_257.8_2000249N15258.nc\n",
      "1/1 [==============================] - 0s 22ms/step\n"
     ]
    },
    {
     "name": "stderr",
     "output_type": "stream",
     "text": [
      "  2%|██▎                                                                                             | 53/2205 [00:39<26:28,  1.36it/s]"
     ]
    },
    {
     "name": "stdout",
     "output_type": "stream",
     "text": [
      "TC formation prediction is [[0.7793359]] 1 pos\n",
      "Processing image: /N/project/hurricane-deep-learning/data/ncep_extracted_binary_18x18/EP/00//pos/20000721_06_00_17.0_249.3_2000203N17249.nc\n",
      "1/1 [==============================] - 0s 23ms/step\n"
     ]
    },
    {
     "name": "stderr",
     "output_type": "stream",
     "text": [
      "  2%|██▎                                                                                             | 54/2205 [00:40<26:42,  1.34it/s]"
     ]
    },
    {
     "name": "stdout",
     "output_type": "stream",
     "text": [
      "TC formation prediction is [[0.00211369]] 0 neg\n",
      "Processing image: /N/project/hurricane-deep-learning/data/ncep_extracted_binary_18x18/EP/00//pos/20050701_18_00_14.9_260.8_2005185N15261.nc\n",
      "1/1 [==============================] - 0s 23ms/step\n"
     ]
    },
    {
     "name": "stderr",
     "output_type": "stream",
     "text": [
      "  2%|██▍                                                                                             | 55/2205 [00:41<26:37,  1.35it/s]"
     ]
    },
    {
     "name": "stdout",
     "output_type": "stream",
     "text": [
      "TC formation prediction is [[0.23517457]] 0 neg\n",
      "Processing image: /N/project/hurricane-deep-learning/data/ncep_extracted_binary_18x18/EP/00//pos/20050817_06_00_13.3_263.4_2005232N13263.nc\n",
      "1/1 [==============================] - 0s 23ms/step\n"
     ]
    },
    {
     "name": "stderr",
     "output_type": "stream",
     "text": [
      "  3%|██▍                                                                                             | 56/2205 [00:41<26:31,  1.35it/s]"
     ]
    },
    {
     "name": "stdout",
     "output_type": "stream",
     "text": [
      "TC formation prediction is [[0.22924928]] 0 neg\n",
      "Processing image: /N/project/hurricane-deep-learning/data/ncep_extracted_binary_18x18/EP/00//pos/20200624_06_00_10.0_228.1_2020176N10228.nc\n",
      "1/1 [==============================] - 0s 23ms/step\n"
     ]
    },
    {
     "name": "stderr",
     "output_type": "stream",
     "text": [
      "  3%|██▍                                                                                             | 57/2205 [00:42<26:46,  1.34it/s]"
     ]
    },
    {
     "name": "stdout",
     "output_type": "stream",
     "text": [
      "TC formation prediction is [[0.00823126]] 0 neg\n",
      "Processing image: /N/project/hurricane-deep-learning/data/ncep_extracted_binary_18x18/EP/00//pos/20060819_12_00_12.0_258.2_2006234N12258.nc\n",
      "1/1 [==============================] - 0s 23ms/step\n"
     ]
    },
    {
     "name": "stderr",
     "output_type": "stream",
     "text": [
      "  3%|██▌                                                                                             | 58/2205 [00:43<26:50,  1.33it/s]"
     ]
    },
    {
     "name": "stdout",
     "output_type": "stream",
     "text": [
      "TC formation prediction is [[0.14789267]] 0 neg\n",
      "Processing image: /N/project/hurricane-deep-learning/data/ncep_extracted_binary_18x18/EP/00//pos/20010904_00_00_16.9_251.2_2001248N17251.nc\n",
      "1/1 [==============================] - 0s 22ms/step\n"
     ]
    },
    {
     "name": "stderr",
     "output_type": "stream",
     "text": [
      "  3%|██▌                                                                                             | 59/2205 [00:44<26:37,  1.34it/s]"
     ]
    },
    {
     "name": "stdout",
     "output_type": "stream",
     "text": [
      "TC formation prediction is [[0.02884299]] 0 neg\n",
      "Processing image: /N/project/hurricane-deep-learning/data/ncep_extracted_binary_18x18/EP/00//pos/19990805_00_00_10.8_264.5_1999217N11265.nc\n",
      "1/1 [==============================] - 0s 23ms/step\n"
     ]
    },
    {
     "name": "stderr",
     "output_type": "stream",
     "text": [
      "  3%|██▌                                                                                             | 60/2205 [00:44<26:29,  1.35it/s]"
     ]
    },
    {
     "name": "stdout",
     "output_type": "stream",
     "text": [
      "TC formation prediction is [[0.02528972]] 0 neg\n",
      "Processing image: /N/project/hurricane-deep-learning/data/ncep_extracted_binary_18x18/EP/00//pos/20020521_18_00_11.2_258.8_2002145N11259.nc\n",
      "1/1 [==============================] - 0s 22ms/step\n"
     ]
    },
    {
     "name": "stderr",
     "output_type": "stream",
     "text": [
      "  3%|██▋                                                                                             | 61/2205 [00:45<26:23,  1.35it/s]"
     ]
    },
    {
     "name": "stdout",
     "output_type": "stream",
     "text": [
      "TC formation prediction is [[0.01786969]] 0 neg\n",
      "Processing image: /N/project/hurricane-deep-learning/data/ncep_extracted_binary_18x18/EP/00//pos/20150917_06_00_11.9_186.6_2015260N12187.nc\n",
      "1/1 [==============================] - 0s 22ms/step\n"
     ]
    },
    {
     "name": "stderr",
     "output_type": "stream",
     "text": [
      "  3%|██▋                                                                                             | 62/2205 [00:46<26:18,  1.36it/s]"
     ]
    },
    {
     "name": "stdout",
     "output_type": "stream",
     "text": [
      "TC formation prediction is [[0.03171117]] 0 neg\n",
      "Processing image: /N/project/hurricane-deep-learning/data/ncep_extracted_binary_18x18/EP/00//pos/20130812_06_00_12.0_220.4_2013224N12220.nc\n",
      "1/1 [==============================] - 0s 22ms/step\n"
     ]
    },
    {
     "name": "stderr",
     "output_type": "stream",
     "text": [
      "  3%|██▋                                                                                             | 63/2205 [00:47<26:39,  1.34it/s]"
     ]
    },
    {
     "name": "stdout",
     "output_type": "stream",
     "text": [
      "TC formation prediction is [[0.00356561]] 0 neg\n",
      "Processing image: /N/project/hurricane-deep-learning/data/ncep_extracted_binary_18x18/EP/00//pos/20050912_18_00_12.3_242.0_2005258N12242.nc\n",
      "1/1 [==============================] - 0s 23ms/step\n"
     ]
    },
    {
     "name": "stderr",
     "output_type": "stream",
     "text": [
      "  3%|██▊                                                                                             | 64/2205 [00:47<26:47,  1.33it/s]"
     ]
    },
    {
     "name": "stdout",
     "output_type": "stream",
     "text": [
      "TC formation prediction is [[0.04309679]] 0 neg\n",
      "Processing image: /N/project/hurricane-deep-learning/data/ncep_extracted_binary_18x18/EP/00//pos/20050824_00_00_16.9_255.3_2005238N17255.nc\n",
      "1/1 [==============================] - 0s 23ms/step\n"
     ]
    },
    {
     "name": "stderr",
     "output_type": "stream",
     "text": [
      "  3%|██▊                                                                                             | 65/2205 [00:48<26:32,  1.34it/s]"
     ]
    },
    {
     "name": "stdout",
     "output_type": "stream",
     "text": [
      "TC formation prediction is [[0.1335654]] 0 neg\n",
      "Processing image: /N/project/hurricane-deep-learning/data/ncep_extracted_binary_18x18/EP/00//pos/20151123_12_00_10.9_259.5_2015328N11260.nc\n",
      "1/1 [==============================] - 0s 24ms/step\n"
     ]
    },
    {
     "name": "stderr",
     "output_type": "stream",
     "text": [
      "  3%|██▊                                                                                             | 66/2205 [00:49<26:25,  1.35it/s]"
     ]
    },
    {
     "name": "stdout",
     "output_type": "stream",
     "text": [
      "TC formation prediction is [[0.0221934]] 0 neg\n",
      "Processing image: /N/project/hurricane-deep-learning/data/ncep_extracted_binary_18x18/EP/00//pos/20061018_12_00_15.7_254.4_2006294N16254.nc\n",
      "1/1 [==============================] - 0s 23ms/step\n"
     ]
    },
    {
     "name": "stderr",
     "output_type": "stream",
     "text": [
      "  3%|██▉                                                                                             | 67/2205 [00:49<26:18,  1.35it/s]"
     ]
    },
    {
     "name": "stdout",
     "output_type": "stream",
     "text": [
      "TC formation prediction is [[0.01593695]] 0 neg\n",
      "Processing image: /N/project/hurricane-deep-learning/data/ncep_extracted_binary_18x18/EP/00//pos/20060815_00_00_10.4_217.5_2006228N10218.nc\n",
      "1/1 [==============================] - 0s 24ms/step\n"
     ]
    },
    {
     "name": "stderr",
     "output_type": "stream",
     "text": [
      "  3%|██▉                                                                                             | 68/2205 [00:50<26:10,  1.36it/s]"
     ]
    },
    {
     "name": "stdout",
     "output_type": "stream",
     "text": [
      "TC formation prediction is [[0.02896809]] 0 neg\n",
      "Processing image: /N/project/hurricane-deep-learning/data/ncep_extracted_binary_18x18/EP/00//pos/20070720_00_00_12.5_255.4_2007203N13255.nc\n",
      "1/1 [==============================] - 0s 24ms/step\n"
     ]
    },
    {
     "name": "stderr",
     "output_type": "stream",
     "text": [
      "  3%|███                                                                                             | 69/2205 [00:51<26:09,  1.36it/s]"
     ]
    },
    {
     "name": "stdout",
     "output_type": "stream",
     "text": [
      "TC formation prediction is [[0.0683989]] 0 neg\n",
      "Processing image: /N/project/hurricane-deep-learning/data/ncep_extracted_binary_18x18/EP/00//pos/20030518_06_00_9.6_257.8_2003140N10258.nc\n",
      "1/1 [==============================] - 0s 23ms/step\n"
     ]
    },
    {
     "name": "stderr",
     "output_type": "stream",
     "text": [
      "  3%|███                                                                                             | 70/2205 [00:52<25:59,  1.37it/s]"
     ]
    },
    {
     "name": "stdout",
     "output_type": "stream",
     "text": [
      "TC formation prediction is [[0.10859788]] 0 neg\n",
      "Processing image: /N/project/hurricane-deep-learning/data/ncep_extracted_binary_18x18/EP/00//pos/20020624_18_00_11.8_238.1_2002179N12238.nc\n",
      "1/1 [==============================] - 0s 23ms/step\n"
     ]
    },
    {
     "name": "stderr",
     "output_type": "stream",
     "text": [
      "  3%|███                                                                                             | 71/2205 [00:52<25:54,  1.37it/s]"
     ]
    },
    {
     "name": "stdout",
     "output_type": "stream",
     "text": [
      "TC formation prediction is [[0.00333868]] 0 neg\n",
      "Processing image: /N/project/hurricane-deep-learning/data/ncep_extracted_binary_18x18/EP/00//pos/20040703_00_00_6.0_203.0_2004186N06203.nc\n",
      "1/1 [==============================] - 0s 24ms/step\n"
     ]
    },
    {
     "name": "stderr",
     "output_type": "stream",
     "text": [
      "  3%|███▏                                                                                            | 72/2205 [00:53<26:49,  1.32it/s]"
     ]
    },
    {
     "name": "stdout",
     "output_type": "stream",
     "text": [
      "TC formation prediction is [[0.00437644]] 0 neg\n",
      "Processing image: /N/project/hurricane-deep-learning/data/ncep_extracted_binary_18x18/EP/00//pos/20050825_12_00_16.9_255.3_2005238N17255.nc\n",
      "1/1 [==============================] - 0s 23ms/step\n"
     ]
    },
    {
     "name": "stderr",
     "output_type": "stream",
     "text": [
      "  3%|███▏                                                                                            | 73/2205 [00:54<26:46,  1.33it/s]"
     ]
    },
    {
     "name": "stdout",
     "output_type": "stream",
     "text": [
      "TC formation prediction is [[0.01653692]] 0 neg\n",
      "Processing image: /N/project/hurricane-deep-learning/data/ncep_extracted_binary_18x18/EP/00//pos/20040823_06_00_16.7_249.8_2004236N17250.nc\n",
      "1/1 [==============================] - 0s 23ms/step\n"
     ]
    },
    {
     "name": "stderr",
     "output_type": "stream",
     "text": [
      "  3%|███▏                                                                                            | 74/2205 [00:55<26:29,  1.34it/s]"
     ]
    },
    {
     "name": "stdout",
     "output_type": "stream",
     "text": [
      "TC formation prediction is [[0.01046955]] 0 neg\n",
      "Processing image: /N/project/hurricane-deep-learning/data/ncep_extracted_binary_18x18/EP/00//pos/20030716_12_00_14.0_254.7_2003199N14255.nc\n",
      "1/1 [==============================] - 0s 23ms/step\n"
     ]
    },
    {
     "name": "stderr",
     "output_type": "stream",
     "text": [
      "  3%|███▎                                                                                            | 75/2205 [00:55<26:37,  1.33it/s]"
     ]
    },
    {
     "name": "stdout",
     "output_type": "stream",
     "text": [
      "TC formation prediction is [[0.02444087]] 0 neg\n",
      "Processing image: /N/project/hurricane-deep-learning/data/ncep_extracted_binary_18x18/EP/00//pos/20000721_12_00_10.0_260.0_2000205N10260.nc\n",
      "1/1 [==============================] - 0s 22ms/step\n"
     ]
    },
    {
     "name": "stderr",
     "output_type": "stream",
     "text": [
      "  3%|███▎                                                                                            | 76/2205 [00:56<27:12,  1.30it/s]"
     ]
    },
    {
     "name": "stdout",
     "output_type": "stream",
     "text": [
      "TC formation prediction is [[0.00310477]] 0 neg\n",
      "Processing image: /N/project/hurricane-deep-learning/data/ncep_extracted_binary_18x18/EP/00//pos/20060922_18_00_10.0_187.1_2006268N10187.nc\n",
      "1/1 [==============================] - 0s 23ms/step\n"
     ]
    },
    {
     "name": "stderr",
     "output_type": "stream",
     "text": [
      "  3%|███▎                                                                                            | 77/2205 [00:57<27:10,  1.31it/s]"
     ]
    },
    {
     "name": "stdout",
     "output_type": "stream",
     "text": [
      "TC formation prediction is [[0.1322224]] 0 neg\n",
      "Processing image: /N/project/hurricane-deep-learning/data/ncep_extracted_binary_18x18/EP/00//pos/19990820_06_00_16.2_251.4_1999234N16251.nc\n",
      "1/1 [==============================] - 0s 24ms/step\n"
     ]
    },
    {
     "name": "stderr",
     "output_type": "stream",
     "text": [
      "  4%|███▍                                                                                            | 78/2205 [00:58<26:52,  1.32it/s]"
     ]
    },
    {
     "name": "stdout",
     "output_type": "stream",
     "text": [
      "TC formation prediction is [[0.0282912]] 0 neg\n",
      "Processing image: /N/project/hurricane-deep-learning/data/ncep_extracted_binary_18x18/EP/00//pos/20061112_00_00_12.3_256.4_2006318N12256.nc\n",
      "1/1 [==============================] - 0s 23ms/step\n"
     ]
    },
    {
     "name": "stderr",
     "output_type": "stream",
     "text": [
      "  4%|███▍                                                                                            | 79/2205 [00:58<26:31,  1.34it/s]"
     ]
    },
    {
     "name": "stdout",
     "output_type": "stream",
     "text": [
      "TC formation prediction is [[0.07327451]] 0 neg\n",
      "Processing image: /N/project/hurricane-deep-learning/data/ncep_extracted_binary_18x18/EP/00//pos/20130802_00_00_12.7_243.2_2013214N13243.nc\n",
      "1/1 [==============================] - 0s 23ms/step\n"
     ]
    },
    {
     "name": "stderr",
     "output_type": "stream",
     "text": [
      "  4%|███▍                                                                                            | 80/2205 [00:59<26:30,  1.34it/s]"
     ]
    },
    {
     "name": "stdout",
     "output_type": "stream",
     "text": [
      "TC formation prediction is [[0.18309598]] 0 neg\n",
      "Processing image: /N/project/hurricane-deep-learning/data/ncep_extracted_binary_18x18/EP/00//pos/20060813_12_00_10.4_217.5_2006228N10218.nc\n",
      "1/1 [==============================] - 0s 23ms/step\n"
     ]
    },
    {
     "name": "stderr",
     "output_type": "stream",
     "text": [
      "  4%|███▌                                                                                            | 81/2205 [01:00<26:25,  1.34it/s]"
     ]
    },
    {
     "name": "stdout",
     "output_type": "stream",
     "text": [
      "TC formation prediction is [[0.02728654]] 0 neg\n",
      "Processing image: /N/project/hurricane-deep-learning/data/ncep_extracted_binary_18x18/EP/00//pos/20020819_12_00_12.8_253.1_2002234N13253.nc\n",
      "1/1 [==============================] - 0s 23ms/step\n"
     ]
    },
    {
     "name": "stderr",
     "output_type": "stream",
     "text": [
      "  4%|███▌                                                                                            | 82/2205 [01:01<26:06,  1.36it/s]"
     ]
    },
    {
     "name": "stdout",
     "output_type": "stream",
     "text": [
      "TC formation prediction is [[0.08964916]] 0 neg\n",
      "Processing image: /N/project/hurricane-deep-learning/data/ncep_extracted_binary_18x18/EP/00//pos/20020903_12_00_18.9_252.8_2002249N19253.nc\n",
      "1/1 [==============================] - 0s 23ms/step\n"
     ]
    },
    {
     "name": "stderr",
     "output_type": "stream",
     "text": [
      "  4%|███▌                                                                                            | 83/2205 [01:01<26:00,  1.36it/s]"
     ]
    },
    {
     "name": "stdout",
     "output_type": "stream",
     "text": [
      "TC formation prediction is [[0.0315216]] 0 neg\n",
      "Processing image: /N/project/hurricane-deep-learning/data/ncep_extracted_binary_18x18/EP/00//pos/20071012_00_00_15.0_251.3_2007288N15251.nc\n",
      "1/1 [==============================] - 0s 23ms/step\n"
     ]
    },
    {
     "name": "stderr",
     "output_type": "stream",
     "text": [
      "  4%|███▋                                                                                            | 84/2205 [01:02<26:31,  1.33it/s]"
     ]
    },
    {
     "name": "stdout",
     "output_type": "stream",
     "text": [
      "TC formation prediction is [[0.00922534]] 0 neg\n",
      "Processing image: /N/project/hurricane-deep-learning/data/ncep_extracted_binary_18x18/EP/00//pos/20011029_06_00_12.1_237.2_2001304N12237.nc\n",
      "1/1 [==============================] - 0s 23ms/step\n"
     ]
    },
    {
     "name": "stderr",
     "output_type": "stream",
     "text": [
      "  4%|███▋                                                                                            | 85/2205 [01:03<26:19,  1.34it/s]"
     ]
    },
    {
     "name": "stdout",
     "output_type": "stream",
     "text": [
      "TC formation prediction is [[0.04001323]] 0 neg\n",
      "Processing image: /N/project/hurricane-deep-learning/data/ncep_extracted_binary_18x18/EP/00//pos/20160910_12_00_12.3_246.9_2016255N12247.nc\n",
      "1/1 [==============================] - 0s 23ms/step\n"
     ]
    },
    {
     "name": "stderr",
     "output_type": "stream",
     "text": [
      "  4%|███▋                                                                                            | 86/2205 [01:04<26:24,  1.34it/s]"
     ]
    },
    {
     "name": "stdout",
     "output_type": "stream",
     "text": [
      "TC formation prediction is [[0.00760723]] 0 neg\n",
      "Processing image: /N/project/hurricane-deep-learning/data/ncep_extracted_binary_18x18/EP/00//pos/20040701_18_00_16.2_240.8_2004185N16241.nc\n",
      "1/1 [==============================] - 0s 23ms/step\n"
     ]
    },
    {
     "name": "stderr",
     "output_type": "stream",
     "text": [
      "  4%|███▊                                                                                            | 87/2205 [01:04<26:15,  1.34it/s]"
     ]
    },
    {
     "name": "stdout",
     "output_type": "stream",
     "text": [
      "TC formation prediction is [[0.0146041]] 0 neg\n",
      "Processing image: /N/project/hurricane-deep-learning/data/ncep_extracted_binary_18x18/EP/00//pos/20011028_00_00_12.1_237.2_2001304N12237.nc\n",
      "1/1 [==============================] - 0s 23ms/step\n"
     ]
    },
    {
     "name": "stderr",
     "output_type": "stream",
     "text": [
      "  4%|███▊                                                                                            | 88/2205 [01:05<26:14,  1.34it/s]"
     ]
    },
    {
     "name": "stdout",
     "output_type": "stream",
     "text": [
      "TC formation prediction is [[0.05779612]] 0 neg\n",
      "Processing image: /N/project/hurricane-deep-learning/data/ncep_extracted_binary_18x18/EP/00//pos/20011001_00_00_11.9_258.0_2001275N12258.nc\n",
      "1/1 [==============================] - 0s 23ms/step\n"
     ]
    },
    {
     "name": "stderr",
     "output_type": "stream",
     "text": [
      "  4%|███▊                                                                                            | 89/2205 [01:06<26:34,  1.33it/s]"
     ]
    },
    {
     "name": "stdout",
     "output_type": "stream",
     "text": [
      "TC formation prediction is [[0.01635483]] 0 neg\n",
      "Processing image: /N/project/hurricane-deep-learning/data/ncep_extracted_binary_18x18/EP/00//pos/20020722_12_00_11.6_263.3_2002204N12263.nc\n",
      "1/1 [==============================] - 0s 24ms/step\n"
     ]
    },
    {
     "name": "stderr",
     "output_type": "stream",
     "text": [
      "  4%|███▉                                                                                            | 90/2205 [01:07<26:17,  1.34it/s]"
     ]
    },
    {
     "name": "stdout",
     "output_type": "stream",
     "text": [
      "TC formation prediction is [[0.03475042]] 0 neg\n",
      "Processing image: /N/project/hurricane-deep-learning/data/ncep_extracted_binary_18x18/EP/00//pos/20010919_12_00_12.6_268.9_2001264N13269.nc\n",
      "1/1 [==============================] - 0s 24ms/step\n"
     ]
    },
    {
     "name": "stderr",
     "output_type": "stream",
     "text": [
      "  4%|███▉                                                                                            | 91/2205 [01:07<26:13,  1.34it/s]"
     ]
    },
    {
     "name": "stdout",
     "output_type": "stream",
     "text": [
      "TC formation prediction is [[0.2031773]] 0 neg\n",
      "Processing image: /N/project/hurricane-deep-learning/data/ncep_extracted_binary_18x18/EP/00//pos/20061113_00_00_12.3_256.4_2006318N12256.nc\n",
      "1/1 [==============================] - 0s 24ms/step\n"
     ]
    },
    {
     "name": "stderr",
     "output_type": "stream",
     "text": [
      "  4%|████                                                                                            | 92/2205 [01:08<26:04,  1.35it/s]"
     ]
    },
    {
     "name": "stdout",
     "output_type": "stream",
     "text": [
      "TC formation prediction is [[0.01724003]] 0 neg\n",
      "Processing image: /N/project/hurricane-deep-learning/data/ncep_extracted_binary_18x18/EP/00//pos/20050806_12_00_14.0_246.2_2005222N14246.nc\n",
      "1/1 [==============================] - 0s 24ms/step\n"
     ]
    },
    {
     "name": "stderr",
     "output_type": "stream",
     "text": [
      "  4%|████                                                                                            | 93/2205 [01:09<26:23,  1.33it/s]"
     ]
    },
    {
     "name": "stdout",
     "output_type": "stream",
     "text": [
      "TC formation prediction is [[0.00799035]] 0 neg\n",
      "Processing image: /N/project/hurricane-deep-learning/data/ncep_extracted_binary_18x18/EP/00//pos/20010930_18_00_11.9_258.0_2001275N12258.nc\n",
      "1/1 [==============================] - 0s 23ms/step\n"
     ]
    },
    {
     "name": "stderr",
     "output_type": "stream",
     "text": [
      "  4%|████                                                                                            | 94/2205 [01:10<26:36,  1.32it/s]"
     ]
    },
    {
     "name": "stdout",
     "output_type": "stream",
     "text": [
      "TC formation prediction is [[0.2214704]] 0 neg\n",
      "Processing image: /N/project/hurricane-deep-learning/data/ncep_extracted_binary_18x18/EP/00//pos/20090920_18_00_12.9_252.4_2009264N13252.nc\n",
      "1/1 [==============================] - 0s 22ms/step\n"
     ]
    },
    {
     "name": "stderr",
     "output_type": "stream",
     "text": [
      "  4%|████▏                                                                                           | 95/2205 [01:10<26:24,  1.33it/s]"
     ]
    },
    {
     "name": "stdout",
     "output_type": "stream",
     "text": [
      "TC formation prediction is [[0.00611346]] 0 neg\n",
      "Processing image: /N/project/hurricane-deep-learning/data/ncep_extracted_binary_18x18/EP/00//pos/20050730_18_00_14.3_224.1_2005215N14224.nc\n",
      "1/1 [==============================] - 0s 23ms/step\n"
     ]
    },
    {
     "name": "stderr",
     "output_type": "stream",
     "text": [
      "  4%|████▏                                                                                           | 96/2205 [01:11<26:16,  1.34it/s]"
     ]
    },
    {
     "name": "stdout",
     "output_type": "stream",
     "text": [
      "TC formation prediction is [[0.04329835]] 0 neg\n",
      "Processing image: /N/project/hurricane-deep-learning/data/ncep_extracted_binary_18x18/EP/00//pos/20050801_18_00_14.3_224.1_2005215N14224.nc\n",
      "1/1 [==============================] - 0s 24ms/step\n"
     ]
    },
    {
     "name": "stderr",
     "output_type": "stream",
     "text": [
      "  4%|████▏                                                                                           | 97/2205 [01:12<26:12,  1.34it/s]"
     ]
    },
    {
     "name": "stdout",
     "output_type": "stream",
     "text": [
      "TC formation prediction is [[0.00616635]] 0 neg\n",
      "Processing image: /N/project/hurricane-deep-learning/data/ncep_extracted_binary_18x18/EP/00//pos/20011008_12_00_14.1_260.8_2001284N14261.nc\n",
      "1/1 [==============================] - 0s 23ms/step\n"
     ]
    },
    {
     "name": "stderr",
     "output_type": "stream",
     "text": [
      "  4%|████▎                                                                                           | 98/2205 [01:13<25:59,  1.35it/s]"
     ]
    },
    {
     "name": "stdout",
     "output_type": "stream",
     "text": [
      "TC formation prediction is [[0.00522043]] 0 neg\n",
      "Processing image: /N/project/hurricane-deep-learning/data/ncep_extracted_binary_18x18/EP/00//pos/20031001_06_00_15.7_251.9_2003275N16252.nc\n",
      "1/1 [==============================] - 0s 23ms/step\n"
     ]
    },
    {
     "name": "stderr",
     "output_type": "stream",
     "text": [
      "  4%|████▎                                                                                           | 99/2205 [01:13<25:55,  1.35it/s]"
     ]
    },
    {
     "name": "stdout",
     "output_type": "stream",
     "text": [
      "TC formation prediction is [[0.05054975]] 0 neg\n",
      "Processing image: /N/project/hurricane-deep-learning/data/ncep_extracted_binary_18x18/EP/00//pos/20070714_12_00_11.2_234.2_2007196N11234.nc\n",
      "1/1 [==============================] - 0s 22ms/step\n"
     ]
    },
    {
     "name": "stderr",
     "output_type": "stream",
     "text": [
      "  5%|████▎                                                                                          | 100/2205 [01:14<25:52,  1.36it/s]"
     ]
    },
    {
     "name": "stdout",
     "output_type": "stream",
     "text": [
      "TC formation prediction is [[0.02367895]] 0 neg\n",
      "Processing image: /N/project/hurricane-deep-learning/data/ncep_extracted_binary_18x18/EP/00//pos/20061006_12_00_14.2_242.8_2006282N14243.nc\n",
      "1/1 [==============================] - 0s 23ms/step\n"
     ]
    },
    {
     "name": "stderr",
     "output_type": "stream",
     "text": [
      "  5%|████▎                                                                                          | 100/2205 [01:15<26:25,  1.33it/s]"
     ]
    },
    {
     "name": "stdout",
     "output_type": "stream",
     "text": [
      "TC formation prediction is [[0.04079418]] 0 neg\n",
      "[0.030410001, 0.024707828, 0.0007230699, 0.011041814, 0.0029652158, 0.17038126, 0.29974633, 0.006370319, 0.6630183, 0.13677393, 0.37543067, 0.043191593, 0.036603276, 0.028010644, 0.050463848, 0.052988406, 0.056215588, 0.019189896, 0.0016735833, 0.019368792, 0.06457155, 0.045853596, 0.07245268, 0.008460362, 0.0347395, 0.061836287, 0.103905626, 0.009365813, 0.0050429585, 0.15677918, 0.02877804, 0.06404707, 0.016313264, 0.026084138, 0.13764584, 0.0091446545, 0.08668024, 0.039367527, 0.025328055, 0.0039304327, 0.42683935, 0.040902518, 0.03635945, 0.0784803, 0.12604645, 0.0012976083, 0.17506732, 0.007301706, 0.023172498, 0.060681276, 0.06190916, 0.019910812, 0.049070623, 0.2175003, 0.008774413, 0.020365931, 0.014551489, 0.016705314, 0.06248836, 0.033034194, 0.09514337, 0.028505975, 0.006942418, 0.020285439, 0.06661558, 0.0054179914, 0.0058348216, 0.00051526865, 0.09742968, 0.21999474, 0.017214084, 0.039261486, 0.11484854, 0.02333967, 0.3926098, 0.0011393814, 0.10442003, 0.37335482, 0.50470763, 0.022647452, 0.0881602, 0.04399525, 0.007297664, 0.32149616, 0.015971519, 0.07080128, 0.024448752, 0.034920815, 0.058912873, 0.0038349659, 0.037643418, 0.097387485, 0.09929604, 0.035464864, 0.0040566972, 0.002225509, 0.01975957, 0.044570938, 0.01821345, 0.013046405, 0.19344878, 0.1811588, 0.021681044, 0.0046018334, 0.0034461697, 0.07378683, 0.011887881, 0.005140416, 0.04106339, 0.010482669, 0.0061730184, 0.074570596, 0.034797437, 0.032234754, 0.09188842, 0.070427604, 0.00753048, 0.047528636, 0.034786206, 0.055983637, 0.20053361, 0.66987574, 0.045077242, 0.050002825, 0.029561017, 0.030294796, 0.20198686, 0.2817868, 0.005958642, 0.16412811, 0.01843702, 0.08977227, 0.0057967333, 0.016699905, 0.40398076, 0.037112024, 0.020570861, 0.004689025, 0.26830208, 0.026420778, 0.002143184, 0.12424976, 0.23663387, 0.073810115, 0.14202295, 0.010710014, 0.34594744, 0.041331347, 0.11664131, 0.43981457, 0.546871, 0.023238987, 0.014030238, 0.7793359, 0.0021136878, 0.23517457, 0.22924928, 0.008231257, 0.14789267, 0.028842986, 0.025289722, 0.017869689, 0.031711172, 0.003565613, 0.04309679, 0.1335654, 0.0221934, 0.015936948, 0.028968092, 0.0683989, 0.10859788, 0.0033386787, 0.0043764445, 0.016536916, 0.01046955, 0.024440866, 0.0031047668, 0.1322224, 0.028291197, 0.07327451, 0.18309598, 0.027286537, 0.08964916, 0.031521596, 0.009225342, 0.04001323, 0.0076072267, 0.014604096, 0.057796117, 0.016354827, 0.034750424, 0.2031773, 0.01724003, 0.007990353, 0.2214704, 0.00611346, 0.043298345, 0.006166347, 0.0052204328, 0.050549746, 0.023678945, 0.040794183]\n"
     ]
    },
    {
     "name": "stderr",
     "output_type": "stream",
     "text": [
      "\n",
      "  0%|                                                                                                          | 0/447 [00:00<?, ?it/s]"
     ]
    },
    {
     "name": "stdout",
     "output_type": "stream",
     "text": [
      "Processing image: /N/project/hurricane-deep-learning/data/ncep_extracted_binary_18x18/EP/00//neg/20150707_12_00_13.4_258.1.nc\n",
      "1/1 [==============================] - 1s 682ms/step\n"
     ]
    },
    {
     "name": "stderr",
     "output_type": "stream",
     "text": [
      "  0%|▏                                                                                                 | 1/447 [00:01<10:21,  1.39s/it]"
     ]
    },
    {
     "name": "stdout",
     "output_type": "stream",
     "text": [
      "TC formation prediction is [[0.00545602]] 0 neg\n",
      "Processing image: /N/project/hurricane-deep-learning/data/ncep_extracted_binary_18x18/EP/00//neg/20180929_12_00_12.0_293.7.nc\n",
      "1/1 [==============================] - 0s 25ms/step\n"
     ]
    },
    {
     "name": "stderr",
     "output_type": "stream",
     "text": [
      "  0%|▍                                                                                                 | 2/447 [00:02<07:39,  1.03s/it]"
     ]
    },
    {
     "name": "stdout",
     "output_type": "stream",
     "text": [
      "TC formation prediction is [[0.01524179]] 0 neg\n",
      "Processing image: /N/project/hurricane-deep-learning/data/ncep_extracted_binary_18x18/EP/00//neg/20140822_00_00_12.3_296.2.nc\n",
      "1/1 [==============================] - 0s 26ms/step\n"
     ]
    },
    {
     "name": "stderr",
     "output_type": "stream",
     "text": [
      "  1%|▋                                                                                                 | 3/447 [00:02<06:39,  1.11it/s]"
     ]
    },
    {
     "name": "stdout",
     "output_type": "stream",
     "text": [
      "TC formation prediction is [[0.00753879]] 0 neg\n",
      "Processing image: /N/project/hurricane-deep-learning/data/ncep_extracted_binary_18x18/EP/00//neg/20120707_06_00_34.3_286.2.nc\n",
      "1/1 [==============================] - 0s 25ms/step\n"
     ]
    },
    {
     "name": "stderr",
     "output_type": "stream",
     "text": [
      "  1%|▉                                                                                                 | 4/447 [00:03<06:12,  1.19it/s]"
     ]
    },
    {
     "name": "stdout",
     "output_type": "stream",
     "text": [
      "TC formation prediction is [[0.00715358]] 0 neg\n",
      "Processing image: /N/project/hurricane-deep-learning/data/ncep_extracted_binary_18x18/EP/00//neg/20191016_00_00_13.8_301.7.nc\n",
      "1/1 [==============================] - 0s 26ms/step\n"
     ]
    },
    {
     "name": "stderr",
     "output_type": "stream",
     "text": [
      "  1%|█                                                                                                 | 5/447 [00:04<05:55,  1.24it/s]"
     ]
    },
    {
     "name": "stdout",
     "output_type": "stream",
     "text": [
      "TC formation prediction is [[0.00506333]] 0 neg\n",
      "Processing image: /N/project/hurricane-deep-learning/data/ncep_extracted_binary_18x18/EP/00//neg/20080806_12_00_12.2_285.1.nc\n",
      "1/1 [==============================] - 0s 26ms/step\n"
     ]
    },
    {
     "name": "stderr",
     "output_type": "stream",
     "text": [
      "  1%|█▎                                                                                                | 6/447 [00:05<05:43,  1.28it/s]"
     ]
    },
    {
     "name": "stdout",
     "output_type": "stream",
     "text": [
      "TC formation prediction is [[0.00687905]] 0 neg\n",
      "Processing image: /N/project/hurricane-deep-learning/data/ncep_extracted_binary_18x18/EP/00//neg/20060828_00_00_12.3_300.4.nc\n",
      "1/1 [==============================] - 0s 27ms/step\n"
     ]
    },
    {
     "name": "stderr",
     "output_type": "stream",
     "text": [
      "  2%|█▌                                                                                                | 7/447 [00:05<05:37,  1.30it/s]"
     ]
    },
    {
     "name": "stdout",
     "output_type": "stream",
     "text": [
      "TC formation prediction is [[0.00345327]] 0 neg\n",
      "Processing image: /N/project/hurricane-deep-learning/data/ncep_extracted_binary_18x18/EP/00//neg/20020717_06_00_9.1_216.7.nc\n",
      "1/1 [==============================] - 0s 26ms/step\n"
     ]
    },
    {
     "name": "stderr",
     "output_type": "stream",
     "text": [
      "  2%|█▊                                                                                                | 8/447 [00:06<05:32,  1.32it/s]"
     ]
    },
    {
     "name": "stdout",
     "output_type": "stream",
     "text": [
      "TC formation prediction is [[0.00422457]] 0 neg\n",
      "Processing image: /N/project/hurricane-deep-learning/data/ncep_extracted_binary_18x18/EP/00//neg/20020627_12_00_11.8_273.1.nc\n",
      "1/1 [==============================] - 0s 25ms/step\n"
     ]
    },
    {
     "name": "stderr",
     "output_type": "stream",
     "text": [
      "  2%|█▉                                                                                                | 9/447 [00:07<05:26,  1.34it/s]"
     ]
    },
    {
     "name": "stdout",
     "output_type": "stream",
     "text": [
      "TC formation prediction is [[0.01266368]] 0 neg\n",
      "Processing image: /N/project/hurricane-deep-learning/data/ncep_extracted_binary_18x18/EP/00//neg/20001002_12_00_15.3_291.9.nc\n",
      "1/1 [==============================] - 0s 25ms/step\n"
     ]
    },
    {
     "name": "stderr",
     "output_type": "stream",
     "text": [
      "  2%|██▏                                                                                              | 10/447 [00:08<05:22,  1.35it/s]"
     ]
    },
    {
     "name": "stdout",
     "output_type": "stream",
     "text": [
      "TC formation prediction is [[0.00402765]] 0 neg\n",
      "Processing image: /N/project/hurricane-deep-learning/data/ncep_extracted_binary_18x18/EP/00//neg/20130730_00_00_11.2_283.4.nc\n",
      "1/1 [==============================] - 0s 25ms/step\n"
     ]
    },
    {
     "name": "stderr",
     "output_type": "stream",
     "text": [
      "  2%|██▍                                                                                              | 11/447 [00:08<05:20,  1.36it/s]"
     ]
    },
    {
     "name": "stdout",
     "output_type": "stream",
     "text": [
      "TC formation prediction is [[0.02130276]] 0 neg\n",
      "Processing image: /N/project/hurricane-deep-learning/data/ncep_extracted_binary_18x18/EP/00//neg/20090703_18_00_13.0_294.6.nc\n",
      "1/1 [==============================] - 0s 25ms/step\n"
     ]
    },
    {
     "name": "stderr",
     "output_type": "stream",
     "text": [
      "  3%|██▌                                                                                              | 12/447 [00:09<05:23,  1.34it/s]"
     ]
    },
    {
     "name": "stdout",
     "output_type": "stream",
     "text": [
      "TC formation prediction is [[0.00523946]] 0 neg\n",
      "Processing image: /N/project/hurricane-deep-learning/data/ncep_extracted_binary_18x18/EP/00//neg/20000804_00_00_12.0_295.0.nc\n",
      "1/1 [==============================] - 0s 26ms/step\n"
     ]
    },
    {
     "name": "stderr",
     "output_type": "stream",
     "text": [
      "  3%|██▊                                                                                              | 13/447 [00:10<05:29,  1.32it/s]"
     ]
    },
    {
     "name": "stdout",
     "output_type": "stream",
     "text": [
      "TC formation prediction is [[0.00765145]] 0 neg\n",
      "Processing image: /N/project/hurricane-deep-learning/data/ncep_extracted_binary_18x18/EP/00//neg/20200816_00_00_18.0_276.8.nc\n",
      "1/1 [==============================] - 0s 26ms/step\n"
     ]
    },
    {
     "name": "stderr",
     "output_type": "stream",
     "text": [
      "  3%|███                                                                                              | 14/447 [00:11<05:30,  1.31it/s]"
     ]
    },
    {
     "name": "stdout",
     "output_type": "stream",
     "text": [
      "TC formation prediction is [[0.00921907]] 0 neg\n",
      "Processing image: /N/project/hurricane-deep-learning/data/ncep_extracted_binary_18x18/EP/00//neg/20080823_12_00_42.9_227.8.nc\n",
      "1/1 [==============================] - 0s 27ms/step\n"
     ]
    },
    {
     "name": "stderr",
     "output_type": "stream",
     "text": [
      "  3%|███▎                                                                                             | 15/447 [00:11<05:26,  1.32it/s]"
     ]
    },
    {
     "name": "stdout",
     "output_type": "stream",
     "text": [
      "TC formation prediction is [[0.0145298]] 0 neg\n",
      "Processing image: /N/project/hurricane-deep-learning/data/ncep_extracted_binary_18x18/EP/00//neg/20100804_12_00_14.9_300.1.nc\n",
      "1/1 [==============================] - 0s 25ms/step\n"
     ]
    },
    {
     "name": "stderr",
     "output_type": "stream",
     "text": [
      "  4%|███▍                                                                                             | 16/447 [00:12<05:23,  1.33it/s]"
     ]
    },
    {
     "name": "stdout",
     "output_type": "stream",
     "text": [
      "TC formation prediction is [[0.0099493]] 0 neg\n",
      "Processing image: /N/project/hurricane-deep-learning/data/ncep_extracted_binary_18x18/EP/00//neg/20200720_00_00_39.4_216.5.nc\n",
      "1/1 [==============================] - 0s 27ms/step\n"
     ]
    },
    {
     "name": "stderr",
     "output_type": "stream",
     "text": [
      "  4%|███▋                                                                                             | 17/447 [00:13<05:21,  1.34it/s]"
     ]
    },
    {
     "name": "stdout",
     "output_type": "stream",
     "text": [
      "TC formation prediction is [[0.00680525]] 0 neg\n",
      "Processing image: /N/project/hurricane-deep-learning/data/ncep_extracted_binary_18x18/EP/00//neg/20170817_12_00_13.2_283.6.nc\n",
      "1/1 [==============================] - 0s 26ms/step\n"
     ]
    },
    {
     "name": "stderr",
     "output_type": "stream",
     "text": [
      "  4%|███▉                                                                                             | 18/447 [00:14<05:17,  1.35it/s]"
     ]
    },
    {
     "name": "stdout",
     "output_type": "stream",
     "text": [
      "TC formation prediction is [[0.00673733]] 0 neg\n",
      "Processing image: /N/project/hurricane-deep-learning/data/ncep_extracted_binary_18x18/EP/00//neg/20021023_18_00_8.7_241.2.nc\n",
      "1/1 [==============================] - 0s 26ms/step\n"
     ]
    },
    {
     "name": "stderr",
     "output_type": "stream",
     "text": [
      "  4%|████                                                                                             | 19/447 [00:14<05:15,  1.35it/s]"
     ]
    },
    {
     "name": "stdout",
     "output_type": "stream",
     "text": [
      "TC formation prediction is [[0.01438993]] 0 neg\n",
      "Processing image: /N/project/hurricane-deep-learning/data/ncep_extracted_binary_18x18/EP/00//neg/20190712_06_00_14.1_290.2.nc\n",
      "1/1 [==============================] - 0s 25ms/step\n"
     ]
    },
    {
     "name": "stderr",
     "output_type": "stream",
     "text": [
      "  4%|████▎                                                                                            | 20/447 [00:15<05:15,  1.36it/s]"
     ]
    },
    {
     "name": "stdout",
     "output_type": "stream",
     "text": [
      "TC formation prediction is [[0.00557033]] 0 neg\n",
      "Processing image: /N/project/hurricane-deep-learning/data/ncep_extracted_binary_18x18/EP/00//neg/20000612_00_00_12.0_291.3.nc\n",
      "1/1 [==============================] - 0s 26ms/step\n"
     ]
    },
    {
     "name": "stderr",
     "output_type": "stream",
     "text": [
      "  5%|████▌                                                                                            | 21/447 [00:16<05:19,  1.34it/s]"
     ]
    },
    {
     "name": "stdout",
     "output_type": "stream",
     "text": [
      "TC formation prediction is [[0.00546172]] 0 neg\n",
      "Processing image: /N/project/hurricane-deep-learning/data/ncep_extracted_binary_18x18/EP/00//neg/20190706_12_00_15.5_280.1.nc\n",
      "1/1 [==============================] - 0s 26ms/step\n"
     ]
    },
    {
     "name": "stderr",
     "output_type": "stream",
     "text": [
      "  5%|████▊                                                                                            | 22/447 [00:17<05:16,  1.34it/s]"
     ]
    },
    {
     "name": "stdout",
     "output_type": "stream",
     "text": [
      "TC formation prediction is [[0.00333591]] 0 neg\n",
      "Processing image: /N/project/hurricane-deep-learning/data/ncep_extracted_binary_18x18/EP/00//neg/20150528_06_00_35.5_225.4.nc\n",
      "1/1 [==============================] - 0s 26ms/step\n"
     ]
    },
    {
     "name": "stderr",
     "output_type": "stream",
     "text": [
      "  5%|████▉                                                                                            | 23/447 [00:17<05:15,  1.34it/s]"
     ]
    },
    {
     "name": "stdout",
     "output_type": "stream",
     "text": [
      "TC formation prediction is [[0.00450493]] 0 neg\n",
      "Processing image: /N/project/hurricane-deep-learning/data/ncep_extracted_binary_18x18/EP/00//neg/20030809_06_00_13.5_283.9.nc\n",
      "1/1 [==============================] - 0s 25ms/step\n"
     ]
    },
    {
     "name": "stderr",
     "output_type": "stream",
     "text": [
      "  5%|█████▏                                                                                           | 24/447 [00:18<05:13,  1.35it/s]"
     ]
    },
    {
     "name": "stdout",
     "output_type": "stream",
     "text": [
      "TC formation prediction is [[0.00654943]] 0 neg\n",
      "Processing image: /N/project/hurricane-deep-learning/data/ncep_extracted_binary_18x18/EP/00//neg/20190802_18_00_12.9_276.6.nc\n",
      "1/1 [==============================] - 0s 25ms/step\n"
     ]
    },
    {
     "name": "stderr",
     "output_type": "stream",
     "text": [
      "  6%|█████▍                                                                                           | 25/447 [00:19<05:11,  1.36it/s]"
     ]
    },
    {
     "name": "stdout",
     "output_type": "stream",
     "text": [
      "TC formation prediction is [[0.00470073]] 0 neg\n",
      "Processing image: /N/project/hurricane-deep-learning/data/ncep_extracted_binary_18x18/EP/00//neg/20060716_18_00_12.3_287.0.nc\n",
      "1/1 [==============================] - 0s 26ms/step\n"
     ]
    },
    {
     "name": "stderr",
     "output_type": "stream",
     "text": [
      "  6%|█████▋                                                                                           | 26/447 [00:20<05:14,  1.34it/s]"
     ]
    },
    {
     "name": "stdout",
     "output_type": "stream",
     "text": [
      "TC formation prediction is [[0.01027357]] 0 neg\n",
      "Processing image: /N/project/hurricane-deep-learning/data/ncep_extracted_binary_18x18/EP/00//neg/20170624_00_00_12.8_298.5.nc\n",
      "1/1 [==============================] - 0s 25ms/step\n"
     ]
    },
    {
     "name": "stderr",
     "output_type": "stream",
     "text": [
      "  6%|█████▊                                                                                           | 27/447 [00:20<05:11,  1.35it/s]"
     ]
    },
    {
     "name": "stdout",
     "output_type": "stream",
     "text": [
      "TC formation prediction is [[0.00711735]] 0 neg\n",
      "Processing image: /N/project/hurricane-deep-learning/data/ncep_extracted_binary_18x18/EP/00//neg/20010525_18_00_13.6_293.9.nc\n",
      "1/1 [==============================] - 0s 25ms/step\n"
     ]
    },
    {
     "name": "stderr",
     "output_type": "stream",
     "text": [
      "  6%|██████                                                                                           | 28/447 [00:21<05:08,  1.36it/s]"
     ]
    },
    {
     "name": "stdout",
     "output_type": "stream",
     "text": [
      "TC formation prediction is [[0.00478695]] 0 neg\n",
      "Processing image: /N/project/hurricane-deep-learning/data/ncep_extracted_binary_18x18/EP/00//neg/20090616_00_00_13.8_291.8.nc\n",
      "1/1 [==============================] - 0s 25ms/step\n"
     ]
    },
    {
     "name": "stderr",
     "output_type": "stream",
     "text": [
      "  6%|██████▎                                                                                          | 29/447 [00:22<05:06,  1.36it/s]"
     ]
    },
    {
     "name": "stdout",
     "output_type": "stream",
     "text": [
      "TC formation prediction is [[0.00671059]] 0 neg\n",
      "Processing image: /N/project/hurricane-deep-learning/data/ncep_extracted_binary_18x18/EP/00//neg/20091014_12_00_7.2_302.2.nc\n",
      "1/1 [==============================] - 0s 25ms/step\n"
     ]
    },
    {
     "name": "stderr",
     "output_type": "stream",
     "text": [
      "  7%|██████▌                                                                                          | 30/447 [00:22<05:04,  1.37it/s]"
     ]
    },
    {
     "name": "stdout",
     "output_type": "stream",
     "text": [
      "TC formation prediction is [[0.01280482]] 0 neg\n",
      "Processing image: /N/project/hurricane-deep-learning/data/ncep_extracted_binary_18x18/EP/00//neg/20130725_00_00_39.6_213.5.nc\n",
      "1/1 [==============================] - 0s 25ms/step\n"
     ]
    },
    {
     "name": "stderr",
     "output_type": "stream",
     "text": [
      "  7%|██████▋                                                                                          | 31/447 [00:23<05:07,  1.35it/s]"
     ]
    },
    {
     "name": "stdout",
     "output_type": "stream",
     "text": [
      "TC formation prediction is [[0.00699559]] 0 neg\n",
      "Processing image: /N/project/hurricane-deep-learning/data/ncep_extracted_binary_18x18/EP/00//neg/20170804_00_00_15.9_289.0.nc\n",
      "1/1 [==============================] - 0s 26ms/step\n"
     ]
    },
    {
     "name": "stderr",
     "output_type": "stream",
     "text": [
      "  7%|██████▉                                                                                          | 32/447 [00:24<05:10,  1.34it/s]"
     ]
    },
    {
     "name": "stdout",
     "output_type": "stream",
     "text": [
      "TC formation prediction is [[0.00696479]] 0 neg\n",
      "Processing image: /N/project/hurricane-deep-learning/data/ncep_extracted_binary_18x18/EP/00//neg/20170531_12_00_13.8_297.1.nc\n",
      "1/1 [==============================] - 0s 26ms/step\n"
     ]
    },
    {
     "name": "stderr",
     "output_type": "stream",
     "text": [
      "  7%|███████▏                                                                                         | 33/447 [00:25<05:06,  1.35it/s]"
     ]
    },
    {
     "name": "stdout",
     "output_type": "stream",
     "text": [
      "TC formation prediction is [[0.00523341]] 0 neg\n",
      "Processing image: /N/project/hurricane-deep-learning/data/ncep_extracted_binary_18x18/EP/00//neg/20071009_00_00_18.8_215.6.nc\n",
      "1/1 [==============================] - 0s 25ms/step\n"
     ]
    },
    {
     "name": "stderr",
     "output_type": "stream",
     "text": [
      "  8%|███████▍                                                                                         | 34/447 [00:25<05:04,  1.36it/s]"
     ]
    },
    {
     "name": "stdout",
     "output_type": "stream",
     "text": [
      "TC formation prediction is [[0.00529173]] 0 neg\n",
      "Processing image: /N/project/hurricane-deep-learning/data/ncep_extracted_binary_18x18/EP/00//neg/20110814_12_00_12.3_268.5.nc\n",
      "1/1 [==============================] - 0s 26ms/step\n"
     ]
    },
    {
     "name": "stderr",
     "output_type": "stream",
     "text": [
      "  8%|███████▌                                                                                         | 35/447 [00:26<05:02,  1.36it/s]"
     ]
    },
    {
     "name": "stdout",
     "output_type": "stream",
     "text": [
      "TC formation prediction is [[0.00615046]] 0 neg\n",
      "Processing image: /N/project/hurricane-deep-learning/data/ncep_extracted_binary_18x18/EP/00//neg/20130820_06_00_13.6_286.8.nc\n",
      "1/1 [==============================] - 0s 25ms/step\n"
     ]
    },
    {
     "name": "stderr",
     "output_type": "stream",
     "text": [
      "  8%|███████▊                                                                                         | 36/447 [00:27<05:02,  1.36it/s]"
     ]
    },
    {
     "name": "stdout",
     "output_type": "stream",
     "text": [
      "TC formation prediction is [[0.00354964]] 0 neg\n",
      "Processing image: /N/project/hurricane-deep-learning/data/ncep_extracted_binary_18x18/EP/00//neg/20090826_18_00_34.4_228.2.nc\n",
      "1/1 [==============================] - 0s 25ms/step\n"
     ]
    },
    {
     "name": "stderr",
     "output_type": "stream",
     "text": [
      "  8%|████████                                                                                         | 37/447 [00:28<05:02,  1.36it/s]"
     ]
    },
    {
     "name": "stdout",
     "output_type": "stream",
     "text": [
      "TC formation prediction is [[0.00479368]] 0 neg\n",
      "Processing image: /N/project/hurricane-deep-learning/data/ncep_extracted_binary_18x18/EP/00//neg/20020826_00_00_14.7_284.6.nc\n",
      "1/1 [==============================] - 0s 25ms/step\n"
     ]
    },
    {
     "name": "stderr",
     "output_type": "stream",
     "text": [
      "  9%|████████▏                                                                                        | 38/447 [00:28<05:00,  1.36it/s]"
     ]
    },
    {
     "name": "stdout",
     "output_type": "stream",
     "text": [
      "TC formation prediction is [[0.01203365]] 0 neg\n",
      "Processing image: /N/project/hurricane-deep-learning/data/ncep_extracted_binary_18x18/EP/00//neg/20170711_18_00_12.2_286.6.nc\n",
      "1/1 [==============================] - 0s 28ms/step\n"
     ]
    },
    {
     "name": "stderr",
     "output_type": "stream",
     "text": [
      "  9%|████████▍                                                                                        | 39/447 [00:29<05:00,  1.36it/s]"
     ]
    },
    {
     "name": "stdout",
     "output_type": "stream",
     "text": [
      "TC formation prediction is [[0.01031794]] 0 neg\n",
      "Processing image: /N/project/hurricane-deep-learning/data/ncep_extracted_binary_18x18/EP/00//neg/20111006_18_00_9.7_303.3.nc\n",
      "1/1 [==============================] - 0s 27ms/step\n"
     ]
    },
    {
     "name": "stderr",
     "output_type": "stream",
     "text": [
      "  9%|████████▋                                                                                        | 40/447 [00:30<04:59,  1.36it/s]"
     ]
    },
    {
     "name": "stdout",
     "output_type": "stream",
     "text": [
      "TC formation prediction is [[0.00315095]] 0 neg\n",
      "Processing image: /N/project/hurricane-deep-learning/data/ncep_extracted_binary_18x18/EP/00//neg/20061021_06_00_15.7_289.4.nc\n",
      "1/1 [==============================] - 0s 25ms/step\n"
     ]
    },
    {
     "name": "stderr",
     "output_type": "stream",
     "text": [
      "  9%|████████▉                                                                                        | 41/447 [00:31<04:57,  1.36it/s]"
     ]
    },
    {
     "name": "stdout",
     "output_type": "stream",
     "text": [
      "TC formation prediction is [[0.00818042]] 0 neg\n",
      "Processing image: /N/project/hurricane-deep-learning/data/ncep_extracted_binary_18x18/EP/00//neg/20020723_06_00_11.6_298.3.nc\n",
      "1/1 [==============================] - 0s 25ms/step\n"
     ]
    },
    {
     "name": "stderr",
     "output_type": "stream",
     "text": [
      "  9%|█████████                                                                                        | 42/447 [00:31<04:55,  1.37it/s]"
     ]
    },
    {
     "name": "stdout",
     "output_type": "stream",
     "text": [
      "TC formation prediction is [[0.00783621]] 0 neg\n",
      "Processing image: /N/project/hurricane-deep-learning/data/ncep_extracted_binary_18x18/EP/00//neg/20090920_18_00_12.9_287.4.nc\n",
      "1/1 [==============================] - 0s 26ms/step\n"
     ]
    },
    {
     "name": "stderr",
     "output_type": "stream",
     "text": [
      " 10%|█████████▎                                                                                       | 43/447 [00:32<04:55,  1.37it/s]"
     ]
    },
    {
     "name": "stdout",
     "output_type": "stream",
     "text": [
      "TC formation prediction is [[0.01185732]] 0 neg\n",
      "Processing image: /N/project/hurricane-deep-learning/data/ncep_extracted_binary_18x18/EP/00//neg/20200825_18_00_15.0_277.5.nc\n",
      "1/1 [==============================] - 0s 26ms/step\n"
     ]
    },
    {
     "name": "stderr",
     "output_type": "stream",
     "text": [
      " 10%|█████████▌                                                                                       | 44/447 [00:33<04:59,  1.34it/s]"
     ]
    },
    {
     "name": "stdout",
     "output_type": "stream",
     "text": [
      "TC formation prediction is [[0.00602132]] 0 neg\n",
      "Processing image: /N/project/hurricane-deep-learning/data/ncep_extracted_binary_18x18/EP/00//neg/20191113_06_00_11.2_283.2.nc\n",
      "1/1 [==============================] - 0s 25ms/step\n"
     ]
    },
    {
     "name": "stderr",
     "output_type": "stream",
     "text": [
      " 10%|█████████▊                                                                                       | 45/447 [00:34<04:58,  1.34it/s]"
     ]
    },
    {
     "name": "stdout",
     "output_type": "stream",
     "text": [
      "TC formation prediction is [[0.01262125]] 0 neg\n",
      "Processing image: /N/project/hurricane-deep-learning/data/ncep_extracted_binary_18x18/EP/00//neg/20110921_06_00_13.4_298.9.nc\n",
      "1/1 [==============================] - 0s 26ms/step\n"
     ]
    },
    {
     "name": "stderr",
     "output_type": "stream",
     "text": [
      " 10%|█████████▉                                                                                       | 46/447 [00:34<04:56,  1.35it/s]"
     ]
    },
    {
     "name": "stdout",
     "output_type": "stream",
     "text": [
      "TC formation prediction is [[0.00610169]] 0 neg\n",
      "Processing image: /N/project/hurricane-deep-learning/data/ncep_extracted_binary_18x18/EP/00//neg/20180609_18_00_12.1_294.5.nc\n",
      "1/1 [==============================] - 0s 26ms/step\n"
     ]
    },
    {
     "name": "stderr",
     "output_type": "stream",
     "text": [
      " 11%|██████████▏                                                                                      | 47/447 [00:35<04:54,  1.36it/s]"
     ]
    },
    {
     "name": "stdout",
     "output_type": "stream",
     "text": [
      "TC formation prediction is [[0.00669197]] 0 neg\n",
      "Processing image: /N/project/hurricane-deep-learning/data/ncep_extracted_binary_18x18/EP/00//neg/20210824_06_00_12.2_300.0.nc\n",
      "1/1 [==============================] - 0s 26ms/step\n"
     ]
    },
    {
     "name": "stderr",
     "output_type": "stream",
     "text": [
      " 11%|██████████▍                                                                                      | 48/447 [00:36<04:59,  1.33it/s]"
     ]
    },
    {
     "name": "stdout",
     "output_type": "stream",
     "text": [
      "TC formation prediction is [[0.00645094]] 0 neg\n",
      "Processing image: /N/project/hurricane-deep-learning/data/ncep_extracted_binary_18x18/EP/00//neg/20190903_06_00_14.6_260.3.nc\n",
      "1/1 [==============================] - 0s 27ms/step\n"
     ]
    },
    {
     "name": "stderr",
     "output_type": "stream",
     "text": [
      " 11%|██████████▋                                                                                      | 49/447 [00:36<04:56,  1.34it/s]"
     ]
    },
    {
     "name": "stdout",
     "output_type": "stream",
     "text": [
      "TC formation prediction is [[0.01145538]] 0 neg\n",
      "Processing image: /N/project/hurricane-deep-learning/data/ncep_extracted_binary_18x18/EP/00//neg/20060815_18_00_12.9_281.5.nc\n",
      "1/1 [==============================] - 0s 26ms/step\n"
     ]
    },
    {
     "name": "stderr",
     "output_type": "stream",
     "text": [
      " 11%|██████████▊                                                                                      | 50/447 [00:37<04:54,  1.35it/s]"
     ]
    },
    {
     "name": "stdout",
     "output_type": "stream",
     "text": [
      "TC formation prediction is [[0.00915023]] 0 neg\n",
      "Processing image: /N/project/hurricane-deep-learning/data/ncep_extracted_binary_18x18/EP/00//neg/20090708_12_00_33.5_229.1.nc\n",
      "1/1 [==============================] - 0s 25ms/step\n"
     ]
    },
    {
     "name": "stderr",
     "output_type": "stream",
     "text": [
      " 11%|███████████                                                                                      | 51/447 [00:38<04:53,  1.35it/s]"
     ]
    },
    {
     "name": "stdout",
     "output_type": "stream",
     "text": [
      "TC formation prediction is [[0.00571144]] 0 neg\n",
      "Processing image: /N/project/hurricane-deep-learning/data/ncep_extracted_binary_18x18/EP/00//neg/20141010_12_00_9.7_266.3.nc\n",
      "1/1 [==============================] - 0s 26ms/step\n"
     ]
    },
    {
     "name": "stderr",
     "output_type": "stream",
     "text": [
      " 12%|███████████▎                                                                                     | 52/447 [00:39<04:51,  1.35it/s]"
     ]
    },
    {
     "name": "stdout",
     "output_type": "stream",
     "text": [
      "TC formation prediction is [[0.01018656]] 0 neg\n",
      "Processing image: /N/project/hurricane-deep-learning/data/ncep_extracted_binary_18x18/EP/00//neg/20140924_00_00_14.5_292.4.nc\n",
      "1/1 [==============================] - 0s 25ms/step\n"
     ]
    },
    {
     "name": "stderr",
     "output_type": "stream",
     "text": [
      " 12%|███████████▌                                                                                     | 53/447 [00:39<04:50,  1.36it/s]"
     ]
    },
    {
     "name": "stdout",
     "output_type": "stream",
     "text": [
      "TC formation prediction is [[0.00675961]] 0 neg\n",
      "Processing image: /N/project/hurricane-deep-learning/data/ncep_extracted_binary_18x18/EP/00//neg/20140722_18_00_10.4_273.6.nc\n",
      "1/1 [==============================] - 0s 26ms/step\n"
     ]
    },
    {
     "name": "stderr",
     "output_type": "stream",
     "text": [
      " 12%|███████████▋                                                                                     | 54/447 [00:40<04:48,  1.36it/s]"
     ]
    },
    {
     "name": "stdout",
     "output_type": "stream",
     "text": [
      "TC formation prediction is [[0.01225127]] 0 neg\n",
      "Processing image: /N/project/hurricane-deep-learning/data/ncep_extracted_binary_18x18/EP/00//neg/20110718_00_00_10.2_306.0.nc\n",
      "1/1 [==============================] - 0s 26ms/step\n"
     ]
    },
    {
     "name": "stderr",
     "output_type": "stream",
     "text": [
      " 12%|███████████▉                                                                                     | 55/447 [00:41<04:52,  1.34it/s]"
     ]
    },
    {
     "name": "stdout",
     "output_type": "stream",
     "text": [
      "TC formation prediction is [[0.01387808]] 0 neg\n",
      "Processing image: /N/project/hurricane-deep-learning/data/ncep_extracted_binary_18x18/EP/00//neg/20070529_18_00_14.2_297.5.nc\n",
      "1/1 [==============================] - 0s 25ms/step\n"
     ]
    },
    {
     "name": "stderr",
     "output_type": "stream",
     "text": [
      " 13%|████████████▏                                                                                    | 56/447 [00:42<04:51,  1.34it/s]"
     ]
    },
    {
     "name": "stdout",
     "output_type": "stream",
     "text": [
      "TC formation prediction is [[0.00446854]] 0 neg\n",
      "Processing image: /N/project/hurricane-deep-learning/data/ncep_extracted_binary_18x18/EP/00//neg/20090728_18_00_10.8_266.2.nc\n",
      "1/1 [==============================] - 0s 27ms/step\n"
     ]
    },
    {
     "name": "stderr",
     "output_type": "stream",
     "text": [
      " 13%|████████████▎                                                                                    | 57/447 [00:42<04:49,  1.35it/s]"
     ]
    },
    {
     "name": "stdout",
     "output_type": "stream",
     "text": [
      "TC formation prediction is [[0.01081035]] 0 neg\n",
      "Processing image: /N/project/hurricane-deep-learning/data/ncep_extracted_binary_18x18/EP/00//neg/20081001_06_00_16.3_279.6.nc\n",
      "1/1 [==============================] - 0s 25ms/step\n"
     ]
    },
    {
     "name": "stderr",
     "output_type": "stream",
     "text": [
      " 13%|████████████▌                                                                                    | 58/447 [00:43<04:50,  1.34it/s]"
     ]
    },
    {
     "name": "stdout",
     "output_type": "stream",
     "text": [
      "TC formation prediction is [[0.00920768]] 0 neg\n",
      "Processing image: /N/project/hurricane-deep-learning/data/ncep_extracted_binary_18x18/EP/00//neg/20080711_18_00_11.1_301.1.nc\n",
      "1/1 [==============================] - 0s 25ms/step\n"
     ]
    },
    {
     "name": "stderr",
     "output_type": "stream",
     "text": [
      " 13%|████████████▊                                                                                    | 59/447 [00:44<04:47,  1.35it/s]"
     ]
    },
    {
     "name": "stdout",
     "output_type": "stream",
     "text": [
      "TC formation prediction is [[0.00557394]] 0 neg\n",
      "Processing image: /N/project/hurricane-deep-learning/data/ncep_extracted_binary_18x18/EP/00//neg/20010620_00_00_11.9_268.5.nc\n",
      "1/1 [==============================] - 0s 25ms/step\n"
     ]
    },
    {
     "name": "stderr",
     "output_type": "stream",
     "text": [
      " 13%|█████████████                                                                                    | 60/447 [00:45<04:45,  1.36it/s]"
     ]
    },
    {
     "name": "stdout",
     "output_type": "stream",
     "text": [
      "TC formation prediction is [[0.0067363]] 0 neg\n",
      "Processing image: /N/project/hurricane-deep-learning/data/ncep_extracted_binary_18x18/EP/00//neg/20210730_12_00_11.9_283.2.nc\n",
      "1/1 [==============================] - 0s 25ms/step\n"
     ]
    },
    {
     "name": "stderr",
     "output_type": "stream",
     "text": [
      " 14%|█████████████▏                                                                                   | 61/447 [00:45<04:44,  1.36it/s]"
     ]
    },
    {
     "name": "stdout",
     "output_type": "stream",
     "text": [
      "TC formation prediction is [[0.00778702]] 0 neg\n",
      "Processing image: /N/project/hurricane-deep-learning/data/ncep_extracted_binary_18x18/EP/00//neg/20191019_12_00_16.9_292.1.nc\n",
      "1/1 [==============================] - 0s 25ms/step\n"
     ]
    },
    {
     "name": "stderr",
     "output_type": "stream",
     "text": [
      " 14%|█████████████▍                                                                                   | 62/447 [00:46<04:43,  1.36it/s]"
     ]
    },
    {
     "name": "stdout",
     "output_type": "stream",
     "text": [
      "TC formation prediction is [[0.00557031]] 0 neg\n",
      "Processing image: /N/project/hurricane-deep-learning/data/ncep_extracted_binary_18x18/EP/00//neg/20000722_12_00_34.7_284.7.nc\n",
      "1/1 [==============================] - 0s 25ms/step\n"
     ]
    },
    {
     "name": "stderr",
     "output_type": "stream",
     "text": [
      " 14%|█████████████▋                                                                                   | 63/447 [00:47<04:49,  1.33it/s]"
     ]
    },
    {
     "name": "stdout",
     "output_type": "stream",
     "text": [
      "TC formation prediction is [[0.00873561]] 0 neg\n",
      "Processing image: /N/project/hurricane-deep-learning/data/ncep_extracted_binary_18x18/EP/00//neg/20091015_12_00_47.3_229.7.nc\n",
      "1/1 [==============================] - 0s 25ms/step\n"
     ]
    },
    {
     "name": "stderr",
     "output_type": "stream",
     "text": [
      " 14%|█████████████▉                                                                                   | 64/447 [00:48<04:47,  1.33it/s]"
     ]
    },
    {
     "name": "stdout",
     "output_type": "stream",
     "text": [
      "TC formation prediction is [[0.00967668]] 0 neg\n",
      "Processing image: /N/project/hurricane-deep-learning/data/ncep_extracted_binary_18x18/EP/00//neg/20081004_00_00_13.5_295.9.nc\n",
      "1/1 [==============================] - 0s 26ms/step\n"
     ]
    },
    {
     "name": "stderr",
     "output_type": "stream",
     "text": [
      " 15%|██████████████                                                                                   | 65/447 [00:48<04:45,  1.34it/s]"
     ]
    },
    {
     "name": "stdout",
     "output_type": "stream",
     "text": [
      "TC formation prediction is [[0.00555787]] 0 neg\n",
      "Processing image: /N/project/hurricane-deep-learning/data/ncep_extracted_binary_18x18/EP/00//neg/20030811_00_00_12.5_258.5.nc\n",
      "1/1 [==============================] - 0s 26ms/step\n"
     ]
    },
    {
     "name": "stderr",
     "output_type": "stream",
     "text": [
      " 15%|██████████████▎                                                                                  | 66/447 [00:49<04:42,  1.35it/s]"
     ]
    },
    {
     "name": "stdout",
     "output_type": "stream",
     "text": [
      "TC formation prediction is [[0.0047444]] 0 neg\n",
      "Processing image: /N/project/hurricane-deep-learning/data/ncep_extracted_binary_18x18/EP/00//neg/20170611_12_00_14.0_300.3.nc\n",
      "1/1 [==============================] - 0s 26ms/step\n"
     ]
    },
    {
     "name": "stderr",
     "output_type": "stream",
     "text": [
      " 15%|██████████████▌                                                                                  | 67/447 [00:50<04:43,  1.34it/s]"
     ]
    },
    {
     "name": "stdout",
     "output_type": "stream",
     "text": [
      "TC formation prediction is [[0.00992777]] 0 neg\n",
      "Processing image: /N/project/hurricane-deep-learning/data/ncep_extracted_binary_18x18/EP/00//neg/19990815_12_00_34.7_227.3.nc\n",
      "1/1 [==============================] - 0s 26ms/step\n"
     ]
    },
    {
     "name": "stderr",
     "output_type": "stream",
     "text": [
      " 15%|██████████████▊                                                                                  | 68/447 [00:51<04:41,  1.35it/s]"
     ]
    },
    {
     "name": "stdout",
     "output_type": "stream",
     "text": [
      "TC formation prediction is [[0.00910995]] 0 neg\n",
      "Processing image: /N/project/hurricane-deep-learning/data/ncep_extracted_binary_18x18/EP/00//neg/20070919_06_00_40.8_208.5.nc\n",
      "1/1 [==============================] - 0s 25ms/step\n"
     ]
    },
    {
     "name": "stderr",
     "output_type": "stream",
     "text": [
      " 15%|██████████████▉                                                                                  | 69/447 [00:51<04:39,  1.35it/s]"
     ]
    },
    {
     "name": "stdout",
     "output_type": "stream",
     "text": [
      "TC formation prediction is [[0.00737997]] 0 neg\n",
      "Processing image: /N/project/hurricane-deep-learning/data/ncep_extracted_binary_18x18/EP/00//neg/20080902_06_00_18.6_285.0.nc\n",
      "1/1 [==============================] - 0s 26ms/step\n"
     ]
    },
    {
     "name": "stderr",
     "output_type": "stream",
     "text": [
      " 16%|███████████████▏                                                                                 | 70/447 [00:52<04:42,  1.33it/s]"
     ]
    },
    {
     "name": "stdout",
     "output_type": "stream",
     "text": [
      "TC formation prediction is [[0.01124399]] 0 neg\n",
      "Processing image: /N/project/hurricane-deep-learning/data/ncep_extracted_binary_18x18/EP/00//neg/20040712_12_00_14.6_289.5.nc\n",
      "1/1 [==============================] - 0s 25ms/step\n"
     ]
    },
    {
     "name": "stderr",
     "output_type": "stream",
     "text": [
      " 16%|███████████████▍                                                                                 | 71/447 [00:53<04:40,  1.34it/s]"
     ]
    },
    {
     "name": "stdout",
     "output_type": "stream",
     "text": [
      "TC formation prediction is [[0.00462092]] 0 neg\n",
      "Processing image: /N/project/hurricane-deep-learning/data/ncep_extracted_binary_18x18/EP/00//neg/20060801_00_00_12.8_291.2.nc\n",
      "1/1 [==============================] - 0s 25ms/step\n"
     ]
    },
    {
     "name": "stderr",
     "output_type": "stream",
     "text": [
      " 16%|███████████████▌                                                                                 | 72/447 [00:54<04:38,  1.35it/s]"
     ]
    },
    {
     "name": "stdout",
     "output_type": "stream",
     "text": [
      "TC formation prediction is [[0.00847521]] 0 neg\n",
      "Processing image: /N/project/hurricane-deep-learning/data/ncep_extracted_binary_18x18/EP/00//neg/20180813_12_00_10.9_280.3.nc\n",
      "1/1 [==============================] - 0s 27ms/step\n"
     ]
    },
    {
     "name": "stderr",
     "output_type": "stream",
     "text": [
      " 16%|███████████████▊                                                                                 | 73/447 [00:54<04:39,  1.34it/s]"
     ]
    },
    {
     "name": "stdout",
     "output_type": "stream",
     "text": [
      "TC formation prediction is [[0.00365865]] 0 neg\n",
      "Processing image: /N/project/hurricane-deep-learning/data/ncep_extracted_binary_18x18/EP/00//neg/20200920_18_00_15.7_287.0.nc\n",
      "1/1 [==============================] - 0s 27ms/step\n"
     ]
    },
    {
     "name": "stderr",
     "output_type": "stream",
     "text": [
      " 17%|████████████████                                                                                 | 74/447 [00:55<04:40,  1.33it/s]"
     ]
    },
    {
     "name": "stdout",
     "output_type": "stream",
     "text": [
      "TC formation prediction is [[0.0140809]] 0 neg\n",
      "Processing image: /N/project/hurricane-deep-learning/data/ncep_extracted_binary_18x18/EP/00//neg/20000719_00_00_11.0_259.0.nc\n",
      "1/1 [==============================] - 0s 26ms/step\n"
     ]
    },
    {
     "name": "stderr",
     "output_type": "stream",
     "text": [
      " 17%|████████████████▎                                                                                | 75/447 [00:56<04:47,  1.30it/s]"
     ]
    },
    {
     "name": "stdout",
     "output_type": "stream",
     "text": [
      "TC formation prediction is [[0.00898331]] 0 neg\n",
      "Processing image: /N/project/hurricane-deep-learning/data/ncep_extracted_binary_18x18/EP/00//neg/20060527_06_00_14.6_293.5.nc\n",
      "1/1 [==============================] - 0s 25ms/step\n"
     ]
    },
    {
     "name": "stderr",
     "output_type": "stream",
     "text": [
      " 17%|████████████████▍                                                                                | 76/447 [00:57<04:42,  1.31it/s]"
     ]
    },
    {
     "name": "stdout",
     "output_type": "stream",
     "text": [
      "TC formation prediction is [[0.0086486]] 0 neg\n",
      "Processing image: /N/project/hurricane-deep-learning/data/ncep_extracted_binary_18x18/EP/00//neg/20050704_00_00_14.9_295.8.nc\n",
      "1/1 [==============================] - 0s 27ms/step\n"
     ]
    },
    {
     "name": "stderr",
     "output_type": "stream",
     "text": [
      " 17%|████████████████▋                                                                                | 77/447 [00:57<04:37,  1.33it/s]"
     ]
    },
    {
     "name": "stdout",
     "output_type": "stream",
     "text": [
      "TC formation prediction is [[0.01126196]] 0 neg\n",
      "Processing image: /N/project/hurricane-deep-learning/data/ncep_extracted_binary_18x18/EP/00//neg/20140812_12_00_15.1_290.0.nc\n",
      "1/1 [==============================] - 0s 28ms/step\n"
     ]
    },
    {
     "name": "stderr",
     "output_type": "stream",
     "text": [
      " 17%|████████████████▉                                                                                | 78/447 [00:58<04:39,  1.32it/s]"
     ]
    },
    {
     "name": "stdout",
     "output_type": "stream",
     "text": [
      "TC formation prediction is [[0.00396704]] 0 neg\n",
      "Processing image: /N/project/hurricane-deep-learning/data/ncep_extracted_binary_18x18/EP/00//neg/20220610_00_00_11.8_301.0.nc\n",
      "1/1 [==============================] - 0s 26ms/step\n"
     ]
    },
    {
     "name": "stderr",
     "output_type": "stream",
     "text": [
      " 18%|█████████████████▏                                                                               | 79/447 [00:59<04:41,  1.31it/s]"
     ]
    },
    {
     "name": "stdout",
     "output_type": "stream",
     "text": [
      "TC formation prediction is [[0.01127313]] 0 neg\n",
      "Processing image: /N/project/hurricane-deep-learning/data/ncep_extracted_binary_18x18/EP/00//neg/20040726_12_00_12.2_282.2.nc\n",
      "1/1 [==============================] - 0s 26ms/step\n"
     ]
    },
    {
     "name": "stderr",
     "output_type": "stream",
     "text": [
      " 18%|█████████████████▎                                                                               | 80/447 [01:00<04:38,  1.32it/s]"
     ]
    },
    {
     "name": "stdout",
     "output_type": "stream",
     "text": [
      "TC formation prediction is [[0.00648252]] 0 neg\n",
      "Processing image: /N/project/hurricane-deep-learning/data/ncep_extracted_binary_18x18/EP/00//neg/20090822_18_00_14.3_286.9.nc\n",
      "1/1 [==============================] - 0s 27ms/step\n"
     ]
    },
    {
     "name": "stderr",
     "output_type": "stream",
     "text": [
      " 18%|█████████████████▌                                                                               | 81/447 [01:00<04:34,  1.33it/s]"
     ]
    },
    {
     "name": "stdout",
     "output_type": "stream",
     "text": [
      "TC formation prediction is [[0.00394182]] 0 neg\n",
      "Processing image: /N/project/hurricane-deep-learning/data/ncep_extracted_binary_18x18/EP/00//neg/20050809_12_00_14.0_281.2.nc\n",
      "1/1 [==============================] - 0s 26ms/step\n"
     ]
    },
    {
     "name": "stderr",
     "output_type": "stream",
     "text": [
      " 18%|█████████████████▊                                                                               | 82/447 [01:01<04:36,  1.32it/s]"
     ]
    },
    {
     "name": "stdout",
     "output_type": "stream",
     "text": [
      "TC formation prediction is [[0.00865257]] 0 neg\n",
      "Processing image: /N/project/hurricane-deep-learning/data/ncep_extracted_binary_18x18/EP/00//neg/20080804_12_00_10.4_258.8.nc\n",
      "1/1 [==============================] - 0s 27ms/step\n"
     ]
    },
    {
     "name": "stderr",
     "output_type": "stream",
     "text": [
      " 19%|██████████████████                                                                               | 83/447 [01:02<04:33,  1.33it/s]"
     ]
    },
    {
     "name": "stdout",
     "output_type": "stream",
     "text": [
      "TC formation prediction is [[0.00434653]] 0 neg\n",
      "Processing image: /N/project/hurricane-deep-learning/data/ncep_extracted_binary_18x18/EP/00//neg/20030617_00_00_15.9_291.8.nc\n",
      "1/1 [==============================] - 0s 26ms/step\n"
     ]
    },
    {
     "name": "stderr",
     "output_type": "stream",
     "text": [
      " 19%|██████████████████▏                                                                              | 84/447 [01:03<04:30,  1.34it/s]"
     ]
    },
    {
     "name": "stdout",
     "output_type": "stream",
     "text": [
      "TC formation prediction is [[0.00763989]] 0 neg\n",
      "Processing image: /N/project/hurricane-deep-learning/data/ncep_extracted_binary_18x18/EP/00//neg/20000828_06_00_14.9_257.6.nc\n",
      "1/1 [==============================] - 0s 26ms/step\n"
     ]
    },
    {
     "name": "stderr",
     "output_type": "stream",
     "text": [
      " 19%|██████████████████▍                                                                              | 85/447 [01:03<04:30,  1.34it/s]"
     ]
    },
    {
     "name": "stdout",
     "output_type": "stream",
     "text": [
      "TC formation prediction is [[0.0149414]] 0 neg\n",
      "Processing image: /N/project/hurricane-deep-learning/data/ncep_extracted_binary_18x18/EP/00//neg/20151118_06_00_12.9_287.9.nc\n",
      "1/1 [==============================] - 0s 25ms/step\n"
     ]
    },
    {
     "name": "stderr",
     "output_type": "stream",
     "text": [
      " 19%|██████████████████▋                                                                              | 86/447 [01:04<04:28,  1.34it/s]"
     ]
    },
    {
     "name": "stdout",
     "output_type": "stream",
     "text": [
      "TC formation prediction is [[0.00519187]] 0 neg\n",
      "Processing image: /N/project/hurricane-deep-learning/data/ncep_extracted_binary_18x18/EP/00//neg/20060830_00_00_16.0_281.0.nc\n",
      "1/1 [==============================] - 0s 26ms/step\n"
     ]
    },
    {
     "name": "stderr",
     "output_type": "stream",
     "text": [
      " 19%|██████████████████▉                                                                              | 87/447 [01:05<04:34,  1.31it/s]"
     ]
    },
    {
     "name": "stdout",
     "output_type": "stream",
     "text": [
      "TC formation prediction is [[0.00494567]] 0 neg\n",
      "Processing image: /N/project/hurricane-deep-learning/data/ncep_extracted_binary_18x18/EP/00//neg/20010713_06_00_15.0_286.6.nc\n",
      "1/1 [==============================] - 0s 26ms/step\n"
     ]
    },
    {
     "name": "stderr",
     "output_type": "stream",
     "text": [
      " 20%|███████████████████                                                                              | 88/447 [01:06<04:35,  1.30it/s]"
     ]
    },
    {
     "name": "stdout",
     "output_type": "stream",
     "text": [
      "TC formation prediction is [[0.00975521]] 0 neg\n",
      "Processing image: /N/project/hurricane-deep-learning/data/ncep_extracted_binary_18x18/EP/00//neg/20170509_18_00_9.3_303.8.nc\n",
      "1/1 [==============================] - 0s 25ms/step\n"
     ]
    },
    {
     "name": "stderr",
     "output_type": "stream",
     "text": [
      " 20%|███████████████████▎                                                                             | 89/447 [01:06<04:31,  1.32it/s]"
     ]
    },
    {
     "name": "stdout",
     "output_type": "stream",
     "text": [
      "TC formation prediction is [[0.00790665]] 0 neg\n",
      "Processing image: /N/project/hurricane-deep-learning/data/ncep_extracted_binary_18x18/EP/00//neg/20030717_18_00_14.0_289.7.nc\n",
      "1/1 [==============================] - 0s 27ms/step\n"
     ]
    },
    {
     "name": "stderr",
     "output_type": "stream",
     "text": [
      " 20%|███████████████████▌                                                                             | 90/447 [01:07<04:32,  1.31it/s]"
     ]
    },
    {
     "name": "stdout",
     "output_type": "stream",
     "text": [
      "TC formation prediction is [[0.00464565]] 0 neg\n",
      "Processing image: /N/project/hurricane-deep-learning/data/ncep_extracted_binary_18x18/EP/00//neg/20070527_00_00_12.8_284.4.nc\n",
      "1/1 [==============================] - 0s 25ms/step\n"
     ]
    },
    {
     "name": "stderr",
     "output_type": "stream",
     "text": [
      " 20%|███████████████████▋                                                                             | 91/447 [01:08<04:28,  1.32it/s]"
     ]
    },
    {
     "name": "stdout",
     "output_type": "stream",
     "text": [
      "TC formation prediction is [[0.03157235]] 0 neg\n",
      "Processing image: /N/project/hurricane-deep-learning/data/ncep_extracted_binary_18x18/EP/00//neg/20181019_00_00_13.0_303.5.nc\n",
      "1/1 [==============================] - 0s 26ms/step\n"
     ]
    },
    {
     "name": "stderr",
     "output_type": "stream",
     "text": [
      " 21%|███████████████████▉                                                                             | 92/447 [01:09<04:29,  1.32it/s]"
     ]
    },
    {
     "name": "stdout",
     "output_type": "stream",
     "text": [
      "TC formation prediction is [[0.01367715]] 0 neg\n",
      "Processing image: /N/project/hurricane-deep-learning/data/ncep_extracted_binary_18x18/EP/00//neg/20061111_00_00_13.1_282.7.nc\n",
      "1/1 [==============================] - 0s 26ms/step\n"
     ]
    },
    {
     "name": "stderr",
     "output_type": "stream",
     "text": [
      " 21%|████████████████████▏                                                                            | 93/447 [01:09<04:25,  1.33it/s]"
     ]
    },
    {
     "name": "stdout",
     "output_type": "stream",
     "text": [
      "TC formation prediction is [[0.01786423]] 0 neg\n",
      "Processing image: /N/project/hurricane-deep-learning/data/ncep_extracted_binary_18x18/EP/00//neg/20070722_00_00_12.5_290.4.nc\n",
      "1/1 [==============================] - 0s 26ms/step\n"
     ]
    },
    {
     "name": "stderr",
     "output_type": "stream",
     "text": [
      " 21%|████████████████████▍                                                                            | 94/447 [01:10<04:24,  1.34it/s]"
     ]
    },
    {
     "name": "stdout",
     "output_type": "stream",
     "text": [
      "TC formation prediction is [[0.00633035]] 0 neg\n",
      "Processing image: /N/project/hurricane-deep-learning/data/ncep_extracted_binary_18x18/EP/00//neg/20050802_18_00_14.3_259.1.nc\n",
      "1/1 [==============================] - 0s 25ms/step\n"
     ]
    },
    {
     "name": "stderr",
     "output_type": "stream",
     "text": [
      " 21%|████████████████████▌                                                                            | 95/447 [01:11<04:21,  1.35it/s]"
     ]
    },
    {
     "name": "stdout",
     "output_type": "stream",
     "text": [
      "TC formation prediction is [[0.0056644]] 0 neg\n",
      "Processing image: /N/project/hurricane-deep-learning/data/ncep_extracted_binary_18x18/EP/00//neg/20150722_12_00_15.9_281.6.nc\n",
      "1/1 [==============================] - 0s 26ms/step\n"
     ]
    },
    {
     "name": "stderr",
     "output_type": "stream",
     "text": [
      " 21%|████████████████████▊                                                                            | 96/447 [01:12<04:19,  1.35it/s]"
     ]
    },
    {
     "name": "stdout",
     "output_type": "stream",
     "text": [
      "TC formation prediction is [[0.00588745]] 0 neg\n",
      "Processing image: /N/project/hurricane-deep-learning/data/ncep_extracted_binary_18x18/EP/00//neg/20180925_06_00_14.4_288.1.nc\n",
      "1/1 [==============================] - 0s 27ms/step\n"
     ]
    },
    {
     "name": "stderr",
     "output_type": "stream",
     "text": [
      " 22%|█████████████████████                                                                            | 97/447 [01:12<04:19,  1.35it/s]"
     ]
    },
    {
     "name": "stdout",
     "output_type": "stream",
     "text": [
      "TC formation prediction is [[0.00304221]] 0 neg\n",
      "Processing image: /N/project/hurricane-deep-learning/data/ncep_extracted_binary_18x18/EP/00//neg/20210906_18_00_17.1_289.2.nc\n",
      "1/1 [==============================] - 0s 28ms/step\n"
     ]
    },
    {
     "name": "stderr",
     "output_type": "stream",
     "text": [
      " 22%|█████████████████████▎                                                                           | 98/447 [01:13<04:20,  1.34it/s]"
     ]
    },
    {
     "name": "stdout",
     "output_type": "stream",
     "text": [
      "TC formation prediction is [[0.00435032]] 0 neg\n",
      "Processing image: /N/project/hurricane-deep-learning/data/ncep_extracted_binary_18x18/EP/00//neg/20061113_18_00_12.3_291.4.nc\n",
      "1/1 [==============================] - 0s 27ms/step\n"
     ]
    },
    {
     "name": "stderr",
     "output_type": "stream",
     "text": [
      " 22%|█████████████████████▍                                                                           | 99/447 [01:14<04:18,  1.35it/s]"
     ]
    },
    {
     "name": "stdout",
     "output_type": "stream",
     "text": [
      "TC formation prediction is [[0.00596175]] 0 neg\n",
      "Processing image: /N/project/hurricane-deep-learning/data/ncep_extracted_binary_18x18/EP/00//neg/20060925_00_00_10.0_222.1.nc\n",
      "1/1 [==============================] - 0s 27ms/step\n"
     ]
    },
    {
     "name": "stderr",
     "output_type": "stream",
     "text": [
      " 22%|█████████████████████▍                                                                          | 100/447 [01:15<04:21,  1.33it/s]"
     ]
    },
    {
     "name": "stdout",
     "output_type": "stream",
     "text": [
      "TC formation prediction is [[0.01030374]] 0 neg\n",
      "Processing image: /N/project/hurricane-deep-learning/data/ncep_extracted_binary_18x18/EP/00//neg/20210806_12_00_15.0_293.1.nc\n",
      "1/1 [==============================] - 0s 26ms/step\n"
     ]
    },
    {
     "name": "stderr",
     "output_type": "stream",
     "text": [
      " 22%|█████████████████████▍                                                                          | 100/447 [01:15<04:23,  1.32it/s]\n"
     ]
    },
    {
     "name": "stdout",
     "output_type": "stream",
     "text": [
      "TC formation prediction is [[0.00366409]] 0 neg\n"
     ]
    },
    {
     "name": "stderr",
     "output_type": "stream",
     "text": [
      "  0%|                                                                                                         | 0/2205 [00:00<?, ?it/s]"
     ]
    },
    {
     "name": "stdout",
     "output_type": "stream",
     "text": [
      "Processing image: /N/project/hurricane-deep-learning/data/ncep_extracted_binary_18x18/EP/00//pos/20000723_00_00_11.1_266.0_2000206N11266.nc\n",
      "1/1 [==============================] - 0s 26ms/step\n"
     ]
    },
    {
     "name": "stderr",
     "output_type": "stream",
     "text": [
      "  0%|                                                                                                 | 1/2205 [00:00<28:14,  1.30it/s]"
     ]
    },
    {
     "name": "stdout",
     "output_type": "stream",
     "text": [
      "TC formation prediction is [[0.01279149]] 0 neg\n",
      "Processing image: /N/project/hurricane-deep-learning/data/ncep_extracted_binary_18x18/EP/00//pos/20030717_18_00_14.0_254.7_2003199N14255.nc\n",
      "1/1 [==============================] - 0s 26ms/step\n"
     ]
    },
    {
     "name": "stderr",
     "output_type": "stream",
     "text": [
      "  0%|                                                                                                 | 2/2205 [00:01<28:08,  1.30it/s]"
     ]
    },
    {
     "name": "stdout",
     "output_type": "stream",
     "text": [
      "TC formation prediction is [[0.02013073]] 0 neg\n",
      "Processing image: /N/project/hurricane-deep-learning/data/ncep_extracted_binary_18x18/EP/00//pos/20180813_12_00_10.9_245.3_2018226N11245.nc\n",
      "1/1 [==============================] - 0s 26ms/step\n"
     ]
    },
    {
     "name": "stderr",
     "output_type": "stream",
     "text": [
      "  0%|▏                                                                                                | 3/2205 [00:02<27:40,  1.33it/s]"
     ]
    },
    {
     "name": "stdout",
     "output_type": "stream",
     "text": [
      "TC formation prediction is [[0.02790524]] 0 neg\n",
      "Processing image: /N/project/hurricane-deep-learning/data/ncep_extracted_binary_18x18/EP/00//pos/20001031_18_00_10.3_270.2_2000309N10270.nc\n",
      "1/1 [==============================] - 0s 25ms/step\n"
     ]
    },
    {
     "name": "stderr",
     "output_type": "stream",
     "text": [
      "  0%|▏                                                                                                | 4/2205 [00:03<27:27,  1.34it/s]"
     ]
    },
    {
     "name": "stdout",
     "output_type": "stream",
     "text": [
      "TC formation prediction is [[0.00489827]] 0 neg\n",
      "Processing image: /N/project/hurricane-deep-learning/data/ncep_extracted_binary_18x18/EP/00//pos/20050823_18_00_16.9_255.3_2005238N17255.nc\n",
      "1/1 [==============================] - 0s 27ms/step\n"
     ]
    },
    {
     "name": "stderr",
     "output_type": "stream",
     "text": [
      "  0%|▏                                                                                                | 5/2205 [00:03<27:13,  1.35it/s]"
     ]
    },
    {
     "name": "stdout",
     "output_type": "stream",
     "text": [
      "TC formation prediction is [[0.01420897]] 0 neg\n",
      "Processing image: /N/project/hurricane-deep-learning/data/ncep_extracted_binary_18x18/EP/00//pos/20170707_12_00_11.2_250.0_2017189N11250.nc\n",
      "1/1 [==============================] - 0s 26ms/step\n"
     ]
    },
    {
     "name": "stderr",
     "output_type": "stream",
     "text": [
      "  0%|▎                                                                                                | 6/2205 [00:04<27:31,  1.33it/s]"
     ]
    },
    {
     "name": "stdout",
     "output_type": "stream",
     "text": [
      "TC formation prediction is [[0.00672663]] 0 neg\n",
      "Processing image: /N/project/hurricane-deep-learning/data/ncep_extracted_binary_18x18/EP/00//pos/20010930_12_00_13.7_239.7_2001276N14240.nc\n",
      "1/1 [==============================] - 0s 26ms/step\n"
     ]
    },
    {
     "name": "stderr",
     "output_type": "stream",
     "text": [
      "  0%|▎                                                                                                | 7/2205 [00:05<27:24,  1.34it/s]"
     ]
    },
    {
     "name": "stdout",
     "output_type": "stream",
     "text": [
      "TC formation prediction is [[0.00628486]] 0 neg\n",
      "Processing image: /N/project/hurricane-deep-learning/data/ncep_extracted_binary_18x18/EP/00//pos/20030806_06_00_16.0_244.3_2003219N16244.nc\n",
      "1/1 [==============================] - 0s 26ms/step\n"
     ]
    },
    {
     "name": "stderr",
     "output_type": "stream",
     "text": [
      "  0%|▎                                                                                                | 8/2205 [00:06<27:44,  1.32it/s]"
     ]
    },
    {
     "name": "stdout",
     "output_type": "stream",
     "text": [
      "TC formation prediction is [[0.00394202]] 0 neg\n",
      "Processing image: /N/project/hurricane-deep-learning/data/ncep_extracted_binary_18x18/EP/00//pos/20060531_12_00_15.7_257.0_2006155N16257.nc\n",
      "1/1 [==============================] - 0s 29ms/step\n"
     ]
    },
    {
     "name": "stderr",
     "output_type": "stream",
     "text": [
      "  0%|▍                                                                                                | 9/2205 [00:06<27:51,  1.31it/s]"
     ]
    },
    {
     "name": "stdout",
     "output_type": "stream",
     "text": [
      "TC formation prediction is [[0.00877685]] 0 neg\n",
      "Processing image: /N/project/hurricane-deep-learning/data/ncep_extracted_binary_18x18/EP/00//pos/20040702_12_00_6.0_203.0_2004186N06203.nc\n",
      "1/1 [==============================] - 0s 25ms/step\n"
     ]
    },
    {
     "name": "stderr",
     "output_type": "stream",
     "text": [
      "  0%|▍                                                                                               | 10/2205 [00:07<28:21,  1.29it/s]"
     ]
    },
    {
     "name": "stdout",
     "output_type": "stream",
     "text": [
      "TC formation prediction is [[0.01505448]] 0 neg\n",
      "Processing image: /N/project/hurricane-deep-learning/data/ncep_extracted_binary_18x18/EP/00//pos/20061111_00_00_12.3_256.4_2006318N12256.nc\n",
      "1/1 [==============================] - 0s 25ms/step\n"
     ]
    },
    {
     "name": "stderr",
     "output_type": "stream",
     "text": [
      "  0%|▍                                                                                               | 11/2205 [00:08<27:57,  1.31it/s]"
     ]
    },
    {
     "name": "stdout",
     "output_type": "stream",
     "text": [
      "TC formation prediction is [[0.01337683]] 0 neg\n",
      "Processing image: /N/project/hurricane-deep-learning/data/ncep_extracted_binary_18x18/EP/00//pos/20000519_12_00_12.0_262.2_2000142N12262.nc\n",
      "1/1 [==============================] - 0s 25ms/step\n"
     ]
    },
    {
     "name": "stderr",
     "output_type": "stream",
     "text": [
      "  1%|▌                                                                                               | 12/2205 [00:09<27:56,  1.31it/s]"
     ]
    },
    {
     "name": "stdout",
     "output_type": "stream",
     "text": [
      "TC formation prediction is [[0.00987659]] 0 neg\n",
      "Processing image: /N/project/hurricane-deep-learning/data/ncep_extracted_binary_18x18/EP/00//pos/20030928_18_00_15.7_251.9_2003275N16252.nc\n",
      "1/1 [==============================] - 0s 26ms/step\n"
     ]
    },
    {
     "name": "stderr",
     "output_type": "stream",
     "text": [
      "  1%|▌                                                                                               | 13/2205 [00:09<27:33,  1.33it/s]"
     ]
    },
    {
     "name": "stdout",
     "output_type": "stream",
     "text": [
      "TC formation prediction is [[0.00951282]] 0 neg\n",
      "Processing image: /N/project/hurricane-deep-learning/data/ncep_extracted_binary_18x18/EP/00//pos/20061105_06_00_12.7_256.3_2006312N13256.nc\n",
      "1/1 [==============================] - 0s 26ms/step\n"
     ]
    },
    {
     "name": "stderr",
     "output_type": "stream",
     "text": [
      "  1%|▌                                                                                               | 14/2205 [00:10<27:20,  1.34it/s]"
     ]
    },
    {
     "name": "stdout",
     "output_type": "stream",
     "text": [
      "TC formation prediction is [[0.0106426]] 0 neg\n",
      "Processing image: /N/project/hurricane-deep-learning/data/ncep_extracted_binary_18x18/EP/00//pos/20050917_12_00_12.5_245.1_2005261N13245.nc\n",
      "1/1 [==============================] - 0s 26ms/step\n"
     ]
    },
    {
     "name": "stderr",
     "output_type": "stream",
     "text": [
      "  1%|▋                                                                                               | 15/2205 [00:11<27:05,  1.35it/s]"
     ]
    },
    {
     "name": "stdout",
     "output_type": "stream",
     "text": [
      "TC formation prediction is [[0.00795345]] 0 neg\n",
      "Processing image: /N/project/hurricane-deep-learning/data/ncep_extracted_binary_18x18/EP/00//pos/20020820_00_00_12.8_253.1_2002234N13253.nc\n",
      "1/1 [==============================] - 0s 27ms/step\n"
     ]
    },
    {
     "name": "stderr",
     "output_type": "stream",
     "text": [
      "  1%|▋                                                                                               | 16/2205 [00:12<26:56,  1.35it/s]"
     ]
    },
    {
     "name": "stdout",
     "output_type": "stream",
     "text": [
      "TC formation prediction is [[0.00681519]] 0 neg\n",
      "Processing image: /N/project/hurricane-deep-learning/data/ncep_extracted_binary_18x18/EP/00//pos/19990815_00_00_10.0_252.0_1999228N10252.nc\n",
      "1/1 [==============================] - 0s 25ms/step\n"
     ]
    },
    {
     "name": "stderr",
     "output_type": "stream",
     "text": [
      "  1%|▋                                                                                               | 17/2205 [00:12<27:38,  1.32it/s]"
     ]
    },
    {
     "name": "stdout",
     "output_type": "stream",
     "text": [
      "TC formation prediction is [[0.00953061]] 0 neg\n",
      "Processing image: /N/project/hurricane-deep-learning/data/ncep_extracted_binary_18x18/EP/00//pos/20010820_06_00_17.1_224.6_2001235N17225.nc\n",
      "1/1 [==============================] - 0s 25ms/step\n"
     ]
    },
    {
     "name": "stderr",
     "output_type": "stream",
     "text": [
      "  1%|▊                                                                                               | 18/2205 [00:13<27:21,  1.33it/s]"
     ]
    },
    {
     "name": "stdout",
     "output_type": "stream",
     "text": [
      "TC formation prediction is [[0.00548538]] 0 neg\n",
      "Processing image: /N/project/hurricane-deep-learning/data/ncep_extracted_binary_18x18/EP/00//pos/20180614_18_00_14.9_260.0_2018166N15260.nc\n",
      "1/1 [==============================] - 0s 26ms/step\n"
     ]
    },
    {
     "name": "stderr",
     "output_type": "stream",
     "text": [
      "  1%|▊                                                                                               | 19/2205 [00:14<27:37,  1.32it/s]"
     ]
    },
    {
     "name": "stdout",
     "output_type": "stream",
     "text": [
      "TC formation prediction is [[0.00978277]] 0 neg\n",
      "Processing image: /N/project/hurricane-deep-learning/data/ncep_extracted_binary_18x18/EP/00//pos/20050819_18_00_13.3_263.4_2005232N13263.nc\n",
      "1/1 [==============================] - 0s 26ms/step\n"
     ]
    },
    {
     "name": "stderr",
     "output_type": "stream",
     "text": [
      "  1%|▊                                                                                               | 20/2205 [00:15<27:20,  1.33it/s]"
     ]
    },
    {
     "name": "stdout",
     "output_type": "stream",
     "text": [
      "TC formation prediction is [[0.01772129]] 0 neg\n",
      "Processing image: /N/project/hurricane-deep-learning/data/ncep_extracted_binary_18x18/EP/00//pos/20070917_06_00_12.7_253.7_2007261N13254.nc\n",
      "1/1 [==============================] - 0s 25ms/step\n"
     ]
    },
    {
     "name": "stderr",
     "output_type": "stream",
     "text": [
      "  1%|▉                                                                                               | 21/2205 [00:15<27:07,  1.34it/s]"
     ]
    },
    {
     "name": "stdout",
     "output_type": "stream",
     "text": [
      "TC formation prediction is [[0.02642006]] 0 neg\n",
      "Processing image: /N/project/hurricane-deep-learning/data/ncep_extracted_binary_18x18/EP/00//pos/20140822_00_00_12.3_261.2_2014234N12261.nc\n",
      "1/1 [==============================] - 0s 26ms/step\n"
     ]
    },
    {
     "name": "stderr",
     "output_type": "stream",
     "text": [
      "  1%|▉                                                                                               | 22/2205 [00:16<27:03,  1.34it/s]"
     ]
    },
    {
     "name": "stdout",
     "output_type": "stream",
     "text": [
      "TC formation prediction is [[0.01894232]] 0 neg\n",
      "Processing image: /N/project/hurricane-deep-learning/data/ncep_extracted_binary_18x18/EP/00//pos/20060925_00_00_10.0_187.1_2006268N10187.nc\n",
      "1/1 [==============================] - 0s 25ms/step\n"
     ]
    },
    {
     "name": "stderr",
     "output_type": "stream",
     "text": [
      "  1%|█                                                                                               | 23/2205 [00:17<27:22,  1.33it/s]"
     ]
    },
    {
     "name": "stdout",
     "output_type": "stream",
     "text": [
      "TC formation prediction is [[0.01215893]] 0 neg\n",
      "Processing image: /N/project/hurricane-deep-learning/data/ncep_extracted_binary_18x18/EP/00//pos/20150825_12_00_9.7_255.1_2015238N10255.nc\n",
      "1/1 [==============================] - 0s 27ms/step\n"
     ]
    },
    {
     "name": "stderr",
     "output_type": "stream",
     "text": [
      "  1%|█                                                                                               | 24/2205 [00:18<27:16,  1.33it/s]"
     ]
    },
    {
     "name": "stdout",
     "output_type": "stream",
     "text": [
      "TC formation prediction is [[0.00505399]] 0 neg\n",
      "Processing image: /N/project/hurricane-deep-learning/data/ncep_extracted_binary_18x18/EP/00//pos/20050717_18_00_14.8_256.3_2005199N15256.nc\n",
      "1/1 [==============================] - 0s 26ms/step\n"
     ]
    },
    {
     "name": "stderr",
     "output_type": "stream",
     "text": [
      "  1%|█                                                                                               | 25/2205 [00:18<26:58,  1.35it/s]"
     ]
    },
    {
     "name": "stdout",
     "output_type": "stream",
     "text": [
      "TC formation prediction is [[0.00576211]] 0 neg\n",
      "Processing image: /N/project/hurricane-deep-learning/data/ncep_extracted_binary_18x18/EP/00//pos/20210617_18_00_14.0_260.3_2021169N14260.nc\n",
      "1/1 [==============================] - 0s 26ms/step\n"
     ]
    },
    {
     "name": "stderr",
     "output_type": "stream",
     "text": [
      "  1%|█▏                                                                                              | 26/2205 [00:19<27:27,  1.32it/s]"
     ]
    },
    {
     "name": "stdout",
     "output_type": "stream",
     "text": [
      "TC formation prediction is [[0.01433579]] 0 neg\n",
      "Processing image: /N/project/hurricane-deep-learning/data/ncep_extracted_binary_18x18/EP/00//pos/20070729_06_00_12.9_237.5_2007213N13238.nc\n",
      "1/1 [==============================] - 0s 26ms/step\n"
     ]
    },
    {
     "name": "stderr",
     "output_type": "stream",
     "text": [
      "  1%|█▏                                                                                              | 27/2205 [00:20<27:13,  1.33it/s]"
     ]
    },
    {
     "name": "stdout",
     "output_type": "stream",
     "text": [
      "TC formation prediction is [[0.00679078]] 0 neg\n",
      "Processing image: /N/project/hurricane-deep-learning/data/ncep_extracted_binary_18x18/EP/00//pos/20010922_12_00_9.7_216.5_2001266N10217.nc\n",
      "1/1 [==============================] - 0s 27ms/step\n"
     ]
    },
    {
     "name": "stderr",
     "output_type": "stream",
     "text": [
      "  1%|█▏                                                                                              | 28/2205 [00:21<27:14,  1.33it/s]"
     ]
    },
    {
     "name": "stdout",
     "output_type": "stream",
     "text": [
      "TC formation prediction is [[0.00575181]] 0 neg\n",
      "Processing image: /N/project/hurricane-deep-learning/data/ncep_extracted_binary_18x18/EP/00//pos/20050624_00_00_12.7_262.8_2005177N13263.nc\n",
      "1/1 [==============================] - 0s 26ms/step\n"
     ]
    },
    {
     "name": "stderr",
     "output_type": "stream",
     "text": [
      "  1%|█▎                                                                                              | 29/2205 [00:21<27:05,  1.34it/s]"
     ]
    },
    {
     "name": "stdout",
     "output_type": "stream",
     "text": [
      "TC formation prediction is [[0.01473335]] 0 neg\n",
      "Processing image: /N/project/hurricane-deep-learning/data/ncep_extracted_binary_18x18/EP/00//pos/20111005_12_00_9.7_257.2_2011279N10257.nc\n",
      "1/1 [==============================] - 0s 26ms/step\n"
     ]
    },
    {
     "name": "stderr",
     "output_type": "stream",
     "text": [
      "  1%|█▎                                                                                              | 30/2205 [00:22<27:06,  1.34it/s]"
     ]
    },
    {
     "name": "stdout",
     "output_type": "stream",
     "text": [
      "TC formation prediction is [[0.00981351]] 0 neg\n",
      "Processing image: /N/project/hurricane-deep-learning/data/ncep_extracted_binary_18x18/EP/00//pos/20120915_12_00_13.2_237.2_2012260N13237.nc\n",
      "1/1 [==============================] - 0s 26ms/step\n"
     ]
    },
    {
     "name": "stderr",
     "output_type": "stream",
     "text": [
      "  1%|█▎                                                                                              | 31/2205 [00:23<26:59,  1.34it/s]"
     ]
    },
    {
     "name": "stdout",
     "output_type": "stream",
     "text": [
      "TC formation prediction is [[0.0056052]] 0 neg\n",
      "Processing image: /N/project/hurricane-deep-learning/data/ncep_extracted_binary_18x18/EP/00//pos/20000919_12_00_16.8_256.6_2000264N17257.nc\n",
      "1/1 [==============================] - 0s 26ms/step\n"
     ]
    },
    {
     "name": "stderr",
     "output_type": "stream",
     "text": [
      "  1%|█▍                                                                                              | 32/2205 [00:24<26:52,  1.35it/s]"
     ]
    },
    {
     "name": "stdout",
     "output_type": "stream",
     "text": [
      "TC formation prediction is [[0.01147837]] 0 neg\n",
      "Processing image: /N/project/hurricane-deep-learning/data/ncep_extracted_binary_18x18/EP/00//pos/20010903_12_00_15.4_237.4_2001247N15237.nc\n",
      "1/1 [==============================] - 0s 26ms/step\n"
     ]
    },
    {
     "name": "stderr",
     "output_type": "stream",
     "text": [
      "  1%|█▍                                                                                              | 33/2205 [00:24<26:48,  1.35it/s]"
     ]
    },
    {
     "name": "stdout",
     "output_type": "stream",
     "text": [
      "TC formation prediction is [[0.00998383]] 0 neg\n",
      "Processing image: /N/project/hurricane-deep-learning/data/ncep_extracted_binary_18x18/EP/00//pos/20070728_12_00_12.9_237.5_2007213N13238.nc\n",
      "1/1 [==============================] - 0s 25ms/step\n"
     ]
    },
    {
     "name": "stderr",
     "output_type": "stream",
     "text": [
      "  2%|█▍                                                                                              | 34/2205 [00:25<26:51,  1.35it/s]"
     ]
    },
    {
     "name": "stdout",
     "output_type": "stream",
     "text": [
      "TC formation prediction is [[0.0191681]] 0 neg\n",
      "Processing image: /N/project/hurricane-deep-learning/data/ncep_extracted_binary_18x18/EP/00//pos/20040702_12_00_16.2_240.8_2004185N16241.nc\n",
      "1/1 [==============================] - 0s 26ms/step\n"
     ]
    },
    {
     "name": "stderr",
     "output_type": "stream",
     "text": [
      "  2%|█▌                                                                                              | 35/2205 [00:26<26:46,  1.35it/s]"
     ]
    },
    {
     "name": "stdout",
     "output_type": "stream",
     "text": [
      "TC formation prediction is [[0.00961369]] 0 neg\n",
      "Processing image: /N/project/hurricane-deep-learning/data/ncep_extracted_binary_18x18/EP/00//pos/20070919_06_00_16.1_233.2_2007262N16233.nc\n",
      "1/1 [==============================] - 0s 27ms/step\n"
     ]
    },
    {
     "name": "stderr",
     "output_type": "stream",
     "text": [
      "  2%|█▌                                                                                              | 36/2205 [00:26<26:44,  1.35it/s]"
     ]
    },
    {
     "name": "stdout",
     "output_type": "stream",
     "text": [
      "TC formation prediction is [[0.00722045]] 0 neg\n",
      "Processing image: /N/project/hurricane-deep-learning/data/ncep_extracted_binary_18x18/EP/00//pos/20151015_00_00_10.2_243.0_2015288N10243.nc\n",
      "1/1 [==============================] - 0s 26ms/step\n"
     ]
    },
    {
     "name": "stderr",
     "output_type": "stream",
     "text": [
      "  2%|█▌                                                                                              | 37/2205 [00:27<27:06,  1.33it/s]"
     ]
    },
    {
     "name": "stdout",
     "output_type": "stream",
     "text": [
      "TC formation prediction is [[0.01161967]] 0 neg\n",
      "Processing image: /N/project/hurricane-deep-learning/data/ncep_extracted_binary_18x18/EP/00//pos/20021113_06_00_15.1_250.1_2002318N15250.nc\n",
      "1/1 [==============================] - 0s 26ms/step\n"
     ]
    },
    {
     "name": "stderr",
     "output_type": "stream",
     "text": [
      "  2%|█▋                                                                                              | 38/2205 [00:28<26:54,  1.34it/s]"
     ]
    },
    {
     "name": "stdout",
     "output_type": "stream",
     "text": [
      "TC formation prediction is [[0.0135825]] 0 neg\n",
      "Processing image: /N/project/hurricane-deep-learning/data/ncep_extracted_binary_18x18/EP/00//pos/20010903_06_00_16.9_251.2_2001248N17251.nc\n",
      "1/1 [==============================] - 0s 26ms/step\n"
     ]
    },
    {
     "name": "stderr",
     "output_type": "stream",
     "text": [
      "  2%|█▋                                                                                              | 39/2205 [00:29<26:48,  1.35it/s]"
     ]
    },
    {
     "name": "stdout",
     "output_type": "stream",
     "text": [
      "TC formation prediction is [[0.00716409]] 0 neg\n",
      "Processing image: /N/project/hurricane-deep-learning/data/ncep_extracted_binary_18x18/EP/00//pos/20031003_06_00_11.7_261.6_2003276N12262.nc\n",
      "1/1 [==============================] - 0s 26ms/step\n"
     ]
    },
    {
     "name": "stderr",
     "output_type": "stream",
     "text": [
      "  2%|█▋                                                                                              | 40/2205 [00:29<26:43,  1.35it/s]"
     ]
    },
    {
     "name": "stdout",
     "output_type": "stream",
     "text": [
      "TC formation prediction is [[0.00543627]] 0 neg\n",
      "Processing image: /N/project/hurricane-deep-learning/data/ncep_extracted_binary_18x18/EP/00//pos/20000829_12_00_13.0_228.6_2000244N13229.nc\n",
      "1/1 [==============================] - 0s 25ms/step\n"
     ]
    },
    {
     "name": "stderr",
     "output_type": "stream",
     "text": [
      "  2%|█▊                                                                                              | 41/2205 [00:30<27:02,  1.33it/s]"
     ]
    },
    {
     "name": "stdout",
     "output_type": "stream",
     "text": [
      "TC formation prediction is [[0.00540575]] 0 neg\n",
      "Processing image: /N/project/hurricane-deep-learning/data/ncep_extracted_binary_18x18/EP/00//pos/20070720_18_00_12.5_255.4_2007203N13255.nc\n",
      "1/1 [==============================] - 0s 26ms/step\n"
     ]
    },
    {
     "name": "stderr",
     "output_type": "stream",
     "text": [
      "  2%|█▊                                                                                              | 42/2205 [00:31<26:49,  1.34it/s]"
     ]
    },
    {
     "name": "stdout",
     "output_type": "stream",
     "text": [
      "TC formation prediction is [[0.00490095]] 0 neg\n",
      "Processing image: /N/project/hurricane-deep-learning/data/ncep_extracted_binary_18x18/EP/00//pos/20060711_12_00_13.5_257.8_2006193N13258.nc\n",
      "1/1 [==============================] - 0s 26ms/step\n"
     ]
    },
    {
     "name": "stderr",
     "output_type": "stream",
     "text": [
      "  2%|█▊                                                                                              | 43/2205 [00:32<26:43,  1.35it/s]"
     ]
    },
    {
     "name": "stdout",
     "output_type": "stream",
     "text": [
      "TC formation prediction is [[0.00360249]] 0 neg\n",
      "Processing image: /N/project/hurricane-deep-learning/data/ncep_extracted_binary_18x18/EP/00//pos/20061025_06_00_16.7_256.1_2006300N17256.nc\n",
      "1/1 [==============================] - 0s 26ms/step\n"
     ]
    },
    {
     "name": "stderr",
     "output_type": "stream",
     "text": [
      "  2%|█▉                                                                                              | 44/2205 [00:32<26:35,  1.35it/s]"
     ]
    },
    {
     "name": "stdout",
     "output_type": "stream",
     "text": [
      "TC formation prediction is [[0.00690961]] 0 neg\n",
      "Processing image: /N/project/hurricane-deep-learning/data/ncep_extracted_binary_18x18/EP/00//pos/20030902_00_00_19.0_248.5_2003247N19249.nc\n",
      "1/1 [==============================] - 0s 26ms/step\n"
     ]
    },
    {
     "name": "stderr",
     "output_type": "stream",
     "text": [
      "  2%|█▉                                                                                              | 45/2205 [00:33<26:53,  1.34it/s]"
     ]
    },
    {
     "name": "stdout",
     "output_type": "stream",
     "text": [
      "TC formation prediction is [[0.0058207]] 0 neg\n",
      "Processing image: /N/project/hurricane-deep-learning/data/ncep_extracted_binary_18x18/EP/00//pos/20070712_18_00_11.2_234.2_2007196N11234.nc\n",
      "1/1 [==============================] - 0s 25ms/step\n"
     ]
    },
    {
     "name": "stderr",
     "output_type": "stream",
     "text": [
      "  2%|██                                                                                              | 46/2205 [00:34<26:45,  1.35it/s]"
     ]
    },
    {
     "name": "stdout",
     "output_type": "stream",
     "text": [
      "TC formation prediction is [[0.00842453]] 0 neg\n",
      "Processing image: /N/project/hurricane-deep-learning/data/ncep_extracted_binary_18x18/EP/00//pos/20041004_18_00_13.8_248.7_2004279N14249.nc\n",
      "1/1 [==============================] - 0s 26ms/step\n"
     ]
    },
    {
     "name": "stderr",
     "output_type": "stream",
     "text": [
      "  2%|██                                                                                              | 47/2205 [00:35<26:38,  1.35it/s]"
     ]
    },
    {
     "name": "stdout",
     "output_type": "stream",
     "text": [
      "TC formation prediction is [[0.00628425]] 0 neg\n",
      "Processing image: /N/project/hurricane-deep-learning/data/ncep_extracted_binary_18x18/EP/00//pos/20190712_06_00_14.1_255.2_2019193N14255.nc\n",
      "1/1 [==============================] - 0s 25ms/step\n"
     ]
    },
    {
     "name": "stderr",
     "output_type": "stream",
     "text": [
      "  2%|██                                                                                              | 48/2205 [00:35<26:31,  1.36it/s]"
     ]
    },
    {
     "name": "stdout",
     "output_type": "stream",
     "text": [
      "TC formation prediction is [[0.01772473]] 0 neg\n",
      "Processing image: /N/project/hurricane-deep-learning/data/ncep_extracted_binary_18x18/EP/00//pos/20100618_06_00_13.0_265.6_2010169N13266.nc\n",
      "1/1 [==============================] - 0s 26ms/step\n"
     ]
    },
    {
     "name": "stderr",
     "output_type": "stream",
     "text": [
      "  2%|██▏                                                                                             | 49/2205 [00:36<26:55,  1.33it/s]"
     ]
    },
    {
     "name": "stdout",
     "output_type": "stream",
     "text": [
      "TC formation prediction is [[0.01211587]] 0 neg\n",
      "Processing image: /N/project/hurricane-deep-learning/data/ncep_extracted_binary_18x18/EP/00//pos/19990813_18_00_10.0_252.0_1999228N10252.nc\n",
      "1/1 [==============================] - 0s 26ms/step\n"
     ]
    },
    {
     "name": "stderr",
     "output_type": "stream",
     "text": [
      "  2%|██▏                                                                                             | 50/2205 [00:37<27:29,  1.31it/s]"
     ]
    },
    {
     "name": "stdout",
     "output_type": "stream",
     "text": [
      "TC formation prediction is [[0.00532719]] 0 neg\n",
      "Processing image: /N/project/hurricane-deep-learning/data/ncep_extracted_binary_18x18/EP/00//pos/20020822_00_00_9.8_202.4_2002237N10202.nc\n",
      "1/1 [==============================] - 0s 25ms/step\n"
     ]
    },
    {
     "name": "stderr",
     "output_type": "stream",
     "text": [
      "  2%|██▏                                                                                             | 51/2205 [00:38<27:06,  1.32it/s]"
     ]
    },
    {
     "name": "stdout",
     "output_type": "stream",
     "text": [
      "TC formation prediction is [[0.00786282]] 0 neg\n",
      "Processing image: /N/project/hurricane-deep-learning/data/ncep_extracted_binary_18x18/EP/00//pos/20060709_18_00_13.2_249.7_2006192N13250.nc\n",
      "1/1 [==============================] - 0s 25ms/step\n"
     ]
    },
    {
     "name": "stderr",
     "output_type": "stream",
     "text": [
      "  2%|██▎                                                                                             | 52/2205 [00:38<26:51,  1.34it/s]"
     ]
    },
    {
     "name": "stdout",
     "output_type": "stream",
     "text": [
      "TC formation prediction is [[0.00486914]] 0 neg\n",
      "Processing image: /N/project/hurricane-deep-learning/data/ncep_extracted_binary_18x18/EP/00//pos/20000904_06_00_15.4_257.8_2000249N15258.nc\n",
      "1/1 [==============================] - 0s 25ms/step\n"
     ]
    },
    {
     "name": "stderr",
     "output_type": "stream",
     "text": [
      "  2%|██▎                                                                                             | 53/2205 [00:39<26:38,  1.35it/s]"
     ]
    },
    {
     "name": "stdout",
     "output_type": "stream",
     "text": [
      "TC formation prediction is [[0.01332806]] 0 neg\n",
      "Processing image: /N/project/hurricane-deep-learning/data/ncep_extracted_binary_18x18/EP/00//pos/20000721_06_00_17.0_249.3_2000203N17249.nc\n",
      "1/1 [==============================] - 0s 26ms/step\n"
     ]
    },
    {
     "name": "stderr",
     "output_type": "stream",
     "text": [
      "  2%|██▎                                                                                             | 54/2205 [00:40<26:56,  1.33it/s]"
     ]
    },
    {
     "name": "stdout",
     "output_type": "stream",
     "text": [
      "TC formation prediction is [[0.00964398]] 0 neg\n",
      "Processing image: /N/project/hurricane-deep-learning/data/ncep_extracted_binary_18x18/EP/00//pos/20050701_18_00_14.9_260.8_2005185N15261.nc\n",
      "1/1 [==============================] - 0s 26ms/step\n"
     ]
    },
    {
     "name": "stderr",
     "output_type": "stream",
     "text": [
      "  2%|██▍                                                                                             | 55/2205 [00:41<26:53,  1.33it/s]"
     ]
    },
    {
     "name": "stdout",
     "output_type": "stream",
     "text": [
      "TC formation prediction is [[0.01071147]] 0 neg\n",
      "Processing image: /N/project/hurricane-deep-learning/data/ncep_extracted_binary_18x18/EP/00//pos/20050817_06_00_13.3_263.4_2005232N13263.nc\n",
      "1/1 [==============================] - 0s 26ms/step\n"
     ]
    },
    {
     "name": "stderr",
     "output_type": "stream",
     "text": [
      "  3%|██▍                                                                                             | 56/2205 [00:41<26:41,  1.34it/s]"
     ]
    },
    {
     "name": "stdout",
     "output_type": "stream",
     "text": [
      "TC formation prediction is [[0.01685288]] 0 neg\n",
      "Processing image: /N/project/hurricane-deep-learning/data/ncep_extracted_binary_18x18/EP/00//pos/20200624_06_00_10.0_228.1_2020176N10228.nc\n",
      "1/1 [==============================] - 0s 25ms/step\n"
     ]
    },
    {
     "name": "stderr",
     "output_type": "stream",
     "text": [
      "  3%|██▍                                                                                             | 57/2205 [00:42<26:59,  1.33it/s]"
     ]
    },
    {
     "name": "stdout",
     "output_type": "stream",
     "text": [
      "TC formation prediction is [[0.00624036]] 0 neg\n",
      "Processing image: /N/project/hurricane-deep-learning/data/ncep_extracted_binary_18x18/EP/00//pos/20060819_12_00_12.0_258.2_2006234N12258.nc\n",
      "1/1 [==============================] - 0s 25ms/step\n"
     ]
    },
    {
     "name": "stderr",
     "output_type": "stream",
     "text": [
      "  3%|██▌                                                                                             | 58/2205 [00:43<27:08,  1.32it/s]"
     ]
    },
    {
     "name": "stdout",
     "output_type": "stream",
     "text": [
      "TC formation prediction is [[0.00688972]] 0 neg\n",
      "Processing image: /N/project/hurricane-deep-learning/data/ncep_extracted_binary_18x18/EP/00//pos/20010904_00_00_16.9_251.2_2001248N17251.nc\n",
      "1/1 [==============================] - 0s 26ms/step\n"
     ]
    },
    {
     "name": "stderr",
     "output_type": "stream",
     "text": [
      "  3%|██▌                                                                                             | 59/2205 [00:44<26:54,  1.33it/s]"
     ]
    },
    {
     "name": "stdout",
     "output_type": "stream",
     "text": [
      "TC formation prediction is [[0.00625479]] 0 neg\n",
      "Processing image: /N/project/hurricane-deep-learning/data/ncep_extracted_binary_18x18/EP/00//pos/19990805_00_00_10.8_264.5_1999217N11265.nc\n",
      "1/1 [==============================] - 0s 25ms/step\n"
     ]
    },
    {
     "name": "stderr",
     "output_type": "stream",
     "text": [
      "  3%|██▌                                                                                             | 60/2205 [00:44<26:43,  1.34it/s]"
     ]
    },
    {
     "name": "stdout",
     "output_type": "stream",
     "text": [
      "TC formation prediction is [[0.01424401]] 0 neg\n",
      "Processing image: /N/project/hurricane-deep-learning/data/ncep_extracted_binary_18x18/EP/00//pos/20020521_18_00_11.2_258.8_2002145N11259.nc\n",
      "1/1 [==============================] - 0s 25ms/step\n"
     ]
    },
    {
     "name": "stderr",
     "output_type": "stream",
     "text": [
      "  3%|██▋                                                                                             | 61/2205 [00:45<26:33,  1.35it/s]"
     ]
    },
    {
     "name": "stdout",
     "output_type": "stream",
     "text": [
      "TC formation prediction is [[0.0054989]] 0 neg\n",
      "Processing image: /N/project/hurricane-deep-learning/data/ncep_extracted_binary_18x18/EP/00//pos/20150917_06_00_11.9_186.6_2015260N12187.nc\n",
      "1/1 [==============================] - 0s 25ms/step\n"
     ]
    },
    {
     "name": "stderr",
     "output_type": "stream",
     "text": [
      "  3%|██▋                                                                                             | 62/2205 [00:46<26:27,  1.35it/s]"
     ]
    },
    {
     "name": "stdout",
     "output_type": "stream",
     "text": [
      "TC formation prediction is [[0.00343607]] 0 neg\n",
      "Processing image: /N/project/hurricane-deep-learning/data/ncep_extracted_binary_18x18/EP/00//pos/20130812_06_00_12.0_220.4_2013224N12220.nc\n",
      "1/1 [==============================] - 0s 25ms/step\n"
     ]
    },
    {
     "name": "stderr",
     "output_type": "stream",
     "text": [
      "  3%|██▋                                                                                             | 63/2205 [00:47<26:46,  1.33it/s]"
     ]
    },
    {
     "name": "stdout",
     "output_type": "stream",
     "text": [
      "TC formation prediction is [[0.00438818]] 0 neg\n",
      "Processing image: /N/project/hurricane-deep-learning/data/ncep_extracted_binary_18x18/EP/00//pos/20050912_18_00_12.3_242.0_2005258N12242.nc\n",
      "1/1 [==============================] - 0s 26ms/step\n"
     ]
    },
    {
     "name": "stderr",
     "output_type": "stream",
     "text": [
      "  3%|██▊                                                                                             | 64/2205 [00:47<26:58,  1.32it/s]"
     ]
    },
    {
     "name": "stdout",
     "output_type": "stream",
     "text": [
      "TC formation prediction is [[0.01412239]] 0 neg\n",
      "Processing image: /N/project/hurricane-deep-learning/data/ncep_extracted_binary_18x18/EP/00//pos/20050824_00_00_16.9_255.3_2005238N17255.nc\n",
      "1/1 [==============================] - 0s 26ms/step\n"
     ]
    },
    {
     "name": "stderr",
     "output_type": "stream",
     "text": [
      "  3%|██▊                                                                                             | 65/2205 [00:48<26:45,  1.33it/s]"
     ]
    },
    {
     "name": "stdout",
     "output_type": "stream",
     "text": [
      "TC formation prediction is [[0.00707002]] 0 neg\n",
      "Processing image: /N/project/hurricane-deep-learning/data/ncep_extracted_binary_18x18/EP/00//pos/20151123_12_00_10.9_259.5_2015328N11260.nc\n",
      "1/1 [==============================] - 0s 26ms/step\n"
     ]
    },
    {
     "name": "stderr",
     "output_type": "stream",
     "text": [
      "  3%|██▊                                                                                             | 66/2205 [00:49<26:38,  1.34it/s]"
     ]
    },
    {
     "name": "stdout",
     "output_type": "stream",
     "text": [
      "TC formation prediction is [[0.01851027]] 0 neg\n",
      "Processing image: /N/project/hurricane-deep-learning/data/ncep_extracted_binary_18x18/EP/00//pos/20061018_12_00_15.7_254.4_2006294N16254.nc\n",
      "1/1 [==============================] - 0s 25ms/step\n"
     ]
    },
    {
     "name": "stderr",
     "output_type": "stream",
     "text": [
      "  3%|██▉                                                                                             | 67/2205 [00:50<26:35,  1.34it/s]"
     ]
    },
    {
     "name": "stdout",
     "output_type": "stream",
     "text": [
      "TC formation prediction is [[0.00435577]] 0 neg\n",
      "Processing image: /N/project/hurricane-deep-learning/data/ncep_extracted_binary_18x18/EP/00//pos/20060815_00_00_10.4_217.5_2006228N10218.nc\n",
      "1/1 [==============================] - 0s 25ms/step\n"
     ]
    },
    {
     "name": "stderr",
     "output_type": "stream",
     "text": [
      "  3%|██▉                                                                                             | 68/2205 [00:50<26:28,  1.35it/s]"
     ]
    },
    {
     "name": "stdout",
     "output_type": "stream",
     "text": [
      "TC formation prediction is [[0.01124436]] 0 neg\n",
      "Processing image: /N/project/hurricane-deep-learning/data/ncep_extracted_binary_18x18/EP/00//pos/20070720_00_00_12.5_255.4_2007203N13255.nc\n",
      "1/1 [==============================] - 0s 27ms/step\n"
     ]
    },
    {
     "name": "stderr",
     "output_type": "stream",
     "text": [
      "  3%|███                                                                                             | 69/2205 [00:51<26:29,  1.34it/s]"
     ]
    },
    {
     "name": "stdout",
     "output_type": "stream",
     "text": [
      "TC formation prediction is [[0.00882577]] 0 neg\n",
      "Processing image: /N/project/hurricane-deep-learning/data/ncep_extracted_binary_18x18/EP/00//pos/20030518_06_00_9.6_257.8_2003140N10258.nc\n",
      "1/1 [==============================] - 0s 26ms/step\n"
     ]
    },
    {
     "name": "stderr",
     "output_type": "stream",
     "text": [
      "  3%|███                                                                                             | 70/2205 [00:52<26:21,  1.35it/s]"
     ]
    },
    {
     "name": "stdout",
     "output_type": "stream",
     "text": [
      "TC formation prediction is [[0.02026896]] 0 neg\n",
      "Processing image: /N/project/hurricane-deep-learning/data/ncep_extracted_binary_18x18/EP/00//pos/20020624_18_00_11.8_238.1_2002179N12238.nc\n",
      "1/1 [==============================] - 0s 25ms/step\n"
     ]
    },
    {
     "name": "stderr",
     "output_type": "stream",
     "text": [
      "  3%|███                                                                                             | 71/2205 [00:53<26:14,  1.36it/s]"
     ]
    },
    {
     "name": "stdout",
     "output_type": "stream",
     "text": [
      "TC formation prediction is [[0.00536354]] 0 neg\n",
      "Processing image: /N/project/hurricane-deep-learning/data/ncep_extracted_binary_18x18/EP/00//pos/20040703_00_00_6.0_203.0_2004186N06203.nc\n",
      "1/1 [==============================] - 0s 26ms/step\n"
     ]
    },
    {
     "name": "stderr",
     "output_type": "stream",
     "text": [
      "  3%|███▏                                                                                            | 72/2205 [00:53<27:04,  1.31it/s]"
     ]
    },
    {
     "name": "stdout",
     "output_type": "stream",
     "text": [
      "TC formation prediction is [[0.00599578]] 0 neg\n",
      "Processing image: /N/project/hurricane-deep-learning/data/ncep_extracted_binary_18x18/EP/00//pos/20050825_12_00_16.9_255.3_2005238N17255.nc\n",
      "1/1 [==============================] - 0s 26ms/step\n"
     ]
    },
    {
     "name": "stderr",
     "output_type": "stream",
     "text": [
      "  3%|███▏                                                                                            | 73/2205 [00:54<26:50,  1.32it/s]"
     ]
    },
    {
     "name": "stdout",
     "output_type": "stream",
     "text": [
      "TC formation prediction is [[0.01398476]] 0 neg\n",
      "Processing image: /N/project/hurricane-deep-learning/data/ncep_extracted_binary_18x18/EP/00//pos/20040823_06_00_16.7_249.8_2004236N17250.nc\n",
      "1/1 [==============================] - 0s 26ms/step\n"
     ]
    },
    {
     "name": "stderr",
     "output_type": "stream",
     "text": [
      "  3%|███▏                                                                                            | 74/2205 [00:55<26:38,  1.33it/s]"
     ]
    },
    {
     "name": "stdout",
     "output_type": "stream",
     "text": [
      "TC formation prediction is [[0.00812372]] 0 neg\n",
      "Processing image: /N/project/hurricane-deep-learning/data/ncep_extracted_binary_18x18/EP/00//pos/20030716_12_00_14.0_254.7_2003199N14255.nc\n",
      "1/1 [==============================] - 0s 26ms/step\n"
     ]
    },
    {
     "name": "stderr",
     "output_type": "stream",
     "text": [
      "  3%|███▎                                                                                            | 75/2205 [00:56<26:50,  1.32it/s]"
     ]
    },
    {
     "name": "stdout",
     "output_type": "stream",
     "text": [
      "TC formation prediction is [[0.01027315]] 0 neg\n",
      "Processing image: /N/project/hurricane-deep-learning/data/ncep_extracted_binary_18x18/EP/00//pos/20000721_12_00_10.0_260.0_2000205N10260.nc\n",
      "1/1 [==============================] - 0s 25ms/step\n"
     ]
    },
    {
     "name": "stderr",
     "output_type": "stream",
     "text": [
      "  3%|███▎                                                                                            | 76/2205 [00:57<27:25,  1.29it/s]"
     ]
    },
    {
     "name": "stdout",
     "output_type": "stream",
     "text": [
      "TC formation prediction is [[0.00458912]] 0 neg\n",
      "Processing image: /N/project/hurricane-deep-learning/data/ncep_extracted_binary_18x18/EP/00//pos/20060922_18_00_10.0_187.1_2006268N10187.nc\n",
      "1/1 [==============================] - 0s 26ms/step\n"
     ]
    },
    {
     "name": "stderr",
     "output_type": "stream",
     "text": [
      "  3%|███▎                                                                                            | 77/2205 [00:57<27:22,  1.30it/s]"
     ]
    },
    {
     "name": "stdout",
     "output_type": "stream",
     "text": [
      "TC formation prediction is [[0.01472439]] 0 neg\n",
      "Processing image: /N/project/hurricane-deep-learning/data/ncep_extracted_binary_18x18/EP/00//pos/19990820_06_00_16.2_251.4_1999234N16251.nc\n",
      "1/1 [==============================] - 0s 26ms/step\n"
     ]
    },
    {
     "name": "stderr",
     "output_type": "stream",
     "text": [
      "  4%|███▍                                                                                            | 78/2205 [00:58<26:57,  1.31it/s]"
     ]
    },
    {
     "name": "stdout",
     "output_type": "stream",
     "text": [
      "TC formation prediction is [[0.00715332]] 0 neg\n",
      "Processing image: /N/project/hurricane-deep-learning/data/ncep_extracted_binary_18x18/EP/00//pos/20061112_00_00_12.3_256.4_2006318N12256.nc\n",
      "1/1 [==============================] - 0s 30ms/step\n"
     ]
    },
    {
     "name": "stderr",
     "output_type": "stream",
     "text": [
      "  4%|███▍                                                                                            | 79/2205 [00:59<26:49,  1.32it/s]"
     ]
    },
    {
     "name": "stdout",
     "output_type": "stream",
     "text": [
      "TC formation prediction is [[0.0087326]] 0 neg\n",
      "Processing image: /N/project/hurricane-deep-learning/data/ncep_extracted_binary_18x18/EP/00//pos/20130802_00_00_12.7_243.2_2013214N13243.nc\n",
      "1/1 [==============================] - 0s 27ms/step\n"
     ]
    },
    {
     "name": "stderr",
     "output_type": "stream",
     "text": [
      "  4%|███▍                                                                                            | 80/2205 [01:00<26:48,  1.32it/s]"
     ]
    },
    {
     "name": "stdout",
     "output_type": "stream",
     "text": [
      "TC formation prediction is [[0.0248086]] 0 neg\n",
      "Processing image: /N/project/hurricane-deep-learning/data/ncep_extracted_binary_18x18/EP/00//pos/20060813_12_00_10.4_217.5_2006228N10218.nc\n",
      "1/1 [==============================] - 0s 26ms/step\n"
     ]
    },
    {
     "name": "stderr",
     "output_type": "stream",
     "text": [
      "  4%|███▌                                                                                            | 81/2205 [01:00<26:34,  1.33it/s]"
     ]
    },
    {
     "name": "stdout",
     "output_type": "stream",
     "text": [
      "TC formation prediction is [[0.00666081]] 0 neg\n",
      "Processing image: /N/project/hurricane-deep-learning/data/ncep_extracted_binary_18x18/EP/00//pos/20020819_12_00_12.8_253.1_2002234N13253.nc\n",
      "1/1 [==============================] - 0s 25ms/step\n"
     ]
    },
    {
     "name": "stderr",
     "output_type": "stream",
     "text": [
      "  4%|███▌                                                                                            | 82/2205 [01:01<26:27,  1.34it/s]"
     ]
    },
    {
     "name": "stdout",
     "output_type": "stream",
     "text": [
      "TC formation prediction is [[0.00675589]] 0 neg\n",
      "Processing image: /N/project/hurricane-deep-learning/data/ncep_extracted_binary_18x18/EP/00//pos/20020903_12_00_18.9_252.8_2002249N19253.nc\n",
      "1/1 [==============================] - 0s 26ms/step\n"
     ]
    },
    {
     "name": "stderr",
     "output_type": "stream",
     "text": [
      "  4%|███▌                                                                                            | 83/2205 [01:02<26:19,  1.34it/s]"
     ]
    },
    {
     "name": "stdout",
     "output_type": "stream",
     "text": [
      "TC formation prediction is [[0.01046577]] 0 neg\n",
      "Processing image: /N/project/hurricane-deep-learning/data/ncep_extracted_binary_18x18/EP/00//pos/20071012_00_00_15.0_251.3_2007288N15251.nc\n",
      "1/1 [==============================] - 0s 26ms/step\n"
     ]
    },
    {
     "name": "stderr",
     "output_type": "stream",
     "text": [
      "  4%|███▋                                                                                            | 84/2205 [01:03<26:35,  1.33it/s]"
     ]
    },
    {
     "name": "stdout",
     "output_type": "stream",
     "text": [
      "TC formation prediction is [[0.00835813]] 0 neg\n",
      "Processing image: /N/project/hurricane-deep-learning/data/ncep_extracted_binary_18x18/EP/00//pos/20011029_06_00_12.1_237.2_2001304N12237.nc\n",
      "1/1 [==============================] - 0s 25ms/step\n"
     ]
    },
    {
     "name": "stderr",
     "output_type": "stream",
     "text": [
      "  4%|███▋                                                                                            | 85/2205 [01:03<26:25,  1.34it/s]"
     ]
    },
    {
     "name": "stdout",
     "output_type": "stream",
     "text": [
      "TC formation prediction is [[0.01766801]] 0 neg\n",
      "Processing image: /N/project/hurricane-deep-learning/data/ncep_extracted_binary_18x18/EP/00//pos/20160910_12_00_12.3_246.9_2016255N12247.nc\n",
      "1/1 [==============================] - 0s 26ms/step\n"
     ]
    },
    {
     "name": "stderr",
     "output_type": "stream",
     "text": [
      "  4%|███▋                                                                                            | 86/2205 [01:04<26:15,  1.35it/s]"
     ]
    },
    {
     "name": "stdout",
     "output_type": "stream",
     "text": [
      "TC formation prediction is [[0.0096601]] 0 neg\n",
      "Processing image: /N/project/hurricane-deep-learning/data/ncep_extracted_binary_18x18/EP/00//pos/20040701_18_00_16.2_240.8_2004185N16241.nc\n",
      "1/1 [==============================] - 0s 26ms/step\n"
     ]
    },
    {
     "name": "stderr",
     "output_type": "stream",
     "text": [
      "  4%|███▊                                                                                            | 87/2205 [01:05<26:11,  1.35it/s]"
     ]
    },
    {
     "name": "stdout",
     "output_type": "stream",
     "text": [
      "TC formation prediction is [[0.0108073]] 0 neg\n",
      "Processing image: /N/project/hurricane-deep-learning/data/ncep_extracted_binary_18x18/EP/00//pos/20011028_00_00_12.1_237.2_2001304N12237.nc\n",
      "1/1 [==============================] - 0s 26ms/step\n"
     ]
    },
    {
     "name": "stderr",
     "output_type": "stream",
     "text": [
      "  4%|███▊                                                                                            | 88/2205 [01:05<26:06,  1.35it/s]"
     ]
    },
    {
     "name": "stdout",
     "output_type": "stream",
     "text": [
      "TC formation prediction is [[0.00387486]] 0 neg\n",
      "Processing image: /N/project/hurricane-deep-learning/data/ncep_extracted_binary_18x18/EP/00//pos/20011001_00_00_11.9_258.0_2001275N12258.nc\n",
      "1/1 [==============================] - 0s 27ms/step\n"
     ]
    },
    {
     "name": "stderr",
     "output_type": "stream",
     "text": [
      "  4%|███▊                                                                                            | 89/2205 [01:06<26:28,  1.33it/s]"
     ]
    },
    {
     "name": "stdout",
     "output_type": "stream",
     "text": [
      "TC formation prediction is [[0.00863701]] 0 neg\n",
      "Processing image: /N/project/hurricane-deep-learning/data/ncep_extracted_binary_18x18/EP/00//pos/20020722_12_00_11.6_263.3_2002204N12263.nc\n",
      "1/1 [==============================] - 0s 25ms/step\n"
     ]
    },
    {
     "name": "stderr",
     "output_type": "stream",
     "text": [
      "  4%|███▉                                                                                            | 90/2205 [01:07<26:15,  1.34it/s]"
     ]
    },
    {
     "name": "stdout",
     "output_type": "stream",
     "text": [
      "TC formation prediction is [[0.00754717]] 0 neg\n",
      "Processing image: /N/project/hurricane-deep-learning/data/ncep_extracted_binary_18x18/EP/00//pos/20010919_12_00_12.6_268.9_2001264N13269.nc\n",
      "1/1 [==============================] - 0s 26ms/step\n"
     ]
    },
    {
     "name": "stderr",
     "output_type": "stream",
     "text": [
      "  4%|███▉                                                                                            | 91/2205 [01:08<26:07,  1.35it/s]"
     ]
    },
    {
     "name": "stdout",
     "output_type": "stream",
     "text": [
      "TC formation prediction is [[0.01031502]] 0 neg\n",
      "Processing image: /N/project/hurricane-deep-learning/data/ncep_extracted_binary_18x18/EP/00//pos/20061113_00_00_12.3_256.4_2006318N12256.nc\n",
      "1/1 [==============================] - 0s 26ms/step\n"
     ]
    },
    {
     "name": "stderr",
     "output_type": "stream",
     "text": [
      "  4%|████                                                                                            | 92/2205 [01:08<26:00,  1.35it/s]"
     ]
    },
    {
     "name": "stdout",
     "output_type": "stream",
     "text": [
      "TC formation prediction is [[0.00584803]] 0 neg\n",
      "Processing image: /N/project/hurricane-deep-learning/data/ncep_extracted_binary_18x18/EP/00//pos/20050806_12_00_14.0_246.2_2005222N14246.nc\n",
      "1/1 [==============================] - 0s 26ms/step\n"
     ]
    },
    {
     "name": "stderr",
     "output_type": "stream",
     "text": [
      "  4%|████                                                                                            | 93/2205 [01:09<26:18,  1.34it/s]"
     ]
    },
    {
     "name": "stdout",
     "output_type": "stream",
     "text": [
      "TC formation prediction is [[0.00750299]] 0 neg\n",
      "Processing image: /N/project/hurricane-deep-learning/data/ncep_extracted_binary_18x18/EP/00//pos/20010930_18_00_11.9_258.0_2001275N12258.nc\n",
      "1/1 [==============================] - 0s 26ms/step\n"
     ]
    },
    {
     "name": "stderr",
     "output_type": "stream",
     "text": [
      "  4%|████                                                                                            | 94/2205 [01:10<26:32,  1.33it/s]"
     ]
    },
    {
     "name": "stdout",
     "output_type": "stream",
     "text": [
      "TC formation prediction is [[0.00638329]] 0 neg\n",
      "Processing image: /N/project/hurricane-deep-learning/data/ncep_extracted_binary_18x18/EP/00//pos/20090920_18_00_12.9_252.4_2009264N13252.nc\n",
      "1/1 [==============================] - 0s 26ms/step\n"
     ]
    },
    {
     "name": "stderr",
     "output_type": "stream",
     "text": [
      "  4%|████▏                                                                                           | 95/2205 [01:11<26:22,  1.33it/s]"
     ]
    },
    {
     "name": "stdout",
     "output_type": "stream",
     "text": [
      "TC formation prediction is [[0.0120917]] 0 neg\n",
      "Processing image: /N/project/hurricane-deep-learning/data/ncep_extracted_binary_18x18/EP/00//pos/20050730_18_00_14.3_224.1_2005215N14224.nc\n",
      "1/1 [==============================] - 0s 25ms/step\n"
     ]
    },
    {
     "name": "stderr",
     "output_type": "stream",
     "text": [
      "  4%|████▏                                                                                           | 96/2205 [01:11<26:09,  1.34it/s]"
     ]
    },
    {
     "name": "stdout",
     "output_type": "stream",
     "text": [
      "TC formation prediction is [[0.00669574]] 0 neg\n",
      "Processing image: /N/project/hurricane-deep-learning/data/ncep_extracted_binary_18x18/EP/00//pos/20050801_18_00_14.3_224.1_2005215N14224.nc\n",
      "1/1 [==============================] - 0s 26ms/step\n"
     ]
    },
    {
     "name": "stderr",
     "output_type": "stream",
     "text": [
      "  4%|████▏                                                                                           | 97/2205 [01:12<25:59,  1.35it/s]"
     ]
    },
    {
     "name": "stdout",
     "output_type": "stream",
     "text": [
      "TC formation prediction is [[0.00336395]] 0 neg\n",
      "Processing image: /N/project/hurricane-deep-learning/data/ncep_extracted_binary_18x18/EP/00//pos/20011008_12_00_14.1_260.8_2001284N14261.nc\n",
      "1/1 [==============================] - 0s 26ms/step\n"
     ]
    },
    {
     "name": "stderr",
     "output_type": "stream",
     "text": [
      "  4%|████▎                                                                                           | 98/2205 [01:13<25:50,  1.36it/s]"
     ]
    },
    {
     "name": "stdout",
     "output_type": "stream",
     "text": [
      "TC formation prediction is [[0.00782785]] 0 neg\n",
      "Processing image: /N/project/hurricane-deep-learning/data/ncep_extracted_binary_18x18/EP/00//pos/20031001_06_00_15.7_251.9_2003275N16252.nc\n",
      "1/1 [==============================] - 0s 26ms/step\n"
     ]
    },
    {
     "name": "stderr",
     "output_type": "stream",
     "text": [
      "  4%|████▎                                                                                           | 99/2205 [01:14<25:46,  1.36it/s]"
     ]
    },
    {
     "name": "stdout",
     "output_type": "stream",
     "text": [
      "TC formation prediction is [[0.01276453]] 0 neg\n",
      "Processing image: /N/project/hurricane-deep-learning/data/ncep_extracted_binary_18x18/EP/00//pos/20070714_12_00_11.2_234.2_2007196N11234.nc\n",
      "1/1 [==============================] - 0s 26ms/step\n"
     ]
    },
    {
     "name": "stderr",
     "output_type": "stream",
     "text": [
      "  5%|████▎                                                                                          | 100/2205 [01:14<25:44,  1.36it/s]"
     ]
    },
    {
     "name": "stdout",
     "output_type": "stream",
     "text": [
      "TC formation prediction is [[0.00588578]] 0 neg\n",
      "Processing image: /N/project/hurricane-deep-learning/data/ncep_extracted_binary_18x18/EP/00//pos/20061006_12_00_14.2_242.8_2006282N14243.nc\n",
      "1/1 [==============================] - 0s 26ms/step\n"
     ]
    },
    {
     "name": "stderr",
     "output_type": "stream",
     "text": [
      "  5%|████▎                                                                                          | 100/2205 [01:15<26:31,  1.32it/s]"
     ]
    },
    {
     "name": "stdout",
     "output_type": "stream",
     "text": [
      "TC formation prediction is [[0.00452951]] 0 neg\n",
      "[0.005456021, 0.0152417915, 0.0075387917, 0.007153584, 0.005063329, 0.0068790494, 0.003453274, 0.004224569, 0.01266368, 0.004027651, 0.021302756, 0.005239463, 0.0076514515, 0.009219069, 0.014529801, 0.009949304, 0.0068052527, 0.0067373305, 0.014389928, 0.0055703265, 0.005461719, 0.0033359143, 0.004504927, 0.006549427, 0.0047007296, 0.01027357, 0.0071173506, 0.00478695, 0.0067105917, 0.012804816, 0.006995592, 0.0069647944, 0.005233407, 0.0052917274, 0.0061504617, 0.0035496426, 0.004793681, 0.012033654, 0.010317941, 0.0031509523, 0.008180425, 0.007836209, 0.011857316, 0.006021321, 0.012621253, 0.0061016874, 0.006691969, 0.006450944, 0.011455376, 0.009150229, 0.0057114447, 0.010186562, 0.0067596105, 0.012251271, 0.013878083, 0.0044685407, 0.010810354, 0.009207682, 0.0055739386, 0.0067362958, 0.0077870213, 0.005570311, 0.008735613, 0.009676685, 0.0055578654, 0.004744405, 0.009927767, 0.009109947, 0.0073799733, 0.011243988, 0.0046209195, 0.008475208, 0.0036586467, 0.014080895, 0.008983306, 0.0086485995, 0.011261963, 0.003967038, 0.01127313, 0.006482521, 0.003941818, 0.008652566, 0.004346532, 0.007639889, 0.0149414, 0.0051918696, 0.0049456693, 0.009755211, 0.007906655, 0.004645655, 0.03157235, 0.013677153, 0.017864227, 0.006330346, 0.0056644026, 0.005887445, 0.0030422097, 0.004350318, 0.005961747, 0.0103037385, 0.003664093, 0.012791489, 0.020130735, 0.027905237, 0.004898272, 0.014208968, 0.0067266272, 0.0062848646, 0.0039420184, 0.008776852, 0.01505448, 0.01337683, 0.009876587, 0.00951282, 0.010642596, 0.007953454, 0.006815186, 0.00953061, 0.0054853843, 0.009782772, 0.017721293, 0.026420059, 0.018942319, 0.012158934, 0.005053986, 0.0057621067, 0.01433579, 0.006790778, 0.0057518138, 0.014733355, 0.009813514, 0.0056051966, 0.011478369, 0.009983834, 0.019168096, 0.009613692, 0.007220448, 0.0116196675, 0.013582502, 0.0071640876, 0.005436268, 0.0054057455, 0.00490095, 0.0036024852, 0.0069096144, 0.005820699, 0.008424529, 0.0062842476, 0.01772473, 0.012115865, 0.0053271926, 0.007862819, 0.004869136, 0.013328057, 0.009643985, 0.01071147, 0.016852876, 0.006240363, 0.006889719, 0.0062547894, 0.014244009, 0.0054989043, 0.0034360655, 0.0043881782, 0.014122394, 0.007070022, 0.018510275, 0.0043557654, 0.011244359, 0.008825767, 0.020268958, 0.0053635426, 0.0059957756, 0.013984763, 0.008123725, 0.010273154, 0.0045891213, 0.014724387, 0.00715332, 0.008732599, 0.024808599, 0.0066608083, 0.006755885, 0.010465767, 0.00835813, 0.017668009, 0.009660098, 0.010807299, 0.003874857, 0.008637014, 0.007547166, 0.010315016, 0.005848031, 0.0075029926, 0.0063832924, 0.012091702, 0.006695736, 0.0033639495, 0.007827849, 0.012764535, 0.0058857794, 0.0045295088]\n",
      "Summary of the CNN model performance for forecast lead time:  00\n",
      "Model: tcg_ResNet20.model_00  --- F1, Recall, Presision: [0.44 0.33 0.67]\n",
      "Model: tcg_ResNet22.model_00  --- F1, Recall, Presision: [0.06 0.03 0.6 ]\n",
      "Model: tcg_ResNet40.model_00  --- F1, Recall, Presision: [0. 0. 0.]\n"
     ]
    },
    {
     "name": "stderr",
     "output_type": "stream",
     "text": [
      "\n"
     ]
    }
   ],
   "source": [
    "#\n",
    "# main fucntion\n",
    "#\n",
    "if __name__ == '__main__':\n",
    "    n = len(sys.argv)\n",
    "    print(\"Total arguments input are:\", n)\n",
    "    print(\"Name of Python script:\", sys.argv[0])\n",
    "    leadtime = \"00\"\n",
    "    datadir = \"/N/project/hurricane-deep-learning/data/ncep_extracted_binary_18x18/EP/\"+leadtime+\"/\"\n",
    "    #if n < 3:\n",
    "    #   print(\"Need a forecast lead time and datapath to process...Stop\")\n",
    "    #   print(\"+ Example: tcg_ResNet_p3.py 00 /N/project/hurricane-deep-learning/data/ncep_extracted_binary_30x30/EP/00/\")\n",
    "    #   print(\"Using the default values: \",leadtime,datadir)\n",
    "    #leadtime = str(sys.argv[1])\n",
    "    #datadir = str(sys.argv[2])\n",
    "    print(\"Forecast lead time to run is: \",leadtime)\n",
    "    print(\"Datapath is: \",datadir)\n",
    "    #sys.exit()\n",
    "\n",
    "    history_check = \"no\"\n",
    "    if history_check == \"yes\":\n",
    "        hist = open(\"tcg_histories_resnet.pickle\",\"rb\")\n",
    "        histories = pickle.load(hist)\n",
    "        view_history(histories)\n",
    "\n",
    "    bestmodels = [\"tcg_ResNet20.model_00\",\"tcg_ResNet22.model_00\",\"tcg_ResNet40.model_00\"]\n",
    "    performance = main(DATADIR=datadir,bestmodels=bestmodels,test_sample=100)\n",
    "    print(\"Summary of the CNN model performance for forecast lead time: \",leadtime)\n",
    "    for i in range(len(bestmodels)):\n",
    "        print(\"Model:\",bestmodels[i],\" --- F1, Recall, Presision:\",np.round(performance[i][1],2))   "
   ]
  },
  {
   "cell_type": "code",
   "execution_count": null,
   "id": "65ce518d-a2cf-4a49-8e76-d581c743ba40",
   "metadata": {},
   "outputs": [],
   "source": []
  }
 ],
 "metadata": {
  "kernelspec": {
   "display_name": "Python 3 (ipykernel)",
   "language": "python",
   "name": "python3"
  },
  "language_info": {
   "codemirror_mode": {
    "name": "ipython",
    "version": 3
   },
   "file_extension": ".py",
   "mimetype": "text/x-python",
   "name": "python",
   "nbconvert_exporter": "python",
   "pygments_lexer": "ipython3",
   "version": "3.10.9"
  }
 },
 "nbformat": 4,
 "nbformat_minor": 5
}
