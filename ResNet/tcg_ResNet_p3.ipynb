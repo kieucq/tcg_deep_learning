{
 "cells": [
  {
   "cell_type": "code",
   "execution_count": 1,
   "id": "80518cb4",
   "metadata": {},
   "outputs": [],
   "source": [
    "#\n",
    "# NOTE: This machine learning program is for predicting TC formation, using\n",
    "#       input dataset in the NETCDF format. The program treats different\n",
    "#       2D input fields as different channels of an image. This specific\n",
    "#       program requires a set of 12 2D-variables (12-channel image) and\n",
    "#       consists of three stages\n",
    "#       - Stage 1: reading NETCDF input and generating (X,y) data with a\n",
    "#                  given image sizes, which are then saved by pickle;\n",
    "#       - Stage 2: import the saved pickle (X,y) pair and build a CNN model\n",
    "#                  with a given training/validation ratio, and then save\n",
    "#                  the train model under tcg_CNN.model.\n",
    "#       - Stage 3: import the trained model from Stage 2, and make a list\n",
    "#                  of prediction from normalized test data.\n",
    "#\n",
    "# INPUT: This Stage 3 script reads in the CNN trained model \"tcg_CNN.model\"\n",
    "#        that is generated from Step 2.\n",
    "#\n",
    "#        Remarks: Note that the input data for this script must be on the\n",
    "#        same as in Step 1 with standard 19 vertical\n",
    "#        levels 1000, 975, 950, 925, 900, 850, 800, 750, 700, 650, 600,\n",
    "#        550, 500, 450, 400, 350, 300, 250, 200. Also, all field vars must\n",
    "#        be resize to cover an area of 30x30 around the TC center for the\n",
    "#        positive data cases.\n",
    "#        Similar to Step 2, this Step 3 needs to also have a large mem\n",
    "#        allocation so that it can be run properly.\n",
    "#\n",
    "# OUTPUT: A list of probability forecast with the same dimension as the\n",
    "#        number of input 12-channel images.\n",
    "#\n",
    "# HIST: - 01, Nov 22: Created by CK\n",
    "#       - 02, Nov 22: Modified to optimize it\n",
    "#       - 05, Jun 23: Rechecked and added F1 score function for a list of model\n",
    "#       - 12, Jun 23: Customized for ResNet from the CNN functional model\n",
    "#       - 18, Nov 23: re-designed for better check\n",
    "#\n",
    "# AUTH: Chanh Kieu (Indiana University, Bloomington. Email: ckieu@iu.edu)\n",
    "#\n",
    "#==========================================================================\n",
    "import cv2\n",
    "import tensorflow as tf\n",
    "import os\n",
    "from tqdm import tqdm\n",
    "import netCDF4\n",
    "import numpy as np\n",
    "import libtcg_netcdfloader as tcg_loader\n",
    "import libtcg_utils as tcg_utils\n",
    "import pickle\n",
    "import sys"
   ]
  },
  {
   "cell_type": "code",
   "execution_count": 2,
   "id": "70d857fe",
   "metadata": {},
   "outputs": [],
   "source": [
    "#\n",
    "# Function to return input data as an numpy array\n",
    "#\n",
    "def prepare(filepath):\n",
    "    IMG_SIZE = 30\n",
    "    number_channels = 12\n",
    "    f = netCDF4.Dataset(filepath)\n",
    "    abv = f.variables['absvprs']\n",
    "    nx = np.size(abv[0,0,:])\n",
    "    ny = np.size(abv[0,:,0])\n",
    "    nz = np.size(abv[:,0,0])\n",
    "    #print('Dimension of input NETCDF is: ',nx,ny,nz)\n",
    "    a2 = np.zeros((nx,ny,number_channels))\n",
    "    for i in range(a2.shape[0]):\n",
    "        for j in range(a2.shape[1]):\n",
    "            a2[i,j,0] = abv[1,j,i]    # abs vort at 950 mb\n",
    "    rel = f.variables['rhprs']\n",
    "    for i in range(a2.shape[0]):\n",
    "        for j in range(a2.shape[1]):\n",
    "            a2[i,j,1] = rel[7,j,i]    # RH at 750 mb\n",
    "    sfc = f.variables['pressfc']\n",
    "    for i in range(a2.shape[0]):\n",
    "        for j in range(a2.shape[1]):\n",
    "            a2[i,j,2] = sfc[j,i]      # surface pressure\n",
    "    tmp = f.variables['tmpprs']\n",
    "    for i in range(a2.shape[0]):\n",
    "        for j in range(a2.shape[1]):\n",
    "            a2[i,j,3] = tmp[15,j,i]   # temperature at 400 mb\n",
    "    tsf = f.variables['tmpsfc']\n",
    "    for i in range(a2.shape[0]):\n",
    "        for j in range(a2.shape[1]):\n",
    "            a2[i,j,4] = tsf[j,i]      # surface temperature\n",
    "    ugr = f.variables['ugrdprs']\n",
    "    for i in range(a2.shape[0]):\n",
    "        for j in range(a2.shape[1]):\n",
    "            a2[i,j,5] = ugr[3,j,i]    # u-wind at 900 mb\n",
    "            a2[i,j,6] = ugr[17,j,i]   # u-wind at 300 mb\n",
    "    vgr = f.variables['vgrdprs']\n",
    "    for i in range(a2.shape[0]):\n",
    "        for j in range(a2.shape[1]):\n",
    "            a2[i,j,7] = vgr[3,j,i]    # v-wind at 900 mb\n",
    "            a2[i,j,8] = vgr[17,j,i]   # v-wind at 300 mb\n",
    "    hgt = f.variables['hgtprs']\n",
    "    for i in range(a2.shape[0]):\n",
    "        for j in range(a2.shape[1]):\n",
    "            a2[i,j,9] = hgt[3,j,i]    # geopotential at 850 mb\n",
    "    wgr = f.variables['vvelprs']\n",
    "    for i in range(a2.shape[0]):\n",
    "        for j in range(a2.shape[1]):\n",
    "            a2[i,j,10] = wgr[3,j,i]   # w-wind at 900 mb\n",
    "            a2[i,j,11] = wgr[17,j,i]  # w-wind at 300 mb\n",
    "    new_array = cv2.resize(a2, (IMG_SIZE, IMG_SIZE))\n",
    "    #\n",
    "    # normalize the data\n",
    "    #\n",
    "    #print('Number of channels to normalize is: ',number_channels)\n",
    "    for var in range(number_channels):\n",
    "        maxvalue = new_array[:,:,var].flat[np.abs(new_array[:,:,var]).argmax()]\n",
    "        #print('Normalization factor for channel',var,', is: ',abs(maxvalue))\n",
    "        new_array[:,:,var] = new_array[:,:,var]/abs(maxvalue)\n",
    "    out_array = np.reshape(new_array, (-1, IMG_SIZE, IMG_SIZE, number_channels))\n",
    "    #print('reshape new_array returns: ',out_array.shape)\n",
    "    #input('Enter to continue...')\n",
    "    return out_array"
   ]
  },
  {
   "cell_type": "code",
   "execution_count": 3,
   "id": "a0180846-82b2-432d-9f07-6009e96d81b6",
   "metadata": {},
   "outputs": [],
   "source": [
    "#\n",
    "# Visualize the output of the training model (work for jupyter notebook only)\n",
    "#\n",
    "def view_history(histories):\n",
    "    import matplotlib.pyplot as plt\n",
    "    val_accuracy1 = histories[0]['val_binary_accuracy']\n",
    "    accuracy1 = histories[0]['binary_accuracy']\n",
    "    val_accuracy2 = histories[1]['val_binary_accuracy']\n",
    "    accuracy2 = histories[1]['binary_accuracy']\n",
    "    val_accuracy3 = histories[2]['val_binary_accuracy']\n",
    "    accuracy3 = histories[2]['binary_accuracy']\n",
    "    epochs = np.arange(len(val_accuracy1))\n",
    "    plt.plot(epochs,val_accuracy1,'r',label=\"val binary_accuracy resnet20\")\n",
    "    plt.plot(epochs,accuracy1,'r--',label=\"train binary_accuracy resnet20\")\n",
    "    plt.plot(epochs,val_accuracy2,'b',label=\"val binary_accuracy resnet22\")\n",
    "    plt.plot(epochs,accuracy2,'b--',label=\"train binary_accuracy resnet22\")\n",
    "    plt.plot(epochs,val_accuracy3,'g',label=\"val binary_accuracy resnet40\")\n",
    "    plt.plot(epochs,accuracy3,'g--',label=\"train binary_accuracy resnet40\")\n",
    "    plt.legend()\n",
    "\n",
    "    plt.figure()\n",
    "    val_loss1 = histories[0]['val_loss']\n",
    "    loss1 = histories[0]['loss']\n",
    "    val_loss2 = histories[1]['val_loss']\n",
    "    loss2 = histories[1]['loss']\n",
    "    val_loss3 = histories[2]['val_loss']\n",
    "    loss3 = histories[2]['loss']\n",
    "    plt.plot(epochs,val_loss1,'r',label=\"val loss resnet20\")\n",
    "    plt.plot(epochs,loss1,'r--',label=\"train loss resnet20\")\n",
    "    plt.plot(epochs,val_loss2,'b',label=\"val loss resnet22\")\n",
    "    plt.plot(epochs,loss2,'b--',label=\"train loss resnet22\")\n",
    "    plt.plot(epochs,val_loss3,'g',label=\"val loss resnet40\")\n",
    "    plt.plot(epochs,loss3,'g--',label=\"train loss resnet40\")\n",
    "    plt.legend()\n",
    "    plt.show()\n",
    "#\n",
    "# loop thru all best-saved CNN trained models and make a prediction. Note that prediction is applied one by one instead \n",
    "# of a batch input. \n",
    "#\n",
    "def main(DATADIR=\"\",bestmodels=[],test_sample=10):\n",
    "    #\n",
    "    # Test data with an input structure of pos/neg dirs\n",
    "    #\n",
    "    CATEGORIES = [\"neg\", \"pos\"]\n",
    "    F1_performance = []\n",
    "    for bestmodel in bestmodels:\n",
    "        model = tf.keras.models.load_model(bestmodel)\n",
    "        prediction_total = 0\n",
    "        prediction_yes = 0\n",
    "        prediction_history = []\n",
    "        truth_history = []\n",
    "        for category in CATEGORIES:\n",
    "            path = os.path.join(DATADIR,category)\n",
    "            for img in tqdm(os.listdir(path)):    \n",
    "                try:\n",
    "                    img_dir = DATADIR + '/' + category + '/' + img\n",
    "                    print('Processing image:', img_dir)\n",
    "                    #print('Input image dimension is: ',prepare(img_dir).shape)\n",
    "                    prediction = model.predict([tcg_loader.prepare12channels(img_dir,IMG_SIZE=32)])\n",
    "                    print(\"TC formation prediction is\",prediction,round(prediction[0][0]),CATEGORIES[round(prediction[0][0])])\n",
    "                    prediction_history.append(prediction[0][0])\n",
    "                    if round(prediction[0][0]) == 1:\n",
    "                        prediction_yes += 1\n",
    "                    if category == \"pos\":\n",
    "                        truth_history.append(1)\n",
    "                    else:\n",
    "                        truth_history.append(0)\n",
    "                    prediction_total += 1                        \n",
    "                    if prediction_total > test_sample:\n",
    "                        prediction_total = 0\n",
    "                        break\n",
    "                except Exception as e:\n",
    "                    pass   \n",
    "        #\n",
    "        # Compute F1 score for each best model and save it\n",
    "        #\n",
    "        print(prediction_history)\n",
    "        F1_performance.append([bestmodel,tcg_utils.F1_score(truth_history,prediction_history,1,0.5)]) \n",
    "    return F1_performance"
   ]
  },
  {
   "cell_type": "code",
   "execution_count": 4,
   "id": "3c2815a5",
   "metadata": {},
   "outputs": [
    {
     "name": "stdout",
     "output_type": "stream",
     "text": [
      "Total arguments input are: 3\n",
      "Name of Python script: /N/u/ckieu/Carbonate/.local/lib/python3.10/site-packages/ipykernel_launcher.py\n",
      "Forecast lead time to run is:  00\n",
      "Datapath is:  /N/project/hurricane-deep-learning/data/ncep_extracted_binary_18x18/test/\n"
     ]
    },
    {
     "name": "stderr",
     "output_type": "stream",
     "text": [
      "  0%|                                                                                                           | 0/51 [00:00<?, ?it/s]"
     ]
    },
    {
     "name": "stdout",
     "output_type": "stream",
     "text": [
      "Processing image: /N/project/hurricane-deep-learning/data/ncep_extracted_binary_18x18/test//neg/20210912_00_00_21.0_299.8.nc\n"
     ]
    },
    {
     "name": "stderr",
     "output_type": "stream",
     "text": [
      "  2%|█▉                                                                                                 | 1/51 [00:01<00:54,  1.08s/it]"
     ]
    },
    {
     "name": "stdout",
     "output_type": "stream",
     "text": [
      "Processing image: /N/project/hurricane-deep-learning/data/ncep_extracted_binary_18x18/test//neg/20200703_18_00_30.4_323.8.nc\n"
     ]
    },
    {
     "name": "stderr",
     "output_type": "stream",
     "text": [
      "  4%|███▉                                                                                               | 2/51 [00:01<00:44,  1.11it/s]"
     ]
    },
    {
     "name": "stdout",
     "output_type": "stream",
     "text": [
      "Processing image: /N/project/hurricane-deep-learning/data/ncep_extracted_binary_18x18/test//neg/20201004_06_00_16.4_318.8.nc\n"
     ]
    },
    {
     "name": "stderr",
     "output_type": "stream",
     "text": [
      "  6%|█████▊                                                                                             | 3/51 [00:02<00:40,  1.20it/s]"
     ]
    },
    {
     "name": "stdout",
     "output_type": "stream",
     "text": [
      "Processing image: /N/project/hurricane-deep-learning/data/ncep_extracted_binary_18x18/test//neg/20200914_00_00_71.9_2.7.nc\n"
     ]
    },
    {
     "name": "stderr",
     "output_type": "stream",
     "text": [
      "  8%|███████▊                                                                                           | 4/51 [00:03<00:39,  1.20it/s]"
     ]
    },
    {
     "name": "stdout",
     "output_type": "stream",
     "text": [
      "Processing image: /N/project/hurricane-deep-learning/data/ncep_extracted_binary_18x18/test//neg/20210827_00_00_37.8_337.4.nc\n"
     ]
    },
    {
     "name": "stderr",
     "output_type": "stream",
     "text": [
      " 10%|█████████▋                                                                                         | 5/51 [00:04<00:38,  1.20it/s]"
     ]
    },
    {
     "name": "stdout",
     "output_type": "stream",
     "text": [
      "Processing image: /N/project/hurricane-deep-learning/data/ncep_extracted_binary_18x18/test//neg/20201112_00_00_15.5_324.1.nc\n"
     ]
    },
    {
     "name": "stderr",
     "output_type": "stream",
     "text": [
      " 12%|███████████▋                                                                                       | 6/51 [00:05<00:36,  1.22it/s]"
     ]
    },
    {
     "name": "stdout",
     "output_type": "stream",
     "text": [
      "Processing image: /N/project/hurricane-deep-learning/data/ncep_extracted_binary_18x18/test//neg/20200526_18_00_31.5_316.2.nc\n"
     ]
    },
    {
     "name": "stderr",
     "output_type": "stream",
     "text": [
      " 14%|█████████████▌                                                                                     | 7/51 [00:05<00:35,  1.24it/s]"
     ]
    },
    {
     "name": "stdout",
     "output_type": "stream",
     "text": [
      "Processing image: /N/project/hurricane-deep-learning/data/ncep_extracted_binary_18x18/test//neg/20210814_12_00_35.8_331.6.nc\n"
     ]
    },
    {
     "name": "stderr",
     "output_type": "stream",
     "text": [
      " 16%|███████████████▌                                                                                   | 8/51 [00:06<00:34,  1.24it/s]"
     ]
    },
    {
     "name": "stdout",
     "output_type": "stream",
     "text": [
      "Processing image: /N/project/hurricane-deep-learning/data/ncep_extracted_binary_18x18/test//neg/20200830_06_00_30.2_314.3.nc\n"
     ]
    },
    {
     "name": "stderr",
     "output_type": "stream",
     "text": [
      " 18%|█████████████████▍                                                                                 | 9/51 [00:07<00:34,  1.22it/s]"
     ]
    },
    {
     "name": "stdout",
     "output_type": "stream",
     "text": [
      "Processing image: /N/project/hurricane-deep-learning/data/ncep_extracted_binary_18x18/test//neg/20210918_12_00_16.4_342.3.nc\n"
     ]
    },
    {
     "name": "stderr",
     "output_type": "stream",
     "text": [
      " 20%|███████████████████▏                                                                              | 10/51 [00:08<00:33,  1.23it/s]"
     ]
    },
    {
     "name": "stdout",
     "output_type": "stream",
     "text": [
      "Processing image: /N/project/hurricane-deep-learning/data/ncep_extracted_binary_18x18/test//neg/20210809_06_00_13.9_336.3.nc\n"
     ]
    },
    {
     "name": "stderr",
     "output_type": "stream",
     "text": [
      " 22%|█████████████████████▏                                                                            | 11/51 [00:09<00:32,  1.25it/s]"
     ]
    },
    {
     "name": "stdout",
     "output_type": "stream",
     "text": [
      "Processing image: /N/project/hurricane-deep-learning/data/ncep_extracted_binary_18x18/test//neg/20200722_12_00_25.7_306.7.nc\n"
     ]
    },
    {
     "name": "stderr",
     "output_type": "stream",
     "text": [
      " 24%|███████████████████████                                                                           | 12/51 [00:09<00:31,  1.23it/s]"
     ]
    },
    {
     "name": "stdout",
     "output_type": "stream",
     "text": [
      "Processing image: /N/project/hurricane-deep-learning/data/ncep_extracted_binary_18x18/test//neg/20200916_18_00_21.1_300.1.nc\n"
     ]
    },
    {
     "name": "stderr",
     "output_type": "stream",
     "text": [
      " 25%|████████████████████████▉                                                                         | 13/51 [00:10<00:30,  1.23it/s]"
     ]
    },
    {
     "name": "stdout",
     "output_type": "stream",
     "text": [
      "Processing image: /N/project/hurricane-deep-learning/data/ncep_extracted_binary_18x18/test//neg/20200810_06_00_35.8_350.5.nc\n"
     ]
    },
    {
     "name": "stderr",
     "output_type": "stream",
     "text": [
      " 27%|██████████████████████████▉                                                                       | 14/51 [00:11<00:29,  1.24it/s]"
     ]
    },
    {
     "name": "stdout",
     "output_type": "stream",
     "text": [
      "Processing image: /N/project/hurricane-deep-learning/data/ncep_extracted_binary_18x18/test//neg/20210928_12_00_42.0_338.0.nc\n"
     ]
    },
    {
     "name": "stderr",
     "output_type": "stream",
     "text": [
      " 29%|████████████████████████████▊                                                                     | 15/51 [00:12<00:30,  1.20it/s]"
     ]
    },
    {
     "name": "stdout",
     "output_type": "stream",
     "text": [
      "Processing image: /N/project/hurricane-deep-learning/data/ncep_extracted_binary_18x18/test//neg/20200831_18_00_15.9_319.8.nc\n"
     ]
    },
    {
     "name": "stderr",
     "output_type": "stream",
     "text": [
      " 31%|██████████████████████████████▋                                                                   | 16/51 [00:13<00:28,  1.21it/s]"
     ]
    },
    {
     "name": "stdout",
     "output_type": "stream",
     "text": [
      "Processing image: /N/project/hurricane-deep-learning/data/ncep_extracted_binary_18x18/test//neg/20200705_00_00_27.7_306.2.nc\n"
     ]
    },
    {
     "name": "stderr",
     "output_type": "stream",
     "text": [
      " 33%|████████████████████████████████▋                                                                 | 17/51 [00:14<00:27,  1.22it/s]"
     ]
    },
    {
     "name": "stdout",
     "output_type": "stream",
     "text": [
      "Processing image: /N/project/hurricane-deep-learning/data/ncep_extracted_binary_18x18/test//neg/20210922_06_00_34.7_351.6.nc\n"
     ]
    },
    {
     "name": "stderr",
     "output_type": "stream",
     "text": [
      " 35%|██████████████████████████████████▌                                                               | 18/51 [00:14<00:27,  1.22it/s]"
     ]
    },
    {
     "name": "stdout",
     "output_type": "stream",
     "text": [
      "Processing image: /N/project/hurricane-deep-learning/data/ncep_extracted_binary_18x18/test//neg/20200516_06_00_28.0_316.3.nc\n"
     ]
    },
    {
     "name": "stderr",
     "output_type": "stream",
     "text": [
      " 37%|████████████████████████████████████▌                                                             | 19/51 [00:15<00:26,  1.21it/s]"
     ]
    },
    {
     "name": "stdout",
     "output_type": "stream",
     "text": [
      "Processing image: /N/project/hurricane-deep-learning/data/ncep_extracted_binary_18x18/test//neg/20200819_12_00_39.1_337.4.nc\n"
     ]
    },
    {
     "name": "stderr",
     "output_type": "stream",
     "text": [
      " 39%|██████████████████████████████████████▍                                                           | 20/51 [00:16<00:25,  1.22it/s]"
     ]
    },
    {
     "name": "stdout",
     "output_type": "stream",
     "text": [
      "Processing image: /N/project/hurricane-deep-learning/data/ncep_extracted_binary_18x18/test//neg/20200720_00_00_33.6_347.9.nc\n"
     ]
    },
    {
     "name": "stderr",
     "output_type": "stream",
     "text": [
      " 41%|████████████████████████████████████████▎                                                         | 21/51 [00:17<00:24,  1.24it/s]"
     ]
    },
    {
     "name": "stdout",
     "output_type": "stream",
     "text": [
      "Processing image: /N/project/hurricane-deep-learning/data/ncep_extracted_binary_18x18/test//neg/20210627_06_00_29.8_322.2.nc\n"
     ]
    },
    {
     "name": "stderr",
     "output_type": "stream",
     "text": [
      " 43%|██████████████████████████████████████████▎                                                       | 22/51 [00:18<00:23,  1.24it/s]"
     ]
    },
    {
     "name": "stdout",
     "output_type": "stream",
     "text": [
      "Processing image: /N/project/hurricane-deep-learning/data/ncep_extracted_binary_18x18/test//neg/20201108_00_00_28.4_347.5.nc\n"
     ]
    },
    {
     "name": "stderr",
     "output_type": "stream",
     "text": [
      " 45%|████████████████████████████████████████████▏                                                     | 23/51 [00:18<00:22,  1.25it/s]"
     ]
    },
    {
     "name": "stdout",
     "output_type": "stream",
     "text": [
      "Processing image: /N/project/hurricane-deep-learning/data/ncep_extracted_binary_18x18/test//neg/20200728_00_00_12.5_341.0.nc\n"
     ]
    },
    {
     "name": "stderr",
     "output_type": "stream",
     "text": [
      " 47%|██████████████████████████████████████████████                                                    | 24/51 [00:19<00:21,  1.25it/s]"
     ]
    },
    {
     "name": "stdout",
     "output_type": "stream",
     "text": [
      "Processing image: /N/project/hurricane-deep-learning/data/ncep_extracted_binary_18x18/test//neg/20210617_06_00_22.5_302.8.nc\n"
     ]
    },
    {
     "name": "stderr",
     "output_type": "stream",
     "text": [
      " 49%|████████████████████████████████████████████████                                                  | 25/51 [00:20<00:20,  1.27it/s]"
     ]
    },
    {
     "name": "stdout",
     "output_type": "stream",
     "text": [
      "Processing image: /N/project/hurricane-deep-learning/data/ncep_extracted_binary_18x18/test//neg/20210923_18_00_31.4_333.0.nc\n"
     ]
    },
    {
     "name": "stderr",
     "output_type": "stream",
     "text": [
      " 51%|█████████████████████████████████████████████████▉                                                | 26/51 [00:21<00:19,  1.26it/s]"
     ]
    },
    {
     "name": "stdout",
     "output_type": "stream",
     "text": [
      "Processing image: /N/project/hurricane-deep-learning/data/ncep_extracted_binary_18x18/test//neg/20210915_18_00_30.4_320.7.nc\n"
     ]
    },
    {
     "name": "stderr",
     "output_type": "stream",
     "text": [
      " 53%|███████████████████████████████████████████████████▉                                              | 27/51 [00:22<00:18,  1.27it/s]"
     ]
    },
    {
     "name": "stdout",
     "output_type": "stream",
     "text": [
      "Processing image: /N/project/hurricane-deep-learning/data/ncep_extracted_binary_18x18/test//neg/20200729_06_00_37.4_5.0.nc\n"
     ]
    },
    {
     "name": "stderr",
     "output_type": "stream",
     "text": [
      " 55%|█████████████████████████████████████████████████████▊                                            | 28/51 [00:22<00:18,  1.26it/s]"
     ]
    },
    {
     "name": "stdout",
     "output_type": "stream",
     "text": [
      "Processing image: /N/project/hurricane-deep-learning/data/ncep_extracted_binary_18x18/test//neg/20201001_12_00_16.6_311.7.nc\n"
     ]
    },
    {
     "name": "stderr",
     "output_type": "stream",
     "text": [
      " 57%|███████████████████████████████████████████████████████▋                                          | 29/51 [00:23<00:17,  1.27it/s]"
     ]
    },
    {
     "name": "stdout",
     "output_type": "stream",
     "text": [
      "Processing image: /N/project/hurricane-deep-learning/data/ncep_extracted_binary_18x18/test//neg/20210519_12_00_30.3_339.5.nc\n"
     ]
    },
    {
     "name": "stderr",
     "output_type": "stream",
     "text": [
      " 59%|█████████████████████████████████████████████████████████▋                                        | 30/51 [00:24<00:16,  1.27it/s]"
     ]
    },
    {
     "name": "stdout",
     "output_type": "stream",
     "text": [
      "Processing image: /N/project/hurricane-deep-learning/data/ncep_extracted_binary_18x18/test//neg/20210826_00_00_16.5_316.1.nc\n"
     ]
    },
    {
     "name": "stderr",
     "output_type": "stream",
     "text": [
      " 61%|███████████████████████████████████████████████████████████▌                                      | 31/51 [00:25<00:15,  1.28it/s]"
     ]
    },
    {
     "name": "stdout",
     "output_type": "stream",
     "text": [
      "Processing image: /N/project/hurricane-deep-learning/data/ncep_extracted_binary_18x18/test//neg/20200820_06_00_38.8_304.2.nc\n"
     ]
    },
    {
     "name": "stderr",
     "output_type": "stream",
     "text": [
      " 63%|█████████████████████████████████████████████████████████████▍                                    | 32/51 [00:25<00:14,  1.28it/s]"
     ]
    },
    {
     "name": "stdout",
     "output_type": "stream",
     "text": [
      "Processing image: /N/project/hurricane-deep-learning/data/ncep_extracted_binary_18x18/test//neg/20201024_00_00_18.4_312.4.nc\n"
     ]
    },
    {
     "name": "stderr",
     "output_type": "stream",
     "text": [
      " 65%|███████████████████████████████████████████████████████████████▍                                  | 33/51 [00:26<00:14,  1.28it/s]"
     ]
    },
    {
     "name": "stdout",
     "output_type": "stream",
     "text": [
      "Processing image: /N/project/hurricane-deep-learning/data/ncep_extracted_binary_18x18/test//neg/20210812_18_00_39.7_338.0.nc\n"
     ]
    },
    {
     "name": "stderr",
     "output_type": "stream",
     "text": [
      " 67%|█████████████████████████████████████████████████████████████████▎                                | 34/51 [00:27<00:13,  1.26it/s]"
     ]
    },
    {
     "name": "stdout",
     "output_type": "stream",
     "text": [
      "Processing image: /N/project/hurricane-deep-learning/data/ncep_extracted_binary_18x18/test//neg/20210918_12_00_45.4_332.6.nc\n"
     ]
    },
    {
     "name": "stderr",
     "output_type": "stream",
     "text": [
      " 69%|███████████████████████████████████████████████████████████████████▎                              | 35/51 [00:28<00:12,  1.26it/s]"
     ]
    },
    {
     "name": "stdout",
     "output_type": "stream",
     "text": [
      "Processing image: /N/project/hurricane-deep-learning/data/ncep_extracted_binary_18x18/test//neg/20201031_06_00_14.9_322.6.nc\n"
     ]
    },
    {
     "name": "stderr",
     "output_type": "stream",
     "text": [
      " 71%|█████████████████████████████████████████████████████████████████████▏                            | 36/51 [00:29<00:11,  1.28it/s]"
     ]
    },
    {
     "name": "stdout",
     "output_type": "stream",
     "text": [
      "Processing image: /N/project/hurricane-deep-learning/data/ncep_extracted_binary_18x18/test//neg/20210908_06_00_63.4_273.2.nc\n"
     ]
    },
    {
     "name": "stderr",
     "output_type": "stream",
     "text": [
      " 73%|███████████████████████████████████████████████████████████████████████                           | 37/51 [00:29<00:11,  1.27it/s]"
     ]
    },
    {
     "name": "stdout",
     "output_type": "stream",
     "text": [
      "Processing image: /N/project/hurricane-deep-learning/data/ncep_extracted_binary_18x18/test//neg/20210630_06_00_34.1_341.9.nc\n"
     ]
    },
    {
     "name": "stderr",
     "output_type": "stream",
     "text": [
      " 75%|█████████████████████████████████████████████████████████████████████████                         | 38/51 [00:30<00:10,  1.25it/s]"
     ]
    },
    {
     "name": "stdout",
     "output_type": "stream",
     "text": [
      "Processing image: /N/project/hurricane-deep-learning/data/ncep_extracted_binary_18x18/test//neg/20210831_06_00_46.5_339.4.nc\n"
     ]
    },
    {
     "name": "stderr",
     "output_type": "stream",
     "text": [
      " 76%|██████████████████████████████████████████████████████████████████████████▉                       | 39/51 [00:31<00:09,  1.25it/s]"
     ]
    },
    {
     "name": "stdout",
     "output_type": "stream",
     "text": [
      "Processing image: /N/project/hurricane-deep-learning/data/ncep_extracted_binary_18x18/test//neg/20200911_18_00_35.7_353.3.nc\n"
     ]
    },
    {
     "name": "stderr",
     "output_type": "stream",
     "text": [
      " 78%|████████████████████████████████████████████████████████████████████████████▊                     | 40/51 [00:32<00:08,  1.25it/s]"
     ]
    },
    {
     "name": "stdout",
     "output_type": "stream",
     "text": [
      "Processing image: /N/project/hurricane-deep-learning/data/ncep_extracted_binary_18x18/test//neg/20200814_00_00_36.6_320.8.nc\n"
     ]
    },
    {
     "name": "stderr",
     "output_type": "stream",
     "text": [
      " 80%|██████████████████████████████████████████████████████████████████████████████▊                   | 41/51 [00:33<00:08,  1.24it/s]"
     ]
    },
    {
     "name": "stdout",
     "output_type": "stream",
     "text": [
      "Processing image: /N/project/hurricane-deep-learning/data/ncep_extracted_binary_18x18/test//neg/20200911_06_00_50.1_306.1.nc\n"
     ]
    },
    {
     "name": "stderr",
     "output_type": "stream",
     "text": [
      " 82%|████████████████████████████████████████████████████████████████████████████████▋                 | 42/51 [00:33<00:07,  1.24it/s]"
     ]
    },
    {
     "name": "stdout",
     "output_type": "stream",
     "text": [
      "Processing image: /N/project/hurricane-deep-learning/data/ncep_extracted_binary_18x18/test//neg/20201016_00_00_31.5_340.1.nc\n"
     ]
    },
    {
     "name": "stderr",
     "output_type": "stream",
     "text": [
      " 84%|██████████████████████████████████████████████████████████████████████████████████▋               | 43/51 [00:34<00:06,  1.25it/s]"
     ]
    },
    {
     "name": "stdout",
     "output_type": "stream",
     "text": [
      "Processing image: /N/project/hurricane-deep-learning/data/ncep_extracted_binary_18x18/test//neg/20200621_18_00_38.6_327.9.nc\n"
     ]
    },
    {
     "name": "stderr",
     "output_type": "stream",
     "text": [
      " 86%|████████████████████████████████████████████████████████████████████████████████████▌             | 44/51 [00:35<00:05,  1.26it/s]"
     ]
    },
    {
     "name": "stdout",
     "output_type": "stream",
     "text": [
      "Processing image: /N/project/hurricane-deep-learning/data/ncep_extracted_binary_18x18/test//neg/20200906_06_00_39.3_6.6.nc\n"
     ]
    },
    {
     "name": "stderr",
     "output_type": "stream",
     "text": [
      " 88%|██████████████████████████████████████████████████████████████████████████████████████▍           | 45/51 [00:36<00:04,  1.23it/s]"
     ]
    },
    {
     "name": "stdout",
     "output_type": "stream",
     "text": [
      "Processing image: /N/project/hurricane-deep-learning/data/ncep_extracted_binary_18x18/test//neg/20210613_06_00_31.9_316.9.nc\n"
     ]
    },
    {
     "name": "stderr",
     "output_type": "stream",
     "text": [
      " 90%|████████████████████████████████████████████████████████████████████████████████████████▍         | 46/51 [00:37<00:04,  1.23it/s]"
     ]
    },
    {
     "name": "stdout",
     "output_type": "stream",
     "text": [
      "Processing image: /N/project/hurricane-deep-learning/data/ncep_extracted_binary_18x18/test//neg/20200916_12_00_10.2_300.0.nc\n"
     ]
    },
    {
     "name": "stderr",
     "output_type": "stream",
     "text": [
      " 92%|██████████████████████████████████████████████████████████████████████████████████████████▎       | 47/51 [00:38<00:03,  1.22it/s]"
     ]
    },
    {
     "name": "stdout",
     "output_type": "stream",
     "text": [
      "Processing image: /N/project/hurricane-deep-learning/data/ncep_extracted_binary_18x18/test//neg/20210828_00_00_32.1_343.3.nc\n"
     ]
    },
    {
     "name": "stderr",
     "output_type": "stream",
     "text": [
      " 94%|████████████████████████████████████████████████████████████████████████████████████████████▏     | 48/51 [00:38<00:02,  1.22it/s]"
     ]
    },
    {
     "name": "stdout",
     "output_type": "stream",
     "text": [
      "Processing image: /N/project/hurricane-deep-learning/data/ncep_extracted_binary_18x18/test//neg/20200601_06_00_19.4_304.1.nc\n"
     ]
    },
    {
     "name": "stderr",
     "output_type": "stream",
     "text": [
      " 96%|██████████████████████████████████████████████████████████████████████████████████████████████▏   | 49/51 [00:39<00:01,  1.23it/s]"
     ]
    },
    {
     "name": "stdout",
     "output_type": "stream",
     "text": [
      "Processing image: /N/project/hurricane-deep-learning/data/ncep_extracted_binary_18x18/test//neg/20200906_12_00_41.6_343.4.nc\n"
     ]
    },
    {
     "name": "stderr",
     "output_type": "stream",
     "text": [
      " 98%|████████████████████████████████████████████████████████████████████████████████████████████████  | 50/51 [00:40<00:00,  1.23it/s]"
     ]
    },
    {
     "name": "stdout",
     "output_type": "stream",
     "text": [
      "Processing image: /N/project/hurricane-deep-learning/data/ncep_extracted_binary_18x18/test//neg/20200913_12_00_52.5_331.8.nc\n"
     ]
    },
    {
     "name": "stderr",
     "output_type": "stream",
     "text": [
      "100%|██████████████████████████████████████████████████████████████████████████████████████████████████| 51/51 [00:41<00:00,  1.24it/s]\n",
      "  0%|                                                                                                           | 0/51 [00:00<?, ?it/s]"
     ]
    },
    {
     "name": "stdout",
     "output_type": "stream",
     "text": [
      "Processing image: /N/project/hurricane-deep-learning/data/ncep_extracted_binary_18x18/test//pos/20200621_18_00_38.6_292.9_2020174N39293.nc\n"
     ]
    },
    {
     "name": "stderr",
     "output_type": "stream",
     "text": [
      "  2%|█▉                                                                                                 | 1/51 [00:00<00:40,  1.24it/s]"
     ]
    },
    {
     "name": "stdout",
     "output_type": "stream",
     "text": [
      "Processing image: /N/project/hurricane-deep-learning/data/ncep_extracted_binary_18x18/test//pos/20200810_06_00_11.1_325.8_2020224N11326.nc\n"
     ]
    },
    {
     "name": "stderr",
     "output_type": "stream",
     "text": [
      "  4%|███▉                                                                                               | 2/51 [00:01<00:39,  1.25it/s]"
     ]
    },
    {
     "name": "stdout",
     "output_type": "stream",
     "text": [
      "Processing image: /N/project/hurricane-deep-learning/data/ncep_extracted_binary_18x18/test//pos/20200705_00_00_27.7_271.2_2020188N28271.nc\n"
     ]
    },
    {
     "name": "stderr",
     "output_type": "stream",
     "text": [
      "  6%|█████▊                                                                                             | 3/51 [00:02<00:38,  1.25it/s]"
     ]
    },
    {
     "name": "stdout",
     "output_type": "stream",
     "text": [
      "Processing image: /N/project/hurricane-deep-learning/data/ncep_extracted_binary_18x18/test//pos/20210918_12_00_10.4_332.6_2021262N10333.nc\n"
     ]
    },
    {
     "name": "stderr",
     "output_type": "stream",
     "text": [
      "  8%|███████▊                                                                                           | 4/51 [00:03<00:37,  1.25it/s]"
     ]
    },
    {
     "name": "stdout",
     "output_type": "stream",
     "text": [
      "Processing image: /N/project/hurricane-deep-learning/data/ncep_extracted_binary_18x18/test//pos/20210613_06_00_31.9_281.9_2021165N32282.nc\n"
     ]
    },
    {
     "name": "stderr",
     "output_type": "stream",
     "text": [
      " 10%|█████████▋                                                                                         | 5/51 [00:03<00:36,  1.25it/s]"
     ]
    },
    {
     "name": "stdout",
     "output_type": "stream",
     "text": [
      "Processing image: /N/project/hurricane-deep-learning/data/ncep_extracted_binary_18x18/test//pos/20200516_06_00_28.0_281.3_2020138N28281.nc\n"
     ]
    },
    {
     "name": "stderr",
     "output_type": "stream",
     "text": [
      " 12%|███████████▋                                                                                       | 6/51 [00:04<00:36,  1.23it/s]"
     ]
    },
    {
     "name": "stdout",
     "output_type": "stream",
     "text": [
      "Processing image: /N/project/hurricane-deep-learning/data/ncep_extracted_binary_18x18/test//pos/20200830_06_00_30.2_279.3_2020244N30279.nc\n"
     ]
    },
    {
     "name": "stderr",
     "output_type": "stream",
     "text": [
      " 14%|█████████████▌                                                                                     | 7/51 [00:05<00:35,  1.25it/s]"
     ]
    },
    {
     "name": "stdout",
     "output_type": "stream",
     "text": [
      "Processing image: /N/project/hurricane-deep-learning/data/ncep_extracted_binary_18x18/test//pos/20200820_06_00_14.1_279.5_2020234N14280.nc\n"
     ]
    },
    {
     "name": "stderr",
     "output_type": "stream",
     "text": [
      " 16%|███████████████▌                                                                                   | 8/51 [00:06<00:33,  1.27it/s]"
     ]
    },
    {
     "name": "stdout",
     "output_type": "stream",
     "text": [
      "Processing image: /N/project/hurricane-deep-learning/data/ncep_extracted_binary_18x18/test//pos/20200720_00_00_8.9_323.2_2020203N09323.nc\n"
     ]
    },
    {
     "name": "stderr",
     "output_type": "stream",
     "text": [
      " 18%|█████████████████▍                                                                                 | 9/51 [00:07<00:33,  1.26it/s]"
     ]
    },
    {
     "name": "stdout",
     "output_type": "stream",
     "text": [
      "Processing image: /N/project/hurricane-deep-learning/data/ncep_extracted_binary_18x18/test//pos/20200728_00_00_12.5_306.0_2020211N13306.nc\n"
     ]
    },
    {
     "name": "stderr",
     "output_type": "stream",
     "text": [
      " 20%|███████████████████▏                                                                              | 10/51 [00:08<00:33,  1.24it/s]"
     ]
    },
    {
     "name": "stdout",
     "output_type": "stream",
     "text": [
      "Processing image: /N/project/hurricane-deep-learning/data/ncep_extracted_binary_18x18/test//pos/20200906_06_00_14.6_341.9_2020251N15342.nc\n"
     ]
    },
    {
     "name": "stderr",
     "output_type": "stream",
     "text": [
      " 22%|█████████████████████▏                                                                            | 11/51 [00:08<00:32,  1.25it/s]"
     ]
    },
    {
     "name": "stdout",
     "output_type": "stream",
     "text": [
      "Processing image: /N/project/hurricane-deep-learning/data/ncep_extracted_binary_18x18/test//pos/20200703_18_00_30.4_288.8_2020186N30289.nc\n"
     ]
    },
    {
     "name": "stderr",
     "output_type": "stream",
     "text": [
      " 24%|███████████████████████                                                                           | 12/51 [00:09<00:31,  1.24it/s]"
     ]
    },
    {
     "name": "stdout",
     "output_type": "stream",
     "text": [
      "Processing image: /N/project/hurricane-deep-learning/data/ncep_extracted_binary_18x18/test//pos/20200729_06_00_12.7_340.3_2020212N13340.nc\n"
     ]
    },
    {
     "name": "stderr",
     "output_type": "stream",
     "text": [
      " 25%|████████████████████████▉                                                                         | 13/51 [00:10<00:30,  1.25it/s]"
     ]
    },
    {
     "name": "stdout",
     "output_type": "stream",
     "text": [
      "Processing image: /N/project/hurricane-deep-learning/data/ncep_extracted_binary_18x18/test//pos/20210812_18_00_15.0_313.3_2021225N15313.nc\n"
     ]
    },
    {
     "name": "stderr",
     "output_type": "stream",
     "text": [
      " 27%|██████████████████████████▉                                                                       | 14/51 [00:11<00:29,  1.23it/s]"
     ]
    },
    {
     "name": "stdout",
     "output_type": "stream",
     "text": [
      "Processing image: /N/project/hurricane-deep-learning/data/ncep_extracted_binary_18x18/test//pos/20210923_18_00_31.4_298.0_2021267N31298.nc\n"
     ]
    },
    {
     "name": "stderr",
     "output_type": "stream",
     "text": [
      " 29%|████████████████████████████▊                                                                     | 15/51 [00:12<00:29,  1.24it/s]"
     ]
    },
    {
     "name": "stdout",
     "output_type": "stream",
     "text": [
      "Processing image: /N/project/hurricane-deep-learning/data/ncep_extracted_binary_18x18/test//pos/20200819_12_00_14.4_312.7_2020233N14313.nc\n"
     ]
    },
    {
     "name": "stderr",
     "output_type": "stream",
     "text": [
      " 31%|██████████████████████████████▋                                                                   | 16/51 [00:12<00:28,  1.23it/s]"
     ]
    },
    {
     "name": "stdout",
     "output_type": "stream",
     "text": [
      "Processing image: /N/project/hurricane-deep-learning/data/ncep_extracted_binary_18x18/test//pos/20210908_06_00_28.4_273.2_2021252N28273.nc\n"
     ]
    },
    {
     "name": "stderr",
     "output_type": "stream",
     "text": [
      " 33%|████████████████████████████████▋                                                                 | 17/51 [00:13<00:27,  1.23it/s]"
     ]
    },
    {
     "name": "stdout",
     "output_type": "stream",
     "text": [
      "Processing image: /N/project/hurricane-deep-learning/data/ncep_extracted_binary_18x18/test//pos/20200906_12_00_16.9_318.7_2020251N17319.nc\n"
     ]
    },
    {
     "name": "stderr",
     "output_type": "stream",
     "text": [
      " 35%|██████████████████████████████████▌                                                               | 18/51 [00:14<00:26,  1.24it/s]"
     ]
    },
    {
     "name": "stdout",
     "output_type": "stream",
     "text": [
      "Processing image: /N/project/hurricane-deep-learning/data/ncep_extracted_binary_18x18/test//pos/20210519_12_00_30.3_304.5_2021140N30305.nc\n"
     ]
    },
    {
     "name": "stderr",
     "output_type": "stream",
     "text": [
      " 37%|████████████████████████████████████▌                                                             | 19/51 [00:15<00:25,  1.25it/s]"
     ]
    },
    {
     "name": "stdout",
     "output_type": "stream",
     "text": [
      "Processing image: /N/project/hurricane-deep-learning/data/ncep_extracted_binary_18x18/test//pos/20201108_00_00_28.4_312.5_2020314N28313.nc\n"
     ]
    },
    {
     "name": "stderr",
     "output_type": "stream",
     "text": [
      " 39%|██████████████████████████████████████▍                                                           | 20/51 [00:16<00:24,  1.24it/s]"
     ]
    },
    {
     "name": "stdout",
     "output_type": "stream",
     "text": [
      "Processing image: /N/project/hurricane-deep-learning/data/ncep_extracted_binary_18x18/test//pos/20201024_00_00_18.4_277.4_2020299N18277.nc\n"
     ]
    },
    {
     "name": "stderr",
     "output_type": "stream",
     "text": [
      " 41%|████████████████████████████████████████▎                                                         | 21/51 [00:16<00:24,  1.25it/s]"
     ]
    },
    {
     "name": "stdout",
     "output_type": "stream",
     "text": [
      "Processing image: /N/project/hurricane-deep-learning/data/ncep_extracted_binary_18x18/test//pos/20200914_00_00_47.2_338.0_2020259N47338.nc\n"
     ]
    },
    {
     "name": "stderr",
     "output_type": "stream",
     "text": [
      " 43%|██████████████████████████████████████████▎                                                       | 22/51 [00:17<00:23,  1.24it/s]"
     ]
    },
    {
     "name": "stdout",
     "output_type": "stream",
     "text": [
      "Processing image: /N/project/hurricane-deep-learning/data/ncep_extracted_binary_18x18/test//pos/20210627_06_00_29.8_287.2_2021179N30287.nc\n"
     ]
    },
    {
     "name": "stderr",
     "output_type": "stream",
     "text": [
      " 45%|████████████████████████████████████████████▏                                                     | 23/51 [00:18<00:22,  1.23it/s]"
     ]
    },
    {
     "name": "stdout",
     "output_type": "stream",
     "text": [
      "Processing image: /N/project/hurricane-deep-learning/data/ncep_extracted_binary_18x18/test//pos/20210928_12_00_7.0_338.0_2021272N07338.nc\n"
     ]
    },
    {
     "name": "stderr",
     "output_type": "stream",
     "text": [
      " 47%|██████████████████████████████████████████████                                                    | 24/51 [00:19<00:22,  1.21it/s]"
     ]
    },
    {
     "name": "stdout",
     "output_type": "stream",
     "text": [
      "Processing image: /N/project/hurricane-deep-learning/data/ncep_extracted_binary_18x18/test//pos/20200831_18_00_15.9_284.8_2020245N16285.nc\n"
     ]
    },
    {
     "name": "stderr",
     "output_type": "stream",
     "text": [
      " 49%|████████████████████████████████████████████████                                                  | 25/51 [00:20<00:21,  1.24it/s]"
     ]
    },
    {
     "name": "stdout",
     "output_type": "stream",
     "text": [
      "Processing image: /N/project/hurricane-deep-learning/data/ncep_extracted_binary_18x18/test//pos/20210918_12_00_16.4_307.3_2021262N16307.nc\n"
     ]
    },
    {
     "name": "stderr",
     "output_type": "stream",
     "text": [
      " 51%|█████████████████████████████████████████████████▉                                                | 26/51 [00:20<00:19,  1.26it/s]"
     ]
    },
    {
     "name": "stdout",
     "output_type": "stream",
     "text": [
      "Processing image: /N/project/hurricane-deep-learning/data/ncep_extracted_binary_18x18/test//pos/20200526_18_00_31.5_281.2_2020148N32281.nc\n"
     ]
    },
    {
     "name": "stderr",
     "output_type": "stream",
     "text": [
      " 53%|███████████████████████████████████████████████████▉                                              | 27/51 [00:21<00:18,  1.27it/s]"
     ]
    },
    {
     "name": "stdout",
     "output_type": "stream",
     "text": [
      "Processing image: /N/project/hurricane-deep-learning/data/ncep_extracted_binary_18x18/test//pos/20210814_12_00_35.8_296.6_2021227N36297.nc\n"
     ]
    },
    {
     "name": "stderr",
     "output_type": "stream",
     "text": [
      " 55%|█████████████████████████████████████████████████████▊                                            | 28/51 [00:22<00:17,  1.28it/s]"
     ]
    },
    {
     "name": "stdout",
     "output_type": "stream",
     "text": [
      "Processing image: /N/project/hurricane-deep-learning/data/ncep_extracted_binary_18x18/test//pos/20210826_00_00_16.5_281.1_2021239N17281.nc\n"
     ]
    },
    {
     "name": "stderr",
     "output_type": "stream",
     "text": [
      " 57%|███████████████████████████████████████████████████████▋                                          | 29/51 [00:23<00:17,  1.29it/s]"
     ]
    },
    {
     "name": "stdout",
     "output_type": "stream",
     "text": [
      "Processing image: /N/project/hurricane-deep-learning/data/ncep_extracted_binary_18x18/test//pos/20201031_06_00_14.9_287.6_2020306N15288.nc\n"
     ]
    },
    {
     "name": "stderr",
     "output_type": "stream",
     "text": [
      " 59%|█████████████████████████████████████████████████████████▋                                        | 30/51 [00:23<00:16,  1.29it/s]"
     ]
    },
    {
     "name": "stdout",
     "output_type": "stream",
     "text": [
      "Processing image: /N/project/hurricane-deep-learning/data/ncep_extracted_binary_18x18/test//pos/20201112_00_00_15.5_289.1_2020318N16289.nc\n"
     ]
    },
    {
     "name": "stderr",
     "output_type": "stream",
     "text": [
      " 61%|███████████████████████████████████████████████████████████▌                                      | 31/51 [00:24<00:15,  1.29it/s]"
     ]
    },
    {
     "name": "stdout",
     "output_type": "stream",
     "text": [
      "Processing image: /N/project/hurricane-deep-learning/data/ncep_extracted_binary_18x18/test//pos/20210831_06_00_11.5_339.4_2021244N12339.nc\n"
     ]
    },
    {
     "name": "stderr",
     "output_type": "stream",
     "text": [
      " 63%|█████████████████████████████████████████████████████████████▍                                    | 32/51 [00:25<00:14,  1.29it/s]"
     ]
    },
    {
     "name": "stdout",
     "output_type": "stream",
     "text": [
      "Processing image: /N/project/hurricane-deep-learning/data/ncep_extracted_binary_18x18/test//pos/20201001_12_00_16.6_276.7_2020276N17277.nc\n"
     ]
    },
    {
     "name": "stderr",
     "output_type": "stream",
     "text": [
      " 65%|███████████████████████████████████████████████████████████████▍                                  | 33/51 [00:26<00:13,  1.29it/s]"
     ]
    },
    {
     "name": "stdout",
     "output_type": "stream",
     "text": [
      "Processing image: /N/project/hurricane-deep-learning/data/ncep_extracted_binary_18x18/test//pos/20200913_12_00_17.5_331.8_2020258N18332.nc\n"
     ]
    },
    {
     "name": "stderr",
     "output_type": "stream",
     "text": [
      " 67%|█████████████████████████████████████████████████████████████████▎                                | 34/51 [00:27<00:13,  1.29it/s]"
     ]
    },
    {
     "name": "stdout",
     "output_type": "stream",
     "text": [
      "Processing image: /N/project/hurricane-deep-learning/data/ncep_extracted_binary_18x18/test//pos/20210915_18_00_30.4_285.7_2021259N30286.nc\n"
     ]
    },
    {
     "name": "stderr",
     "output_type": "stream",
     "text": [
      " 69%|███████████████████████████████████████████████████████████████████▎                              | 35/51 [00:27<00:12,  1.29it/s]"
     ]
    },
    {
     "name": "stdout",
     "output_type": "stream",
     "text": [
      "Processing image: /N/project/hurricane-deep-learning/data/ncep_extracted_binary_18x18/test//pos/20200916_18_00_21.1_265.1_2020261N21265.nc\n"
     ]
    },
    {
     "name": "stderr",
     "output_type": "stream",
     "text": [
      " 71%|█████████████████████████████████████████████████████████████████████▏                            | 36/51 [00:28<00:11,  1.29it/s]"
     ]
    },
    {
     "name": "stdout",
     "output_type": "stream",
     "text": [
      "Processing image: /N/project/hurricane-deep-learning/data/ncep_extracted_binary_18x18/test//pos/20200916_12_00_10.2_335.0_2020261N10335.nc\n"
     ]
    },
    {
     "name": "stderr",
     "output_type": "stream",
     "text": [
      " 73%|███████████████████████████████████████████████████████████████████████                           | 37/51 [00:29<00:10,  1.28it/s]"
     ]
    },
    {
     "name": "stdout",
     "output_type": "stream",
     "text": [
      "Processing image: /N/project/hurricane-deep-learning/data/ncep_extracted_binary_18x18/test//pos/20201016_00_00_31.5_305.1_2020291N32305.nc\n"
     ]
    },
    {
     "name": "stderr",
     "output_type": "stream",
     "text": [
      " 75%|█████████████████████████████████████████████████████████████████████████                         | 38/51 [00:30<00:10,  1.28it/s]"
     ]
    },
    {
     "name": "stdout",
     "output_type": "stream",
     "text": [
      "Processing image: /N/project/hurricane-deep-learning/data/ncep_extracted_binary_18x18/test//pos/20201004_06_00_16.4_283.8_2020279N16284.nc\n"
     ]
    },
    {
     "name": "stderr",
     "output_type": "stream",
     "text": [
      " 76%|██████████████████████████████████████████████████████████████████████████▉                       | 39/51 [00:30<00:09,  1.28it/s]"
     ]
    },
    {
     "name": "stdout",
     "output_type": "stream",
     "text": [
      "Processing image: /N/project/hurricane-deep-learning/data/ncep_extracted_binary_18x18/test//pos/20210828_00_00_32.1_308.3_2021241N32308.nc\n"
     ]
    },
    {
     "name": "stderr",
     "output_type": "stream",
     "text": [
      " 78%|████████████████████████████████████████████████████████████████████████████▊                     | 40/51 [00:31<00:08,  1.30it/s]"
     ]
    },
    {
     "name": "stdout",
     "output_type": "stream",
     "text": [
      "Processing image: /N/project/hurricane-deep-learning/data/ncep_extracted_binary_18x18/test//pos/20200911_18_00_11.0_328.6_2020256N11329.nc\n"
     ]
    },
    {
     "name": "stderr",
     "output_type": "stream",
     "text": [
      " 80%|██████████████████████████████████████████████████████████████████████████████▊                   | 41/51 [00:32<00:07,  1.27it/s]"
     ]
    },
    {
     "name": "stdout",
     "output_type": "stream",
     "text": [
      "Processing image: /N/project/hurricane-deep-learning/data/ncep_extracted_binary_18x18/test//pos/20200722_12_00_25.7_271.7_2020205N26272.nc\n"
     ]
    },
    {
     "name": "stderr",
     "output_type": "stream",
     "text": [
      " 82%|████████████████████████████████████████████████████████████████████████████████▋                 | 42/51 [00:33<00:07,  1.28it/s]"
     ]
    },
    {
     "name": "stdout",
     "output_type": "stream",
     "text": [
      "Processing image: /N/project/hurricane-deep-learning/data/ncep_extracted_binary_18x18/test//pos/20210912_00_00_21.0_264.8_2021256N21265.nc\n"
     ]
    },
    {
     "name": "stderr",
     "output_type": "stream",
     "text": [
      " 84%|██████████████████████████████████████████████████████████████████████████████████▋               | 43/51 [00:34<00:06,  1.27it/s]"
     ]
    },
    {
     "name": "stdout",
     "output_type": "stream",
     "text": [
      "Processing image: /N/project/hurricane-deep-learning/data/ncep_extracted_binary_18x18/test//pos/20200814_00_00_36.6_285.8_2020228N37286.nc\n"
     ]
    },
    {
     "name": "stderr",
     "output_type": "stream",
     "text": [
      " 86%|████████████████████████████████████████████████████████████████████████████████████▌             | 44/51 [00:34<00:05,  1.28it/s]"
     ]
    },
    {
     "name": "stdout",
     "output_type": "stream",
     "text": [
      "Processing image: /N/project/hurricane-deep-learning/data/ncep_extracted_binary_18x18/test//pos/20210827_00_00_13.1_312.7_2021240N13313.nc\n"
     ]
    },
    {
     "name": "stderr",
     "output_type": "stream",
     "text": [
      " 88%|██████████████████████████████████████████████████████████████████████████████████████▍           | 45/51 [00:35<00:04,  1.29it/s]"
     ]
    },
    {
     "name": "stdout",
     "output_type": "stream",
     "text": [
      "Processing image: /N/project/hurricane-deep-learning/data/ncep_extracted_binary_18x18/test//pos/20200601_06_00_19.4_269.1_2020154N19269.nc\n"
     ]
    },
    {
     "name": "stderr",
     "output_type": "stream",
     "text": [
      " 90%|████████████████████████████████████████████████████████████████████████████████████████▍         | 46/51 [00:36<00:03,  1.28it/s]"
     ]
    },
    {
     "name": "stdout",
     "output_type": "stream",
     "text": [
      "Processing image: /N/project/hurricane-deep-learning/data/ncep_extracted_binary_18x18/test//pos/20210809_06_00_13.9_301.3_2021222N14301.nc\n"
     ]
    },
    {
     "name": "stderr",
     "output_type": "stream",
     "text": [
      " 92%|██████████████████████████████████████████████████████████████████████████████████████████▎       | 47/51 [00:37<00:03,  1.29it/s]"
     ]
    },
    {
     "name": "stdout",
     "output_type": "stream",
     "text": [
      "Processing image: /N/project/hurricane-deep-learning/data/ncep_extracted_binary_18x18/test//pos/20210922_06_00_10.0_326.9_2021266N10327.nc\n"
     ]
    },
    {
     "name": "stderr",
     "output_type": "stream",
     "text": [
      " 94%|████████████████████████████████████████████████████████████████████████████████████████████▏     | 48/51 [00:38<00:02,  1.27it/s]"
     ]
    },
    {
     "name": "stdout",
     "output_type": "stream",
     "text": [
      "Processing image: /N/project/hurricane-deep-learning/data/ncep_extracted_binary_18x18/test//pos/20210630_06_00_9.4_317.2_2021182N09317.nc\n"
     ]
    },
    {
     "name": "stderr",
     "output_type": "stream",
     "text": [
      " 96%|██████████████████████████████████████████████████████████████████████████████████████████████▏   | 49/51 [00:38<00:01,  1.29it/s]"
     ]
    },
    {
     "name": "stdout",
     "output_type": "stream",
     "text": [
      "Processing image: /N/project/hurricane-deep-learning/data/ncep_extracted_binary_18x18/test//pos/20200911_06_00_25.4_281.4_2020256N25281.nc\n"
     ]
    },
    {
     "name": "stderr",
     "output_type": "stream",
     "text": [
      " 98%|████████████████████████████████████████████████████████████████████████████████████████████████  | 50/51 [00:39<00:00,  1.29it/s]"
     ]
    },
    {
     "name": "stdout",
     "output_type": "stream",
     "text": [
      "Processing image: /N/project/hurricane-deep-learning/data/ncep_extracted_binary_18x18/test//pos/20210617_06_00_22.5_267.8_2021169N23268.nc\n"
     ]
    },
    {
     "name": "stderr",
     "output_type": "stream",
     "text": [
      "100%|██████████████████████████████████████████████████████████████████████████████████████████████████| 51/51 [00:40<00:00,  1.27it/s]\n"
     ]
    },
    {
     "name": "stdout",
     "output_type": "stream",
     "text": [
      "[]\n"
     ]
    },
    {
     "ename": "UnboundLocalError",
     "evalue": "local variable 'Recall' referenced before assignment",
     "output_type": "error",
     "traceback": [
      "\u001b[0;31m---------------------------------------------------------------------------\u001b[0m",
      "\u001b[0;31mUnboundLocalError\u001b[0m                         Traceback (most recent call last)",
      "Cell \u001b[0;32mIn[4], line 27\u001b[0m\n\u001b[1;32m     24\u001b[0m     view_history(histories)\n\u001b[1;32m     26\u001b[0m bestmodels \u001b[38;5;241m=\u001b[39m [\u001b[38;5;124m\"\u001b[39m\u001b[38;5;124mtcg_ResNet20.model_00\u001b[39m\u001b[38;5;124m\"\u001b[39m,\u001b[38;5;124m\"\u001b[39m\u001b[38;5;124mtcg_ResNet22.model_00\u001b[39m\u001b[38;5;124m\"\u001b[39m,\u001b[38;5;124m\"\u001b[39m\u001b[38;5;124mtcg_ResNet40.model_00\u001b[39m\u001b[38;5;124m\"\u001b[39m]\n\u001b[0;32m---> 27\u001b[0m performance \u001b[38;5;241m=\u001b[39m \u001b[43mmain\u001b[49m\u001b[43m(\u001b[49m\u001b[43mDATADIR\u001b[49m\u001b[38;5;241;43m=\u001b[39;49m\u001b[43mdatadir\u001b[49m\u001b[43m,\u001b[49m\u001b[43mbestmodels\u001b[49m\u001b[38;5;241;43m=\u001b[39;49m\u001b[43mbestmodels\u001b[49m\u001b[43m,\u001b[49m\u001b[43mtest_sample\u001b[49m\u001b[38;5;241;43m=\u001b[39;49m\u001b[38;5;241;43m100\u001b[39;49m\u001b[43m)\u001b[49m\n\u001b[1;32m     28\u001b[0m \u001b[38;5;28mprint\u001b[39m(\u001b[38;5;124m\"\u001b[39m\u001b[38;5;124mSummary of the CNN model performance for forecast lead time: \u001b[39m\u001b[38;5;124m\"\u001b[39m,leadtime)\n\u001b[1;32m     29\u001b[0m \u001b[38;5;28;01mfor\u001b[39;00m i \u001b[38;5;129;01min\u001b[39;00m \u001b[38;5;28mrange\u001b[39m(\u001b[38;5;28mlen\u001b[39m(bestmodels)):\n",
      "Cell \u001b[0;32mIn[3], line 78\u001b[0m, in \u001b[0;36mmain\u001b[0;34m(DATADIR, bestmodels, test_sample)\u001b[0m\n\u001b[1;32m     74\u001b[0m     \u001b[38;5;66;03m#\u001b[39;00m\n\u001b[1;32m     75\u001b[0m     \u001b[38;5;66;03m# Compute F1 score for each best model and save it\u001b[39;00m\n\u001b[1;32m     76\u001b[0m     \u001b[38;5;66;03m#\u001b[39;00m\n\u001b[1;32m     77\u001b[0m     \u001b[38;5;28mprint\u001b[39m(prediction_history)\n\u001b[0;32m---> 78\u001b[0m     F1_performance\u001b[38;5;241m.\u001b[39mappend([bestmodel,\u001b[43mtcg_utils\u001b[49m\u001b[38;5;241;43m.\u001b[39;49m\u001b[43mF1_score\u001b[49m\u001b[43m(\u001b[49m\u001b[43mtruth_history\u001b[49m\u001b[43m,\u001b[49m\u001b[43mprediction_history\u001b[49m\u001b[43m,\u001b[49m\u001b[38;5;241;43m1\u001b[39;49m\u001b[43m,\u001b[49m\u001b[38;5;241;43m0.5\u001b[39;49m\u001b[43m)\u001b[49m]) \n\u001b[1;32m     79\u001b[0m \u001b[38;5;28;01mreturn\u001b[39;00m F1_performance\n",
      "File \u001b[0;32m/geode2/home/u020/ckieu/BigRed200/model/deep-learning/ResNet/libtcg_utils.py:45\u001b[0m, in \u001b[0;36mF1_score\u001b[0;34m(y_true, y_prediction, true_class, true_threshold)\u001b[0m\n\u001b[1;32m     43\u001b[0m \u001b[38;5;28;01melse\u001b[39;00m:    \n\u001b[1;32m     44\u001b[0m     Precision \u001b[38;5;241m=\u001b[39m TP\u001b[38;5;241m/\u001b[39m\u001b[38;5;28mfloat\u001b[39m(TP\u001b[38;5;241m+\u001b[39mFP)\n\u001b[0;32m---> 45\u001b[0m \u001b[38;5;28;01mreturn\u001b[39;00m F1, \u001b[43mRecall\u001b[49m, Precision\n",
      "\u001b[0;31mUnboundLocalError\u001b[0m: local variable 'Recall' referenced before assignment"
     ]
    }
   ],
   "source": [
    "#\n",
    "# main fucntion\n",
    "#\n",
    "if __name__ == '__main__':\n",
    "    n = len(sys.argv)\n",
    "    print(\"Total arguments input are:\", n)\n",
    "    print(\"Name of Python script:\", sys.argv[0])\n",
    "    leadtime = \"00\"\n",
    "    datadir = \"/N/project/hurricane-deep-learning/data/ncep_extracted_binary_18x18/test/\"\n",
    "    #if n < 3:\n",
    "    #   print(\"Need a forecast lead time and datapath to process...Stop\")\n",
    "    #   print(\"+ Example: tcg_ResNet_p3.py 00 /N/project/hurricane-deep-learning/data/ncep_extracted_binary_30x30/EP/00/\")\n",
    "    #   print(\"Using the default values: \",leadtime,datadir)\n",
    "    #leadtime = str(sys.argv[1])\n",
    "    #datadir = str(sys.argv[2])\n",
    "    print(\"Forecast lead time to run is: \",leadtime)\n",
    "    print(\"Datapath is: \",datadir)\n",
    "    #sys.exit()\n",
    "\n",
    "    history_check = \"no\"\n",
    "    if history_check == \"yes\":\n",
    "        hist = open(\"tcg_histories_resnet.pickle\",\"rb\")\n",
    "        histories = pickle.load(hist)\n",
    "        view_history(histories)\n",
    "\n",
    "    bestmodels = [\"tcg_ResNet20.model_00\",\"tcg_ResNet22.model_00\",\"tcg_ResNet40.model_00\"]\n",
    "    performance = main(DATADIR=datadir,bestmodels=bestmodels,test_sample=100)\n",
    "    print(\"Summary of the CNN model performance for forecast lead time: \",leadtime)\n",
    "    for i in range(len(bestmodels)):\n",
    "        print(\"Model:\",bestmodels[i],\" --- F1, Recall, Presision:\",np.round(performance[i][1],2))   "
   ]
  },
  {
   "cell_type": "code",
   "execution_count": null,
   "id": "57f22d0e",
   "metadata": {},
   "outputs": [],
   "source": []
  }
 ],
 "metadata": {
  "kernelspec": {
   "display_name": "Python 3 (ipykernel)",
   "language": "python",
   "name": "python3"
  },
  "language_info": {
   "codemirror_mode": {
    "name": "ipython",
    "version": 3
   },
   "file_extension": ".py",
   "mimetype": "text/x-python",
   "name": "python",
   "nbconvert_exporter": "python",
   "pygments_lexer": "ipython3",
   "version": "3.10.9"
  }
 },
 "nbformat": 4,
 "nbformat_minor": 5
}
