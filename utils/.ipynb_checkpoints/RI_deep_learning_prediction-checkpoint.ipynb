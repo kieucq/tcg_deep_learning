{
 "cells": [
  {
   "cell_type": "code",
   "execution_count": 1,
   "id": "4e4d2222",
   "metadata": {
    "collapsed": true
   },
   "outputs": [
    {
     "name": "stderr",
     "output_type": "stream",
     "text": [
      "2023-08-16 16:19:50.092793: I tensorflow/core/util/util.cc:169] oneDNN custom operations are on. You may see slightly different numerical results due to floating-point round-off errors from different computation orders. To turn them off, set the environment variable `TF_ENABLE_ONEDNN_OPTS=0`.\n",
      "2023-08-16 16:19:50.099694: W tensorflow/stream_executor/platform/default/dso_loader.cc:64] Could not load dynamic library 'libcudart.so.11.0'; dlerror: libcudart.so.11.0: cannot open shared object file: No such file or directory; LD_LIBRARY_PATH: /N/soft/rhel7/netcdf_c/intel/serial/4.4.1.1/lib:/N/soft/rhel7/curl/intel/7.54.0/lib:/N/soft/rhel7/hdf5/intel/serial/1.10.1/lib:/N/soft/rhel7/zlib/gnu/1.2.13/lib:/N/soft/rhel7/szip/intel/2.1.1/lib:/N/soft/rhel7/libpng/1.6.29/lib:/N/soft/rhel7/jasper/gnu/1.900.1/lib:/N/soft/rhel7/openmpi/intel/4.0.1/lib:/N/soft/rhel7/intel/19.5/compilers_and_libraries_2019.5.281/linux/compiler/lib/intel64:/N/soft/rhel7/intel/19.5/compilers_and_libraries_2019.5.281/linux/ipp/lib/intel64:/N/soft/rhel7/intel/19.5/compilers_and_libraries_2019.5.281/linux/compiler/lib/intel64_lin:/N/soft/rhel7/intel/19.5/compilers_and_libraries_2019.5.281/linux/mkl/lib/intel64_lin:/N/soft/rhel7/intel/19.5/compilers_and_libraries_2019.5.281/linux/tbb/lib/intel64/gcc4.7:/N/soft/rhel7/intel/19.5/debugger_2019/iga/lib:/N/soft/rhel7/intel/19.5/debugger_2019/libipt/intel64/lib:/N/soft/rhel7/intel/19.5/compilers_and_libraries_2019.5.281/linux/daal/lib/intel64_lin:/N/soft/rhel7/gcc/12.1.0/lib64:/N/soft/rhel7/gcc/12.1.0/lib:/N/soft/rhel7/gcc/infrastructure/lib\n",
      "2023-08-16 16:19:50.099716: I tensorflow/stream_executor/cuda/cudart_stub.cc:29] Ignore above cudart dlerror if you do not have a GPU set up on your machine.\n"
     ]
    }
   ],
   "source": [
    "import pandas as pd\n",
    "import math\n",
    "import numpy as np\n",
    "from sklearn.metrics import f1_score\n",
    "from sklearn.metrics import confusion_matrix, classification_report\n",
    "from sklearn import preprocessing, svm, neighbors\n",
    "from sklearn.model_selection import train_test_split\n",
    "import matplotlib.pyplot as plt\n",
    "from tensorflow import keras\n",
    "from tensorflow.keras import layers\n",
    "import tensorflow as tf\n",
    "#import tensorflow_addons as tfa"
   ]
  },
  {
   "cell_type": "code",
   "execution_count": 9,
   "id": "8583d3bb",
   "metadata": {},
   "outputs": [
    {
     "name": "stdout",
     "output_type": "stream",
     "text": [
      "External input SHIP data length is:  24\n",
      "[1 1 1 1 1 1 0 0 0 0 0 0 0 0 0 0 0 0 0 0 0 0 0 0]\n"
     ]
    }
   ],
   "source": [
    "#\n",
    "# reading input data and make prediction from pre-trained models using all 24-h\n",
    "#\n",
    "num_predictors = 15\n",
    "sequence_length = 5\n",
    "df = pd.read_csv('/N/u/ckieu/Carbonate/python/DOKSURI05W_Master.csv')\n",
    "df.drop(['Time','Basin','OHC','OHC(+6h)','OHC(+12h)','OHC(+18h)','OHC(+24h)'], axis=1, inplace=True)\n",
    "df.replace('?',-99999, inplace=True)\n",
    "x_fcst = np.array(df.drop(['Storm','class'],axis=1))\n",
    "y_true = np.array(df['class'])\n",
    "x_tlag = x_fcst.reshape((-1,sequence_length,num_predictors))\n",
    "print('External input SHIP data length is: ',len(x_fcst))\n",
    "#print(x_fcst[0])\n",
    "print(y_true)"
   ]
  },
  {
   "cell_type": "code",
   "execution_count": 10,
   "id": "e083282b",
   "metadata": {},
   "outputs": [
    {
     "name": "stdout",
     "output_type": "stream",
     "text": [
      "1/1 [==============================] - 0s 38ms/step\n",
      "1/1 [==============================] - 1s 577ms/step\n",
      "1/1 [==============================] - 0s 231ms/step\n",
      "Logistic, RNN, GRU probability predictions: 0.445,0.057,0.350\n",
      "Logistic, RNN, GRU probability predictions: 0.445,0.057,0.350\n",
      "Logistic, RNN, GRU probability predictions: 0.445,0.057,0.284\n",
      "Logistic, RNN, GRU probability predictions: 0.445,0.057,0.068\n",
      "Logistic, RNN, GRU probability predictions: 0.469,0.057,0.068\n",
      "Logistic, RNN, GRU probability predictions: 0.475,0.056,0.303\n",
      "Logistic, RNN, GRU probability predictions: 0.351,0.084,0.197\n",
      "Logistic, RNN, GRU probability predictions: 0.295,0.049,0.117\n",
      "Logistic, RNN, GRU probability predictions: 0.330,0.072,0.069\n",
      "Logistic, RNN, GRU probability predictions: 0.008,0.074,0.067\n",
      "Logistic, RNN, GRU probability predictions: 0.012,0.074,0.027\n",
      "Logistic, RNN, GRU probability predictions: 0.013,0.043,0.065\n",
      "Logistic, RNN, GRU probability predictions: 0.003,0.044,0.026\n",
      "Logistic, RNN, GRU probability predictions: 0.019,0.044,0.023\n",
      "Logistic, RNN, GRU probability predictions: 0.549,0.114,0.030\n",
      "Logistic, RNN, GRU probability predictions: 0.577,0.086,0.043\n",
      "Logistic, RNN, GRU probability predictions: 0.545,0.113,0.046\n",
      "Logistic, RNN, GRU probability predictions: 0.542,0.084,0.148\n",
      "Logistic, RNN, GRU probability predictions: 0.508,0.079,0.060\n",
      "Logistic, RNN, GRU probability predictions: 0.005,0.074,0.020\n",
      "Logistic, RNN, GRU probability predictions: 0.000,0.074,0.021\n",
      "Logistic, RNN, GRU probability predictions: 0.000,0.074,0.064\n",
      "Logistic, RNN, GRU probability predictions: 0.000,0.074,0.039\n",
      "Logistic, RNN, GRU probability predictions: 0.000,0.074,0.035\n"
     ]
    }
   ],
   "source": [
    "#\n",
    "# loading three different pre-trained models using all 24-h input SHIP data\n",
    "#\n",
    "model_RNN_1d = keras.models.load_model(\"RI_model_RNN_24h.keras\")\n",
    "model_logistics_1d = keras.models.load_model(\"RI_model_logistics_24h.keras\")\n",
    "model_GRU_1d = keras.models.load_model(\"RI_model_GRU_24h.keras\")\n",
    "fcst_logistics_1d = model_logistics_1d.predict(x_fcst)\n",
    "fcst_GRU_1d = model_GRU_1d.predict(x_tlag)\n",
    "fcst_RNN_1d = model_RNN_1d.predict(x_tlag)\n",
    "for i in range(len(x_fcst)):\n",
    "    print(f\"Logistic, RNN, GRU probability predictions: {float(fcst_logistics_1d[i]):.3f},{float(fcst_RNN_1d[i]):.3f},{float(fcst_GRU_1d[i]):.3f}\")"
   ]
  },
  {
   "cell_type": "code",
   "execution_count": 19,
   "id": "51d40b87",
   "metadata": {},
   "outputs": [
    {
     "name": "stdout",
     "output_type": "stream",
     "text": [
      "(24, 15) (24, 1, 15)\n",
      "1/1 [==============================] - 0s 39ms/step\n",
      "1/1 [==============================] - 1s 587ms/step\n",
      "1/1 [==============================] - 0s 231ms/step\n",
      "Logistic, RNN, GRU probability predictions 00h: 0.515,0.048,0.092\n",
      "Logistic, RNN, GRU probability predictions 00h: 0.628,0.048,0.094\n",
      "Logistic, RNN, GRU probability predictions 00h: 0.698,0.048,0.080\n",
      "Logistic, RNN, GRU probability predictions 00h: 0.329,0.048,0.080\n",
      "Logistic, RNN, GRU probability predictions 00h: 0.115,0.048,0.094\n",
      "Logistic, RNN, GRU probability predictions 00h: 0.026,0.048,0.082\n",
      "Logistic, RNN, GRU probability predictions 00h: 0.314,0.103,0.080\n",
      "Logistic, RNN, GRU probability predictions 00h: 0.257,0.103,0.080\n",
      "Logistic, RNN, GRU probability predictions 00h: 0.169,0.048,0.080\n",
      "Logistic, RNN, GRU probability predictions 00h: 0.066,0.048,0.080\n",
      "Logistic, RNN, GRU probability predictions 00h: 0.032,0.048,0.080\n",
      "Logistic, RNN, GRU probability predictions 00h: 0.004,0.048,0.080\n",
      "Logistic, RNN, GRU probability predictions 00h: 0.143,0.048,0.080\n",
      "Logistic, RNN, GRU probability predictions 00h: 0.010,0.048,0.080\n",
      "Logistic, RNN, GRU probability predictions 00h: 0.013,0.048,0.080\n",
      "Logistic, RNN, GRU probability predictions 00h: 0.097,0.048,0.080\n",
      "Logistic, RNN, GRU probability predictions 00h: 0.089,0.048,0.080\n",
      "Logistic, RNN, GRU probability predictions 00h: 0.174,0.048,0.080\n",
      "Logistic, RNN, GRU probability predictions 00h: 0.100,0.048,0.080\n",
      "Logistic, RNN, GRU probability predictions 00h: 0.040,0.103,0.080\n",
      "Logistic, RNN, GRU probability predictions 00h: 0.008,0.048,0.080\n",
      "Logistic, RNN, GRU probability predictions 00h: 0.002,0.048,0.080\n",
      "Logistic, RNN, GRU probability predictions 00h: 0.000,0.048,0.080\n",
      "Logistic, RNN, GRU probability predictions 00h: 0.000,0.048,0.080\n"
     ]
    }
   ],
   "source": [
    "#\n",
    "# loading three different pre-trained models using all 00-h input SHIP data\n",
    "#\n",
    "x_0d = np.array(df[['lat','lon','MaxWind','RMW','MIN_SLP','SHR_MAG','SHR_HDG','STM_SPD','STM_HDG',\n",
    "                   'SST','TPW','LAND','850TANG','850VORT','200DVRG']])\n",
    "x_0d_extent = np.expand_dims(x_0d, axis=1)\n",
    "print(x_0d.shape,x_0d_extent.shape)\n",
    "model_RNN_0d = keras.models.load_model(\"RI_model_RNN_00h.keras\")\n",
    "model_logistics_0d = keras.models.load_model(\"RI_model_logistics_00h.keras\")\n",
    "model_GRU_0d = keras.models.load_model(\"RI_model_GRU_00h.keras\")\n",
    "fcst_logistics_0d = model_logistics_0d.predict(x_0d)\n",
    "fcst_GRU_0d = model_GRU_0d.predict(x_0d_extent)\n",
    "fcst_RNN_0d = model_RNN_0d.predict(x_0d_extent)\n",
    "for i in range(len(x_fcst)):\n",
    "    print(f\"Logistic, RNN, GRU probability predictions 00h: {float(fcst_logistics_0d[i]):.3f},{float(fcst_RNN_0d[i]):.3f},{float(fcst_GRU_0d[i]):.3f}\")"
   ]
  },
  {
   "cell_type": "code",
   "execution_count": null,
   "id": "6c8a5d57",
   "metadata": {},
   "outputs": [],
   "source": []
  }
 ],
 "metadata": {
  "kernelspec": {
   "display_name": "Python 3 (ipykernel)",
   "language": "python",
   "name": "python3"
  },
  "language_info": {
   "codemirror_mode": {
    "name": "ipython",
    "version": 3
   },
   "file_extension": ".py",
   "mimetype": "text/x-python",
   "name": "python",
   "nbconvert_exporter": "python",
   "pygments_lexer": "ipython3",
   "version": "3.10.10"
  }
 },
 "nbformat": 4,
 "nbformat_minor": 5
}
